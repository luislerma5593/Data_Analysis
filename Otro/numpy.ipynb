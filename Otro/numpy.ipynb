{
 "cells": [
  {
   "cell_type": "markdown",
   "metadata": {},
   "source": [
    "# Numpy"
   ]
  },
  {
   "cell_type": "code",
   "execution_count": 2,
   "metadata": {},
   "outputs": [
    {
     "name": "stdout",
     "output_type": "stream",
     "text": [
      "(45, 2)\n",
      "[[189  57]\n",
      " [170  61]\n",
      " [189  57]]\n"
     ]
    }
   ],
   "source": [
    "import numpy as np\n",
    "\n",
    "heights = [189, 170, 189, 163, 183, 171, 185, 168, 173, 183, 173, 173, 175, 178, 183, 193, 178, 173, 174, 183, 183, 180, 168, 180, 170, 178, 182, 180, 183, 178, 182, 188, 175, 179, 183, 193, 182, 183, 177, 185, 188, 188, 182, 185, 191]\n",
    "ages = [57, 61, 57, 57, 58, 57, 61, 54, 68, 51, 49, 64, 50, 48, 65, 52, 56, 46, 54, 49, 51, 47, 55, 55, 54, 42, 51, 56, 55, 51, 54, 51, 60, 62, 43, 55, 56, 61, 52, 69, 64, 46, 54, 47, 70]\n",
    "\n",
    "heights_arr = np.array(heights)\n",
    "ages_arr = np.array(ages)\n",
    "\n",
    "heights_arr = heights_arr.reshape((45,1))\n",
    "ages_arr = ages_arr.reshape((45,1))\n",
    "\n",
    "\n",
    "height_age_arr = np.hstack((heights_arr, ages_arr))\n",
    "#print(height_age_arr)\n",
    "print(height_age_arr.shape)\n",
    "print(height_age_arr[:3,])"
   ]
  },
  {
   "cell_type": "code",
   "execution_count": 5,
   "metadata": {},
   "outputs": [
    {
     "data": {
      "text/plain": [
       "array([189, 170, 189, 163, 183, 171, 185, 168, 173, 183, 173, 173, 175,\n",
       "       178, 183, 193, 178, 173, 174, 183, 183, 180, 168, 180, 170, 178,\n",
       "       182, 180, 183, 178, 182, 188, 175, 179, 183, 193, 182, 183, 177,\n",
       "       185, 188, 188, 182, 185, 191])"
      ]
     },
     "execution_count": 5,
     "metadata": {},
     "output_type": "execute_result"
    }
   ],
   "source": [
    "np.array(heights)"
   ]
  },
  {
   "cell_type": "code",
   "execution_count": 21,
   "metadata": {},
   "outputs": [
    {
     "data": {
      "text/plain": [
       "array([[189],\n",
       "       [170],\n",
       "       [189],\n",
       "       [163],\n",
       "       [183]])"
      ]
     },
     "execution_count": 21,
     "metadata": {},
     "output_type": "execute_result"
    }
   ],
   "source": [
    "arr = np.array(heights).reshape((45,1))[:5]\n",
    "arr"
   ]
  },
  {
   "cell_type": "code",
   "execution_count": 23,
   "metadata": {},
   "outputs": [
    {
     "data": {
      "text/plain": [
       "array([[189, 189],\n",
       "       [170, 170],\n",
       "       [189, 189],\n",
       "       [163, 163],\n",
       "       [183, 183]])"
      ]
     },
     "execution_count": 23,
     "metadata": {},
     "output_type": "execute_result"
    }
   ],
   "source": [
    "arr1 = np.array(heights).reshape((45,1))\n",
    "np.hstack((arr1,arr1))[:5]"
   ]
  },
  {
   "cell_type": "code",
   "execution_count": 27,
   "metadata": {},
   "outputs": [
    {
     "data": {
      "text/plain": [
       "array([[189, 189],\n",
       "       [170, 170],\n",
       "       [189, 189],\n",
       "       [163, 163],\n",
       "       [183, 183]])"
      ]
     },
     "execution_count": 27,
     "metadata": {},
     "output_type": "execute_result"
    }
   ],
   "source": [
    "np.concatenate((arr,arr), axis=1)"
   ]
  },
  {
   "cell_type": "markdown",
   "metadata": {},
   "source": [
    "## Operations"
   ]
  },
  {
   "cell_type": "code",
   "execution_count": 28,
   "metadata": {},
   "outputs": [
    {
     "data": {
      "text/plain": [
       "array([0.5, 1. , 1.5])"
      ]
     },
     "execution_count": 28,
     "metadata": {},
     "output_type": "execute_result"
    }
   ],
   "source": [
    "(np.array([1,2,3]))*0.5"
   ]
  },
  {
   "cell_type": "code",
   "execution_count": 30,
   "metadata": {},
   "outputs": [
    {
     "data": {
      "text/plain": [
       "3.0"
      ]
     },
     "execution_count": 30,
     "metadata": {},
     "output_type": "execute_result"
    }
   ],
   "source": [
    "((np.array([1,2,3]))*0.5).sum()"
   ]
  },
  {
   "cell_type": "markdown",
   "metadata": {},
   "source": [
    "Comparisons returne True or False"
   ]
  },
  {
   "cell_type": "code",
   "execution_count": 37,
   "metadata": {},
   "outputs": [
    {
     "data": {
      "text/plain": [
       "array([1, 2, 3])"
      ]
     },
     "execution_count": 37,
     "metadata": {},
     "output_type": "execute_result"
    }
   ],
   "source": [
    "arr = (np.array([1,2,3]))\n",
    "arr"
   ]
  },
  {
   "cell_type": "code",
   "execution_count": 38,
   "metadata": {},
   "outputs": [],
   "source": [
    "arr_true = arr > 1"
   ]
  },
  {
   "cell_type": "code",
   "execution_count": 41,
   "metadata": {},
   "outputs": [
    {
     "data": {
      "text/plain": [
       "array([2, 3])"
      ]
     },
     "execution_count": 41,
     "metadata": {},
     "output_type": "execute_result"
    }
   ],
   "source": [
    "arr[arr_true]"
   ]
  },
  {
   "cell_type": "markdown",
   "metadata": {},
   "source": [
    "## Test\n",
    "\n",
    "In a matrix, or 2-d array X, the averages (or means) of the elements of rows is called row means.\n",
    "\n",
    "Task\n",
    "Given a 2D array, return the rowmeans.\n",
    "\n",
    "Input Format\n",
    "First line: two integers separated by spaces, the first indicates the rows of matrix X (n) and the second indicates the columns of X (p)\n",
    "Next n lines: values of the row in X\n",
    "\n",
    "Output Format\n",
    "An numpy 1d array of values rounded to the second decimal.\n",
    "\n",
    "```\n",
    "2 2\n",
    "1.5 1\n",
    "2 2.9\n",
    "\n",
    "Sample Output\n",
    "[1.25 2.45]\n",
    "```"
   ]
  },
  {
   "cell_type": "code",
   "execution_count": 90,
   "metadata": {},
   "outputs": [
    {
     "name": "stdout",
     "output_type": "stream",
     "text": [
      "[[4.566  6.544 ]\n",
      " [2.166  6.9494]]\n",
      "[5.56 4.56]\n"
     ]
    }
   ],
   "source": [
    "## Test\n",
    "\n",
    "import numpy as np\n",
    "\n",
    "n, p = [int(x) for x in input().split()]\n",
    "\n",
    "X = np.zeros((n,p))\n",
    "arr = np.zeros((1,p))\n",
    "\n",
    "for i in range(n):\n",
    "    arr = [float(y) for y in input().split()]\n",
    "    X[i,:] = arr\n",
    "    \n",
    "print(X)\n",
    "print(np.around(X.mean(axis=1),2))"
   ]
  },
  {
   "cell_type": "markdown",
   "metadata": {},
   "source": [
    "---"
   ]
  },
  {
   "cell_type": "markdown",
   "metadata": {},
   "source": [
    "# Pandas"
   ]
  },
  {
   "cell_type": "code",
   "execution_count": 98,
   "metadata": {},
   "outputs": [
    {
     "name": "stdout",
     "output_type": "stream",
     "text": [
      "                           order        age      height\n",
      "party                                                  \n",
      "democratic             26.066667  52.600000  181.066667\n",
      "democratic-republican   4.500000  57.250000  176.500000\n",
      "federalist              2.000000  61.000000  170.000000\n",
      "national union         17.000000  56.000000  178.000000\n",
      "none                    1.000000  57.000000  189.000000\n",
      "republican             29.631579  55.263158  180.894737\n",
      "whig                   11.000000  58.250000  176.000000\n"
     ]
    }
   ],
   "source": [
    "import pandas as pd\n",
    "\n",
    "presidents_df = pd.read_csv('https://sololearn.com/uploads/files/president_heights_party.csv', index_col='name')\n",
    "                                  \n",
    "print(presidents_df.groupby('party').mean())"
   ]
  },
  {
   "cell_type": "code",
   "execution_count": 99,
   "metadata": {},
   "outputs": [
    {
     "name": "stdout",
     "output_type": "stream",
     "text": [
      "                       min  median  max\n",
      "party                                  \n",
      "democratic             168     180  193\n",
      "democratic-republican  163     177  189\n",
      "federalist             170     170  170\n",
      "national union         178     178  178\n",
      "none                   189     189  189\n",
      "republican             168     182  193\n",
      "whig                   173     174  183\n"
     ]
    }
   ],
   "source": [
    "import pandas as pd\n",
    "import numpy as np\n",
    "\n",
    "presidents_df = pd.read_csv('https://sololearn.com/uploads/files/president_heights_party.csv', index_col='name')\n",
    "                                  \n",
    "print(presidents_df.groupby('party')['height'].agg(['min', np.median, max]))"
   ]
  },
  {
   "cell_type": "code",
   "execution_count": 97,
   "metadata": {},
   "outputs": [
    {
     "name": "stdout",
     "output_type": "stream",
     "text": [
      "                      height             age    \n",
      "                      median        mean min max\n",
      "party                                           \n",
      "democratic               180  181.066667  43  65\n",
      "democratic-republican    177  176.500000  57  58\n",
      "federalist               170  170.000000  61  61\n",
      "national union           178  178.000000  56  56\n",
      "none                     189  189.000000  57  57\n",
      "republican               182  180.894737  42  70\n",
      "whig                     174  176.000000  50  68\n"
     ]
    }
   ],
   "source": [
    "import pandas as pd\n",
    "import numpy as np\n",
    "\n",
    "presidents_df = pd.read_csv('https://sololearn.com/uploads/files/president_heights_party.csv', index_col='name')\n",
    "                                  \n",
    "print(presidents_df.groupby('party')\\\n",
    "    .agg({'height': [np.median, np.mean],\n",
    "        'age':    [min, max]}))"
   ]
  },
  {
   "cell_type": "markdown",
   "metadata": {},
   "source": [
    "## Test\n",
    "\n",
    "Data Science - Reshape\n",
    "\n",
    "\n",
    "Task\n",
    "Given a list of numbers and the number of rows (r), reshape the list into a 2-dimensional array. Note that r divides the length of the list evenly.\n",
    "\n",
    "Input Format\n",
    "First line: an integer (r) indicating the number of rows of the 2-dimensional array\n",
    "Next line: numbers separated by the space\n",
    "\n",
    "Output Format\n",
    "An numpy 2d array of values rounded to the second decimal.\n",
    "```\n",
    "Sample Input\n",
    "2\n",
    "1.2 0 0.5 -1\n",
    "\n",
    "Sample Output\n",
    "[[ 1.2 0. ]\n",
    "[ 0.5 -1. ]]\n",
    "```"
   ]
  },
  {
   "cell_type": "code",
   "execution_count": 121,
   "metadata": {},
   "outputs": [
    {
     "name": "stdout",
     "output_type": "stream",
     "text": [
      "3.0\n",
      "[[6. 9. 8.]\n",
      " [3. 6. 9.]]\n"
     ]
    }
   ],
   "source": [
    "import numpy as np\n",
    "\n",
    "r = int(input()) \n",
    "lst = [float(x) for x in input().split()]\n",
    "arr = np.array(lst)\n",
    "\n",
    "n_col = len(arr)/r\n",
    "print(n_col)\n",
    "\n",
    "print(np.around(arr.reshape(r, int(n_col)),2))"
   ]
  }
 ],
 "metadata": {
  "interpreter": {
   "hash": "6f293cff23337c42d9b2abd40d6329a0ae8508cd838b4363f7d47f9cb63458ad"
  },
  "kernelspec": {
   "display_name": "Python 3.8.5 64-bit ('base': conda)",
   "name": "python3"
  },
  "language_info": {
   "codemirror_mode": {
    "name": "ipython",
    "version": 3
   },
   "file_extension": ".py",
   "mimetype": "text/x-python",
   "name": "python",
   "nbconvert_exporter": "python",
   "pygments_lexer": "ipython3",
   "version": "3.8.5"
  },
  "orig_nbformat": 4
 },
 "nbformat": 4,
 "nbformat_minor": 2
}
