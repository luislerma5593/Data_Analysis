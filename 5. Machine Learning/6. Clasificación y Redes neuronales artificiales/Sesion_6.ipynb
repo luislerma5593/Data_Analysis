{
 "cells": [
  {
   "cell_type": "markdown",
   "metadata": {},
   "source": [
    "# Sesión 6: Clasificación y Redes Neuronales"
   ]
  },
  {
   "cell_type": "markdown",
   "metadata": {},
   "source": [
    "## Ejemplo 01: Clasificación de operaciones lógicas\n",
    "En este ejemplo veremos como un clasificador tradicional (de una sola neurona) falla terriblemente al tratar de clasificar relaciones binarias con operador lógico XOR"
   ]
  },
  {
   "cell_type": "code",
   "execution_count": 1,
   "metadata": {},
   "outputs": [],
   "source": [
    "import numpy as np\n",
    "from sklearn.linear_model import SGDClassifier\n",
    "from sklearn.metrics import confusion_matrix"
   ]
  },
  {
   "cell_type": "markdown",
   "metadata": {},
   "source": [
    "### Implementando un AND\n",
    "Recordemos que la tabla de AND es:\n",
    "\n",
    "0 AND 0 = 0\n",
    "\n",
    "0 AND 1 = 0\n",
    "\n",
    "1 AND 0 = 0\n",
    "\n",
    "1 AND 1 = 1"
   ]
  },
  {
   "cell_type": "code",
   "execution_count": 6,
   "metadata": {},
   "outputs": [
    {
     "name": "stdout",
     "output_type": "stream",
     "text": [
      "Entradas:[[0 0]\n",
      " [0 1]\n",
      " [1 0]\n",
      " [1 1]]\n",
      "Resultados AND:[0 0 0 1]\n",
      "Matriz de confusión:\n",
      "[[3 0]\n",
      " [0 1]]\n"
     ]
    }
   ],
   "source": [
    "X = np.array([[0,0],[0,1],[1,0],[1,1]])\n",
    "Y = np.array([0,0,0,1])\n",
    "\n",
    "model = SGDClassifier(max_iter=1000, tol=1e-3)\n",
    "model.fit(X, Y)\n",
    "results = model.predict(X)\n",
    "print(\"Entradas:\"+str(X))\n",
    "print(\"Resultados AND:\"+str(results))\n",
    "print(\"Matriz de confusión:\", confusion_matrix(Y, results), sep = \"\\n\")"
   ]
  },
  {
   "cell_type": "markdown",
   "metadata": {},
   "source": [
    "### Implementando un OR\n",
    "Recordemos que la tabla de OR es:\n",
    "\n",
    "0 OR 0 = 0\n",
    "\n",
    "0 OR 1 = 1\n",
    "\n",
    "1 OR 0 = 1\n",
    "\n",
    "1 OR 1 = 1"
   ]
  },
  {
   "cell_type": "code",
   "execution_count": 7,
   "metadata": {},
   "outputs": [
    {
     "name": "stdout",
     "output_type": "stream",
     "text": [
      "Entradas:[[0 0]\n",
      " [0 1]\n",
      " [1 0]\n",
      " [1 1]]\n",
      "Resultados OR:[0 1 1 1]\n",
      "Matriz de confusión:\n",
      "[[1 0]\n",
      " [0 3]]\n"
     ]
    }
   ],
   "source": [
    "X = np.array([[0,0],[0,1],[1,0],[1,1]])\n",
    "Y = np.array([0,1,1,1])\n",
    "\n",
    "model = SGDClassifier(max_iter=1000, tol=1e-3)\n",
    "model.fit(X, Y)\n",
    "results = model.predict(X)\n",
    "print(\"Entradas:\"+str(X))\n",
    "print(\"Resultados OR:\"+str(results))\n",
    "print(\"Matriz de confusión:\", confusion_matrix(Y, results), sep = \"\\n\")"
   ]
  },
  {
   "cell_type": "markdown",
   "metadata": {},
   "source": [
    "### Implementando un NOT\n",
    "Recordemos que la tabla de NOT es:\n",
    "\n",
    "NOT 0 = 1\n",
    "\n",
    "NOT 1 = 0"
   ]
  },
  {
   "cell_type": "code",
   "execution_count": 8,
   "metadata": {},
   "outputs": [
    {
     "name": "stdout",
     "output_type": "stream",
     "text": [
      "Entradas:[[0]\n",
      " [1]]\n",
      "Resultados NOT:[1 0]\n",
      "Matriz de confusión:\n",
      "[[1 0]\n",
      " [0 1]]\n"
     ]
    }
   ],
   "source": [
    "X = np.array([[0],[1]])\n",
    "Y = np.array([1,0])\n",
    "\n",
    "model = SGDClassifier(max_iter=1000, tol=1e-3)\n",
    "model.fit(X, Y)\n",
    "results = model.predict(X)\n",
    "print(\"Entradas:\"+str(X))\n",
    "print(\"Resultados NOT:\"+str(results))\n",
    "print(\"Matriz de confusión:\", confusion_matrix(Y, results), sep = \"\\n\")"
   ]
  },
  {
   "cell_type": "markdown",
   "metadata": {},
   "source": [
    "### Implementando un XOR (y fallando en el proceso)\n",
    "Recordemos que la tabla de XOR es:\n",
    "\n",
    "0 XOR 0 = 0\n",
    "\n",
    "0 XOR 1 = 1\n",
    "\n",
    "1 XOR 0 = 1\n",
    "\n",
    "1 XOR 1 = 0"
   ]
  },
  {
   "cell_type": "code",
   "execution_count": 16,
   "metadata": {},
   "outputs": [
    {
     "name": "stdout",
     "output_type": "stream",
     "text": [
      "Entradas:[[0 0]\n",
      " [0 1]\n",
      " [1 0]\n",
      " [1 1]]\n",
      "Resultados XOR:[1 1 1 1]\n",
      "Matriz de confusión:\n",
      "[[0 2]\n",
      " [0 2]]\n"
     ]
    }
   ],
   "source": [
    "X = np.array([[0,0],[0,1],[1,0],[1,1]])\n",
    "Y = np.array([0,1,1,0])\n",
    "\n",
    "model = SGDClassifier(max_iter=10000, tol=1e-3)\n",
    "model.fit(X, Y)\n",
    "results = model.predict(X)\n",
    "print(\"Entradas:\"+str(X))\n",
    "print(\"Resultados XOR:\"+str(results))\n",
    "print(\"Matriz de confusión:\", confusion_matrix(Y, results), sep = \"\\n\")"
   ]
  },
  {
   "cell_type": "markdown",
   "metadata": {},
   "source": [
    "Repite nuevamente la clasificación anterior, ¿qué pasa con la matriz de confusión?"
   ]
  },
  {
   "cell_type": "markdown",
   "metadata": {},
   "source": [
    "## Reto 01: Crear una red neuronal ... ¡desde cero!\n",
    "Este reto es bastante sencillo: Crear una neurona con una función de activación simple llamada \"Función identidad\" (y=g(z)=z), por lo que deberás de crear tres funciones: calcularZ, calcularSalida, y unirlos en una función llamada \"neurona\""
   ]
  },
  {
   "cell_type": "code",
   "execution_count": 17,
   "metadata": {},
   "outputs": [],
   "source": [
    "import numpy as np"
   ]
  },
  {
   "cell_type": "markdown",
   "metadata": {},
   "source": [
    "Primero se calculará la ecuación:  z=w1x1+w2x2+w3x3+⋯+b, que en forma vectorial podemos expresarla como Z = W'X + b\n",
    "\n",
    "\n",
    "Utiliza el producto punto de vectores para definir tu función:"
   ]
  },
  {
   "cell_type": "code",
   "execution_count": 18,
   "metadata": {},
   "outputs": [],
   "source": [
    "def calcularZ(w, x, b):\n",
    "    z = np.dot(w,x) + b # Investiga la forma de calcular el producto punto con numpy\n",
    "    return z"
   ]
  },
  {
   "cell_type": "code",
   "execution_count": 19,
   "metadata": {},
   "outputs": [
    {
     "name": "stdout",
     "output_type": "stream",
     "text": [
      "18\n"
     ]
    }
   ],
   "source": [
    "w = [1,2,3]\n",
    "x = [1,2,3]\n",
    "b = 4\n",
    "z = calcularZ(w,x,b)\n",
    "print(z)"
   ]
  },
  {
   "cell_type": "markdown",
   "metadata": {},
   "source": [
    "Luego se calcula la salida con la función de activación y=g(z)=z \n",
    "\n",
    "Nota: Toma en cuenta que esta función de activación es \"dummy\", en los siguientes ejemplos se modificará esta función"
   ]
  },
  {
   "cell_type": "code",
   "execution_count": 20,
   "metadata": {},
   "outputs": [],
   "source": [
    "def activacion(z):\n",
    "    y_predecida = z\n",
    "    return y_predecida"
   ]
  },
  {
   "cell_type": "code",
   "execution_count": 21,
   "metadata": {},
   "outputs": [
    {
     "name": "stdout",
     "output_type": "stream",
     "text": [
      "18\n"
     ]
    }
   ],
   "source": [
    "y_predecida = activacion(z)\n",
    "print(y_predecida)"
   ]
  },
  {
   "cell_type": "markdown",
   "metadata": {},
   "source": [
    "Finalmente se calcula la neurona uniendo las dos funciones"
   ]
  },
  {
   "cell_type": "code",
   "execution_count": 22,
   "metadata": {},
   "outputs": [],
   "source": [
    "def neurona(w,x,b):\n",
    "    z = calcularZ(w,x,b)\n",
    "    y = activacion(z)\n",
    "    return y"
   ]
  },
  {
   "cell_type": "code",
   "execution_count": 23,
   "metadata": {},
   "outputs": [
    {
     "name": "stdout",
     "output_type": "stream",
     "text": [
      "18\n"
     ]
    }
   ],
   "source": [
    "w = [1,2,3]\n",
    "x = [1,2,3]\n",
    "b = 4\n",
    "print(neurona(w,x,b))"
   ]
  },
  {
   "cell_type": "markdown",
   "metadata": {},
   "source": [
    "## Ejemplo 2: Funciones de activación\n",
    "En este ejemplo veremos como se comportan las funciones de activación sigmoidal y tangencial. Para ello, vamos a reproducir el código del primer ejemplo y el primer reto, y sobre ese iremos modificando."
   ]
  },
  {
   "cell_type": "code",
   "execution_count": 24,
   "metadata": {},
   "outputs": [],
   "source": [
    "import numpy as np"
   ]
  },
  {
   "cell_type": "markdown",
   "metadata": {},
   "source": [
    "### Activación sigmoidal\n",
    "La activación sigmoidal te da un valor entre 0 y 1, con la siguiente función:\n",
    "\n",
    "$y = g(z) = \\frac{1}{1+e^{-z}}$\n",
    "\n",
    "Esta función es util por tres razones: \n",
    "\n",
    "1) Cuando $Z = 0$ hacen que $Y = 0.5$, \n",
    "\n",
    "2) Valores muy grandes de Z hacen que Y se acerque mucho a 1, y \n",
    "\n",
    "3) Valores negativos muy grandes de Z hacen que Y se acerque mucho a 0 (como se vio en clase). "
   ]
  },
  {
   "cell_type": "code",
   "execution_count": 25,
   "metadata": {},
   "outputs": [],
   "source": [
    "def activacionSigmoide(z):\n",
    "    y = 1 / (1 + np.exp(-z))\n",
    "    return y\n",
    "\n",
    "def neuronaSigmoide(w,x,b):\n",
    "    z = calcularZ(w,x,b)\n",
    "    y_pred = activacionSigmoide(z)\n",
    "    return y_pred"
   ]
  },
  {
   "cell_type": "markdown",
   "metadata": {},
   "source": [
    "Por ejemplo, que pasa si comparamos una salida neuronal lineal vs una sigmoidal? Si 0 representa negativo, y 1 representa positivo, valores muy cercanos a 1 pueden ser tomados como positivos. En probabilidades, 0.975 de probabilidad (97.5%)"
   ]
  },
  {
   "cell_type": "code",
   "execution_count": 26,
   "metadata": {},
   "outputs": [
    {
     "name": "stdout",
     "output_type": "stream",
     "text": [
      "Y Lineal:3.7\n",
      "Y sigmoide:0.9758729785823308\n"
     ]
    }
   ],
   "source": [
    "w = [1,1,1]\n",
    "x = [0.9,0.9,0.9]\n",
    "b = 1\n",
    "\n",
    "y_lineal = neurona(w,x,b)\n",
    "y_sigmoide = neuronaSigmoide(w,x,b)\n",
    "print(\"Y Lineal:\"+str(y_lineal))\n",
    "print(\"Y sigmoide:\"+str(y_sigmoide))"
   ]
  },
  {
   "cell_type": "code",
   "execution_count": 27,
   "metadata": {},
   "outputs": [
    {
     "name": "stdout",
     "output_type": "stream",
     "text": [
      "Y Lineal:-1.7000000000000002\n",
      "Y sigmoide:0.15446526508353467\n"
     ]
    }
   ],
   "source": [
    "w = [1,1,1]\n",
    "x = [-0.9,-0.9,-0.9]\n",
    "b = 1\n",
    "\n",
    "y_lineal = neurona(w,x,b)\n",
    "y_sigmoide = neuronaSigmoide(w,x,b)\n",
    "print(\"Y Lineal:\"+str(y_lineal))\n",
    "print(\"Y sigmoide:\"+str(y_sigmoide))"
   ]
  },
  {
   "cell_type": "markdown",
   "metadata": {},
   "source": [
    "### Activación tangencial hiperbólica (tanh)\n",
    "La activación tangencial te da un valor entre -1 y 1, con la siguiente función:\n",
    "\n",
    "$y = g(z) = tanh(-z)$\n",
    "\n",
    "Esta función es util por tres razones: \n",
    "\n",
    "1) Cuando $Z = 0$ hacen que $Y = 0$, \n",
    "\n",
    "2) Valores muy grandes de Z hacen que Y se acerque mucho a 1, y \n",
    "\n",
    "3) Valores negativos muy grandes de Z hacen que Y se acerque mucho a -1 (como se vio en clase). "
   ]
  },
  {
   "cell_type": "code",
   "execution_count": 29,
   "metadata": {},
   "outputs": [],
   "source": [
    "def activacionTanh(z):\n",
    "    y = np.tanh(z)\n",
    "    return y\n",
    "\n",
    "def neuronaTanh(w,x,b):\n",
    "    z = calcularZ(w,x,b)\n",
    "    y_pred = activacionTanh(z)\n",
    "    return y_pred"
   ]
  },
  {
   "cell_type": "code",
   "execution_count": 30,
   "metadata": {},
   "outputs": [
    {
     "name": "stdout",
     "output_type": "stream",
     "text": [
      "Y Lineal:3.7\n",
      "Y sigmoide:0.9758729785823308\n",
      "Y Tangencial Hiperbólica:0.9987782412811312\n"
     ]
    }
   ],
   "source": [
    "w = [1,1,1]\n",
    "x = [0.9,0.9,0.9]\n",
    "b = 1\n",
    "\n",
    "y_lineal = neurona(w,x,b)\n",
    "y_sigmoide = neuronaSigmoide(w,x,b)\n",
    "y_tanh = neuronaTanh(w,x,b)\n",
    "print(\"Y Lineal:\"+str(y_lineal))\n",
    "print(\"Y sigmoide:\"+str(y_sigmoide))\n",
    "print(\"Y Tangencial Hiperbólica:\"+str(y_tanh))"
   ]
  },
  {
   "cell_type": "code",
   "execution_count": 31,
   "metadata": {},
   "outputs": [
    {
     "name": "stdout",
     "output_type": "stream",
     "text": [
      "Y Lineal:-1.7000000000000002\n",
      "Y sigmoide:0.15446526508353467\n",
      "Y Tangencial Hiperbólica:-0.935409070603099\n"
     ]
    }
   ],
   "source": [
    "w = [1,1,1]\n",
    "x = [-0.9,-0.9,-0.9]\n",
    "b = 1\n",
    "\n",
    "y_lineal = neurona(w,x,b)\n",
    "y_sigmoide = neuronaSigmoide(w,x,b)\n",
    "y_tanh = neuronaTanh(w,x,b)\n",
    "print(\"Y Lineal:\"+str(y_lineal))\n",
    "print(\"Y sigmoide:\"+str(y_sigmoide))\n",
    "print(\"Y Tangencial Hiperbólica:\"+str(y_tanh))"
   ]
  },
  {
   "cell_type": "markdown",
   "metadata": {},
   "source": [
    "## Ejemplo 03:\n",
    "Para este ejemplo vamos a crear una capa neuronal, la cual consiste en varias neuronas en paralelo. Todas las neuronas en paralelo reciben el mismo vector de entradas, y la neurona debe de emitir N salidas, una por cada neurona paralela. En este ejemplo solamente crearé dos neuronas."
   ]
  },
  {
   "cell_type": "code",
   "execution_count": 32,
   "metadata": {},
   "outputs": [],
   "source": [
    "import numpy as np"
   ]
  },
  {
   "cell_type": "markdown",
   "metadata": {},
   "source": [
    "Generamos las funciones de los retos pasados. Sin embargo aqui vamos a renombrar \"neurona\" por \"capaNeuronal\", porque a NumPy no le importa cuantas neuronas quieras procesar, el programa es el mismo si usas NumPy para las operaciones (np.dot / np.exp / np.tanh)"
   ]
  },
  {
   "cell_type": "code",
   "execution_count": 33,
   "metadata": {},
   "outputs": [],
   "source": [
    "def calcularZ(w,x,b):\n",
    "    z = np.dot(w,x)+b\n",
    "    return z\n",
    "\n",
    "def activacion(z):\n",
    "    y = 1 / (1 + np.exp(-z))\n",
    "    return y\n",
    "\n",
    "def capaNeuronal(w,x,b):\n",
    "    z = calcularZ(w,x,b)\n",
    "    y_pred = activacion(z)\n",
    "    return y_pred"
   ]
  },
  {
   "cell_type": "markdown",
   "metadata": {},
   "source": [
    "Ahora, para crear varias neuronas, solamente basta en agrandar el arreglo de pesos W a una matriz W de tamaño (Num de neuronas  ×  tamaño de entradas), y el bias B se transforma de un escalar a un vector (del tamaño de la cantidad de neuronas)"
   ]
  },
  {
   "cell_type": "code",
   "execution_count": 34,
   "metadata": {},
   "outputs": [
    {
     "name": "stdout",
     "output_type": "stream",
     "text": [
      "Tamaño de matriz de entrada X (# de características) = (1, 3)\n",
      "Tamaño de matriz de pesos W (neuronas x caracteristicas de entrada) = (2, 3)\n",
      "Tamaño del vector de bias B (neuronas) = (2,)\n",
      "Salida\n",
      "[[9.99999694e-01 3.05902227e-07]]\n",
      "tamaño de salida (neuronas) = (1, 2)\n"
     ]
    }
   ],
   "source": [
    "x = np.array([[1,2,3]]) #Entradas.\n",
    "print(\"Tamaño de matriz de entrada X (# de características) = \"+str(x.shape))\n",
    "\n",
    "w = np.array([[1,2,3],   #Pesos de Neurona 1        \n",
    "              [-1,-2,-3]])  #Pesos de Neurona 2\n",
    "print(\"Tamaño de matriz de pesos W (neuronas x caracteristicas de entrada) = \"+str(w.shape))\n",
    "\n",
    "b = np.array([1,         #bias de neurona 1\n",
    "              -1])        #bias de neurona 2\n",
    "print(\"Tamaño del vector de bias B (neuronas) = \"+str(b.shape))\n",
    "\n",
    "#w.T = W transpuesta. Rotamos la matriz para que encaje en np.dot()\n",
    "y_pred = capaNeuronal(x,w.T,b)\n",
    "print(\"Salida\")\n",
    "print(y_pred)\n",
    "print(\"tamaño de salida (neuronas) = \"+str(y_pred.shape))"
   ]
  },
  {
   "cell_type": "markdown",
   "metadata": {},
   "source": [
    "## Reto 02: Configuración aleatoria\n",
    "En este reto el objetivo será crear una función que inicialice una capa neuronal: La función de inicialización debe recibir de como input el número de caracteristicas (o entradas) y el número de neuronas, y el output de la función debe entregar los pesos sinápticos y bias en forma de arreglos y matrices de NumPy."
   ]
  },
  {
   "cell_type": "code",
   "execution_count": 38,
   "metadata": {},
   "outputs": [],
   "source": [
    "import numpy as np"
   ]
  },
  {
   "cell_type": "markdown",
   "metadata": {},
   "source": [
    "En primer lugar creamos las funciones de la neurona."
   ]
  },
  {
   "cell_type": "code",
   "execution_count": 39,
   "metadata": {},
   "outputs": [],
   "source": [
    "def calcularZ(w,x,b):\n",
    "    z = np.dot(w,x)+b\n",
    "    return z\n",
    "\n",
    "def activacion(z):\n",
    "    y = 1 / (1 + np.exp(-z))\n",
    "    return y\n",
    "\n",
    "def capaNeuronal(w,x,b):\n",
    "    z = calcularZ(w,x,b)\n",
    "    y_pred = activacion(z)\n",
    "    return y_pred"
   ]
  },
  {
   "cell_type": "markdown",
   "metadata": {},
   "source": [
    "### Función de inicializar capa.\n",
    "Esta es la función que inicializa una de las capas neuronales (en la literatura \"layers\"). Los pesos sinápticos W se colocarán transpuestos de una vez, por conveniencia."
   ]
  },
  {
   "cell_type": "code",
   "execution_count": 40,
   "metadata": {},
   "outputs": [],
   "source": [
    "def inicializarCapa(numCaracteristicas, numNeuronas):\n",
    "    w = np.random.rand(numCaracteristicas,numNeuronas)\n",
    "    w_transpose = w.T\n",
    "    b = np.random.rand(numNeuronas)\n",
    "    return w_transpose, b"
   ]
  },
  {
   "cell_type": "markdown",
   "metadata": {},
   "source": [
    "Probemos las capas neuronales: primero una inicialización de 3 características y 2 neuronas."
   ]
  },
  {
   "cell_type": "code",
   "execution_count": 42,
   "metadata": {},
   "outputs": [
    {
     "name": "stdout",
     "output_type": "stream",
     "text": [
      "(2, 3)\n",
      "(2,)\n"
     ]
    }
   ],
   "source": [
    "w, b = inicializarCapa(3,2)\n",
    "print(w.shape)\n",
    "print(b.shape)"
   ]
  },
  {
   "cell_type": "markdown",
   "metadata": {},
   "source": [
    "Y luego, veamos como reacciona con una entrada de 10 características y 2 neuronas. La salida deben ser 2 valores en un array."
   ]
  },
  {
   "cell_type": "code",
   "execution_count": 43,
   "metadata": {},
   "outputs": [
    {
     "name": "stdout",
     "output_type": "stream",
     "text": [
      "[0.99765969 0.99977621]\n"
     ]
    }
   ],
   "source": [
    "x = np.array([0,1,2,3,4,3,2,1,0,-1]) #10 características de entrada.\n",
    "w,b = inicializarCapa(10,2) #10 caracteristicas, 2 neuronas.\n",
    "y = capaNeuronal(w,x,b)\n",
    "print(y)"
   ]
  },
  {
   "cell_type": "markdown",
   "metadata": {},
   "source": [
    "## Ejemplo 4: Revisitando el problema de XOR\n",
    "En este ejemplo vamos a conectar una red neuronal: Una red neuronal se compone de varias capas neuronales conectadas que envían información hacia adelante. Para ello vamos a conectar dos neuronas en la capa 1, con una neurona en la capa 2."
   ]
  },
  {
   "cell_type": "code",
   "execution_count": 46,
   "metadata": {},
   "outputs": [],
   "source": [
    "import numpy as np\n",
    "\n",
    "def calcularZ(w,x,b):\n",
    "    z = np.dot(w,x)+b\n",
    "    return z\n",
    "\n",
    "def activacion(z):\n",
    "    y = 1 / (1 + np.exp(-z))\n",
    "    return y\n",
    "\n",
    "def capaNeuronal(w,x,b):\n",
    "    z = calcularZ(w,x,b)\n",
    "    y_pred = activacion(z)\n",
    "    return y_pred\n",
    "\n",
    "def inicializarCapa(numCaracteristicas, numNeuronas):\n",
    "    w = np.random.rand(numCaracteristicas,numNeuronas)\n",
    "    w_transpose = w.T\n",
    "    b = np.random.rand(numNeuronas)\n",
    "    return w_transpose,b"
   ]
  },
  {
   "cell_type": "markdown",
   "metadata": {},
   "source": [
    "La capa 1 tendrá los pesos w1 y b1, la capa 2 tendrá los pesos w2 y b2. Para obtener un resultado tenemos que hacer que la capa 1 obtenga sus resultados y esos resultados se los alimentamos a la capa 2. Esto se le conoce como \"propagación hacia el frente\" (o en inglés, Front propagation)"
   ]
  },
  {
   "cell_type": "code",
   "execution_count": 47,
   "metadata": {},
   "outputs": [
    {
     "name": "stdout",
     "output_type": "stream",
     "text": [
      "[0.96716085 0.92647852]\n"
     ]
    }
   ],
   "source": [
    "#Entrada: \n",
    "x = np.array([0,1,2,3,4,3,2,1,0,-1]) #10 características de entrada.\n",
    "#Capa 1:\n",
    "w1,b1 = inicializarCapa(10,4) #10 caracteristicas, 4 neuronas.\n",
    "#Capa 2:\n",
    "w2,b2 = inicializarCapa(4,2) #4 caracteristicas, 2 neuronas.\n",
    "\n",
    "#Salida de capa 1:\n",
    "y1 = capaNeuronal(w1,x,b1)\n",
    "#Conectamos la salida de la capa 1 a la capa 2:\n",
    "y_pred = capaNeuronal(w2,y1,b2)\n",
    "#Imprimimos la salida:\n",
    "print(y_pred)"
   ]
  },
  {
   "cell_type": "markdown",
   "metadata": {},
   "source": [
    "Cuando varias neuronas trabajan juntas, pueden resolver problemas complejos. Entre mas neuronas, mas complejo es el problema que resuelven. Por ejemplo, el problema del XOR:\n",
    "\n",
    "En este caso, el MLPClassifier crea una estructura neuronal idéntica a la que definimos arriba. La siguiente sesión aprenderemos a entrenarla"
   ]
  },
  {
   "cell_type": "markdown",
   "metadata": {},
   "source": [
    "## Clasificación con sklearn"
   ]
  },
  {
   "cell_type": "code",
   "execution_count": 56,
   "metadata": {},
   "outputs": [
    {
     "name": "stdout",
     "output_type": "stream",
     "text": [
      "[0 1 1 0]\n"
     ]
    }
   ],
   "source": [
    "from sklearn.neural_network import MLPClassifier\n",
    "X = np.array([[0,0],[0,1],[1,0],[1,1]])\n",
    "Y = np.array([0,1,1,0])\n",
    "\n",
    "\n",
    "redNeuronal = MLPClassifier(hidden_layer_sizes=(4,2), # Dos capas, una de 4 y otra de 2 neuronas respectivamente\n",
    "                            max_iter=20000,\n",
    "                            activation ='logistic',\n",
    "                            tol= 1e-7)\n",
    "\n",
    "redNeuronal.fit(X, Y)\n",
    "Y_pred = redNeuronal.predict(X)\n",
    "print(Y_pred)"
   ]
  },
  {
   "cell_type": "markdown",
   "metadata": {},
   "source": [
    "¡Problema XOR resulto!"
   ]
  },
  {
   "cell_type": "markdown",
   "metadata": {},
   "source": [
    "## Ejemplo 05: Clasificación con redes neuronales\n",
    "En este ejemplo veremos como una red neuronal que construimos en los otros ejemplosnos sirve como un poderoso clasificador binario. Para ello empezaremos creando dos blobs de 10 características en un ScatterPlot."
   ]
  },
  {
   "cell_type": "code",
   "execution_count": 58,
   "metadata": {},
   "outputs": [],
   "source": [
    "import numpy as np\n",
    "from matplotlib import pyplot as plt\n",
    "from sklearn.neural_network import MLPClassifier\n",
    "from sklearn.datasets import make_blobs\n",
    "from sklearn.model_selection import train_test_split"
   ]
  },
  {
   "cell_type": "markdown",
   "metadata": {},
   "source": [
    "Crearemos 1000 datos, con 2 centros y 10 características, aunque solamente plottearemos la característica 0 y 1. Cada que corras la celda siguiente el dataset cambiará."
   ]
  },
  {
   "cell_type": "code",
   "execution_count": 59,
   "metadata": {},
   "outputs": [
    {
     "data": {
      "image/png": "[encoded data removed]",
      "text/plain": [
       "<Figure size 432x288 with 1 Axes>"
      ]
     },
     "metadata": {
      "needs_background": "light"
     },
     "output_type": "display_data"
    }
   ],
   "source": [
    "x, y = make_blobs(n_samples=1000, centers=2, n_features=10)\n",
    "plt.scatter(x[:,0], x[:,1], c=y)\n",
    "plt.show()"
   ]
  },
  {
   "cell_type": "markdown",
   "metadata": {},
   "source": [
    "Ahora dividiremos el dataset en pruebas y entrenamiento, con un valor de 0.4 para las pruebas (40% del dataset). Una vez teniendo la división, vamos a crear la red neuronal con la misma estructura que toda la clase: 4 neuronas en capa 1, 2 neuronas en capa 2. Si bien es cierto deberíamos hacer las neuronas manualmente, necesitamos SKLearn porque todavia no hemos visto como entrenar una neurona.\n",
    "\n",
    "#### NOTA: El correr esta celda puede llevar un rato! aproximadamente unos 3 o 4 minutos. Preparate un café mientras tanto... "
   ]
  },
  {
   "cell_type": "code",
   "execution_count": 60,
   "metadata": {},
   "outputs": [
    {
     "name": "stdout",
     "output_type": "stream",
     "text": [
      "¡Entrenamiento completado!\n"
     ]
    }
   ],
   "source": [
    "x_train, x_test, y_train, y_test = train_test_split(x,y,test_size=0.4)\n",
    "\n",
    "\n",
    "redNeuronal = MLPClassifier(hidden_layer_sizes=(4,2),\n",
    "                            max_iter=20000,\n",
    "                            activation ='logistic',\n",
    "                            tol= 1e-7)\n",
    "\n",
    "redNeuronal.fit(x_train, y_train)\n",
    "y_pred = redNeuronal.predict(x_test)\n",
    "print(\"¡Entrenamiento completado!\")"
   ]
  },
  {
   "cell_type": "markdown",
   "metadata": {},
   "source": [
    "### Métricas de desempeño de nuestra Red Neuronal.\n",
    "¿Recuerdas la sesión 02? En esta sesión vimos lo que era una matriz de confusión, y cómo se calcula la Accuracy, sensibilidad y especificidad. Esas funciones las guardamos en nuestra librería MLUtilities."
   ]
  },
  {
   "cell_type": "code",
   "execution_count": 62,
   "metadata": {},
   "outputs": [],
   "source": [
    "#import MLUtilities as mlu\n",
    "\n",
    "from sklearn.metrics import confusion_matrixonf"
   ]
  },
  {
   "cell_type": "markdown",
   "metadata": {},
   "source": [
    "Ahora, para saber que tan bueno es el modelo, haremos las evaluaciones. Esta red neuronal de 4 neuronas en una capa y 2 en la segunda alcanza muchas veces la clasificación perfecta. (Aunque puede variar por aquello de los números aleatorios...)"
   ]
  },
  {
   "cell_type": "code",
   "execution_count": 63,
   "metadata": {},
   "outputs": [
    {
     "name": "stdout",
     "output_type": "stream",
     "text": [
      "[[205   0]\n",
      " [  0 195]]\n",
      "True positives: 195\n",
      "True negatives: 205\n",
      "False positives: 0\n",
      "False negative: 0\n"
     ]
    }
   ],
   "source": [
    "resultado = confusion_matrix(y_test, y_pred)\n",
    "print(resultado)\n",
    "(TN, FP, FN, TP) = resultado.ravel()\n",
    "print(\"True positives: \"+str(TP))\n",
    "print(\"True negatives: \"+str(TN))\n",
    "print(\"False positives: \"+str(FP))\n",
    "print(\"False negative: \"+str(FN))"
   ]
  },
  {
   "cell_type": "code",
   "execution_count": null,
   "metadata": {},
   "outputs": [],
   "source": [
    "acc, sen, spec = mlu.metricasclass(resultado)\n",
    "print(\"Precision:\"+str(acc)+\"%\")\n",
    "print(\"Sensibilidad:\"+str(sen)+\"%\")\n",
    "print(\"Especificidad:\"+str(spec)+\"%\")"
   ]
  },
  {
   "cell_type": "markdown",
   "metadata": {},
   "source": [
    "## Reto 3: Multiclasificación:\n",
    "El objetivo de este reto es que construyas un clasificador multiclase con lo aprendido sobre redes neuronales. Para este caso utiliza la función MLPClassifier. Además, crea una función que te permita evaluar la precisión de la clasificación para cualquier número de clases."
   ]
  },
  {
   "cell_type": "code",
   "execution_count": 65,
   "metadata": {},
   "outputs": [],
   "source": [
    "import numpy as np\n",
    "from matplotlib import pyplot as plt\n",
    "from sklearn.neural_network import MLPClassifier\n",
    "from sklearn.datasets import make_blobs\n",
    "from sklearn.model_selection import train_test_split"
   ]
  },
  {
   "cell_type": "markdown",
   "metadata": {},
   "source": [
    "Crearemos 1000 datos, con 6 centros y 10 características, aunque solamente plottearemos la característica 0 y 1. Cada que corras la celda siguiente el dataset cambiará."
   ]
  },
  {
   "cell_type": "code",
   "execution_count": 66,
   "metadata": {},
   "outputs": [
    {
     "data": {
      "image/png": "[encoded data removed]",
      "text/plain": [
       "<Figure size 432x288 with 1 Axes>"
      ]
     },
     "metadata": {
      "needs_background": "light"
     },
     "output_type": "display_data"
    }
   ],
   "source": [
    "x, y = make_blobs(n_samples=1000, centers=6, n_features=10)\n",
    "plt.scatter(x[:,0], x[:,1], c=y)\n",
    "plt.show()"
   ]
  },
  {
   "cell_type": "markdown",
   "metadata": {},
   "source": [
    "Probemos que tal funciona una red neuronal con 10 neuronas de primera capa y 4 de segunda capa. Si estas viendo esto una vez completado el reto, te invito a cambiar el valor de hidden_layer_sizes para que veas que tal se comporta\n",
    "\n",
    "#### NOTA: El correr esta celda puede llevar un rato! aproximadamente unos 3 o 4 minutos. Preparate un café mientras tanto... "
   ]
  },
  {
   "cell_type": "code",
   "execution_count": null,
   "metadata": {},
   "outputs": [],
   "source": [
    "redNeuronal = MLPClassifier(hidden_layer_sizes=(4,2),\n",
    "                            max_iter=20000,\n",
    "                            activation ='logistic',\n",
    "                            tol= 1e-7)"
   ]
  },
  {
   "cell_type": "code",
   "execution_count": 69,
   "metadata": {},
   "outputs": [
    {
     "name": "stdout",
     "output_type": "stream",
     "text": [
      "¡Entrenamiento completado!\n"
     ]
    }
   ],
   "source": [
    "# Separa los datos para entrenamiento y prueba. Utiliza 40% para prueba:\n",
    "x_train, x_test, y_train, y_test = train_test_split(x, y, train_size = 0.4)\n",
    "\n",
    "# Genera una red neuronal con 2 capas (la 1era con 20 conectores y la 2da con 4 conectores). Utiliza 20000 iteraciones\n",
    "# Y utiliza la función de activación logística\n",
    "redNeuronal = MLPClassifier(hidden_layer_sizes = (20,4),\n",
    "                            max_iter = 10000,\n",
    "                            activation = \"logistic\",\n",
    "                            tol= 1e-7)\n",
    "\n",
    "# Ajusta tu red neuronal con los datos de entrenamiento y obtén los resultados predichos para el conjunto de prueba\n",
    "redNeuronal.fit(x_train,y_train)\n",
    "y_pred = redNeuronal.predict(x_test)\n",
    "print(\"¡Entrenamiento completado!\")"
   ]
  },
  {
   "cell_type": "markdown",
   "metadata": {},
   "source": [
    "### Desempeño de la red Neuronal\n",
    "Para medir el desempeño de nuestro modelo, podemos utilizar la matriz de confusión para ver cuántas categorías fueron correctamente clasificadas:"
   ]
  },
  {
   "cell_type": "code",
   "execution_count": 70,
   "metadata": {},
   "outputs": [
    {
     "name": "stdout",
     "output_type": "stream",
     "text": [
      "[[ 99   0   0   0   0   0]\n",
      " [  0 103   0   0   0   0]\n",
      " [  0   0  94   0   0   0]\n",
      " [  0   0   0  95   0   0]\n",
      " [  0   0   0   0  96   0]\n",
      " [  0   0   0   0   0 113]]\n"
     ]
    }
   ],
   "source": [
    "from sklearn.metrics import confusion_matrix\n",
    "\n",
    "# Obtén la matriz de confusión\n",
    "resultado = confusion_matrix(y_test, y_pred)\n",
    "print(resultado)"
   ]
  },
  {
   "cell_type": "markdown",
   "metadata": {},
   "source": [
    "Como podemos ver, nuestra red neuronal hizo un excelente trabajo clasificando nuevas observaciones, sin embargo, resumir este resultado en un sólo número sería mucho más comunicativo.\n",
    "\n",
    "Recuerda que la precisión (o Accuracy) es el porcentaje de observaciones correctamente clasificadas. ¿cómo podríamos definir una función que nos calcule la precisión sin importar el número de clasificaciones?\n",
    "\n",
    "##### Tip: Investiga qué es la traza de una matriz ;)"
   ]
  },
  {
   "cell_type": "code",
   "execution_count": 97,
   "metadata": {},
   "outputs": [],
   "source": [
    "# Define una función que calcule el accuracy para un problema de clasificación múltiple\n",
    "# Recuerda que en la diagonal principal de la matriz están las observaciones correctamente clasificadas\n",
    "\n",
    "def class_accuracy(ma):\n",
    "    acc = ( sum(ma[i][i] for i in range(ma.shape[1])) /(sum(sum(ma))))* 100\n",
    "    # np.trace(ma) / ma.sum() * 100\n",
    "    return acc"
   ]
  },
  {
   "cell_type": "code",
   "execution_count": 98,
   "metadata": {},
   "outputs": [
    {
     "name": "stdout",
     "output_type": "stream",
     "text": [
      "Accuracy = 100.0%\n"
     ]
    }
   ],
   "source": [
    "acc = class_accuracy(resultado)\n",
    "print(\"Accuracy = \" + str(acc) + \"%\")"
   ]
  },
  {
   "cell_type": "markdown",
   "metadata": {},
   "source": [
    "# POSTWORK\n",
    "Genera una red neuronal que permita realizar la separación en dos clases de un dataset de prueba:"
   ]
  },
  {
   "cell_type": "code",
   "execution_count": null,
   "metadata": {},
   "outputs": [],
   "source": [
    "import pandas as pd\n",
    "import numpy as np\n",
    "from sklearn.datasets import load_breast_cancer\n",
    "dataset = load_breast_cancer()\n",
    "x, y = dataset.data, dataset.target\n",
    "df = pd.DataFrame(x, columns=dataset.feature_names)\n",
    "print(df.head())"
   ]
  },
  {
   "cell_type": "code",
   "execution_count": null,
   "metadata": {},
   "outputs": [],
   "source": [
    "# Separa tu datos en los subconjuntos de entrenamiento y prueba\n",
    "X_train, X_test, y_train, y_test = \n",
    "\n",
    "# Construye una red neuronal con el número de capas y conectores que tú determines.\n",
    "# Selecciona tu función de activiación 'logistic', 'tanh', 'identity'\n",
    "redNeuronal = ...(hidden_layer_sizes=...,\n",
    "                            max_iter=20000,\n",
    "                            activation = ...,\n",
    "                            tol= 1e-7)\n",
    "\n",
    "redNeuronal.fit(X_train, y_train)\n",
    "y_pred = redNeuronal.predict(X_test)\n",
    "print(\"¡Entrenamiento completado!\")"
   ]
  },
  {
   "cell_type": "code",
   "execution_count": null,
   "metadata": {},
   "outputs": [],
   "source": [
    "# Obtén la matriz de confusión para evaluar tu modelo\n",
    "from sklearn.metrics import confusion_matrix\n",
    "resultado = confusion_matrix(y_test, y_pred)\n",
    "print(resultado)"
   ]
  },
  {
   "cell_type": "code",
   "execution_count": null,
   "metadata": {},
   "outputs": [],
   "source": [
    "acc = class_accuracy(resultado)\n",
    "print(\"Accuracy = \" + str(acc) + \"%\")"
   ]
  }
 ],
 "metadata": {
  "kernelspec": {
   "display_name": "Python 3",
   "language": "python",
   "name": "python3"
  },
  "language_info": {
   "codemirror_mode": {
    "name": "ipython",
    "version": 3
   },
   "file_extension": ".py",
   "mimetype": "text/x-python",
   "name": "python",
   "nbconvert_exporter": "python",
   "pygments_lexer": "ipython3",
   "version": "3.8.8"
  }
 },
 "nbformat": 4,
 "nbformat_minor": 4
}
