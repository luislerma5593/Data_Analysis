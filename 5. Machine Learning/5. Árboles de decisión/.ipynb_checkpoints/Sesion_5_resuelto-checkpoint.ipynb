{
 "cells": [
  {
   "cell_type": "markdown",
   "metadata": {},
   "source": [
    "# Sesión 5: Árboles de Decisión"
   ]
  },
  {
   "cell_type": "markdown",
   "metadata": {},
   "source": [
    "## Ejemplo 01: Adivina quién\n",
    "\n",
    "En este ejemplo vamos a construir manualmente un árbol de decisión para simular un juego de Adivina quién utilizando sólo Numpy y nuestros conocimientos básidos de python"
   ]
  },
  {
   "cell_type": "code",
   "execution_count": null,
   "metadata": {},
   "outputs": [],
   "source": [
    "import numpy as np"
   ]
  },
  {
   "cell_type": "markdown",
   "metadata": {},
   "source": [
    "El siguiente paso es tomar todos los nombres de las personas, y asignarle a cada uno sus características. Digamos, para los nombres del adivina quien:"
   ]
  },
  {
   "cell_type": "code",
   "execution_count": null,
   "metadata": {},
   "outputs": [],
   "source": [
    "#Para las salidas, utilizaremos la variable Y\n",
    "y = [\"Antonio\", \"Elly\", \"Patricia\", \"María\", \"Juana\", \"José\", \"Luis\"]"
   ]
  },
  {
   "cell_type": "markdown",
   "metadata": {},
   "source": [
    "Y para cada nombre, le vamos a poner características a cada uno en una tabla (matriz): 1 = Tiene esa característica 0 = No tiene esa característica\n",
    "\n",
    "Cada columna es una característica:\n",
    "\n",
    "Cabello largo | Usa lentes | Usa sombrero | Es mujer | Tiene bigote | Tiene ojos claros"
   ]
  },
  {
   "cell_type": "code",
   "execution_count": null,
   "metadata": {},
   "outputs": [],
   "source": [
    "#Características: \n",
    "#Cabello largo | Usa lentes | Usa sombrero | Es mujer | Tiene bigote | Tiene ojos claros\n",
    "x = np.array([\n",
    "     [0,1,0,0,0,0], #Antonio: No tiene cabello largo, usa lentes, no usa sombrero, no es mujer, no tiene bigote, no tiene ojos claros\n",
    "     [1,1,1,1,0,0], #Elly: Tiene cabello largo, usa lentes, usa sombrero, es mujer, no tiene bigote, no tiene ojos claros\n",
    "     [0,0,1,1,0,1], #Patricia: ...\n",
    "     [1,1,0,1,0,0], #Maria: ...\n",
    "     [0,0,1,1,0,0], #Juana: ...\n",
    "     [1,0,0,0,1,1], #José: ...\n",
    "     [0,1,1,0,0,1]  #Luis: ...\n",
    "    ], dtype=np.int16)"
   ]
  },
  {
   "cell_type": "markdown",
   "metadata": {},
   "source": [
    "Lo siguiente será crear las preguntas adecuadas para saber quien es la persona que queremos hallar:"
   ]
  },
  {
   "cell_type": "code",
   "execution_count": null,
   "metadata": {},
   "outputs": [],
   "source": [
    "#Adivina quien es un array de True: Todos son sospechosos al inicio del juego.\n",
    "# Esta lista se va actualizando conforme avanza el juego\n",
    "adivinaquien = [True]*len(y)\n",
    "print(adivinaquien)"
   ]
  },
  {
   "cell_type": "markdown",
   "metadata": {},
   "source": [
    "Para cada pregunta, vamos a ver quienes son los sospechosos que quedan:"
   ]
  },
  {
   "cell_type": "code",
   "execution_count": null,
   "metadata": {},
   "outputs": [],
   "source": [
    "print(\"Sospechosos que quedan:\")\n",
    "for contador in range(len(adivinaquien)):\n",
    "    if(adivinaquien[contador] == True):\n",
    "        print(y[contador])"
   ]
  },
  {
   "cell_type": "code",
   "execution_count": null,
   "metadata": {},
   "outputs": [],
   "source": [
    "tieneCabelloLargo = 1 #Tiene cabello largo?\n",
    "\n",
    "#Primera pregunta: Tiene el cabello largo? solamente marca con \"True\" los que tengan cabello largo.\n",
    "pregunta1 = np.where(x[:,0] == tieneCabelloLargo, True, False)\n",
    "adivinaquien = pregunta1\n",
    "print(adivinaquien)"
   ]
  },
  {
   "cell_type": "code",
   "execution_count": null,
   "metadata": {},
   "outputs": [],
   "source": [
    "# Actualizamos lista de sospechosos\n",
    "print(\"Sospechosos que quedan:\")\n",
    "for contador in range(len(adivinaquien)):\n",
    "    if(adivinaquien[contador] == True):\n",
    "        print(y[contador])"
   ]
  },
  {
   "cell_type": "code",
   "execution_count": null,
   "metadata": {},
   "outputs": [],
   "source": [
    "usaLentes = 1 #Usa lentes?\n",
    "\n",
    "#Segunda pregunta, de los que quedan, quien usa lentes?\n",
    "pregunta2 = np.where(x[:,1] == usaLentes, True, False)\n",
    "\n",
    "#Tenemos que ver que los que usan lentes queden en la lista de sospechosos.\n",
    "for contador in range(len(adivinaquien)):\n",
    "    adivinaquien[contador] = pregunta2[contador] and adivinaquien[contador]\n",
    "print(adivinaquien)"
   ]
  },
  {
   "cell_type": "code",
   "execution_count": null,
   "metadata": {},
   "outputs": [],
   "source": [
    "print(\"Sospechosos que quedan:\")\n",
    "for contador in range(len(adivinaquien)):\n",
    "    if(adivinaquien[contador] == True):\n",
    "        print(y[contador])"
   ]
  },
  {
   "cell_type": "code",
   "execution_count": null,
   "metadata": {},
   "outputs": [],
   "source": [
    "usaSombrero = 1 #Usa sombrero?\n",
    "\n",
    "#Tercera pregunta, de los que quedan, quien usa sombrero?\n",
    "pregunta3 = np.where(x[:,2] == usaSombrero, True, False)\n",
    "\n",
    "#Tenemos que ver que los que usan sombrero queden en la lista de sospechosos.\n",
    "for contador in range(len(adivinaquien)):\n",
    "    adivinaquien[contador] = pregunta3[contador] and adivinaquien[contador]\n",
    "print(adivinaquien)"
   ]
  },
  {
   "cell_type": "code",
   "execution_count": null,
   "metadata": {},
   "outputs": [],
   "source": [
    "print(\"Sospechosos que quedan:\")\n",
    "for contador in range(len(adivinaquien)):\n",
    "    if(adivinaquien[contador] == True):\n",
    "        print(y[contador])"
   ]
  },
  {
   "cell_type": "markdown",
   "metadata": {},
   "source": [
    "Con ello hemos creado un arbol de decision: Elly es la única que tiene cabello largo, lentes, y sombrero."
   ]
  },
  {
   "cell_type": "markdown",
   "metadata": {},
   "source": [
    "## Reto 01: Juega con Adivina Quien\n",
    "Ahora hemos definido unas funciones para que sea más fácil jugar. Estudia las funciones y crea tu propia ronda de juego"
   ]
  },
  {
   "cell_type": "markdown",
   "metadata": {},
   "source": [
    "Las salidas (los nombres de sospechosos) en el vector \"y\" y la matriz de características \"x\" serán la misma del ejemplo 01, sientete libre de editar todo esto (y colocar tus propias características!):"
   ]
  },
  {
   "cell_type": "markdown",
   "metadata": {},
   "source": [
    "Definiremos las funciones para que puedas probar constantemente diferentes preguntas:"
   ]
  },
  {
   "cell_type": "code",
   "execution_count": null,
   "metadata": {},
   "outputs": [],
   "source": [
    "def mostrarSospechosos(nombres, sospechosos):\n",
    "    print(\"Sospechosos que quedan:\")\n",
    "    for contador in range(len(sospechosos)):\n",
    "        if(sospechosos[contador] == True):\n",
    "            print(nombres[contador])"
   ]
  },
  {
   "cell_type": "code",
   "execution_count": null,
   "metadata": {},
   "outputs": [],
   "source": [
    "#Por ejemplo, vamos a imprimir a todos como sospechosos.\n",
    "sospechosos = [True]*len(y)\n",
    "mostrarSospechosos(y, sospechosos)"
   ]
  },
  {
   "cell_type": "markdown",
   "metadata": {},
   "source": [
    "Con esta función puedes hacer una decisión del árbol:"
   ]
  },
  {
   "cell_type": "code",
   "execution_count": null,
   "metadata": {},
   "outputs": [],
   "source": [
    "def descartarSospechosos(caracteristica, valorQueBuscas, sospechosos):\n",
    "    respuesta = np.where(x[:,caracteristica] == valorQueBuscas, True, False)\n",
    "    for contador in range(len(sospechosos)):\n",
    "        respuesta[contador] = sospechosos[contador] and respuesta[contador]\n",
    "    return respuesta"
   ]
  },
  {
   "cell_type": "markdown",
   "metadata": {},
   "source": [
    "Por ejemplo, veamos como descartamos a aquellos que tienen cabello largo (la característica en la columna 0)"
   ]
  },
  {
   "cell_type": "code",
   "execution_count": null,
   "metadata": {},
   "outputs": [],
   "source": [
    "sospechosos = descartarSospechosos(caracteristica = 0, valorQueBuscas = 1, sospechosos = sospechosos)\n",
    "mostrarSospechosos(y,sospechosos)"
   ]
  },
  {
   "cell_type": "markdown",
   "metadata": {},
   "source": [
    "¡Listo! Nuestras funciones ya están listar para comenzar a jugar. Se creativo y elige con \"descartarSospechosos\" y ve cuantos quedan con \"mostrarSospechosos\""
   ]
  },
  {
   "cell_type": "code",
   "execution_count": null,
   "metadata": {},
   "outputs": [],
   "source": [
    "# Reiniciar juego\n",
    "sospechosos = [True]*len(y)\n",
    "\n",
    "#Características: \n",
    "#Cabello largo | Usa lentes | Usa sombrero | Es mujer | Tiene bigote | Tiene ojos claros\n",
    "x = np.array([\n",
    "     [1,1,1,0,1,0], #Antonio: ...\n",
    "     [0,0,0,1,0,0], #Elly: ...\n",
    "     [1,0,1,1,0,1], #Patricia: ...\n",
    "     [1,1,0,1,0,0], #Maria: ...\n",
    "     [0,1,1,1,0,0], #Juana: ...\n",
    "     [0,0,0,0,1,1], #José: ...\n",
    "     [0,0,0,0,1,1]  #Luis: ...\n",
    "    ], dtype=np.int16)"
   ]
  },
  {
   "cell_type": "code",
   "execution_count": null,
   "metadata": {},
   "outputs": [],
   "source": [
    "sospechosos = descartarSospechosos(caracteristica = -1, valorQueBuscas = 0, sospechosos = sospechosos)\n",
    "mostrarSospechosos(y,sospechosos)"
   ]
  },
  {
   "cell_type": "markdown",
   "metadata": {},
   "source": [
    "## Ejemplo 02: Gini y Árboles de Decisión\n",
    "En este ejemplo vamos a jugar adivina quien, sin embargo ahora el algoritmo de Machine Learning generará las preguntas adecuadas, y nosotros veremos que tal funciona.\n",
    "\n",
    "Lo primero que necesitaremos será importar algunas librerías extra."
   ]
  },
  {
   "cell_type": "code",
   "execution_count": null,
   "metadata": {},
   "outputs": [],
   "source": [
    "import numpy as np\n",
    "from matplotlib import pyplot as plt\n",
    "from sklearn import tree as treeClassifier"
   ]
  },
  {
   "cell_type": "markdown",
   "metadata": {},
   "source": [
    "Vamos a continuar manejando como variable Y (salida esperada) los nombres, y como variable X las características de cada persona, igual que en el ejemplo 01:"
   ]
  },
  {
   "cell_type": "code",
   "execution_count": null,
   "metadata": {},
   "outputs": [],
   "source": [
    "#Para las salidas, utilizaremos la variable Y\n",
    "y = [\"Antonio\", \"Elly\", \"Patricia\", \"María\", \"Juana\", \"José\", \"Luis\"]\n",
    "\n",
    "#Características: \n",
    "#Cabello largo | Usa lentes | Usa sombrero | Es mujer | Tiene bigote | Tiene ojos claros\n",
    "x = np.array([\n",
    "     [0,1,0,0,0,0], #Antonio: No tiene cabello largo, usa lentes, no usa sombrero, no es mujer, no tiene bigote, no tiene ojos claros\n",
    "     [1,1,1,1,0,0], #Elly: Tiene cabello largo, usa lentes, usa sombrero, es mujer, no tiene bigote, no tiene ojos claros\n",
    "     [0,0,1,1,0,1], #Patricia: ...\n",
    "     [1,1,0,1,0,0], #Maria: ...\n",
    "     [0,0,1,1,0,0], #Juana: ...\n",
    "     [1,0,0,0,1,1], #José: ...\n",
    "     [0,1,1,0,0,1]  #Luis: ...\n",
    "    ], dtype=np.int16)"
   ]
  },
  {
   "cell_type": "markdown",
   "metadata": {},
   "source": [
    "Ahora, vamos a crear un clasificador de tipo DecisionTreeClassifier: Un único árbol de decisión. Le alimentaremos los datos: X para las características, y Y para las características que mas se le parecen."
   ]
  },
  {
   "cell_type": "code",
   "execution_count": null,
   "metadata": {},
   "outputs": [],
   "source": [
    "arbol = treeClassifier.DecisionTreeClassifier()\n",
    "arbol = arbol.fit(x, y)"
   ]
  },
  {
   "cell_type": "markdown",
   "metadata": {},
   "source": [
    "Podemos emplear la función \"plot_tree\" para mostrar el arbol de forma esquemática. Si no puedes ver el árbol, intenta actualizando el paquete de scikit-learn (sklearn)."
   ]
  },
  {
   "cell_type": "code",
   "execution_count": null,
   "metadata": {},
   "outputs": [],
   "source": [
    "plt.figure(figsize = (5,5), dpi = 300)\n",
    "treeClassifier.plot_tree(arbol,filled = True);\n",
    "plt.show()"
   ]
  },
  {
   "cell_type": "markdown",
   "metadata": {},
   "source": [
    "Como puedes observar, el arbol se separa utilizando indices de Gini, y cada una de las hojas es un resultado. Probemos tratando de encontrar un sospechoso con las caracteristicas que le demos:"
   ]
  },
  {
   "cell_type": "code",
   "execution_count": null,
   "metadata": {},
   "outputs": [],
   "source": [
    "#Probemos con:\n",
    "# Tiene cabello largo (1)\n",
    "# No usa lentes (0)\n",
    "# No usa sombrero (0)\n",
    "# No es mujer (0)\n",
    "# Tiene bigote (1)\n",
    "# Tiene ojos claros (1) \n",
    "caracteristicas = np.array([[1,0,0,0,1,1]], dtype=np.int16)\n",
    "print(\"Nuestro sospechoso es\")\n",
    "print(arbol.predict(caracteristicas))"
   ]
  },
  {
   "cell_type": "markdown",
   "metadata": {},
   "source": [
    "## Reto 02:\n",
    "En este reto vamos a editar un poco los resultados que obtenemos de los árboles de decisión, y buscaremos alguna posible falla. Tomando como base el código del Ejemplo 02, vamos a construir un árbol de decisión."
   ]
  },
  {
   "cell_type": "code",
   "execution_count": null,
   "metadata": {},
   "outputs": [],
   "source": [
    "import numpy as np\n",
    "from matplotlib import pyplot as plt\n",
    "from sklearn import tree as treeClassifier"
   ]
  },
  {
   "cell_type": "code",
   "execution_count": null,
   "metadata": {},
   "outputs": [],
   "source": [
    "#Para las salidas, utilizaremos la variable Y\n",
    "y = [\"Antonio\", \"Elly\", \"Patricia\", \"María\", \"Juana\", \"José\", \"Luis\"]\n",
    "\n",
    "#Características: \n",
    "#Cabello largo | Usa lentes | Usa sombrero | Es mujer | Tiene bigote | Tiene ojos claros\n",
    "x = np.array([\n",
    "     [0,1,0,0,0,0], #Antonio: No tiene cabello largo, usa lentes, no usa sombrero, no es mujer, no tiene bigote, no tiene ojos claros\n",
    "     [1,1,1,1,0,0], #Elly: Tiene cabello largo, usa lentes, usa sombrero, es mujer, no tiene bigote, no tiene ojos claros\n",
    "     [0,0,1,1,0,1], #Patricia: ...\n",
    "     [1,1,0,1,0,0], #Maria: ...\n",
    "     [0,0,1,1,0,0], #Juana: ...\n",
    "     [1,0,0,0,1,1], #José: ...\n",
    "     [0,1,1,0,0,1]  #Luis: ...\n",
    "    ], dtype=np.int16)\n"
   ]
  },
  {
   "cell_type": "code",
   "execution_count": null,
   "metadata": {},
   "outputs": [],
   "source": [
    "arbol = treeClassifier.DecisionTreeClassifier(criterion = 'entropy')\n",
    "arbol = arbol.fit(x, y)"
   ]
  },
  {
   "cell_type": "code",
   "execution_count": null,
   "metadata": {},
   "outputs": [],
   "source": [
    "plt.figure(figsize = (5,5), dpi = 300)\n",
    "treeClassifier.plot_tree(arbol,filled = True);\n",
    "plt.show()"
   ]
  },
  {
   "cell_type": "markdown",
   "metadata": {},
   "source": [
    "Ahora, veamos que sucede si jugamos un poco con los posibles resultados y algunas variaciones:"
   ]
  },
  {
   "cell_type": "code",
   "execution_count": null,
   "metadata": {},
   "outputs": [],
   "source": [
    "#Este sospechoso es José: Es exactamente igual a los datos del adivina quien.\n",
    "caracteristicas = np.array([[1,0,0,0,1,1]], dtype=np.int16)\n",
    "print(\"Nuestro sospechoso es\")\n",
    "print(arbol.predict(caracteristicas))"
   ]
  },
  {
   "cell_type": "code",
   "execution_count": null,
   "metadata": {},
   "outputs": [],
   "source": [
    "#Este sospechoso es José pero con lentes.\n",
    "caracteristicas = np.array([[1,1,0,0,1,1]], dtype=np.int16)\n",
    "print(\"Nuestro sospechoso es\")\n",
    "print(arbol.predict(caracteristicas))"
   ]
  },
  {
   "cell_type": "code",
   "execution_count": null,
   "metadata": {},
   "outputs": [],
   "source": [
    "#Este sospechoso es José pero con lentes y sombrero.\n",
    "caracteristicas = np.array([[1,1,1,0,1,1]], dtype=np.int16)\n",
    "print(\"Nuestro sospechoso es\")\n",
    "print(arbol.predict(caracteristicas))"
   ]
  },
  {
   "cell_type": "code",
   "execution_count": null,
   "metadata": {},
   "outputs": [],
   "source": [
    "#Este sospechoso es José pero con sombrero.\n",
    "caracteristicas = np.array([[1,0,1,0,1,1]], dtype=np.int16)\n",
    "print(\"Nuestro sospechoso es\")\n",
    "print(arbol.predict(caracteristicas))"
   ]
  },
  {
   "cell_type": "markdown",
   "metadata": {},
   "source": [
    "¿Que sucedió aqui? Modificamos un poquito al sospechoso y se inclinó a ser mas de una clase que de otra. Esto puede ser un error grave de clasificación, sobre todo si utilizamos valores que no son absolutos (1 o 0) como estatura, peso o edad. Tenemos que ver una manera de evitar eso."
   ]
  },
  {
   "cell_type": "markdown",
   "metadata": {},
   "source": [
    "# Ejemplo 03: Bosques Aleatorios\n",
    "En este ejemplo veremos como funciona un Random Forest. Un Random Forest es una colección de árboles de decisión, que han sido entrenados independientemente. Para comenzar con el ejemplo, importemos unas librerías extra de Scikit-learn"
   ]
  },
  {
   "cell_type": "code",
   "execution_count": null,
   "metadata": {},
   "outputs": [],
   "source": [
    "import numpy as np\n",
    "from matplotlib import pyplot as plt\n",
    "from sklearn import tree as treeClassifier\n",
    "from sklearn.ensemble import RandomForestClassifier as forest"
   ]
  },
  {
   "cell_type": "markdown",
   "metadata": {},
   "source": [
    "Utilizaremos los mismos datos de entrada y salida de los otros ejemplos: Las personas del adivina quien y sus características. Si bien es cierto estamos usando el ejemplo del \"Adivina Quien\", puedes utilizar prácticamente cualquier cantidad de datos para predecir cualquier salida posible."
   ]
  },
  {
   "cell_type": "code",
   "execution_count": null,
   "metadata": {},
   "outputs": [],
   "source": [
    "#Para las salidas, utilizaremos la variable Y\n",
    "y = [\"Antonio\", \"Elly\", \"Patricia\", \"María\", \"Juana\", \"José\", \"Luis\"]\n",
    "\n",
    "#Características: \n",
    "#Cabello largo | Usa lentes | Usa sombrero | Es mujer | Tiene bigote | Tiene ojos claros\n",
    "x = np.array([\n",
    "     [0,1,0,0,0,0], #Antonio: No tiene cabello largo, usa lentes, no usa sombrero, no es mujer, no tiene bigote, no tiene ojos claros\n",
    "     [1,1,1,1,0,0], #Elly: Tiene cabello largo, usa lentes, usa sombrero, es mujer, no tiene bigote, no tiene ojos claros\n",
    "     [0,0,1,1,0,1], #Patricia: ...\n",
    "     [1,1,0,1,0,0], #Maria: ...\n",
    "     [0,0,1,1,0,0], #Juana: ...\n",
    "     [1,0,0,0,1,1], #José: ...\n",
    "     [0,1,1,0,0,1]  #Luis: ...\n",
    "    ], dtype=np.int16)"
   ]
  },
  {
   "cell_type": "markdown",
   "metadata": {},
   "source": [
    "Primero vamos a generar un árbol de decisión simple y trataremos de que el árbol de decisión por si solo haga el trabajo. Estoy dejando un random seed de 12, pero puedes cambiarlo a None para obtener resultados diferentes cada vez,"
   ]
  },
  {
   "cell_type": "code",
   "execution_count": null,
   "metadata": {},
   "outputs": [],
   "source": [
    "random_seed = 12\n",
    "\n",
    "arbol = treeClassifier.DecisionTreeClassifier(random_state = random_seed)\n",
    "arbol = arbol.fit(x, y)"
   ]
  },
  {
   "cell_type": "markdown",
   "metadata": {},
   "source": [
    "Ahora, veamos que tal funciona nuestro solitario árbol de decisiones con José, pero con diferentes características como lentes, sombrero, o lentes y sombrero"
   ]
  },
  {
   "cell_type": "code",
   "execution_count": null,
   "metadata": {},
   "outputs": [],
   "source": [
    "#Este sospechoso es José: Es exactamente igual a los datos del adivina quien.\n",
    "caracteristicas = np.array([[1,0,0,0,1,1]], dtype=np.int16)\n",
    "print(\"Nuestro sospechoso original es\")\n",
    "print(arbol.predict(caracteristicas))\n",
    "\n",
    "#Este sospechoso es José pero con lentes.\n",
    "caracteristicas = np.array([[1,1,0,0,1,1]], dtype=np.int16)\n",
    "print(\"Nuestro sospechoso con lentes es\")\n",
    "print(arbol.predict(caracteristicas))\n",
    "\n",
    "#Este sospechoso es José pero con sombrero.\n",
    "caracteristicas = np.array([[1,0,1,0,1,1]], dtype=np.int16)\n",
    "print(\"Nuestro sospechoso con sombrero es\")\n",
    "print(arbol.predict(caracteristicas))\n",
    "\n",
    "#Este sospechoso es José pero con lentes y sombrero.\n",
    "caracteristicas = np.array([[1,1,1,0,1,1]], dtype=np.int16)\n",
    "print(\"Nuestro sospechoso con lentes y sombrero es\")\n",
    "print(arbol.predict(caracteristicas))"
   ]
  },
  {
   "cell_type": "markdown",
   "metadata": {},
   "source": [
    "Como puedes ver, el árbol de decisiones falla terriblemente en este caso, y es normal, el árbol de decisión no es muy resistente a variaciones. Pero que pasa si creamos un bosque completo de 800 árboles?"
   ]
  },
  {
   "cell_type": "code",
   "execution_count": null,
   "metadata": {},
   "outputs": [],
   "source": [
    "bosque = forest(n_estimators = 800, random_state = random_seed)\n",
    "bosque.fit(x, y)"
   ]
  },
  {
   "cell_type": "markdown",
   "metadata": {},
   "source": [
    "Ya tenemos un bosque entero, vamos a ver que tal se comporta!"
   ]
  },
  {
   "cell_type": "code",
   "execution_count": null,
   "metadata": {},
   "outputs": [],
   "source": [
    "#Este sospechoso es José: Es exactamente igual a los datos del adivina quien.\n",
    "caracteristicas = np.array([[1,0,0,0,1,1]], dtype=np.int16)\n",
    "print(\"Nuestro sospechoso original es\")\n",
    "print(bosque.predict(caracteristicas))\n",
    "\n",
    "#Este sospechoso es José pero con lentes.\n",
    "caracteristicas = np.array([[1,1,0,0,1,1]], dtype=np.int16)\n",
    "print(\"Nuestro sospechoso con lentes es\")\n",
    "print(bosque.predict(caracteristicas))\n",
    "\n",
    "#Este sospechoso es José pero con sombrero.\n",
    "caracteristicas = np.array([[1,0,1,0,1,1]], dtype=np.int16)\n",
    "print(\"Nuestro sospechoso con sombrero es\")\n",
    "print(bosque.predict(caracteristicas))\n",
    "\n",
    "#Este sospechoso es José pero con lentes y sombrero.\n",
    "caracteristicas = np.array([[1,1,1,0,1,1]], dtype=np.int16)\n",
    "print(\"Nuestro sospechoso con lentes y sombrero es\")\n",
    "print(bosque.predict(caracteristicas))"
   ]
  },
  {
   "cell_type": "markdown",
   "metadata": {},
   "source": [
    "Como podemos ver, 800 árboles votando son mucho mas fiables que solamente 1 haciendo todo el trabajo. Resiste mucho mejor las variaciones. Puedes revisar cualquiera de los 800 árboles en la siguiente celda. Varía el \"numeroArbol\" vara ver distintos árboles y como toman la decisión."
   ]
  },
  {
   "cell_type": "code",
   "execution_count": null,
   "metadata": {},
   "outputs": [],
   "source": [
    "#Sientete libre de elegir alguno de los arboles:\n",
    "numeroArbol = 1\n",
    "arbolDelBosque = bosque.estimators_[numeroArbol]\n",
    "\n",
    "plt.figure(figsize = (5,5), dpi = 300)\n",
    "treeClassifier.plot_tree(arbolDelBosque,filled = True);\n",
    "plt.show()"
   ]
  },
  {
   "cell_type": "markdown",
   "metadata": {},
   "source": [
    "## Reto 03:\n",
    "Crea un random forest para separar datos creados por blobs. Puedes utiliza el siguiente código y las notas como base. Deberás utilizar tus herramientas de sesiones pasadas para evaluar la capacidad del random forest contra datos de entrenamiento y prueba."
   ]
  },
  {
   "cell_type": "markdown",
   "metadata": {},
   "source": [
    "Para comenzar con la solución, añadiremos las librerías que necesitamos."
   ]
  },
  {
   "cell_type": "code",
   "execution_count": 1,
   "metadata": {},
   "outputs": [],
   "source": [
    "import numpy as np\n",
    "from matplotlib import pyplot as plt\n",
    "from sklearn.datasets import make_blobs\n",
    "from sklearn.model_selection import train_test_split\n",
    "from sklearn.ensemble import RandomForestClassifier as forest\n",
    "from sklearn.metrics import confusion_matrix"
   ]
  },
  {
   "cell_type": "markdown",
   "metadata": {},
   "source": [
    "Crea 1000 blobs aleatorios, con 10 características cada uno, pero solo 2 clases (o centers). Separalos en una partición 60/40"
   ]
  },
  {
   "cell_type": "code",
   "execution_count": 2,
   "metadata": {
    "scrolled": false
   },
   "outputs": [
    {
     "data": {
      "image/png": "[encoded data removed]",
      "text/plain": [
       "<Figure size 432x288 with 1 Axes>"
      ]
     },
     "metadata": {
      "needs_background": "light"
     },
     "output_type": "display_data"
    }
   ],
   "source": [
    "x, y = make_blobs(n_samples=1000, centers=2, n_features=10, random_state = 5)\n",
    "plt.scatter(x[:,5], x[:,2], c=y)\n",
    "plt.show()"
   ]
  },
  {
   "cell_type": "markdown",
   "metadata": {},
   "source": [
    "#### Separa los datos en entrenamiento y pruebas, 60% entrenamiento, 40% pruebas."
   ]
  },
  {
   "cell_type": "code",
   "execution_count": 3,
   "metadata": {},
   "outputs": [],
   "source": [
    "X_train, X_test, Y_train, Y_test = train_test_split(x, y, train_size = 0.6) # test_size = 0.4"
   ]
  },
  {
   "cell_type": "markdown",
   "metadata": {},
   "source": [
    "#### Vamos a generar un bosque de 800 árboles de decisión, y los vamos a entrenar con los datos de entrenamiento. Una vez entrenado el bosque, haremos que trate de predecir los datos con las entradas de prueba (x_pruebas)"
   ]
  },
  {
   "cell_type": "code",
   "execution_count": 4,
   "metadata": {},
   "outputs": [],
   "source": [
    "# Genera un bosque de 800 arboles. \n",
    "# Utiliza los datos de entrenamiento (x entrenamiento / y entrenamiento)\n",
    "# Entrena el bosque con ellos. Una vez entrenado, genera una salida y_predichos con la función \"predict\"\n",
    "bosque = forest(n_estimators=800, criterion = 'entropy')\n",
    "bosque.fit(X_train, Y_train)\n",
    "y_predichos = bosque.predict(X_test)"
   ]
  },
  {
   "cell_type": "markdown",
   "metadata": {},
   "source": [
    "#### Utilizando lo aprendido de la sesión 2, genera una matriz de confusión."
   ]
  },
  {
   "cell_type": "code",
   "execution_count": 5,
   "metadata": {},
   "outputs": [
    {
     "name": "stdout",
     "output_type": "stream",
     "text": [
      "[[185   0]\n",
      " [  0 215]]\n"
     ]
    }
   ],
   "source": [
    "# Genera una matriz de confusión aqui\n",
    "matconfusion = confusion_matrix(Y_test, y_predichos)\n",
    "print(matconfusion)"
   ]
  },
  {
   "cell_type": "markdown",
   "metadata": {},
   "source": [
    "#### Obten los TP, TN, FP, y FN"
   ]
  },
  {
   "cell_type": "code",
   "execution_count": 10,
   "metadata": {},
   "outputs": [
    {
     "name": "stdout",
     "output_type": "stream",
     "text": [
      "True positives: 215\n",
      "True negatives: 185\n",
      "False positives: 0\n",
      "False negative: 0\n"
     ]
    }
   ],
   "source": [
    "# Genera los TP, TN, FP, y FN\n",
    "(TN, FP, FN, TP) = matconfusion.ravel()\n",
    "print(\"True positives: \"+str(TP))\n",
    "print(\"True negatives: \"+str(TN))\n",
    "print(\"False positives: \"+str(FP))\n",
    "print(\"False negative: \"+str(FN))"
   ]
  },
  {
   "cell_type": "markdown",
   "metadata": {},
   "source": [
    "#### calcula la accuracy, sensibilidad y especificidad."
   ]
  },
  {
   "cell_type": "code",
   "execution_count": 9,
   "metadata": {},
   "outputs": [
    {
     "name": "stdout",
     "output_type": "stream",
     "text": [
      "Precision:100.0%\n",
      "Sensibilidad:100.0%\n",
      "Especificidad:100.0%\n"
     ]
    }
   ],
   "source": [
    "# Calcula la precisión, sensibilidad y especificidad.\n",
    "# Nota: definimos estas funciones en nuestra librería MLUtilities\n",
    "def Accuracy(TP, TN, FP, FN):\n",
    "    accuracy = (TP + TN) / (TP + TN + FP + FN)\n",
    "    accuracy = accuracy * 100\n",
    "    return accuracy\n",
    "\n",
    "def Sensibilidad(TP, TN, FP, FN):\n",
    "    sensibilidad = TP / (TP + FN)\n",
    "    sensibilidad = sensibilidad * 100\n",
    "    return sensibilidad\n",
    "\n",
    "def Especificidad(TP, TN, FP, FN):\n",
    "    especificidad = TN / (TN + FP)\n",
    "    especificidad = especificidad * 100\n",
    "    return especificidad\n",
    "\n",
    "acc = Accuracy(TP, TN, FP, FN)\n",
    "sen = Sensibilidad(TP, TN, FP, FN)\n",
    "spec = Especificidad(TP, TN, FP, FN)\n",
    "                     \n",
    "print(\"Precision:\"+str(acc)+\"%\")\n",
    "print(\"Sensibilidad:\"+str(sen)+\"%\")\n",
    "print(\"Especificidad:\"+str(spec)+\"%\")"
   ]
  },
  {
   "cell_type": "code",
   "execution_count": 8,
   "metadata": {},
   "outputs": [
    {
     "ename": "NameError",
     "evalue": "name 'Accuracy' is not defined",
     "output_type": "error",
     "traceback": [
      "\u001b[1;31m---------------------------------------------------------------------------\u001b[0m",
      "\u001b[1;31mNameError\u001b[0m                                 Traceback (most recent call last)",
      "\u001b[1;32m<ipython-input-8-4fca94e0b2d1>\u001b[0m in \u001b[0;36m<module>\u001b[1;34m\u001b[0m\n\u001b[0;32m      3\u001b[0m \u001b[1;33m\u001b[0m\u001b[0m\n\u001b[0;32m      4\u001b[0m \u001b[1;33m(\u001b[0m\u001b[0mTN\u001b[0m\u001b[1;33m,\u001b[0m \u001b[0mFP\u001b[0m\u001b[1;33m,\u001b[0m \u001b[0mFN\u001b[0m\u001b[1;33m,\u001b[0m \u001b[0mTP\u001b[0m\u001b[1;33m)\u001b[0m \u001b[1;33m=\u001b[0m \u001b[0mmatconfusion\u001b[0m\u001b[1;33m.\u001b[0m\u001b[0mravel\u001b[0m\u001b[1;33m(\u001b[0m\u001b[1;33m)\u001b[0m\u001b[1;33m\u001b[0m\u001b[1;33m\u001b[0m\u001b[0m\n\u001b[1;32m----> 5\u001b[1;33m \u001b[0macc\u001b[0m \u001b[1;33m=\u001b[0m \u001b[0mAccuracy\u001b[0m\u001b[1;33m(\u001b[0m\u001b[0mTP\u001b[0m\u001b[1;33m,\u001b[0m \u001b[0mTN\u001b[0m\u001b[1;33m,\u001b[0m \u001b[0mFP\u001b[0m\u001b[1;33m,\u001b[0m \u001b[0mFN\u001b[0m\u001b[1;33m)\u001b[0m\u001b[1;33m\u001b[0m\u001b[1;33m\u001b[0m\u001b[0m\n\u001b[0m\u001b[0;32m      6\u001b[0m \u001b[0msen\u001b[0m \u001b[1;33m=\u001b[0m \u001b[0mSensibilidad\u001b[0m\u001b[1;33m(\u001b[0m\u001b[0mTP\u001b[0m\u001b[1;33m,\u001b[0m \u001b[0mTN\u001b[0m\u001b[1;33m,\u001b[0m \u001b[0mFP\u001b[0m\u001b[1;33m,\u001b[0m \u001b[0mFN\u001b[0m\u001b[1;33m)\u001b[0m\u001b[1;33m\u001b[0m\u001b[1;33m\u001b[0m\u001b[0m\n\u001b[0;32m      7\u001b[0m \u001b[0mspec\u001b[0m \u001b[1;33m=\u001b[0m \u001b[0mEspecificidad\u001b[0m\u001b[1;33m(\u001b[0m\u001b[0mTP\u001b[0m\u001b[1;33m,\u001b[0m \u001b[0mTN\u001b[0m\u001b[1;33m,\u001b[0m \u001b[0mFP\u001b[0m\u001b[1;33m,\u001b[0m \u001b[0mFN\u001b[0m\u001b[1;33m)\u001b[0m\u001b[1;33m\u001b[0m\u001b[1;33m\u001b[0m\u001b[0m\n",
      "\u001b[1;31mNameError\u001b[0m: name 'Accuracy' is not defined"
     ]
    }
   ],
   "source": [
    "y_predichos_Test = bosque.predict(X_test)\n",
    "matrix = confusion_matrix(Y_test, y_predichos_Test)\n",
    "\n",
    "(TN, FP, FN, TP) = matconfusion.ravel()\n",
    "acc = Accuracy(TP, TN, FP, FN)\n",
    "sen = Sensibilidad(TP, TN, FP, FN)\n",
    "spec = Especificidad(TP, TN, FP, FN)\n",
    "                     \n",
    "print(\"Precision:\"+str(acc)+\"%\")\n",
    "print(\"Sensibilidad:\"+str(sen)+\"%\")\n",
    "print(\"Especificidad:\"+str(spec)+\"%\")"
   ]
  },
  {
   "cell_type": "markdown",
   "metadata": {},
   "source": [
    "# POSTWORK"
   ]
  },
  {
   "cell_type": "code",
   "execution_count": 4,
   "metadata": {},
   "outputs": [],
   "source": [
    "from sklearn.ensemble import RandomForestClassifier as forest\n",
    "from sklearn.model_selection import train_test_split\n",
    "from sklearn.metrics import confusion_matrix"
   ]
  },
  {
   "cell_type": "code",
   "execution_count": 1,
   "metadata": {},
   "outputs": [],
   "source": [
    "import pandas as pd\n",
    "from sklearn.datasets import load_wine\n",
    "dataset = load_wine()\n",
    "x, y = dataset.data, dataset.target"
   ]
  },
  {
   "cell_type": "code",
   "execution_count": 2,
   "metadata": {},
   "outputs": [
    {
     "name": "stdout",
     "output_type": "stream",
     "text": [
      "   alcohol  malic_acid   ash  alcalinity_of_ash  magnesium  total_phenols  \\\n",
      "0    14.23        1.71  2.43               15.6      127.0           2.80   \n",
      "1    13.20        1.78  2.14               11.2      100.0           2.65   \n",
      "2    13.16        2.36  2.67               18.6      101.0           2.80   \n",
      "3    14.37        1.95  2.50               16.8      113.0           3.85   \n",
      "4    13.24        2.59  2.87               21.0      118.0           2.80   \n",
      "\n",
      "   flavanoids  nonflavanoid_phenols  proanthocyanins  color_intensity   hue  \\\n",
      "0        3.06                  0.28             2.29             5.64  1.04   \n",
      "1        2.76                  0.26             1.28             4.38  1.05   \n",
      "2        3.24                  0.30             2.81             5.68  1.03   \n",
      "3        3.49                  0.24             2.18             7.80  0.86   \n",
      "4        2.69                  0.39             1.82             4.32  1.04   \n",
      "\n",
      "   od280/od315_of_diluted_wines  proline  \n",
      "0                          3.92   1065.0  \n",
      "1                          3.40   1050.0  \n",
      "2                          3.17   1185.0  \n",
      "3                          3.45   1480.0  \n",
      "4                          2.93    735.0  \n"
     ]
    }
   ],
   "source": [
    "wine = pd.DataFrame(x, columns=dataset.feature_names)\n",
    "print(wine.head())"
   ]
  },
  {
   "cell_type": "code",
   "execution_count": 5,
   "metadata": {},
   "outputs": [],
   "source": [
    "X_train, X_test, Y_train, Y_test = train_test_split(x, y, train_size = 0.8)"
   ]
  },
  {
   "cell_type": "code",
   "execution_count": 6,
   "metadata": {},
   "outputs": [
    {
     "name": "stdout",
     "output_type": "stream",
     "text": [
      "[[46  2  0]\n",
      " [ 1 54  1]\n",
      " [ 0  1 37]]\n"
     ]
    }
   ],
   "source": [
    "bosque = forest(n_estimators=1)\n",
    "bosque.fit(X_train, Y_train)\n",
    "y_predichos = bosque.predict(X_train)\n",
    "\n",
    "matconfusion = confusion_matrix(Y_train, y_predichos)\n",
    "print(matconfusion)\n"
   ]
  },
  {
   "cell_type": "code",
   "execution_count": 7,
   "metadata": {},
   "outputs": [
    {
     "name": "stdout",
     "output_type": "stream",
     "text": [
      "Accuracy: 89.18539325842696\n"
     ]
    }
   ],
   "source": [
    "print(\"Accuracy: \"+ str((44+54+29)/(178*0.8)*100))"
   ]
  },
  {
   "cell_type": "code",
   "execution_count": 8,
   "metadata": {},
   "outputs": [
    {
     "name": "stdout",
     "output_type": "stream",
     "text": [
      "[[48  0  0]\n",
      " [ 0 56  0]\n",
      " [ 0  0 38]]\n"
     ]
    }
   ],
   "source": [
    "bosque = forest(n_estimators=5)\n",
    "bosque.fit(X_train, Y_train)\n",
    "y_predichos = bosque.predict(X_train)\n",
    "\n",
    "matconfusion = confusion_matrix(Y_train, y_predichos)\n",
    "print(matconfusion)\n"
   ]
  },
  {
   "cell_type": "code",
   "execution_count": null,
   "metadata": {},
   "outputs": [],
   "source": [
    "print(\"Accuracy: \"+ str((47+55+37)/(178*0.8)*100))"
   ]
  },
  {
   "cell_type": "code",
   "execution_count": null,
   "metadata": {},
   "outputs": [],
   "source": [
    "bosque = forest(n_estimators=10)\n",
    "bosque.fit(X_train, Y_train)\n",
    "y_predichos = bosque.predict(X_train)\n",
    "\n",
    "matconfusion = confusion_matrix(Y_train, y_predichos)\n",
    "print(matconfusion)\n"
   ]
  },
  {
   "cell_type": "code",
   "execution_count": null,
   "metadata": {},
   "outputs": [],
   "source": [
    "print(\"Accuracy: \"+ str((47+58+37)/(178*.8)*100))"
   ]
  },
  {
   "cell_type": "code",
   "execution_count": null,
   "metadata": {},
   "outputs": [],
   "source": []
  }
 ],
 "metadata": {
  "kernelspec": {
   "display_name": "Python 3",
   "language": "python",
   "name": "python3"
  },
  "language_info": {
   "codemirror_mode": {
    "name": "ipython",
    "version": 3
   },
   "file_extension": ".py",
   "mimetype": "text/x-python",
   "name": "python",
   "nbconvert_exporter": "python",
   "pygments_lexer": "ipython3",
   "version": "3.8.8"
  }
 },
 "nbformat": 4,
 "nbformat_minor": 4
}
