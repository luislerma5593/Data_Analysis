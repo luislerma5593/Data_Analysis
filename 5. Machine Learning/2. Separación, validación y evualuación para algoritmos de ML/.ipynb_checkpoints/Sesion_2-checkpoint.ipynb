{
 "cells": [
  {
   "cell_type": "markdown",
   "metadata": {},
   "source": [
    "# SESIÓN 02: SEPARACIÓN, VALIDACIÓN Y EVALUACIÓN PARA ALGORITMOS DE ML"
   ]
  },
  {
   "cell_type": "markdown",
   "metadata": {},
   "source": [
    "## EJEMPLO 01: SEPARACIÓN DE LA BASE DE DATOS"
   ]
  },
  {
   "cell_type": "code",
   "execution_count": 2,
   "metadata": {},
   "outputs": [],
   "source": [
    "import numpy as np\n",
    "import pandas as pd\n",
    "from matplotlib import pyplot as plt\n",
    "from sklearn.datasets import make_blobs\n",
    "from sklearn.model_selection import train_test_split"
   ]
  },
  {
   "cell_type": "code",
   "execution_count": 19,
   "metadata": {},
   "outputs": [
    {
     "data": {
      "image/png": "[encoded data removed]",
      "text/plain": [
       "<Figure size 432x288 with 1 Axes>"
      ]
     },
     "metadata": {
      "needs_background": "light"
     },
     "output_type": "display_data"
    }
   ],
   "source": [
    "x, y = make_blobs(n_samples=1000, centers=2, n_features=2)\n",
    "plt.scatter(x[:,0], x[:,1], c=y)\n",
    "plt.show()"
   ]
  },
  {
   "cell_type": "code",
   "execution_count": 29,
   "metadata": {
    "scrolled": true
   },
   "outputs": [
    {
     "name": "stdout",
     "output_type": "stream",
     "text": [
      "0.4\n",
      "(600, 2)\n",
      "(100, 2)\n",
      "(300, 2)\n"
     ]
    }
   ],
   "source": [
    "def particionar(entradas, salidas, porcentaje_entrenamiento, porcentaje_validacion, porcentaje_prueba):\n",
    "    temp_size = porcentaje_validacion + porcentaje_prueba\n",
    "    print(temp_size)\n",
    "    x_train, x_temp, y_train, y_temp = train_test_split(entradas, salidas, test_size =temp_size)\n",
    "    if(porcentaje_validacion > 0):\n",
    "        test_size = porcentaje_prueba/temp_size\n",
    "        x_val, x_test, y_val, y_test = train_test_split(x_temp, y_temp, test_size = test_size)\n",
    "    else:\n",
    "        return [x_train, None, x_temp, y_train, None, y_temp]\n",
    "    return [x_train, x_val, x_test, y_train, y_val, y_test]\n",
    "\n",
    "[x_train, x_val, x_test, y_train, y_val, y_test] = particionar(x,y,0.60,0.10,0.30)\n",
    "\n",
    "print(x_train.shape)\n",
    "print(x_val.shape)\n",
    "print(x_test.shape)"
   ]
  },
  {
   "cell_type": "markdown",
   "metadata": {},
   "source": [
    "## RETO 01"
   ]
  },
  {
   "cell_type": "code",
   "execution_count": 40,
   "metadata": {},
   "outputs": [
    {
     "name": "stdout",
     "output_type": "stream",
     "text": [
      "0.5\n",
      "(500, 2)\n",
      "(250, 2)\n",
      "(250, 2)\n"
     ]
    }
   ],
   "source": [
    "#Particionando en 50% entrenamiento, X% validacion, 25% prueba\n",
    "\n",
    "[x_train, x_val, x_test, y_train, y_val, y_test] = particionar(x,y,0.50,0.25,0.25)\n",
    "\n",
    "print(x_train.shape)\n",
    "print(x_val.shape)\n",
    "print(x_test.shape)"
   ]
  },
  {
   "cell_type": "code",
   "execution_count": 41,
   "metadata": {},
   "outputs": [
    {
     "name": "stdout",
     "output_type": "stream",
     "text": [
      "0.30000000000000004\n",
      "(699, 2)\n",
      "(100, 2)\n",
      "(201, 2)\n"
     ]
    }
   ],
   "source": [
    "#Particionando en 70% entrenamiento, 10% validacion, X% prueba\n",
    "\n",
    "[x_train, x_val, x_test, y_train, y_val, y_test] = particionar(x,y,0.70,0.10,0.20)\n",
    "\n",
    "print(x_train.shape)\n",
    "print(x_val.shape)\n",
    "print(x_test.shape)"
   ]
  },
  {
   "cell_type": "markdown",
   "metadata": {},
   "source": [
    "## EJEMPLO 2: VALIDACIÓN K-FOLD"
   ]
  },
  {
   "cell_type": "markdown",
   "metadata": {},
   "source": [
    "En este ejemplo vamos a generar unos datos dummy con numpy, y vamos a separarlos de tal manera que puedas elegir en cuantas separaciones deseas con K-fold. Es importante que veas como los datos son separados aleatoriamente y no se repiten en cada fold. Si la cantidad de folds no permiten bloques, algunos ciclos tendrán mas (o menos) datos.\n",
    "\n",
    "Nota: Retira el random_seed para tener datos únicos en cada ocasión"
   ]
  },
  {
   "cell_type": "code",
   "execution_count": 42,
   "metadata": {},
   "outputs": [],
   "source": [
    "import numpy as np\n",
    "from sklearn.model_selection import KFold"
   ]
  },
  {
   "cell_type": "code",
   "execution_count": 49,
   "metadata": {},
   "outputs": [
    {
     "name": "stdout",
     "output_type": "stream",
     "text": [
      "Ciclo: 1\n",
      "\t datos para entrenamiento:[ 1  2  3  4  5  6  7 11 12]\n",
      "\t datos para prueba:[ 8  9 10]\n",
      "Ciclo: 2\n",
      "\t datos para entrenamiento:[ 1  2  4  5  8  9 10 11 12]\n",
      "\t datos para prueba:[3 6 7]\n",
      "Ciclo: 3\n",
      "\t datos para entrenamiento:[ 1  2  3  4  6  7  8  9 10]\n",
      "\t datos para prueba:[ 5 11 12]\n",
      "Ciclo: 4\n",
      "\t datos para entrenamiento:[ 3  5  6  7  8  9 10 11 12]\n",
      "\t datos para prueba:[1 2 4]\n"
     ]
    },
    {
     "name": "stderr",
     "output_type": "stream",
     "text": [
      "C:\\Otro\\Anaconda\\envs\\Class_test\\lib\\site-packages\\sklearn\\utils\\validation.py:70: FutureWarning: Pass shuffle=True, random_state=48 as keyword args. From version 1.0 (renaming of 0.25) passing these as positional arguments will result in an error\n",
      "  warnings.warn(f\"Pass {args_msg} as keyword args. From version \"\n"
     ]
    }
   ],
   "source": [
    "data = np.array([1,2,3,4,5,6,7,8,9,10,11,12])\n",
    "\n",
    "K = 4\n",
    "random_seed = 48\n",
    "aleatorio = True\n",
    "\n",
    "kfold = KFold(K, aleatorio, random_seed)\n",
    "ciclo = 1\n",
    "for indices_train, indices_test in kfold.split(data):\n",
    "    print(\"Ciclo: \"+str(ciclo))\n",
    "    print(\"\\t datos para entrenamiento:\"+str(data[indices_train]))\n",
    "    print(\"\\t datos para prueba:\"+str(data[indices_test]))\n",
    "    ciclo+=1"
   ]
  },
  {
   "cell_type": "markdown",
   "metadata": {},
   "source": [
    "## RETO 02"
   ]
  },
  {
   "cell_type": "markdown",
   "metadata": {},
   "source": [
    "En este reto haremos K-fold de datos! si tienes un dataset para tu proyecto final, aprovecha para usarlo. En mi caso utilizaremos 1000 blobs.\n",
    "\n",
    "Nota: Si vas a hacer K-fold y usarlo en la vida real, no uses un random_seed."
   ]
  },
  {
   "cell_type": "code",
   "execution_count": 45,
   "metadata": {},
   "outputs": [],
   "source": [
    "import numpy as np\n",
    "from sklearn.datasets import make_blobs\n",
    "from sklearn.model_selection import KFold"
   ]
  },
  {
   "cell_type": "code",
   "execution_count": 50,
   "metadata": {},
   "outputs": [
    {
     "name": "stdout",
     "output_type": "stream",
     "text": [
      "Ciclo: 1\n",
      "Usaré (8000, 5) datos para entrenar (entrada)\n",
      "Usaré (8000,) datos para entrenar (salida)\n",
      "Ciclo: 2\n",
      "Usaré (8000, 5) datos para entrenar (entrada)\n",
      "Usaré (8000,) datos para entrenar (salida)\n",
      "Ciclo: 3\n",
      "Usaré (8000, 5) datos para entrenar (entrada)\n",
      "Usaré (8000,) datos para entrenar (salida)\n",
      "Ciclo: 4\n",
      "Usaré (8000, 5) datos para entrenar (entrada)\n",
      "Usaré (8000,) datos para entrenar (salida)\n",
      "Ciclo: 5\n",
      "Usaré (8000, 5) datos para entrenar (entrada)\n",
      "Usaré (8000,) datos para entrenar (salida)\n"
     ]
    }
   ],
   "source": [
    "x, y = make_blobs(n_samples=10000, centers=4, n_features=5)\n",
    "\n",
    "K = 5\n",
    "random_seed = 48\n",
    "aleatorio = True\n",
    "\n",
    "kfold = KFold(K, aleatorio, random_seed)\n",
    "ciclo = 1\n",
    "for indices_train, indices_test in kfold.split(x):\n",
    "    print(\"Ciclo: \"+str(ciclo))\n",
    "    \n",
    "    print(\"Usaré \"+str(x[indices_train].shape)+\" datos para entrenar (entrada)\")\n",
    "    print(\"Usaré \"+str(y[indices_train].shape)+\" datos para entrenar (salida)\")\n",
    "       \n",
    "    ciclo+=1"
   ]
  },
  {
   "cell_type": "markdown",
   "metadata": {},
   "source": [
    "## EJEMPLO 03: LEAVE-ONE-OUT CROSS VALIDATION"
   ]
  },
  {
   "cell_type": "markdown",
   "metadata": {},
   "source": [
    "En este ejemplo vamos a generar unos datos dummy con numpy, y vamos a separarlos de tal manera que puedas elegir en cuantas separaciones deseas con K-fold. Es importante que veas como los datos son separados aleatoriamente y no se repiten en cada fold. Si la cantidad de folds no permiten bloques, algunos ciclos tendrán mas (o menos) datos."
   ]
  },
  {
   "cell_type": "code",
   "execution_count": 52,
   "metadata": {},
   "outputs": [],
   "source": [
    "import numpy as np\n",
    "from sklearn.model_selection import KFold"
   ]
  },
  {
   "cell_type": "code",
   "execution_count": 60,
   "metadata": {},
   "outputs": [
    {
     "name": "stdout",
     "output_type": "stream",
     "text": [
      "Ciclo: 1\n",
      "\t datos para entrenamiento:[ 1  3  4  5  6  7  8  9 10 11 12 13 14 15 16 17 18 19 20]\n",
      "\t datos para prueba:[2]\n",
      "Ciclo: 2\n",
      "\t datos para entrenamiento:[ 1  2  3  4  5  6  7  8  9 11 12 13 14 15 16 17 18 19 20]\n",
      "\t datos para prueba:[10]\n",
      "Ciclo: 3\n",
      "\t datos para entrenamiento:[ 1  2  3  4  5  7  8  9 10 11 12 13 14 15 16 17 18 19 20]\n",
      "\t datos para prueba:[6]\n",
      "Ciclo: 4\n",
      "\t datos para entrenamiento:[ 1  2  3  4  5  6  7  9 10 11 12 13 14 15 16 17 18 19 20]\n",
      "\t datos para prueba:[8]\n",
      "Ciclo: 5\n",
      "\t datos para entrenamiento:[ 1  2  3  4  5  6  7  8 10 11 12 13 14 15 16 17 18 19 20]\n",
      "\t datos para prueba:[9]\n",
      "Ciclo: 6\n",
      "\t datos para entrenamiento:[ 1  2  3  4  5  6  7  8  9 10 11 12 14 15 16 17 18 19 20]\n",
      "\t datos para prueba:[13]\n",
      "Ciclo: 7\n",
      "\t datos para entrenamiento:[ 1  2  3  4  5  6  7  8  9 10 11 12 13 14 15 16 17 18 20]\n",
      "\t datos para prueba:[19]\n",
      "Ciclo: 8\n",
      "\t datos para entrenamiento:[ 1  2  3  5  6  7  8  9 10 11 12 13 14 15 16 17 18 19 20]\n",
      "\t datos para prueba:[4]\n",
      "Ciclo: 9\n",
      "\t datos para entrenamiento:[ 1  2  3  4  5  6  7  8  9 10 11 13 14 15 16 17 18 19 20]\n",
      "\t datos para prueba:[12]\n",
      "Ciclo: 10\n",
      "\t datos para entrenamiento:[ 1  2  3  4  5  6  7  8  9 10 12 13 14 15 16 17 18 19 20]\n",
      "\t datos para prueba:[11]\n",
      "Ciclo: 11\n",
      "\t datos para entrenamiento:[ 1  2  3  4  5  6  7  8  9 10 11 12 13 15 16 17 18 19 20]\n",
      "\t datos para prueba:[14]\n",
      "Ciclo: 12\n",
      "\t datos para entrenamiento:[ 1  2  3  4  5  6  7  8  9 10 11 12 13 14 15 17 18 19 20]\n",
      "\t datos para prueba:[16]\n",
      "Ciclo: 13\n",
      "\t datos para entrenamiento:[ 1  2  4  5  6  7  8  9 10 11 12 13 14 15 16 17 18 19 20]\n",
      "\t datos para prueba:[3]\n",
      "Ciclo: 14\n",
      "\t datos para entrenamiento:[ 1  2  3  4  5  6  7  8  9 10 11 12 13 14 16 17 18 19 20]\n",
      "\t datos para prueba:[15]\n",
      "Ciclo: 15\n",
      "\t datos para entrenamiento:[ 1  2  3  4  5  6  8  9 10 11 12 13 14 15 16 17 18 19 20]\n",
      "\t datos para prueba:[7]\n",
      "Ciclo: 16\n",
      "\t datos para entrenamiento:[ 1  2  3  4  5  6  7  8  9 10 11 12 13 14 15 16 17 18 19]\n",
      "\t datos para prueba:[20]\n",
      "Ciclo: 17\n",
      "\t datos para entrenamiento:[ 1  2  3  4  5  6  7  8  9 10 11 12 13 14 15 16 18 19 20]\n",
      "\t datos para prueba:[17]\n",
      "Ciclo: 18\n",
      "\t datos para entrenamiento:[ 1  2  3  4  6  7  8  9 10 11 12 13 14 15 16 17 18 19 20]\n",
      "\t datos para prueba:[5]\n",
      "Ciclo: 19\n",
      "\t datos para entrenamiento:[ 1  2  3  4  5  6  7  8  9 10 11 12 13 14 15 16 17 19 20]\n",
      "\t datos para prueba:[18]\n",
      "Ciclo: 20\n",
      "\t datos para entrenamiento:[ 2  3  4  5  6  7  8  9 10 11 12 13 14 15 16 17 18 19 20]\n",
      "\t datos para prueba:[1]\n"
     ]
    },
    {
     "name": "stderr",
     "output_type": "stream",
     "text": [
      "C:\\Otro\\Anaconda\\envs\\Class_test\\lib\\site-packages\\sklearn\\utils\\validation.py:70: FutureWarning: Pass shuffle=True, random_state=48 as keyword args. From version 1.0 (renaming of 0.25) passing these as positional arguments will result in an error\n",
      "  warnings.warn(f\"Pass {args_msg} as keyword args. From version \"\n"
     ]
    }
   ],
   "source": [
    "data = np.array([1,2,3,4,5,6,7,8,9,10,11,12,13,14,15,16,17,18,19,20])\n",
    "\n",
    "K = data.shape[0] # K = numero de muestras...\n",
    "random_seed = 48\n",
    "aleatorio = True\n",
    "\n",
    "kfold = KFold(K, aleatorio, random_seed)\n",
    "ciclo = 1\n",
    "for indices_train, indices_test in kfold.split(data):\n",
    "    print(\"Ciclo: \"+str(ciclo))\n",
    "    print(\"\\t datos para entrenamiento:\"+str(data[indices_train]))\n",
    "    print(\"\\t datos para prueba:\"+str(data[indices_test]))\n",
    "    ciclo+=1"
   ]
  },
  {
   "cell_type": "markdown",
   "metadata": {},
   "source": [
    "## RETO 03"
   ]
  },
  {
   "cell_type": "markdown",
   "metadata": {},
   "source": [
    "En este reto vamos a generar un Leave-one-out cross validation (LOOCV), y para ello necesitarás un dataset. Para efectos de este reto, yo usaré 1000 blobs, lo que llevará 1000 ciclos."
   ]
  },
  {
   "cell_type": "code",
   "execution_count": 61,
   "metadata": {},
   "outputs": [],
   "source": [
    "import numpy as np\n",
    "from sklearn.datasets import make_blobs\n",
    "from sklearn.model_selection import KFold"
   ]
  },
  {
   "cell_type": "code",
   "execution_count": 64,
   "metadata": {},
   "outputs": [
    {
     "name": "stdout",
     "output_type": "stream",
     "text": [
      "(100,)\n"
     ]
    }
   ],
   "source": [
    "x, y = make_blobs(n_samples=100, centers=2, n_features=2)\n",
    "\n",
    "K = y.shape[0]\n",
    "random_seed = 48\n",
    "aleatorio = True\n",
    "\n",
    "print(y.shape)"
   ]
  },
  {
   "cell_type": "code",
   "execution_count": 65,
   "metadata": {
    "scrolled": true
   },
   "outputs": [
    {
     "name": "stdout",
     "output_type": "stream",
     "text": [
      "Ciclo: 1\n",
      "Usare (99, 2) datos para entrenar (entrada)\n",
      "Usare (99,) datos para entrenar (salida)\n",
      "Ciclo: 2\n",
      "Usare (99, 2) datos para entrenar (entrada)\n",
      "Usare (99,) datos para entrenar (salida)\n",
      "Ciclo: 3\n",
      "Usare (99, 2) datos para entrenar (entrada)\n",
      "Usare (99,) datos para entrenar (salida)\n",
      "Ciclo: 4\n",
      "Usare (99, 2) datos para entrenar (entrada)\n",
      "Usare (99,) datos para entrenar (salida)\n",
      "Ciclo: 5\n",
      "Usare (99, 2) datos para entrenar (entrada)\n",
      "Usare (99,) datos para entrenar (salida)\n",
      "Ciclo: 6\n",
      "Usare (99, 2) datos para entrenar (entrada)\n",
      "Usare (99,) datos para entrenar (salida)\n",
      "Ciclo: 7\n",
      "Usare (99, 2) datos para entrenar (entrada)\n",
      "Usare (99,) datos para entrenar (salida)\n",
      "Ciclo: 8\n",
      "Usare (99, 2) datos para entrenar (entrada)\n",
      "Usare (99,) datos para entrenar (salida)\n",
      "Ciclo: 9\n",
      "Usare (99, 2) datos para entrenar (entrada)\n",
      "Usare (99,) datos para entrenar (salida)\n",
      "Ciclo: 10\n",
      "Usare (99, 2) datos para entrenar (entrada)\n",
      "Usare (99,) datos para entrenar (salida)\n",
      "Ciclo: 11\n",
      "Usare (99, 2) datos para entrenar (entrada)\n",
      "Usare (99,) datos para entrenar (salida)\n",
      "Ciclo: 12\n",
      "Usare (99, 2) datos para entrenar (entrada)\n",
      "Usare (99,) datos para entrenar (salida)\n",
      "Ciclo: 13\n",
      "Usare (99, 2) datos para entrenar (entrada)\n",
      "Usare (99,) datos para entrenar (salida)\n",
      "Ciclo: 14\n",
      "Usare (99, 2) datos para entrenar (entrada)\n",
      "Usare (99,) datos para entrenar (salida)\n",
      "Ciclo: 15\n",
      "Usare (99, 2) datos para entrenar (entrada)\n",
      "Usare (99,) datos para entrenar (salida)\n",
      "Ciclo: 16\n",
      "Usare (99, 2) datos para entrenar (entrada)\n",
      "Usare (99,) datos para entrenar (salida)\n",
      "Ciclo: 17\n",
      "Usare (99, 2) datos para entrenar (entrada)\n",
      "Usare (99,) datos para entrenar (salida)\n",
      "Ciclo: 18\n",
      "Usare (99, 2) datos para entrenar (entrada)\n",
      "Usare (99,) datos para entrenar (salida)\n",
      "Ciclo: 19\n",
      "Usare (99, 2) datos para entrenar (entrada)\n",
      "Usare (99,) datos para entrenar (salida)\n",
      "Ciclo: 20\n",
      "Usare (99, 2) datos para entrenar (entrada)\n",
      "Usare (99,) datos para entrenar (salida)\n",
      "Ciclo: 21\n",
      "Usare (99, 2) datos para entrenar (entrada)\n",
      "Usare (99,) datos para entrenar (salida)\n",
      "Ciclo: 22\n",
      "Usare (99, 2) datos para entrenar (entrada)\n",
      "Usare (99,) datos para entrenar (salida)\n",
      "Ciclo: 23\n",
      "Usare (99, 2) datos para entrenar (entrada)\n",
      "Usare (99,) datos para entrenar (salida)\n",
      "Ciclo: 24\n",
      "Usare (99, 2) datos para entrenar (entrada)\n",
      "Usare (99,) datos para entrenar (salida)\n",
      "Ciclo: 25\n",
      "Usare (99, 2) datos para entrenar (entrada)\n",
      "Usare (99,) datos para entrenar (salida)\n",
      "Ciclo: 26\n",
      "Usare (99, 2) datos para entrenar (entrada)\n",
      "Usare (99,) datos para entrenar (salida)\n",
      "Ciclo: 27\n",
      "Usare (99, 2) datos para entrenar (entrada)\n",
      "Usare (99,) datos para entrenar (salida)\n",
      "Ciclo: 28\n",
      "Usare (99, 2) datos para entrenar (entrada)\n",
      "Usare (99,) datos para entrenar (salida)\n",
      "Ciclo: 29\n",
      "Usare (99, 2) datos para entrenar (entrada)\n",
      "Usare (99,) datos para entrenar (salida)\n",
      "Ciclo: 30\n",
      "Usare (99, 2) datos para entrenar (entrada)\n",
      "Usare (99,) datos para entrenar (salida)\n",
      "Ciclo: 31\n",
      "Usare (99, 2) datos para entrenar (entrada)\n",
      "Usare (99,) datos para entrenar (salida)\n",
      "Ciclo: 32\n",
      "Usare (99, 2) datos para entrenar (entrada)\n",
      "Usare (99,) datos para entrenar (salida)\n",
      "Ciclo: 33\n",
      "Usare (99, 2) datos para entrenar (entrada)\n",
      "Usare (99,) datos para entrenar (salida)\n",
      "Ciclo: 34\n",
      "Usare (99, 2) datos para entrenar (entrada)\n",
      "Usare (99,) datos para entrenar (salida)\n",
      "Ciclo: 35\n",
      "Usare (99, 2) datos para entrenar (entrada)\n",
      "Usare (99,) datos para entrenar (salida)\n",
      "Ciclo: 36\n",
      "Usare (99, 2) datos para entrenar (entrada)\n",
      "Usare (99,) datos para entrenar (salida)\n",
      "Ciclo: 37\n",
      "Usare (99, 2) datos para entrenar (entrada)\n",
      "Usare (99,) datos para entrenar (salida)\n",
      "Ciclo: 38\n",
      "Usare (99, 2) datos para entrenar (entrada)\n",
      "Usare (99,) datos para entrenar (salida)\n",
      "Ciclo: 39\n",
      "Usare (99, 2) datos para entrenar (entrada)\n",
      "Usare (99,) datos para entrenar (salida)\n",
      "Ciclo: 40\n",
      "Usare (99, 2) datos para entrenar (entrada)\n",
      "Usare (99,) datos para entrenar (salida)\n",
      "Ciclo: 41\n",
      "Usare (99, 2) datos para entrenar (entrada)\n",
      "Usare (99,) datos para entrenar (salida)\n",
      "Ciclo: 42\n",
      "Usare (99, 2) datos para entrenar (entrada)\n",
      "Usare (99,) datos para entrenar (salida)\n",
      "Ciclo: 43\n",
      "Usare (99, 2) datos para entrenar (entrada)\n",
      "Usare (99,) datos para entrenar (salida)\n",
      "Ciclo: 44\n",
      "Usare (99, 2) datos para entrenar (entrada)\n",
      "Usare (99,) datos para entrenar (salida)\n",
      "Ciclo: 45\n",
      "Usare (99, 2) datos para entrenar (entrada)\n",
      "Usare (99,) datos para entrenar (salida)\n",
      "Ciclo: 46\n",
      "Usare (99, 2) datos para entrenar (entrada)\n",
      "Usare (99,) datos para entrenar (salida)\n",
      "Ciclo: 47\n",
      "Usare (99, 2) datos para entrenar (entrada)\n",
      "Usare (99,) datos para entrenar (salida)\n",
      "Ciclo: 48\n",
      "Usare (99, 2) datos para entrenar (entrada)\n",
      "Usare (99,) datos para entrenar (salida)\n",
      "Ciclo: 49\n",
      "Usare (99, 2) datos para entrenar (entrada)\n",
      "Usare (99,) datos para entrenar (salida)\n",
      "Ciclo: 50\n",
      "Usare (99, 2) datos para entrenar (entrada)\n",
      "Usare (99,) datos para entrenar (salida)\n",
      "Ciclo: 51\n",
      "Usare (99, 2) datos para entrenar (entrada)\n",
      "Usare (99,) datos para entrenar (salida)\n",
      "Ciclo: 52\n",
      "Usare (99, 2) datos para entrenar (entrada)\n",
      "Usare (99,) datos para entrenar (salida)\n",
      "Ciclo: 53\n",
      "Usare (99, 2) datos para entrenar (entrada)\n",
      "Usare (99,) datos para entrenar (salida)\n",
      "Ciclo: 54\n",
      "Usare (99, 2) datos para entrenar (entrada)\n",
      "Usare (99,) datos para entrenar (salida)\n",
      "Ciclo: 55\n",
      "Usare (99, 2) datos para entrenar (entrada)\n",
      "Usare (99,) datos para entrenar (salida)\n",
      "Ciclo: 56\n",
      "Usare (99, 2) datos para entrenar (entrada)\n",
      "Usare (99,) datos para entrenar (salida)\n",
      "Ciclo: 57\n",
      "Usare (99, 2) datos para entrenar (entrada)\n",
      "Usare (99,) datos para entrenar (salida)\n",
      "Ciclo: 58\n",
      "Usare (99, 2) datos para entrenar (entrada)\n",
      "Usare (99,) datos para entrenar (salida)\n",
      "Ciclo: 59\n",
      "Usare (99, 2) datos para entrenar (entrada)\n",
      "Usare (99,) datos para entrenar (salida)\n",
      "Ciclo: 60\n",
      "Usare (99, 2) datos para entrenar (entrada)\n",
      "Usare (99,) datos para entrenar (salida)\n",
      "Ciclo: 61\n",
      "Usare (99, 2) datos para entrenar (entrada)\n",
      "Usare (99,) datos para entrenar (salida)\n",
      "Ciclo: 62\n",
      "Usare (99, 2) datos para entrenar (entrada)\n",
      "Usare (99,) datos para entrenar (salida)\n",
      "Ciclo: 63\n",
      "Usare (99, 2) datos para entrenar (entrada)\n",
      "Usare (99,) datos para entrenar (salida)\n",
      "Ciclo: 64\n",
      "Usare (99, 2) datos para entrenar (entrada)\n",
      "Usare (99,) datos para entrenar (salida)\n",
      "Ciclo: 65\n",
      "Usare (99, 2) datos para entrenar (entrada)\n",
      "Usare (99,) datos para entrenar (salida)\n",
      "Ciclo: 66\n",
      "Usare (99, 2) datos para entrenar (entrada)\n",
      "Usare (99,) datos para entrenar (salida)\n",
      "Ciclo: 67\n",
      "Usare (99, 2) datos para entrenar (entrada)\n",
      "Usare (99,) datos para entrenar (salida)\n",
      "Ciclo: 68\n",
      "Usare (99, 2) datos para entrenar (entrada)\n",
      "Usare (99,) datos para entrenar (salida)\n",
      "Ciclo: 69\n",
      "Usare (99, 2) datos para entrenar (entrada)\n",
      "Usare (99,) datos para entrenar (salida)\n",
      "Ciclo: 70\n",
      "Usare (99, 2) datos para entrenar (entrada)\n",
      "Usare (99,) datos para entrenar (salida)\n",
      "Ciclo: 71\n",
      "Usare (99, 2) datos para entrenar (entrada)\n",
      "Usare (99,) datos para entrenar (salida)\n",
      "Ciclo: 72\n",
      "Usare (99, 2) datos para entrenar (entrada)\n",
      "Usare (99,) datos para entrenar (salida)\n",
      "Ciclo: 73\n",
      "Usare (99, 2) datos para entrenar (entrada)\n",
      "Usare (99,) datos para entrenar (salida)\n",
      "Ciclo: 74\n",
      "Usare (99, 2) datos para entrenar (entrada)\n",
      "Usare (99,) datos para entrenar (salida)\n",
      "Ciclo: 75\n",
      "Usare (99, 2) datos para entrenar (entrada)\n",
      "Usare (99,) datos para entrenar (salida)\n",
      "Ciclo: 76\n",
      "Usare (99, 2) datos para entrenar (entrada)\n",
      "Usare (99,) datos para entrenar (salida)\n",
      "Ciclo: 77\n",
      "Usare (99, 2) datos para entrenar (entrada)\n",
      "Usare (99,) datos para entrenar (salida)\n",
      "Ciclo: 78\n",
      "Usare (99, 2) datos para entrenar (entrada)\n",
      "Usare (99,) datos para entrenar (salida)\n",
      "Ciclo: 79\n",
      "Usare (99, 2) datos para entrenar (entrada)\n",
      "Usare (99,) datos para entrenar (salida)\n",
      "Ciclo: 80\n",
      "Usare (99, 2) datos para entrenar (entrada)\n",
      "Usare (99,) datos para entrenar (salida)\n",
      "Ciclo: 81\n",
      "Usare (99, 2) datos para entrenar (entrada)\n",
      "Usare (99,) datos para entrenar (salida)\n",
      "Ciclo: 82\n",
      "Usare (99, 2) datos para entrenar (entrada)\n",
      "Usare (99,) datos para entrenar (salida)\n",
      "Ciclo: 83\n",
      "Usare (99, 2) datos para entrenar (entrada)\n",
      "Usare (99,) datos para entrenar (salida)\n",
      "Ciclo: 84\n",
      "Usare (99, 2) datos para entrenar (entrada)\n",
      "Usare (99,) datos para entrenar (salida)\n",
      "Ciclo: 85\n",
      "Usare (99, 2) datos para entrenar (entrada)\n",
      "Usare (99,) datos para entrenar (salida)\n",
      "Ciclo: 86\n",
      "Usare (99, 2) datos para entrenar (entrada)\n",
      "Usare (99,) datos para entrenar (salida)\n",
      "Ciclo: 87\n",
      "Usare (99, 2) datos para entrenar (entrada)\n",
      "Usare (99,) datos para entrenar (salida)\n",
      "Ciclo: 88\n",
      "Usare (99, 2) datos para entrenar (entrada)\n",
      "Usare (99,) datos para entrenar (salida)\n",
      "Ciclo: 89\n",
      "Usare (99, 2) datos para entrenar (entrada)\n",
      "Usare (99,) datos para entrenar (salida)\n",
      "Ciclo: 90\n",
      "Usare (99, 2) datos para entrenar (entrada)\n",
      "Usare (99,) datos para entrenar (salida)\n",
      "Ciclo: 91\n",
      "Usare (99, 2) datos para entrenar (entrada)\n",
      "Usare (99,) datos para entrenar (salida)\n",
      "Ciclo: 92\n",
      "Usare (99, 2) datos para entrenar (entrada)\n",
      "Usare (99,) datos para entrenar (salida)\n",
      "Ciclo: 93\n",
      "Usare (99, 2) datos para entrenar (entrada)\n",
      "Usare (99,) datos para entrenar (salida)\n",
      "Ciclo: 94\n",
      "Usare (99, 2) datos para entrenar (entrada)\n",
      "Usare (99,) datos para entrenar (salida)\n",
      "Ciclo: 95\n",
      "Usare (99, 2) datos para entrenar (entrada)\n",
      "Usare (99,) datos para entrenar (salida)\n",
      "Ciclo: 96\n",
      "Usare (99, 2) datos para entrenar (entrada)\n",
      "Usare (99,) datos para entrenar (salida)\n",
      "Ciclo: 97\n",
      "Usare (99, 2) datos para entrenar (entrada)\n",
      "Usare (99,) datos para entrenar (salida)\n",
      "Ciclo: 98\n",
      "Usare (99, 2) datos para entrenar (entrada)\n",
      "Usare (99,) datos para entrenar (salida)\n",
      "Ciclo: 99\n",
      "Usare (99, 2) datos para entrenar (entrada)\n",
      "Usare (99,) datos para entrenar (salida)\n",
      "Ciclo: 100\n",
      "Usare (99, 2) datos para entrenar (entrada)\n",
      "Usare (99,) datos para entrenar (salida)\n"
     ]
    }
   ],
   "source": [
    "K = y.shape[0]\n",
    "random_seed = 48\n",
    "aleatorio = True\n",
    "\n",
    "kfold = KFold(K, aleatorio, random_seed)\n",
    "ciclo = 1\n",
    "for indices_train, indices_test in kfold.split(x):\n",
    "    print(\"Ciclo: \"+str(ciclo))\n",
    "    \n",
    "    print(\"Usare \"+str(x[indices_train].shape)+\" datos para entrenar (entrada)\")\n",
    "    print(\"Usare \"+str(y[indices_train].shape)+\" datos para entrenar (salida)\")\n",
    "        \n",
    "    ciclo+=1"
   ]
  },
  {
   "cell_type": "markdown",
   "metadata": {},
   "source": [
    "## EJEMPLO 04: MATRIZ DE CONFUSIÓN"
   ]
  },
  {
   "cell_type": "markdown",
   "metadata": {},
   "source": [
    "En este ejemplo vamos a generar una matriz de confusión y obtener true positives (TP), true negatives (TN), false positives (FP) y false negatives (FN)"
   ]
  },
  {
   "cell_type": "code",
   "execution_count": 66,
   "metadata": {},
   "outputs": [],
   "source": [
    "import numpy as np\n",
    "from sklearn.metrics import confusion_matrix"
   ]
  },
  {
   "cell_type": "markdown",
   "metadata": {},
   "source": [
    "Supongamos que tenemos unos datos \"y_esperados\" y nuestro algoritmo de Machine Learning nos arrojó los datos \"y_predichos\""
   ]
  },
  {
   "cell_type": "code",
   "execution_count": 68,
   "metadata": {},
   "outputs": [
    {
     "name": "stdout",
     "output_type": "stream",
     "text": [
      "[[3 1]\n",
      " [2 2]]\n"
     ]
    }
   ],
   "source": [
    "y_esperados = np.array([1,1,1,1,0,0,0,0])\n",
    "y_predichos = np.array([1,0,1,0,1,0,0,0])\n",
    "resultado = confusion_matrix(y_esperados, y_predichos)\n",
    "print(resultado)"
   ]
  },
  {
   "cell_type": "markdown",
   "metadata": {},
   "source": [
    "Y ahora con estos datos, podemos obtener los TP, TN, FP, y FN de la siguiente manera:"
   ]
  },
  {
   "cell_type": "code",
   "execution_count": 72,
   "metadata": {},
   "outputs": [
    {
     "name": "stdout",
     "output_type": "stream",
     "text": [
      "True positives: 2\n",
      "True negatives: 3\n",
      "False positives: 1\n",
      "False negative: 2\n"
     ]
    }
   ],
   "source": [
    "(TN, FP, FN, TP) = resultado.ravel()\n",
    "print(\"True positives: \"+str(TP))\n",
    "print(\"True negatives: \"+str(TN))\n",
    "print(\"False positives: \"+str(FP))\n",
    "print(\"False negative: \"+str(FN))"
   ]
  },
  {
   "cell_type": "markdown",
   "metadata": {},
   "source": [
    "## RETO 04"
   ]
  },
  {
   "cell_type": "markdown",
   "metadata": {},
   "source": [
    "Genera funciones para calcular las"
   ]
  },
  {
   "cell_type": "code",
   "execution_count": 70,
   "metadata": {},
   "outputs": [],
   "source": [
    "def calcularAccuracy(TP, TN, FP, FN):\n",
    "    accuracy = (TP+TN)/(TP+TN+FP+FN)\n",
    "    return accuracy"
   ]
  },
  {
   "cell_type": "code",
   "execution_count": 74,
   "metadata": {},
   "outputs": [],
   "source": [
    "def calcularSensibilidad(TP, TN, FP, FN):\n",
    "    sensibilidad = TP / (TP+FN)\n",
    "    return sensibilidad"
   ]
  },
  {
   "cell_type": "code",
   "execution_count": 75,
   "metadata": {},
   "outputs": [],
   "source": [
    "def calcularEspecificidad(TP, TN, FP, FN):\n",
    "    especificidad = TN / (TN+FP)\n",
    "    return especificidad"
   ]
  },
  {
   "cell_type": "markdown",
   "metadata": {},
   "source": [
    "Con las funciones anteriormente creadas, obtén las métricas de la clasificación realizada"
   ]
  },
  {
   "cell_type": "code",
   "execution_count": 76,
   "metadata": {},
   "outputs": [
    {
     "name": "stdout",
     "output_type": "stream",
     "text": [
      "Precision:0.625%\n",
      "Sensibilidad:0.5%\n",
      "Especificidad:0.75%\n"
     ]
    }
   ],
   "source": [
    "acc = calcularAccuracy(TP, TN, FP, FN)\n",
    "sen = calcularSensibilidad(TP, TN, FP, FN)\n",
    "spec = calcularEspecificidad(TP, TN, FP, FN)\n",
    "print(\"Precision:\"+str(acc)+\"%\")\n",
    "print(\"Sensibilidad:\"+str(sen)+\"%\")\n",
    "print(\"Especificidad:\"+str(spec)+\"%\")"
   ]
  }
 ],
 "metadata": {
  "kernelspec": {
   "display_name": "Python 3",
   "language": "python",
   "name": "python3"
  },
  "language_info": {
   "codemirror_mode": {
    "name": "ipython",
    "version": 3
   },
   "file_extension": ".py",
   "mimetype": "text/x-python",
   "name": "python",
   "nbconvert_exporter": "python",
   "pygments_lexer": "ipython3",
   "version": "3.8.8"
  }
 },
 "nbformat": 4,
 "nbformat_minor": 4
}
