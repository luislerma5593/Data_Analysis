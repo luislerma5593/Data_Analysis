{
 "cells": [
  {
   "cell_type": "markdown",
   "id": "b3545dd2",
   "metadata": {},
   "source": [
    "\n",
    "# Postwork\n",
    "Para crear un proyecto de regresión lineal, puede que necesites un dataset. Puedes obtener un dataset en formato CSV desde quandl.com, te recomiendo el siguiente: Cambio de peso y dólar\n",
    "\n",
    "https://www.quandl.com/data/BDM/SF60653-Exchange-rate-pesos-per-US-dollar-Used-to-settle-liabilities-denominated-in-foreign-currency-Date-of-settlement-Available-Period-11-14-1991-09-29-2020\n",
    "\n",
    "- Una vez que tengas el dataset, debes de separarlo en registros para el regresor lineal, y luego separar los registros en entrenamiento / prueba, como lo vimos en clase. Toma en cuenta que vas a modificar los pesos sinápticos del regresor lineal con los datos de entrenamiento, y luego vas a probar que los datos de prueba se ajusten a los del entrenamiento. \n",
    "\n",
    "- Calcula el error cuadrático medio de los datos de prueba y compáralos contra el error cuadrático medio de los datos de entrenamiento. ¿Varía bastante no? Ahora, compara los datos esperados de predicción con los datos obtenidos de tu regresor lineal. \n",
    "\n",
    "- ¿Si tuvieras más datos, podrías realizar una mejor predicción? Piensa qué podrías hacer para mejorar tus algoritmos predictivos."
   ]
  },
  {
   "cell_type": "code",
   "execution_count": 1,
   "id": "92ca170d",
   "metadata": {},
   "outputs": [],
   "source": [
    "import requests\n",
    "import pandas as pd\n",
    "import io\n",
    "\n",
    "endpoint = 'https://www.quandl.com/api/v3/datasets/BDM/SF60653.csv?api_key=fZJDuxFPv7PHAXYsgzj6'\n",
    "payload = {'api_key': 'fZJDuxFPv7PHAXYsgzj6'} # Es un identificador\n",
    "\n",
    "r = requests.get(endpoint, params=payload)\n",
    "r.status_code\n",
    "\n",
    "data = r.content\n",
    "df = pd.read_csv(io.StringIO(data.decode('utf-8')))"
   ]
  },
  {
   "cell_type": "code",
   "execution_count": 7,
   "id": "bc8edfeb",
   "metadata": {
    "scrolled": true
   },
   "outputs": [
    {
     "data": {
      "text/html": [
       "<div>\n",
       "<style scoped>\n",
       "    .dataframe tbody tr th:only-of-type {\n",
       "        vertical-align: middle;\n",
       "    }\n",
       "\n",
       "    .dataframe tbody tr th {\n",
       "        vertical-align: top;\n",
       "    }\n",
       "\n",
       "    .dataframe thead th {\n",
       "        text-align: right;\n",
       "    }\n",
       "</style>\n",
       "<table border=\"1\" class=\"dataframe\">\n",
       "  <thead>\n",
       "    <tr style=\"text-align: right;\">\n",
       "      <th></th>\n",
       "      <th>Date</th>\n",
       "      <th>Value</th>\n",
       "    </tr>\n",
       "  </thead>\n",
       "  <tbody>\n",
       "    <tr>\n",
       "      <th>0</th>\n",
       "      <td>2021-05-11</td>\n",
       "      <td>19.9223</td>\n",
       "    </tr>\n",
       "    <tr>\n",
       "      <th>1</th>\n",
       "      <td>2021-05-10</td>\n",
       "      <td>20.1838</td>\n",
       "    </tr>\n",
       "    <tr>\n",
       "      <th>2</th>\n",
       "      <td>2021-05-09</td>\n",
       "      <td>20.1838</td>\n",
       "    </tr>\n",
       "    <tr>\n",
       "      <th>3</th>\n",
       "      <td>2021-05-08</td>\n",
       "      <td>20.1838</td>\n",
       "    </tr>\n",
       "    <tr>\n",
       "      <th>4</th>\n",
       "      <td>2021-05-07</td>\n",
       "      <td>20.2077</td>\n",
       "    </tr>\n",
       "  </tbody>\n",
       "</table>\n",
       "</div>"
      ],
      "text/plain": [
       "         Date    Value\n",
       "0  2021-05-11  19.9223\n",
       "1  2021-05-10  20.1838\n",
       "2  2021-05-09  20.1838\n",
       "3  2021-05-08  20.1838\n",
       "4  2021-05-07  20.2077"
      ]
     },
     "execution_count": 7,
     "metadata": {},
     "output_type": "execute_result"
    }
   ],
   "source": [
    "df.head()"
   ]
  },
  {
   "cell_type": "code",
   "execution_count": 9,
   "id": "78bd5b2e",
   "metadata": {},
   "outputs": [],
   "source": [
    "import numpy as np\n",
    "import pandas as pd\n",
    "from sklearn.datasets import load_boston\n",
    "from sklearn.model_selection import train_test_split\n",
    "from sklearn.linear_model import LinearRegression\n",
    "from sklearn.metrics import mean_squared_error\n",
    "import MLUtilities as mlu "
   ]
  },
  {
   "cell_type": "code",
   "execution_count": 17,
   "id": "d39fbac7",
   "metadata": {},
   "outputs": [],
   "source": [
    "x, y = mlu.transformarSerieADataset(df[\"Value\"], elementosPorMuestra = 10)"
   ]
  },
  {
   "cell_type": "code",
   "execution_count": 18,
   "id": "61b454df",
   "metadata": {},
   "outputs": [],
   "source": [
    "X_train, X_test, Y_train, Y_test = train_test_split(x, y, test_size = 0.4, random_state=5)"
   ]
  },
  {
   "cell_type": "code",
   "execution_count": 27,
   "id": "f530d044",
   "metadata": {},
   "outputs": [
    {
     "name": "stdout",
     "output_type": "stream",
     "text": [
      "Entrenamiento     MSE = 0.007012064428532451\n",
      "Pruebas           MSE = 0.0074508386444790105\n"
     ]
    }
   ],
   "source": [
    "lin_model = LinearRegression()\n",
    "lin_model.fit(X_train, Y_train)\n",
    "\n",
    "y_train_predict = lin_model.predict(X_train)\n",
    "MSE = mean_squared_error(Y_train,y_train_predict)\n",
    "print(\"Entrenamiento     MSE = \"+str(MSE))\n",
    "\n",
    "y_test_predict = lin_model.predict(X_test)\n",
    "MSE = (mean_squared_error(Y_test, y_test_predict))\n",
    "print(\"Pruebas           MSE = \"+str(MSE))"
   ]
  },
  {
   "cell_type": "code",
   "execution_count": 28,
   "id": "e57e5e13",
   "metadata": {},
   "outputs": [
    {
     "data": {
      "text/html": [
       "<div>\n",
       "<style scoped>\n",
       "    .dataframe tbody tr th:only-of-type {\n",
       "        vertical-align: middle;\n",
       "    }\n",
       "\n",
       "    .dataframe tbody tr th {\n",
       "        vertical-align: top;\n",
       "    }\n",
       "\n",
       "    .dataframe thead th {\n",
       "        text-align: right;\n",
       "    }\n",
       "</style>\n",
       "<table border=\"1\" class=\"dataframe\">\n",
       "  <thead>\n",
       "    <tr style=\"text-align: right;\">\n",
       "      <th></th>\n",
       "      <th>valor real</th>\n",
       "      <th>prediccion</th>\n",
       "      <th>diferencia</th>\n",
       "    </tr>\n",
       "  </thead>\n",
       "  <tbody>\n",
       "    <tr>\n",
       "      <th>0</th>\n",
       "      <td>15.3397</td>\n",
       "      <td>15.358982</td>\n",
       "      <td>-0.019282</td>\n",
       "    </tr>\n",
       "    <tr>\n",
       "      <th>1</th>\n",
       "      <td>19.5608</td>\n",
       "      <td>19.585583</td>\n",
       "      <td>-0.024783</td>\n",
       "    </tr>\n",
       "    <tr>\n",
       "      <th>2</th>\n",
       "      <td>18.2742</td>\n",
       "      <td>18.265426</td>\n",
       "      <td>0.008774</td>\n",
       "    </tr>\n",
       "    <tr>\n",
       "      <th>3</th>\n",
       "      <td>16.8566</td>\n",
       "      <td>16.849972</td>\n",
       "      <td>0.006628</td>\n",
       "    </tr>\n",
       "    <tr>\n",
       "      <th>4</th>\n",
       "      <td>9.3158</td>\n",
       "      <td>9.358907</td>\n",
       "      <td>-0.043107</td>\n",
       "    </tr>\n",
       "    <tr>\n",
       "      <th>5</th>\n",
       "      <td>10.3925</td>\n",
       "      <td>10.345737</td>\n",
       "      <td>0.046763</td>\n",
       "    </tr>\n",
       "    <tr>\n",
       "      <th>6</th>\n",
       "      <td>3.3613</td>\n",
       "      <td>3.379186</td>\n",
       "      <td>-0.017886</td>\n",
       "    </tr>\n",
       "    <tr>\n",
       "      <th>7</th>\n",
       "      <td>18.5515</td>\n",
       "      <td>18.523084</td>\n",
       "      <td>0.028416</td>\n",
       "    </tr>\n",
       "    <tr>\n",
       "      <th>8</th>\n",
       "      <td>10.3848</td>\n",
       "      <td>10.392432</td>\n",
       "      <td>-0.007632</td>\n",
       "    </tr>\n",
       "    <tr>\n",
       "      <th>9</th>\n",
       "      <td>7.8243</td>\n",
       "      <td>7.805564</td>\n",
       "      <td>0.018736</td>\n",
       "    </tr>\n",
       "  </tbody>\n",
       "</table>\n",
       "</div>"
      ],
      "text/plain": [
       "   valor real  prediccion  diferencia\n",
       "0     15.3397   15.358982   -0.019282\n",
       "1     19.5608   19.585583   -0.024783\n",
       "2     18.2742   18.265426    0.008774\n",
       "3     16.8566   16.849972    0.006628\n",
       "4      9.3158    9.358907   -0.043107\n",
       "5     10.3925   10.345737    0.046763\n",
       "6      3.3613    3.379186   -0.017886\n",
       "7     18.5515   18.523084    0.028416\n",
       "8     10.3848   10.392432   -0.007632\n",
       "9      7.8243    7.805564    0.018736"
      ]
     },
     "execution_count": 28,
     "metadata": {},
     "output_type": "execute_result"
    }
   ],
   "source": [
    "df_predicciones = pd.DataFrame({'valor real':Y_test, 'prediccion':y_test_predict, 'diferencia':Y_test-y_test_predict})\n",
    "df_predicciones = df_predicciones.reset_index(drop = True)\n",
    "df_predicciones.head(10)"
   ]
  }
 ],
 "metadata": {
  "kernelspec": {
   "display_name": "Python 3",
   "language": "python",
   "name": "python3"
  },
  "language_info": {
   "codemirror_mode": {
    "name": "ipython",
    "version": 3
   },
   "file_extension": ".py",
   "mimetype": "text/x-python",
   "name": "python",
   "nbconvert_exporter": "python",
   "pygments_lexer": "ipython3",
   "version": "3.8.8"
  }
 },
 "nbformat": 4,
 "nbformat_minor": 5
}
