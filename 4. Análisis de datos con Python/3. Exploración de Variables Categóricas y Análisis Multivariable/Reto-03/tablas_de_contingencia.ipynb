{
 "cells": [
  {
   "cell_type": "markdown",
   "metadata": {},
   "source": [
    "## Reto 3: Tablas de contingencia\n",
    "\n",
    "### 1. Objetivos:\n",
    "    - Aprender a generar tablas de contingencia utilizando múltiples variables categóricas.\n",
    " \n",
    "---\n",
    "    \n",
    "### 2. Desarrollo:"
   ]
  },
  {
   "cell_type": "markdown",
   "metadata": {},
   "source": [
    "En este Reto vamos a volver a utilizar el dataset 'melbourne_housing-clean.csv'. Nuestro objetivo será segmentar nuestros datos usando 2 o 3 variables categóricas y luego realizar algunas visualizaciones. Elige el Reto a) o b) y sigue las instrucciones.\n",
    "\n",
    "### a) Segmentando por tipo y número de cuartos\n",
    "\n",
    "La primera parte consiste en lo siguiente:\n",
    "\n",
    "1. Crea una tabla de contingencia usando como índice la variable 'type' y para las columnas la variable 'rooms'.\n",
    "2. Crea una gráfica de barras para cada uno de los índices ('h', 't', 'u') donde el eje x sean las columnas de la tabla de contingencia.\n",
    "3. Agrega los títulos y anotaciones necesarias.\n",
    "4. Describe las similitudes y las diferencias de las distribuciones de las 3 gráficas."
   ]
  },
  {
   "cell_type": "code",
   "execution_count": 20,
   "metadata": {},
   "outputs": [],
   "source": [
    "# Tu código va aquí\n",
    "#\n",
    "# ...\n",
    "# ..."
   ]
  },
  {
   "cell_type": "markdown",
   "metadata": {},
   "source": [
    "### b) Segmentando por región, tipo y número de cuartos\n",
    "\n",
    "Ahora vamos a hacer una triple segmentación. Realiza los siguientes pasos:\n",
    "\n",
    "1. Crea una tabla de contingencia donde el índice sea la variable 'region_name' y las columnas tengan un doble nivel con las variables 'type' y 'rooms'.\n",
    "2. Usa el método `stack` para convertir el nivel de columnas 'type' en un segundo nivel para el índice.\n",
    "3. Genera 4 gráficas donde compares las distribuciones de cantidad de cuartos para el tipo de propiedad 'h' ('house') en las regiones 'Eastern Metropolitan', 'Northern Metropolitan', 'Southern Metropolitan' y 'Western Metropolitan'. Tendrás que acceder a cada `Serie` usando una tupla para indicar los valores de los dos niveles del índice.\n",
    "4. Anota tus gráficas adecuadamente.\n",
    "5. Describe las similitudes y diferencias entre las 4 gráficas."
   ]
  },
  {
   "cell_type": "code",
   "execution_count": 25,
   "metadata": {},
   "outputs": [],
   "source": [
    "# Tu código va aquí\n",
    "#\n",
    "# ...\n",
    "# ..."
   ]
  },
  {
   "cell_type": "markdown",
   "metadata": {},
   "source": [
    "<details><summary>Solución</summary>\n",
    "\n",
    "```python\n",
    "df = pd.read_csv('../../Datasets/melbourne_housing-clean.csv', index_col=0)\n",
    "    \n",
    "type_rooms = pd.crosstab(df['type'], df['rooms'])\n",
    "sns.barplot(type_rooms.loc['h'].index, type_rooms.loc['h'])\n",
    "sns.barplot(type_rooms.loc['t'].index, type_rooms.loc['t'])\n",
    "sns.barplot(type_rooms.loc['u'].index, type_rooms.loc['u'])\n",
    "    \n",
    "regionname_type_rooms = pd.crosstab(df['region_name'], [df['type'], df['rooms']])\n",
    "regionname_type_rooms_stacked = regionname_type_rooms.stack(level=0)\n",
    "sns.barplot(regionname_type_rooms_stacked.loc[('Eastern Metropolitan', 'h')].index,\n",
    "            regionname_type_rooms_stacked.loc[('Eastern Metropolitan', 'h')])\n",
    "sns.barplot(regionname_type_rooms_stacked.loc[('Western Metropolitan', 'h')].index,\n",
    "            regionname_type_rooms_stacked.loc[('Western Metropolitan', 'h')])\n",
    "sns.barplot(regionname_type_rooms_stacked.loc[('Northern Metropolitan', 'h')].index,\n",
    "            regionname_type_rooms_stacked.loc[('Northern Metropolitan', 'h')])\n",
    "sns.barplot(regionname_type_rooms_stacked.loc[('Southern Metropolitan', 'h')].index,\n",
    "            regionname_type_rooms_stacked.loc[('Southern Metropolitan', 'h')])\n",
    "```\n",
    "    \n",
    "</details>"
   ]
  }
 ],
 "metadata": {
  "kernelspec": {
   "display_name": "Python (data_science)",
   "language": "python",
   "name": "data_science"
  },
  "language_info": {
   "codemirror_mode": {
    "name": "ipython",
    "version": 3
   },
   "file_extension": ".py",
   "mimetype": "text/x-python",
   "name": "python",
   "nbconvert_exporter": "python",
   "pygments_lexer": "ipython3",
   "version": "3.8.1"
  }
 },
 "nbformat": 4,
 "nbformat_minor": 4
}
