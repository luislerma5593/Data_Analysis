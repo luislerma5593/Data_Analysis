{
 "cells": [
  {
   "cell_type": "markdown",
   "metadata": {},
   "source": [
    "## Reto 5: Boxplots y violinplots\n",
    "\n",
    "### 1. Objetivos:\n",
    "    - Comparar distribuciones de variables numéricas segmentadas por variables categóricas usando boxplots y violinplots\n",
    " \n",
    "---\n",
    "    \n",
    "### 2. Desarrollo:"
   ]
  },
  {
   "cell_type": "markdown",
   "metadata": {},
   "source": [
    "Vamos a seguir analizando nuestro dataset 'melbourne_housing-clean.csv', esta vez viéndolo desde aún otra perspectiva más. Vamos a generar boxplots y violinplots de la distribución de los precios de las propiedad segmentándolos por tipo de propiedad antes. Tu reto consiste en lo siguiente:\n",
    "\n",
    "1. Lee el dataset 'melbourne_housing-clean.csv'.\n",
    "2. Crea un boxplot donde el eje x sea la variable 'type' y el eje y sea la variable 'price'.\n",
    "3. Agrega títulos y anotaciones que creas convenientes. Modifica el tamaño si lo crees necesario.\n",
    "4. Crea un violinplot donde el eje x sea la variable 'type' y el eje y sea la variable 'price'.\n",
    "5. Agrega títulos y anotaciones que creas convenientes. Modifica el tamaño si lo crees necesario.\n",
    "6. Compara ambas gráficas y comenta con tus compañeros y la experta si creen que nos dan información distinta o no."
   ]
  },
  {
   "cell_type": "markdown",
   "metadata": {},
   "source": [
    "<details><summary>Solución</summary>\n",
    "\n",
    "```python\n",
    "df = pd.read_csv('../../Datasets/melbourne_housing-clean.csv', index_col=0)\n",
    "\n",
    "plt.figure(figsize=(10, 10))\n",
    "sns.boxplot(data=df, x='type', y='price')\n",
    "\n",
    "plt.figure(figsize=(10, 10))\n",
    "sns.violinplot(data=df, x='type', y='price')\n",
    "```\n",
    "    \n",
    "</details>"
   ]
  }
 ],
 "metadata": {
  "kernelspec": {
   "display_name": "Python (data_science)",
   "language": "python",
   "name": "data_science"
  },
  "language_info": {
   "codemirror_mode": {
    "name": "ipython",
    "version": 3
   },
   "file_extension": ".py",
   "mimetype": "text/x-python",
   "name": "python",
   "nbconvert_exporter": "python",
   "pygments_lexer": "ipython3",
   "version": "3.8.5"
  }
 },
 "nbformat": 4,
 "nbformat_minor": 4
}
