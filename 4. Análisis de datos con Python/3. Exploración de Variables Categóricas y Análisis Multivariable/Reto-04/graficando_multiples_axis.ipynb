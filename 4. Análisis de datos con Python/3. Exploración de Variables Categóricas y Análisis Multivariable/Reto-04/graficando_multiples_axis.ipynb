{
 "cells": [
  {
   "cell_type": "markdown",
   "metadata": {},
   "source": [
    "## Reto 4: Graficando múltiples axis\n",
    "\n",
    "### 1. Objetivos:\n",
    "    - Usar subplots para graficar múltiples gráficas de barras al mismo tiempo\n",
    " \n",
    "---\n",
    "    \n",
    "### 2. Desarrollo:"
   ]
  },
  {
   "cell_type": "markdown",
   "metadata": {},
   "source": [
    "En el Reto pasado generamos tablas de contingencia para segmentar nuestros datos usando dos o más variables categóricas. El problema con nuestras gráficas es que resultaba muy incómodo e ineficiente compararlas. Una manera mucho más efectiva de comparar varias gráficas es graficarlas en la misma figura. Tu Reto consiste en lo siguiente:\n",
    "\n",
    "1. Lee el dataset 'melbourne_housing-clean.csv'.\n",
    "2. Crea una tabla de contingencia donde el índice esté dado por la variable 'region_name' y las columnas por la variable 'type'. Esto nos va a dar una tabla donde tenemos la frecuencia de cada tipo de propiedad segmentada por regiones.\n",
    "3. Genera una figura con 8 subplots para hacer gráficas de barras de cada región en nuestro dataset. Cada gráfica tendrá 3 barras, correspondiendo a los tipos 'h', 't' y 'u'.\n",
    "4. Asegúrate de que compartan eje `x` y `y` para que sea fácil compararlas. Además agrega anotaciones y títulos donde creas necesario.\n",
    "5. Describe tus hallazgos y comparte con tus compañeros qué podrían significar."
   ]
  },
  {
   "cell_type": "markdown",
   "metadata": {},
   "source": [
    "<details><summary>Solución</summary>\n",
    "\n",
    "```python\n",
    "df = pd.read_csv('../../Datasets/melbourne_housing-clean.csv', index_col=0)\n",
    "regionname_type = pd.crosstab(df['region_name'], [df['type']])\n",
    "\n",
    "fig, axes = plt.subplots(2, 4, figsize=(15, 8), sharex=True, sharey=True)\n",
    "\n",
    "sns.barplot(regionname_type.loc['Eastern Metropolitan'].index, regionname_type.loc['Eastern Metropolitan'], ax=axes[0, 0])\n",
    "sns.barplot(regionname_type.loc['Eastern Victoria'].index, regionname_type.loc['Eastern Victoria'], ax=axes[0, 1])\n",
    "sns.barplot(regionname_type.loc['Northern Metropolitan'].index, regionname_type.loc['Northern Metropolitan'], ax=axes[0, 2])\n",
    "sns.barplot(regionname_type.loc['Northern Victoria'].index, regionname_type.loc['Northern Victoria'], ax=axes[0, 3])\n",
    "sns.barplot(regionname_type.loc['South-Eastern Metropolitan'].index, regionname_type.loc['South-Eastern Metropolitan'], ax=axes[1, 0])\n",
    "sns.barplot(regionname_type.loc['Southern Metropolitan'].index, regionname_type.loc['Southern Metropolitan'], ax=axes[1, 1])\n",
    "sns.barplot(regionname_type.loc['Western Metropolitan'].index, regionname_type.loc['Western Metropolitan'], ax=axes[1, 2])\n",
    "sns.barplot(regionname_type.loc['Western Victoria'].index, regionname_type.loc['Western Victoria'], ax=axes[1, 3])\n",
    "```\n",
    "    \n",
    "</details>"
   ]
  },
  {
   "cell_type": "code",
   "execution_count": null,
   "metadata": {},
   "outputs": [],
   "source": []
  }
 ],
 "metadata": {
  "kernelspec": {
   "display_name": "Python (data_science)",
   "language": "python",
   "name": "data_science"
  },
  "language_info": {
   "codemirror_mode": {
    "name": "ipython",
    "version": 3
   },
   "file_extension": ".py",
   "mimetype": "text/x-python",
   "name": "python",
   "nbconvert_exporter": "python",
   "pygments_lexer": "ipython3",
   "version": "3.8.5"
  }
 },
 "nbformat": 4,
 "nbformat_minor": 4
}
