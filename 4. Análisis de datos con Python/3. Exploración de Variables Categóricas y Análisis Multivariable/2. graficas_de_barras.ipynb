{
 "cells": [
  {
   "cell_type": "markdown",
   "metadata": {},
   "source": [
    "## Ejemplo 2: Gráficas de barras\n",
    "\n",
    "### 1. Objetivos:\n",
    "    - Aprender a realizar gráficas de barras con frecuencias y porcentajes\n",
    " \n",
    "---\n",
    "    \n",
    "### 2. Desarrollo:"
   ]
  },
  {
   "cell_type": "code",
   "execution_count": 1,
   "metadata": {},
   "outputs": [],
   "source": [
    "import pandas as pd\n",
    "import seaborn as sns\n",
    "sns.set_style('white')"
   ]
  },
  {
   "cell_type": "code",
   "execution_count": 2,
   "metadata": {},
   "outputs": [
    {
     "data": {
      "text/html": [
       "<div>\n",
       "<style scoped>\n",
       "    .dataframe tbody tr th:only-of-type {\n",
       "        vertical-align: middle;\n",
       "    }\n",
       "\n",
       "    .dataframe tbody tr th {\n",
       "        vertical-align: top;\n",
       "    }\n",
       "\n",
       "    .dataframe thead th {\n",
       "        text-align: right;\n",
       "    }\n",
       "</style>\n",
       "<table border=\"1\" class=\"dataframe\">\n",
       "  <thead>\n",
       "    <tr style=\"text-align: right;\">\n",
       "      <th></th>\n",
       "      <th>has_online_delivery</th>\n",
       "      <th>price_range</th>\n",
       "      <th>currency</th>\n",
       "      <th>name</th>\n",
       "      <th>cuisines</th>\n",
       "      <th>location.address</th>\n",
       "      <th>location.city</th>\n",
       "      <th>user_rating</th>\n",
       "    </tr>\n",
       "  </thead>\n",
       "  <tbody>\n",
       "    <tr>\n",
       "      <th>0</th>\n",
       "      <td>1</td>\n",
       "      <td>3</td>\n",
       "      <td>Rs.</td>\n",
       "      <td>Hauz Khas Social</td>\n",
       "      <td>Continental, American, Asian, North Indian</td>\n",
       "      <td>9-A &amp; 12, Hauz Khas Village, New Delhi</td>\n",
       "      <td>New Delhi</td>\n",
       "      <td>Very Good</td>\n",
       "    </tr>\n",
       "    <tr>\n",
       "      <th>1</th>\n",
       "      <td>0</td>\n",
       "      <td>3</td>\n",
       "      <td>Rs.</td>\n",
       "      <td>Qubitos - The Terrace Cafe</td>\n",
       "      <td>Thai, European, Mexican, North Indian, Chinese...</td>\n",
       "      <td>C-7, Vishal Enclave, Opposite Metro Pillar 417...</td>\n",
       "      <td>New Delhi</td>\n",
       "      <td>Excellent</td>\n",
       "    </tr>\n",
       "    <tr>\n",
       "      <th>2</th>\n",
       "      <td>1</td>\n",
       "      <td>2</td>\n",
       "      <td>Rs.</td>\n",
       "      <td>The Hudson Cafe</td>\n",
       "      <td>Cafe, Italian, Continental, Chinese</td>\n",
       "      <td>2524, 1st Floor, Hudson Lane, Delhi University...</td>\n",
       "      <td>New Delhi</td>\n",
       "      <td>Very Good</td>\n",
       "    </tr>\n",
       "    <tr>\n",
       "      <th>3</th>\n",
       "      <td>0</td>\n",
       "      <td>3</td>\n",
       "      <td>Rs.</td>\n",
       "      <td>Summer House Cafe</td>\n",
       "      <td>Italian, Continental</td>\n",
       "      <td>1st Floor, DDA Shopping Complex, Aurobindo Pla...</td>\n",
       "      <td>New Delhi</td>\n",
       "      <td>Very Good</td>\n",
       "    </tr>\n",
       "    <tr>\n",
       "      <th>4</th>\n",
       "      <td>0</td>\n",
       "      <td>3</td>\n",
       "      <td>Rs.</td>\n",
       "      <td>38 Barracks</td>\n",
       "      <td>North Indian, Italian, Asian, American</td>\n",
       "      <td>M-38, Outer Circle, Connaught Place, New Delhi</td>\n",
       "      <td>New Delhi</td>\n",
       "      <td>Very Good</td>\n",
       "    </tr>\n",
       "  </tbody>\n",
       "</table>\n",
       "</div>"
      ],
      "text/plain": [
       "   has_online_delivery  price_range currency                        name  \\\n",
       "0                    1            3      Rs.            Hauz Khas Social   \n",
       "1                    0            3      Rs.  Qubitos - The Terrace Cafe   \n",
       "2                    1            2      Rs.             The Hudson Cafe   \n",
       "3                    0            3      Rs.           Summer House Cafe   \n",
       "4                    0            3      Rs.                 38 Barracks   \n",
       "\n",
       "                                            cuisines  \\\n",
       "0         Continental, American, Asian, North Indian   \n",
       "1  Thai, European, Mexican, North Indian, Chinese...   \n",
       "2                Cafe, Italian, Continental, Chinese   \n",
       "3                               Italian, Continental   \n",
       "4             North Indian, Italian, Asian, American   \n",
       "\n",
       "                                    location.address location.city user_rating  \n",
       "0             9-A & 12, Hauz Khas Village, New Delhi     New Delhi   Very Good  \n",
       "1  C-7, Vishal Enclave, Opposite Metro Pillar 417...     New Delhi   Excellent  \n",
       "2  2524, 1st Floor, Hudson Lane, Delhi University...     New Delhi   Very Good  \n",
       "3  1st Floor, DDA Shopping Complex, Aurobindo Pla...     New Delhi   Very Good  \n",
       "4     M-38, Outer Circle, Connaught Place, New Delhi     New Delhi   Very Good  "
      ]
     },
     "execution_count": 2,
     "metadata": {},
     "output_type": "execute_result"
    }
   ],
   "source": [
    "df = pd.read_json('../Datasets/zomato_reviews-clean.json')\n",
    "\n",
    "df.head()"
   ]
  },
  {
   "cell_type": "markdown",
   "metadata": {},
   "source": [
    "En este dataset tenemos una variable llamada 'user_rating' que es categórica. Para saber si es categórica podemos primero revisar con el método `unique` para ver todos los valores únicos contenidos en esa columna:"
   ]
  },
  {
   "cell_type": "code",
   "execution_count": 3,
   "metadata": {},
   "outputs": [
    {
     "data": {
      "text/plain": [
       "array(['Very Good', 'Excellent', 'Poor', 'Good', 'Average', 'Not rated'],\n",
       "      dtype=object)"
      ]
     },
     "execution_count": 3,
     "metadata": {},
     "output_type": "execute_result"
    }
   ],
   "source": [
    "df['user_rating'].unique()"
   ]
  },
  {
   "cell_type": "code",
   "execution_count": 4,
   "metadata": {},
   "outputs": [
    {
     "data": {
      "text/plain": [
       "6"
      ]
     },
     "execution_count": 4,
     "metadata": {},
     "output_type": "execute_result"
    }
   ],
   "source": [
    "df['user_rating'].nunique()"
   ]
  },
  {
   "cell_type": "markdown",
   "metadata": {},
   "source": [
    "`nunique` nos da el número de categorías que tenemos.\n",
    "\n",
    "Ahora, para poder graficar nuestra variable como gráfica de barras necesitamos los conteos de frecuencias de cada categoría (es decir, cuántas veces aparece cada categoría. Para eso `pandas` nos ofrece un método llamado `value_counts`:"
   ]
  },
  {
   "cell_type": "code",
   "execution_count": 5,
   "metadata": {},
   "outputs": [
    {
     "data": {
      "text/plain": [
       "Very Good    490\n",
       "Good         346\n",
       "Excellent    194\n",
       "Average      119\n",
       "Not rated     26\n",
       "Poor           5\n",
       "Name: user_rating, dtype: int64"
      ]
     },
     "execution_count": 5,
     "metadata": {},
     "output_type": "execute_result"
    }
   ],
   "source": [
    "df['user_rating'].value_counts()"
   ]
  },
  {
   "cell_type": "markdown",
   "metadata": {},
   "source": [
    "El método nos regresa una `Serie` con los nombres de la categorías como índices y los conteos como valores. Esta tabla la podemos usar para generar nuestra gráfica:"
   ]
  },
  {
   "cell_type": "code",
   "execution_count": 6,
   "metadata": {},
   "outputs": [],
   "source": [
    "counts = df['user_rating'].value_counts()"
   ]
  },
  {
   "cell_type": "code",
   "execution_count": 7,
   "metadata": {},
   "outputs": [
    {
     "name": "stderr",
     "output_type": "stream",
     "text": [
      "C:\\Otro\\Anaconda\\envs\\Class_test\\lib\\site-packages\\seaborn\\_decorators.py:36: FutureWarning: Pass the following variables as keyword args: x, y. From version 0.12, the only valid positional argument will be `data`, and passing other arguments without an explicit keyword will result in an error or misinterpretation.\n",
      "  warnings.warn(\n"
     ]
    },
    {
     "data": {
      "image/png": "[encoded data removed]",
      "text/plain": [
       "<Figure size 432x288 with 1 Axes>"
      ]
     },
     "metadata": {},
     "output_type": "display_data"
    }
   ],
   "source": [
    "ax = sns.barplot(counts.index, counts)\n",
    "ax.set_title('Conteo de Ratings de restaurantes')\n",
    "ax.set(ylabel='count');"
   ]
  },
  {
   "cell_type": "markdown",
   "metadata": {},
   "source": [
    "Ahora, si queremos que el eje y sean porcentajes en vez de conteos, podemos simplemente transformar nuestra `Serie` `counts` con una simple regla de 3:"
   ]
  },
  {
   "cell_type": "code",
   "execution_count": 8,
   "metadata": {},
   "outputs": [
    {
     "data": {
      "text/plain": [
       "Very Good    41.525424\n",
       "Good         29.322034\n",
       "Excellent    16.440678\n",
       "Average      10.084746\n",
       "Not rated     2.203390\n",
       "Poor          0.423729\n",
       "Name: user_rating, dtype: float64"
      ]
     },
     "execution_count": 8,
     "metadata": {},
     "output_type": "execute_result"
    }
   ],
   "source": [
    "counts * 100 / counts.sum()"
   ]
  },
  {
   "cell_type": "code",
   "execution_count": 9,
   "metadata": {},
   "outputs": [],
   "source": [
    "as_percentages = counts * 100 / counts.sum()"
   ]
  },
  {
   "cell_type": "code",
   "execution_count": 10,
   "metadata": {},
   "outputs": [
    {
     "name": "stderr",
     "output_type": "stream",
     "text": [
      "C:\\Otro\\Anaconda\\envs\\Class_test\\lib\\site-packages\\seaborn\\_decorators.py:36: FutureWarning: Pass the following variables as keyword args: x, y. From version 0.12, the only valid positional argument will be `data`, and passing other arguments without an explicit keyword will result in an error or misinterpretation.\n",
      "  warnings.warn(\n"
     ]
    },
    {
     "data": {
      "image/png": "[encoded data removed]",
      "text/plain": [
       "<Figure size 432x288 with 1 Axes>"
      ]
     },
     "metadata": {},
     "output_type": "display_data"
    }
   ],
   "source": [
    "ax = sns.barplot(as_percentages.index, as_percentages)\n",
    "ax.set_title('Conteo de Ratings de restaurantes(como porcentajes)')\n",
    "ax.set(ylabel='porcentaje del total');"
   ]
  },
  {
   "cell_type": "markdown",
   "metadata": {},
   "source": [
    "Si quieres acomodar los nombres de tus tics en el eje x, puedes utilizar el siguiente código para cambiarles la rotación:"
   ]
  },
  {
   "cell_type": "code",
   "execution_count": 11,
   "metadata": {},
   "outputs": [
    {
     "name": "stderr",
     "output_type": "stream",
     "text": [
      "C:\\Otro\\Anaconda\\envs\\Class_test\\lib\\site-packages\\seaborn\\_decorators.py:36: FutureWarning: Pass the following variables as keyword args: x, y. From version 0.12, the only valid positional argument will be `data`, and passing other arguments without an explicit keyword will result in an error or misinterpretation.\n",
      "  warnings.warn(\n"
     ]
    },
    {
     "data": {
      "image/png": "[encoded data removed]",
      "text/plain": [
       "<Figure size 432x288 with 1 Axes>"
      ]
     },
     "metadata": {},
     "output_type": "display_data"
    }
   ],
   "source": [
    "ax = sns.barplot(as_percentages.index, as_percentages)\n",
    "ax.set_title('Conteo de Ratings de restaurantes(como porcentajes)')\n",
    "ax.set(ylabel='porcentaje del total')\n",
    "ax.set_xticklabels(ax.get_xticklabels(), rotation=50);"
   ]
  },
  {
   "cell_type": "markdown",
   "metadata": {},
   "source": [
    "En este caso no había mucha necesidad de rotar los nombres, pero hay veces que rotar los nombres y/o cambiar el tamaño de la gráfica es la única manera de hacerlos comprensibles.\n",
    "\n",
    "---"
   ]
  },
  {
   "cell_type": "markdown",
   "metadata": {},
   "source": [
    "Hay veces que resulta más cómodo y comprensible acomodar nuestras barras de manera horizontal. Esto puede hacerse muy fácilmente agregando la bandera `orient='h'` y cambiando el orden de nuestros inputs:"
   ]
  },
  {
   "cell_type": "code",
   "execution_count": 12,
   "metadata": {},
   "outputs": [
    {
     "name": "stderr",
     "output_type": "stream",
     "text": [
      "C:\\Otro\\Anaconda\\envs\\Class_test\\lib\\site-packages\\seaborn\\_decorators.py:36: FutureWarning: Pass the following variables as keyword args: x, y. From version 0.12, the only valid positional argument will be `data`, and passing other arguments without an explicit keyword will result in an error or misinterpretation.\n",
      "  warnings.warn(\n"
     ]
    },
    {
     "data": {
      "image/png": "[encoded data removed]",
      "text/plain": [
       "<Figure size 432x288 with 1 Axes>"
      ]
     },
     "metadata": {},
     "output_type": "display_data"
    }
   ],
   "source": [
    "ax = sns.barplot(as_percentages, as_percentages.index, orient='h')\n",
    "ax.set_title('Conteo de Ratings de restaurantes(como porcentajes)')\n",
    "ax.set(xlabel='porcentaje del total');"
   ]
  },
  {
   "cell_type": "markdown",
   "metadata": {},
   "source": [
    "#### La Moda"
   ]
  },
  {
   "cell_type": "markdown",
   "metadata": {},
   "source": [
    "La moda es el \"valor típico\" de nuestra variable categórica. Representa la categoría que más veces aparece en nuestro conjunto de datos.\n",
    "\n",
    "Podemos extraer la moda de la tabla de `value_counts` o de la gráfica de barras, pero `pandas` también ofrece un método para obtenerla fácilmente:"
   ]
  },
  {
   "cell_type": "code",
   "execution_count": 13,
   "metadata": {},
   "outputs": [
    {
     "data": {
      "text/plain": [
       "0    Very Good\n",
       "dtype: object"
      ]
     },
     "execution_count": 13,
     "metadata": {},
     "output_type": "execute_result"
    }
   ],
   "source": [
    "df['user_rating'].mode()"
   ]
  }
 ],
 "metadata": {
  "kernelspec": {
   "display_name": "Python 3",
   "language": "python",
   "name": "python3"
  },
  "language_info": {
   "codemirror_mode": {
    "name": "ipython",
    "version": 3
   },
   "file_extension": ".py",
   "mimetype": "text/x-python",
   "name": "python",
   "nbconvert_exporter": "python",
   "pygments_lexer": "ipython3",
   "version": "3.8.8"
  }
 },
 "nbformat": 4,
 "nbformat_minor": 4
}
