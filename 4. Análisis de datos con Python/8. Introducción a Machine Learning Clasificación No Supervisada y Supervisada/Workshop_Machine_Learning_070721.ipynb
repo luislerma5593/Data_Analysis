{
 "cells": [
  {
   "cell_type": "markdown",
   "metadata": {
    "id": "3VqhN602j8_H"
   },
   "source": [
    "# Tus primeros pasos en Machine Learning\n",
    "\n",
    "## Objetivo:\n",
    "\n",
    "Conocer de forma general los pasos a seguir para construir un modelo de aprendizaje automático que pueda resolver un problema en específico. En este workshop vamos a constuir dos modelos de clasificación supervisada para detectar cargos/movimientos fraudulentos en las tarjetas de crédito de los clientes de cierto banco.\n",
    "\n",
    "## ¡Manos a la computadora!"
   ]
  },
  {
   "cell_type": "code",
   "execution_count": null,
   "metadata": {
    "id": "eNO9opcKcVQF"
   },
   "outputs": [],
   "source": [
    "# Si tienes instalado Jupyter notebook en tu computadora, puedes descargar el archivo para trabajarlo directamente:\n",
    "# \n",
    "# Descargar el siguiente archivo de Drive\n",
    "# https://drive.google.com/file/d/1nK8BqSiW2KeuKz7Dzh6tzBWawZWezw1c/view?usp=sharing\n",
    "\n",
    "# Cargar archivo de base de datos\n",
    "from google.colab import files\n",
    "\n",
    "file = files.upload()"
   ]
  },
  {
   "cell_type": "code",
   "execution_count": 5,
   "metadata": {
    "id": "-sFjSSqXksyb"
   },
   "outputs": [],
   "source": [
    "# Importar librerías de utilidad\n",
    "import numpy as np\n",
    "import pandas as pd\n",
    "import matplotlib.pyplot as plt\n",
    "%matplotlib inline\n",
    "import seaborn as sns\n",
    "import warnings\n",
    "warnings.filterwarnings('ignore')"
   ]
  },
  {
   "cell_type": "code",
   "execution_count": 6,
   "metadata": {
    "id": "2yDRtRC7k_Yh"
   },
   "outputs": [],
   "source": [
    "# Cargar base de datos a un Pandas DataFrame para poder manipularlo\n",
    "df = pd.read_csv('baseworkshop.csv', index_col= 'cust_id')\n",
    "\n",
    "#Si lo estás trabajando desde un IDE en tu computadora, asegúrate de poner la dirección completa al archivo:\n",
    "# df = pd.read_csv('C:/Users/TuUsuario/TuCarpeta/baseworkshop.csv', index_col= 'cust_id')"
   ]
  },
  {
   "cell_type": "markdown",
   "metadata": {
    "id": "P1zYaJW_n7is"
   },
   "source": [
    "Realicemos una breve exploración de nuestra base de datos, con el objetivo de obtener información sobre las variables, su escala de medición y si tenemos datos faltantes:"
   ]
  },
  {
   "cell_type": "code",
   "execution_count": 10,
   "metadata": {
    "id": "LRha3IVpn--g"
   },
   "outputs": [
    {
     "name": "stdout",
     "output_type": "stream",
     "text": [
      "             balance  purchases  installments_purchases  cash_advance  \\\n",
      "cust_id                                                                 \n",
      "C10001     40.900749      95.40                    95.4      0.000000   \n",
      "C10002   3202.467416       0.00                     0.0   6442.945483   \n",
      "C10003   2495.148862     773.17                     0.0      0.000000   \n",
      "C10004   1666.670542    1499.00                     0.0    205.788017   \n",
      "C10005    817.714335      16.00                     0.0      0.000000   \n",
      "\n",
      "         credit_limit     payments  minimum_payments  fraud  \n",
      "cust_id                                                      \n",
      "C10001         1000.0   201.802084        139.509787      0  \n",
      "C10002         7000.0  4103.032597       1072.340217      0  \n",
      "C10003         7500.0   622.066742        627.284787      0  \n",
      "C10004         7500.0     0.000000        864.173246      0  \n",
      "C10005         1200.0   678.334763        244.791237      0  \n"
     ]
    }
   ],
   "source": [
    "pd.set_option('max_columns', 20)\n",
    "print(df.head())"
   ]
  },
  {
   "cell_type": "code",
   "execution_count": 11,
   "metadata": {
    "id": "LRha3IVpn--g"
   },
   "outputs": [
    {
     "name": "stdout",
     "output_type": "stream",
     "text": [
      "(8950, 8)\n"
     ]
    }
   ],
   "source": [
    "print(df.shape)"
   ]
  },
  {
   "cell_type": "code",
   "execution_count": 12,
   "metadata": {
    "id": "whqF_qZSoHCG"
   },
   "outputs": [
    {
     "name": "stdout",
     "output_type": "stream",
     "text": [
      "<class 'pandas.core.frame.DataFrame'>\n",
      "Index: 8950 entries, C10001 to C18950\n",
      "Data columns (total 8 columns):\n",
      " #   Column                  Non-Null Count  Dtype  \n",
      "---  ------                  --------------  -----  \n",
      " 0   balance                 8950 non-null   float64\n",
      " 1   purchases               8950 non-null   float64\n",
      " 2   installments_purchases  8950 non-null   float64\n",
      " 3   cash_advance            8950 non-null   float64\n",
      " 4   credit_limit            8950 non-null   float64\n",
      " 5   payments                8950 non-null   float64\n",
      " 6   minimum_payments        8950 non-null   float64\n",
      " 7   fraud                   8950 non-null   int64  \n",
      "dtypes: float64(7), int64(1)\n",
      "memory usage: 629.3+ KB\n",
      "None\n"
     ]
    }
   ],
   "source": [
    "print(df.info())"
   ]
  },
  {
   "cell_type": "markdown",
   "metadata": {
    "id": "gP1On8FSodWp"
   },
   "source": [
    "## Análisis Exploratorio de Datos (EDA)\n",
    "Una vez confirmado que la base de datos está lista para ser utilizada, comencemos con el análisis exploratorio de los datos (EDA).\n",
    "\n",
    "Este es un punto muy importante y debe ser lo primero que desarrolles antes de comenzar a construir tus modelos de aprendizaje automático."
   ]
  },
  {
   "cell_type": "code",
   "execution_count": 14,
   "metadata": {
    "id": "T_E7kADyohHe"
   },
   "outputs": [
    {
     "data": {
      "text/html": [
       "<div>\n",
       "<style scoped>\n",
       "    .dataframe tbody tr th:only-of-type {\n",
       "        vertical-align: middle;\n",
       "    }\n",
       "\n",
       "    .dataframe tbody tr th {\n",
       "        vertical-align: top;\n",
       "    }\n",
       "\n",
       "    .dataframe thead th {\n",
       "        text-align: right;\n",
       "    }\n",
       "</style>\n",
       "<table border=\"1\" class=\"dataframe\">\n",
       "  <thead>\n",
       "    <tr style=\"text-align: right;\">\n",
       "      <th></th>\n",
       "      <th>balance</th>\n",
       "      <th>purchases</th>\n",
       "      <th>installments_purchases</th>\n",
       "      <th>cash_advance</th>\n",
       "      <th>credit_limit</th>\n",
       "      <th>payments</th>\n",
       "      <th>minimum_payments</th>\n",
       "    </tr>\n",
       "    <tr>\n",
       "      <th>cust_id</th>\n",
       "      <th></th>\n",
       "      <th></th>\n",
       "      <th></th>\n",
       "      <th></th>\n",
       "      <th></th>\n",
       "      <th></th>\n",
       "      <th></th>\n",
       "    </tr>\n",
       "  </thead>\n",
       "  <tbody>\n",
       "    <tr>\n",
       "      <th>C10001</th>\n",
       "      <td>40.900749</td>\n",
       "      <td>95.40</td>\n",
       "      <td>95.4</td>\n",
       "      <td>0.000000</td>\n",
       "      <td>1000.0</td>\n",
       "      <td>201.802084</td>\n",
       "      <td>139.509787</td>\n",
       "    </tr>\n",
       "    <tr>\n",
       "      <th>C10002</th>\n",
       "      <td>3202.467416</td>\n",
       "      <td>0.00</td>\n",
       "      <td>0.0</td>\n",
       "      <td>6442.945483</td>\n",
       "      <td>7000.0</td>\n",
       "      <td>4103.032597</td>\n",
       "      <td>1072.340217</td>\n",
       "    </tr>\n",
       "    <tr>\n",
       "      <th>C10003</th>\n",
       "      <td>2495.148862</td>\n",
       "      <td>773.17</td>\n",
       "      <td>0.0</td>\n",
       "      <td>0.000000</td>\n",
       "      <td>7500.0</td>\n",
       "      <td>622.066742</td>\n",
       "      <td>627.284787</td>\n",
       "    </tr>\n",
       "    <tr>\n",
       "      <th>C10004</th>\n",
       "      <td>1666.670542</td>\n",
       "      <td>1499.00</td>\n",
       "      <td>0.0</td>\n",
       "      <td>205.788017</td>\n",
       "      <td>7500.0</td>\n",
       "      <td>0.000000</td>\n",
       "      <td>864.173246</td>\n",
       "    </tr>\n",
       "    <tr>\n",
       "      <th>C10005</th>\n",
       "      <td>817.714335</td>\n",
       "      <td>16.00</td>\n",
       "      <td>0.0</td>\n",
       "      <td>0.000000</td>\n",
       "      <td>1200.0</td>\n",
       "      <td>678.334763</td>\n",
       "      <td>244.791237</td>\n",
       "    </tr>\n",
       "  </tbody>\n",
       "</table>\n",
       "</div>"
      ],
      "text/plain": [
       "             balance  purchases  installments_purchases  cash_advance  \\\n",
       "cust_id                                                                 \n",
       "C10001     40.900749      95.40                    95.4      0.000000   \n",
       "C10002   3202.467416       0.00                     0.0   6442.945483   \n",
       "C10003   2495.148862     773.17                     0.0      0.000000   \n",
       "C10004   1666.670542    1499.00                     0.0    205.788017   \n",
       "C10005    817.714335      16.00                     0.0      0.000000   \n",
       "\n",
       "         credit_limit     payments  minimum_payments  \n",
       "cust_id                                               \n",
       "C10001         1000.0   201.802084        139.509787  \n",
       "C10002         7000.0  4103.032597       1072.340217  \n",
       "C10003         7500.0   622.066742        627.284787  \n",
       "C10004         7500.0     0.000000        864.173246  \n",
       "C10005         1200.0   678.334763        244.791237  "
      ]
     },
     "execution_count": 14,
     "metadata": {},
     "output_type": "execute_result"
    }
   ],
   "source": [
    "X = df.drop('fraud', axis = 1)\n",
    "X.head()"
   ]
  },
  {
   "cell_type": "code",
   "execution_count": 19,
   "metadata": {
    "id": "T_E7kADyohHe"
   },
   "outputs": [
    {
     "name": "stdout",
     "output_type": "stream",
     "text": [
      "(8950, 7)\n",
      "                         count     mean      std    min      25%      50%  \\\n",
      "balance                 8950.0  1564.61  2081.50   0.00   128.28   873.94   \n",
      "purchases               8950.0  1003.20  2136.63   0.00    39.64   361.28   \n",
      "installments_purchases  8950.0   411.07   904.34   0.00     0.00    89.00   \n",
      "cash_advance            8950.0   978.98  2086.58   0.00     0.00     0.00   \n",
      "credit_limit            8950.0  4494.45  3638.61  50.00  1600.00  3000.00   \n",
      "payments                8950.0  1733.14  2895.06   0.00   383.28   856.90   \n",
      "minimum_payments        8950.0   864.17  2330.50   0.02   170.88   335.69   \n",
      "\n",
      "                            75%       max  \n",
      "balance                 2054.14  19043.14  \n",
      "purchases               1110.13  49039.57  \n",
      "installments_purchases   468.64  22500.00  \n",
      "cash_advance            1096.91  47137.21  \n",
      "credit_limit            6500.00  30000.00  \n",
      "payments                1901.13  50721.48  \n",
      "minimum_payments         864.17  76406.21  \n"
     ]
    }
   ],
   "source": [
    "print(X.shape)\n",
    "print(X.describe().T.round(2))"
   ]
  },
  {
   "cell_type": "markdown",
   "metadata": {
    "id": "0UpF7Szhovw4"
   },
   "source": [
    "¿Qué análisis puedes obtener de la estadística descriptiva de las variables explicativas? ¿Qué tipo de variables son? ¿Cuál es su escala de medición? ¿El rango de las variables puede ser un problema para la estimación?\n",
    "\n",
    "¡Analizar la información es súper importante!"
   ]
  },
  {
   "cell_type": "code",
   "execution_count": 20,
   "metadata": {
    "id": "1ZsxkMGhow6o"
   },
   "outputs": [
    {
     "data": {
      "image/png": "[encoded data removed]",
      "text/plain": [
       "<Figure size 1440x720 with 8 Axes>"
      ]
     },
     "metadata": {
      "needs_background": "light"
     },
     "output_type": "display_data"
    }
   ],
   "source": [
    "fig, ax = plt.subplots(ncols=4, nrows=2, figsize=(20,10))\n",
    "index = 0\n",
    "ax = ax.flatten()\n",
    "\n",
    "for col, value in X.items():\n",
    "    sns.distplot(value, color='g', ax=ax[index])\n",
    "    index += 1\n",
    "plt.tight_layout(pad=0.5, w_pad=0.7, h_pad=5.0)\n",
    "plt.show()"
   ]
  },
  {
   "cell_type": "markdown",
   "metadata": {
    "id": "ukZNFq9grXMo"
   },
   "source": [
    "¿Qué implicaciones tiene la distribución de los variables sobre el poder explicativo de nuestros modelos de clasificación? "
   ]
  },
  {
   "cell_type": "code",
   "execution_count": 22,
   "metadata": {
    "id": "7kd-yX2sr-CT"
   },
   "outputs": [
    {
     "name": "stdout",
     "output_type": "stream",
     "text": [
      "(8950,)\n",
      "   y_variable  percentage_count\n",
      "1           1          0.007821\n",
      "0           0          0.992179\n"
     ]
    },
    {
     "data": {
      "image/png": "[encoded data removed]",
      "text/plain": [
       "<Figure size 432x288 with 1 Axes>"
      ]
     },
     "metadata": {
      "needs_background": "light"
     },
     "output_type": "display_data"
    }
   ],
   "source": [
    "y = df['fraud']\n",
    "print(y.shape)\n",
    "print(y.value_counts(normalize = True).reset_index().rename(columns = {'index': 'y_variable', 'fraud': 'percentage_count'}).sort_values(by = \"percentage_count\"))\n",
    "\n",
    "labels, counts = np.unique(y, return_counts=True)\n",
    "plt.bar(labels, counts, align='center', color = \"b\")\n",
    "plt.title('Credit users')\n",
    "plt.xlabel('Fraud detection')\n",
    "plt.ylabel(\"Counts\")\n",
    "plt.xticks(labels)\n",
    "plt.show()"
   ]
  },
  {
   "cell_type": "markdown",
   "metadata": {
    "id": "Nr5jZYXrsnhp"
   },
   "source": [
    "¿Qué reto podría representar tener una distribución de frecuencias como esta?"
   ]
  },
  {
   "cell_type": "code",
   "execution_count": 23,
   "metadata": {
    "id": "CPEKw2ORtAmb"
   },
   "outputs": [
    {
     "data": {
      "image/png": "[encoded data removed]",
      "text/plain": [
       "<Figure size 720x720 with 2 Axes>"
      ]
     },
     "metadata": {
      "needs_background": "light"
     },
     "output_type": "display_data"
    }
   ],
   "source": [
    "corr_spearman = df.corr(method = 'spearman')\n",
    "fig, ax = plt.subplots(figsize=(10, 10))\n",
    "sns.heatmap(corr_spearman, annot = True, fmt=\".3f\").set_title(\n",
    "    \"Spearman's correlation coefficient\")\n",
    "plt.show()"
   ]
  },
  {
   "cell_type": "markdown",
   "metadata": {
    "id": "hEMoNH1uuaNc"
   },
   "source": [
    "Ahora sí, ¿qué podemos concluir respecto a la clasificación de nuestras variables explicativas y nuestra variable objetivo?"
   ]
  },
  {
   "cell_type": "markdown",
   "metadata": {
    "id": "Qv-XRTW4vjUn"
   },
   "source": [
    "## Supervised Machine Learning\n",
    "\n",
    "Con todo el análisis exploratorio de datos ya tenemos una idea detallada del comportamiento de nuestros datos y de cómo debemos procesarlos para dárselos a nuestro modelo.\n",
    "\n",
    "¿Están listos? ¡Es momento de construir nuestros primeros algoritmos y entrenarlos!"
   ]
  },
  {
   "cell_type": "code",
   "execution_count": 24,
   "metadata": {
    "id": "YSFZ_nv4vRjp"
   },
   "outputs": [],
   "source": [
    "from sklearn.model_selection import train_test_split\n",
    "from sklearn.preprocessing import PowerTransformer\n",
    "from sklearn.naive_bayes import GaussianNB\n",
    "from sklearn.linear_model import LogisticRegression\n",
    "from sklearn.metrics import confusion_matrix"
   ]
  },
  {
   "cell_type": "code",
   "execution_count": 25,
   "metadata": {
    "id": "-kPfL1uY4qf2"
   },
   "outputs": [],
   "source": [
    "# Vamos a hacer una transformación logarítmica de nuestras variables explicativas\n",
    "pwt = PowerTransformer()\n",
    "X_pwt = pwt.fit_transform(X)"
   ]
  },
  {
   "cell_type": "markdown",
   "metadata": {
    "id": "TyfXct6wxR_x"
   },
   "source": [
    "¿Recuerdas cómo debemos entrenar nuestro modelo?\n",
    "\n",
    "Tenemos que darle una serie de ejercicios de prueba y luego ponerlo a prueba con datos que nunca antes haya visto ... pero que podamos evaluar para medir su desempeño.\n",
    "\n",
    "Vamos a separar nuestra base de datos, de forma aleatoria, en un conjunto para entrenamiento y otro para prueba"
   ]
  },
  {
   "cell_type": "code",
   "execution_count": 26,
   "metadata": {
    "id": "AuqHrDrb3zV1"
   },
   "outputs": [],
   "source": [
    "X_train, X_test, y_train, y_test = train_test_split(X_pwt, y, test_size=0.40, random_state=42)"
   ]
  },
  {
   "cell_type": "markdown",
   "metadata": {
    "id": "tpjHz8ZNyasA"
   },
   "source": [
    "### Clasificador Ingenuo de Bayes"
   ]
  },
  {
   "cell_type": "code",
   "execution_count": 27,
   "metadata": {
    "id": "9a3tVf4-xScJ"
   },
   "outputs": [],
   "source": [
    "NaiveBayes = GaussianNB()\n",
    "NaiveBayes.fit(X_train, y_train) #Entrena el modelo\n",
    "y_pred_nb = NaiveBayes.predict(X_test) #Genera la predicción"
   ]
  },
  {
   "cell_type": "code",
   "execution_count": 28,
   "metadata": {
    "id": "fIy7NlOHxqeQ"
   },
   "outputs": [
    {
     "name": "stdout",
     "output_type": "stream",
     "text": [
      "Presión del modelo en el subconjunto de entrenamiento: 0.9791\n"
     ]
    }
   ],
   "source": [
    "print(\"Presión del modelo en el subconjunto de entrenamiento: {}\".format(NaiveBayes.score(X_train, y_train).round(4)))"
   ]
  },
  {
   "cell_type": "code",
   "execution_count": 29,
   "metadata": {
    "id": "fIy7NlOHxqeQ"
   },
   "outputs": [
    {
     "name": "stdout",
     "output_type": "stream",
     "text": [
      "Presión del modelo en el subconjunto de prueba: 0.9802\n"
     ]
    }
   ],
   "source": [
    "print(\"Presión del modelo en el subconjunto de prueba: {}\".format(NaiveBayes.score(X_test, y_test).round(4)))"
   ]
  },
  {
   "cell_type": "code",
   "execution_count": 30,
   "metadata": {
    "id": "AzzAs76f0YUF"
   },
   "outputs": [
    {
     "name": "stdout",
     "output_type": "stream",
     "text": [
      "[[3487   66]\n",
      " [   5   22]]\n"
     ]
    }
   ],
   "source": [
    "print(confusion_matrix(y_test, y_pred_nb))"
   ]
  },
  {
   "cell_type": "markdown",
   "metadata": {
    "id": "seikF5rIyevk"
   },
   "source": [
    "### Regresión logística"
   ]
  },
  {
   "cell_type": "code",
   "execution_count": 31,
   "metadata": {
    "id": "9qIIavF9y-6Z"
   },
   "outputs": [],
   "source": [
    "LogisticRegression = LogisticRegression()\n",
    "LogisticRegression.fit(X_train, y_train) #Entrena el modelo\n",
    "y_pred_lr = LogisticRegression.predict(X_test) #Genera la predicción"
   ]
  },
  {
   "cell_type": "code",
   "execution_count": 32,
   "metadata": {
    "id": "-bI84fFuzArI"
   },
   "outputs": [
    {
     "name": "stdout",
     "output_type": "stream",
     "text": [
      "Presión del modelo en el subconjunto de entrenamiento: 0.9953\n"
     ]
    }
   ],
   "source": [
    "print(\"Presión del modelo en el subconjunto de entrenamiento: {}\".format(LogisticRegression.score(X_train, y_train).round(4)))"
   ]
  },
  {
   "cell_type": "code",
   "execution_count": 33,
   "metadata": {
    "id": "-bI84fFuzArI"
   },
   "outputs": [
    {
     "name": "stdout",
     "output_type": "stream",
     "text": [
      "Presión del modelo en el subconjunto de prueba: 0.9953\n"
     ]
    }
   ],
   "source": [
    "print(\"Presión del modelo en el subconjunto de prueba: {}\".format(LogisticRegression.score(X_test, y_test).round(4)))"
   ]
  },
  {
   "cell_type": "code",
   "execution_count": 34,
   "metadata": {
    "id": "yshO2riN0eTI"
   },
   "outputs": [
    {
     "name": "stdout",
     "output_type": "stream",
     "text": [
      "[[3551    2]\n",
      " [  15   12]]\n"
     ]
    }
   ],
   "source": [
    "print(confusion_matrix(y_test, y_pred_lr))"
   ]
  },
  {
   "cell_type": "markdown",
   "metadata": {
    "id": "uqzZrAo13SWG"
   },
   "source": [
    "¿Cuál es el mejor modelo?\n",
    "\n",
    "¿Se puede hacer algo adicional para mejorar el modelo?"
   ]
  },
  {
   "cell_type": "markdown",
   "metadata": {
    "id": "0KK343ak0tA1"
   },
   "source": [
    "## Automatización\n",
    "\n",
    "Supongamos que durante el último mes, el banco ha registrado en algunas cuentas de de sus clientes movimientos que posiblemente son fraudulentos ... ¿cómo podría ayudarnos nuestro modelo?"
   ]
  },
  {
   "cell_type": "code",
   "execution_count": 35,
   "metadata": {
    "id": "fI8gw2dk7QW9"
   },
   "outputs": [
    {
     "name": "stdout",
     "output_type": "stream",
     "text": [
      "              balance  purchases  installments_purchases  cash_advance  \\\n",
      "cust_id                                                                  \n",
      "C10106    2441.542991     808.00                    0.00    959.857263   \n",
      "C10107     408.656365     941.64                  941.64      0.000000   \n",
      "C10108    4986.400804       0.00                    0.00   5439.467563   \n",
      "C10109    1246.624558     423.70                  246.06    412.399058   \n",
      "C10110    6644.201651    4478.75                 1757.16   7205.520805   \n",
      "C10111     156.216753    1354.86                  769.23      0.000000   \n",
      "C10112    3393.351236       0.00                    0.00   1008.348672   \n",
      "C10113    5322.994094    2812.20                 1955.08   2510.352951   \n",
      "C10114    6458.562090       0.00                    0.00   3360.228794   \n",
      "C10115     175.341651    1508.90                  256.54      0.000000   \n",
      "C10116     680.195157    1045.57                  377.62      0.000000   \n",
      "C10117     223.763616    2309.78                 2309.78      0.000000   \n",
      "C10118    1785.626943       0.00                    0.00    576.206382   \n",
      "C10119      54.933231     495.00                  495.00      0.000000   \n",
      "C10120    2662.629852       0.00                    0.00    509.023801   \n",
      "C10121    8504.876253    6724.26                 2624.18   1686.599777   \n",
      "C10122    1464.324632    1174.39                    0.00      0.000000   \n",
      "C10123    2114.158683    5580.85                 5580.85      0.000000   \n",
      "C10124    2876.396444       0.00                    0.00    978.980630   \n",
      "C10125   14224.115410       0.00                    0.00   4614.427403   \n",
      "C10126    2392.917738   12462.44                    0.00      0.000000   \n",
      "C10127      57.453201       0.00                    0.00    272.713302   \n",
      "C10128    4245.855092    1957.30                  880.00      0.000000   \n",
      "C10129   11167.234030     150.64                    0.00   8362.154254   \n",
      "C10130      69.405545       0.00                    0.00   2799.714934   \n",
      "C10131     116.654149     907.00                    0.00    273.558033   \n",
      "C10132    4637.848144    1271.12                  919.58      0.000000   \n",
      "C10133      24.284970     250.60                  250.60      0.000000   \n",
      "C10134    9354.060450     796.33                    0.00  13748.471310   \n",
      "C10135     231.108995     440.00                  440.00      0.000000   \n",
      "C10136    1562.633343    1330.62                  160.99      0.000000   \n",
      "C10137    2494.868559    5491.79                 4101.29      0.000000   \n",
      "C10138     706.132889     897.86                  183.34    586.268966   \n",
      "C10139   19043.138560   22009.92                12560.85      0.000000   \n",
      "C10140    2235.103331     720.60                    0.00    723.308724   \n",
      "C10141     947.130810     197.06                   48.40      0.000000   \n",
      "C10142     764.042156       0.00                    0.00   1307.102516   \n",
      "C10143    5347.814547       0.00                    0.00   4002.353384   \n",
      "C10144   10598.467770    2084.48                  784.00      0.000000   \n",
      "C10145    2163.678757    5779.36                 2342.83      0.000000   \n",
      "C10146    3057.400553    1025.00                    0.00      0.000000   \n",
      "C10147      19.354559     689.70                  689.70      0.000000   \n",
      "C10148     264.811595      28.65                    0.00    384.261780   \n",
      "C10149    1108.222530     944.96                  780.00      0.000000   \n",
      "C10150     906.573724    1039.20                  959.20    103.102091   \n",
      "C10151    7679.629040    4059.93                 4059.93    555.469352   \n",
      "C10152    1523.911458    4075.37                  753.09      0.000000   \n",
      "C10153      49.206256     870.24                  870.24      0.000000   \n",
      "C10154   13673.079610    9792.23                 5832.42   2444.445738   \n",
      "C10155     106.455975    2463.12                 1673.59      0.000000   \n",
      "C10156     119.760904    1859.34                 1859.34      0.000000   \n",
      "\n",
      "         credit_limit      payments  minimum_payments  \n",
      "cust_id                                                \n",
      "C10106         4000.0    532.741699       1026.976000  \n",
      "C10107         2500.0   1097.789420        176.610605  \n",
      "C10108         8000.0   1241.538024       1439.230899  \n",
      "C10109         2000.0    577.050373        498.365419  \n",
      "C10110         9000.0  10857.943210       2469.571326  \n",
      "C10111         5500.0    858.976682        108.319927  \n",
      "C10112         4200.0      0.000000        864.173246  \n",
      "C10113         8500.0   1509.423237       1834.031569  \n",
      "C10114         7000.0   1277.767780       2760.115734  \n",
      "C10115         5000.0   1884.227778        136.639824  \n",
      "C10116         3000.0    552.432305        207.720441  \n",
      "C10117         6500.0   1206.811880         99.372848  \n",
      "C10118         1800.0    687.691735       2439.136113  \n",
      "C10119         7000.0   1969.845566        147.049952  \n",
      "C10120         3000.0    932.418855        709.207016  \n",
      "C10121        17000.0   1888.756861       2167.446204  \n",
      "C10122         9000.0      0.000000        864.173246  \n",
      "C10123         8500.0   3564.977774        630.004130  \n",
      "C10124         3200.0   1065.426905       1412.648089  \n",
      "C10125        19000.0   3066.614272       3406.258999  \n",
      "C10126         2800.0  11628.715570       2000.990921  \n",
      "C10127         1200.0    385.853874         84.697292  \n",
      "C10128         5000.0   1004.354740       1086.428906  \n",
      "C10129        17000.0   2606.059389       2894.077159  \n",
      "C10130        13000.0      0.000000        864.173246  \n",
      "C10131         5000.0      0.000000        864.173246  \n",
      "C10132         5000.0   1906.032044       3572.279251  \n",
      "C10133         3000.0    319.762903        173.632006  \n",
      "C10134        13000.0  10664.658660       2600.875721  \n",
      "C10135         4000.0    554.116542        185.091037  \n",
      "C10136         2000.0   1020.783647        709.610053  \n",
      "C10137        17000.0   1015.311953        615.924020  \n",
      "C10138         1200.0    972.358048        184.524376  \n",
      "C10139        18000.0  23018.575830      18621.013310  \n",
      "C10140         2500.0   1061.292471        689.118919  \n",
      "C10141         1000.0    492.200419        509.384182  \n",
      "C10142         7500.0   1566.806897        172.959728  \n",
      "C10143         7000.0      0.000000        864.173246  \n",
      "C10144        21500.0   3219.621433       3068.125648  \n",
      "C10145         6500.0   4416.412680        546.439139  \n",
      "C10146         7500.0    698.854095        819.682666  \n",
      "C10147        10000.0    746.691026        864.173246  \n",
      "C10148         9000.0   1235.630069        194.324456  \n",
      "C10149         1500.0   1955.198953        992.652486  \n",
      "C10150        13500.0   1855.235407        468.196732  \n",
      "C10151         7000.0   3685.610620      12854.939700  \n",
      "C10152         6500.0   2254.260020        329.296480  \n",
      "C10153         8000.0    835.839952        193.011166  \n",
      "C10154        20000.0  11717.307940       6042.391629  \n",
      "C10155         4000.0   2573.722764         95.342224  \n",
      "C10156        20000.0   3104.275623        288.903628  \n"
     ]
    }
   ],
   "source": [
    "# El siguiente arreglo muestra la información de los clientes con sospecha de cargo fraudulento\n",
    "X_new = X[105:156]\n",
    "print(X_new)"
   ]
  },
  {
   "cell_type": "code",
   "execution_count": 36,
   "metadata": {
    "id": "f58j1LZoyEPf"
   },
   "outputs": [
    {
     "name": "stdout",
     "output_type": "stream",
     "text": [
      "[[ 0.3115462   0.09199023 -1.1781001   0.94303995 -0.52472351 -0.52337434\n",
      "   0.32979697]\n",
      " [-0.70135479  0.16244733  0.73557229 -0.96343766 -1.06233439 -0.11597699\n",
      "  -1.14519163]\n",
      " [ 0.80924378 -1.57005708 -1.1781001   1.31036632  0.35038052 -0.0385737\n",
      "   0.58619933]\n",
      " [-0.10547953 -0.18211003  0.28823478  0.74975178 -1.30298123 -0.48208149\n",
      "  -0.24737143]\n",
      " [ 1.02670117  1.0203812   0.95811664  1.36633686  0.50954859  1.83056681\n",
      "   0.9799431 ]\n",
      " [-1.13201355  0.33900617  0.6654559  -0.96343766 -0.13538944 -0.26299347\n",
      "  -1.59782915]\n",
      " [ 0.53358993 -1.57005708 -1.1781001   0.95401785 -0.46642591 -2.09869245\n",
      "   0.19551568]\n",
      " [ 0.85781668  0.73535222  0.99715577  1.15139422  0.43191068  0.08959554\n",
      "   0.76543788]\n",
      " [ 1.00476368 -1.57005708 -1.1781001   1.2122219   0.17372359 -0.02011589\n",
      "   1.05860958]\n",
      " [-1.08395946  0.39381793  0.30150988 -0.96343766 -0.25412053  0.24331172\n",
      "  -1.38039643]\n",
      " [-0.44300486  0.21192077  0.42645254 -0.96343766 -0.85884864 -0.50472356\n",
      "  -0.99918622]\n",
      " [-0.97930577  0.62268067  1.05871052 -0.96343766  0.07738928 -0.05664169\n",
      "  -1.67963045]\n",
      " [ 0.11158541 -1.57005708 -1.1781001   0.82744253 -1.41348327 -0.3883051\n",
      "   0.97112172]\n",
      " [-1.52544747 -0.11933562  0.51597851 -0.96343766  0.17372359  0.27520364\n",
      "  -1.31255657]\n",
      " [ 0.36883221 -1.57005708 -1.1781001   0.79882579 -0.85884864 -0.21488049\n",
      "   0.03909596]\n",
      " [ 1.22230581  1.29227276  1.10630399  1.06667076  1.42597592  0.24502523\n",
      "   0.88659768]\n",
      " [-0.00986835  0.26807325 -1.1781001  -0.96343766  0.50954859 -2.09869245\n",
      "   0.19551568]\n",
      " [ 0.21822237  1.16478649  1.39635206 -0.96343766  0.43191068  0.73866166\n",
      "  -0.05601643]\n",
      " [ 0.4205729  -1.57005708 -1.1781001   0.947438   -0.78530008 -0.13442307\n",
      "   0.57224561]\n",
      " [ 1.65669739 -1.57005708 -1.1781001   1.27717318  1.59661564  0.61407858\n",
      "   1.20514853]\n",
      " [ 0.29837053  1.75041003 -1.1781001  -0.96343766 -0.9365899   1.90883025\n",
      "   0.82887246]\n",
      " [-1.51002421 -1.57005708 -1.1781001   0.65156071 -1.8207917  -0.68150811\n",
      "  -1.83281122]\n",
      " [ 0.69193618  0.53131388  0.71199043 -0.96343766 -0.25412053 -0.17038868\n",
      "   0.37311568]\n",
      " [ 1.44766984 -0.55218105 -1.1781001   1.39558458  1.42597592  0.48487673\n",
      "   1.09188031]\n",
      " [-1.44364088 -1.57005708 -1.1781001   1.17427884  1.02737491 -2.09869245\n",
      "   0.19551568]\n",
      " [-1.24932189  0.14499064 -1.1781001   0.65230374 -0.25412053 -2.09869245\n",
      "   0.19551568]\n",
      " [ 0.75597854  0.30709311  0.72730241 -0.96343766 -0.25412053  0.25153335\n",
      "   1.23790295]\n",
      " [-1.78468152 -0.37988112  0.29404884 -0.96343766 -0.85884864 -0.767577\n",
      "  -1.16061981]\n",
      " [ 1.29989317  0.08540694 -1.1781001   1.49136378  1.02737491  1.81030138\n",
      "   1.01668356]\n",
      " [-0.96511301 -0.16705713  0.47681193 -0.96343766 -0.52472351 -0.50315111\n",
      "  -1.10277019]\n",
      " [ 0.02946921  0.32993382  0.15546083 -0.96343766 -1.30298123 -0.1605587\n",
      "   0.03954976]\n",
      " [ 0.32574676  1.15400729  1.27613909 -0.96343766  1.42597592 -0.16381958\n",
      "  -0.07428909]\n",
      " [-0.42313783  0.14029618  0.19571263  0.83142218 -1.8207917  -0.1898785\n",
      "  -1.10553822]\n",
      " [ 1.92029163  2.22666359  1.72528221 -0.96343766  1.51326624  2.77009115\n",
      "   2.28811839]\n",
      " [ 0.25401512  0.04071151 -1.1781001   0.87938229 -1.06233439 -0.13680923\n",
      "   0.01611372]\n",
      " [-0.26283074 -0.46350891 -0.19829477 -0.96343766 -1.99500755 -0.56343306\n",
      "  -0.22934247]\n",
      " [-0.38088273 -1.57005708 -1.1781001   1.01128523  0.2645004   0.11483153\n",
      "  -1.16414182]\n",
      " [ 0.86129625 -1.57005708 -1.1781001   1.24818744  0.17372359 -2.09869245\n",
      "   0.19551568]\n",
      " [ 1.40361163  0.56568854  0.67200833 -0.96343766  1.79006361  0.65382266\n",
      "   1.13267492]\n",
      " [ 0.23307842  1.18832806  1.06398851 -0.96343766  0.07738928  0.92457103\n",
      "  -0.17169703]\n",
      " [ 0.46193815  0.20245014 -1.1781001  -0.96343766  0.2645004  -0.37947764\n",
      "   0.15396126]\n",
      " [-1.84971159  0.02139423  0.62802367 -0.96343766  0.65464032 -0.34278187\n",
      "   0.19551568]\n",
      " [-0.90442724 -1.00114931 -1.1781001   0.7331407   0.50954859 -0.0416211\n",
      "  -1.05892341]\n",
      " [-0.17376642  0.16409343  0.67024523 -0.96343766 -1.6001021   0.26982131\n",
      "   0.30352099]\n",
      " [-0.28722956  0.20900394  0.74202726  0.41139657  1.08236482  0.23227042\n",
      "  -0.29905184]\n",
      " [ 1.14045887  0.95798892  1.27222632  0.81900378  0.17372359  0.76686614\n",
      "   2.06640799]\n",
      " [ 0.01422766  0.96037812  0.65816043 -0.96343766  0.07738928  0.37431127\n",
      "  -0.59591082]\n",
      " [-1.56277504  0.12587495  0.70811619 -0.96343766  0.35038052 -0.27877696\n",
      "  -1.06501981]\n",
      " [ 1.62198291  1.56450948  1.41376608  1.14579025  1.67639604  1.91757839\n",
      "   1.59007982]\n",
      " [-1.28486001  0.65898331  0.9403883  -0.96343766 -0.52472351  0.47519029\n",
      "  -1.71912882]\n",
      " [-1.23900596  0.50360187  0.97875523 -0.96343766  1.67639604  0.62399449\n",
      "  -0.70874933]]\n"
     ]
    }
   ],
   "source": [
    "# Debemos transformar nuevamente los datos\n",
    "X_new_pwt = pwt.fit_transform(X_new)\n",
    "print(X_new_pwt)"
   ]
  },
  {
   "cell_type": "code",
   "execution_count": 37,
   "metadata": {
    "id": "7BynevC_054V"
   },
   "outputs": [
    {
     "name": "stdout",
     "output_type": "stream",
     "text": [
      "[0 0 0 0 0 0 0 0 0 0 0 0 0 0 0 0 0 0 0 0 0 0 0 0 0 0 0 0 0 0 0 0 0 1 0 0 0\n",
      " 0 0 0 0 0 0 0 0 0 0 0 1 0 0]\n"
     ]
    }
   ],
   "source": [
    "# Vamos a usar nuestro modelo para predecir cuáles son potencialmente fraudulentos\n",
    "y_new_pred = NaiveBayes.predict(X_new_pwt)\n",
    "print(y_new_pred)"
   ]
  }
 ],
 "metadata": {
  "colab": {
   "name": "Workshop: Machine Learning 070721.ipynb",
   "provenance": []
  },
  "kernelspec": {
   "display_name": "Python 3",
   "language": "python",
   "name": "python3"
  },
  "language_info": {
   "codemirror_mode": {
    "name": "ipython",
    "version": 3
   },
   "file_extension": ".py",
   "mimetype": "text/x-python",
   "name": "python",
   "nbconvert_exporter": "python",
   "pygments_lexer": "ipython3",
   "version": "3.8.8"
  }
 },
 "nbformat": 4,
 "nbformat_minor": 1
}
