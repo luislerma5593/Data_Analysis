{
  "nbformat": 4,
  "nbformat_minor": 0,
  "metadata": {
    "colab": {
      "name": "mini-proyecto.ipynb",
      "provenance": []
    },
    "kernelspec": {
      "name": "python3",
      "display_name": "Python 3"
    },
    "language_info": {
      "name": "python"
    }
  },
  "cells": [
    {
      "cell_type": "markdown",
      "metadata": {
        "id": "97r7iMXai9ml"
      },
      "source": [
        "# Retos: Mini-Proyecto de mitad de módulo\n",
        "\n",
        "### 1. Objetivos:\n",
        "\n",
        "- Practicar la aplicación de los modelos y algoritmos de la sesión\n",
        " \n",
        "---\n",
        "    \n",
        "### 2. Desarrollo:\n",
        "\n",
        "En este Reto vamos a ver qué tan buenas predicciones podemos realizar entre pares de variables de nuestro dataset 'wine_quality_red-clean.csv'. Nuestros intentos en este momento van a ser bastante básicos, puesto que el mundo de las predicciones es tan vasto y complejo, que no hay manera de aprender todos los pequeños detalles durante este curso. Pero de todas maneras, lo que harás en este momento es un gran avance hacia desarrollar la capacidad de aplicar estas herramientas en el mundo real.\n",
        "\n",
        "Realiza los siguientes pasos:\n",
        "\n",
        "### Regresión Lineal\n",
        "\n",
        "1. Lee tu dataset y utilizando gráficas de dispersión, y complementando el análisis con promedios, medianas, desviación estándar, boxplots e histogramas, elimina del dataset los valores que consideres como atípicos.\n",
        "2. Utiliza una gráfica de pares (pairplot) para graficar tus variables y asegurarte de que no se te escapó algún par de variables interesantes que no pudimos identificar con la matriz de correlaciones.\n",
        "3. Elige 2 pares de variables que te parezcan más prometedores para realizar predicciones.\n",
        "4. Si es necesario, realiza un poco más de limpieza en esos 2 pares. En este momento no importa si perdemos información\n",
        "5. Por cada par, elige tu variable independiente y dependiente.\n",
        "6. Crea un modelo de regresión lineal por cada par de variables y entrénalos.\n",
        "7. Crea gráficas para cada par de variables donde podamos ver una gráfica de dispersión de todas las muestras y una gráfica lineal que represente cada modelo entrenado.\n",
        "8. Obtén el coeficiente de determinación para cada una de tus regresiones.\n",
        "\n",
        "### Bootstrap \n",
        "\n",
        "9. Elige una variable numérica. \n",
        "10. Si no lo haz hecho aún, grafica tu variable usando un histograma y un boxplot, para que tengas una idea más detallada de su distribucióny si consideras que hay valores atípicos, lidia con ellos de la manera que te parezca más adecuada.\n",
        "11. Ahora vamos a ver qué tanta incertidumbre y sesgo hay en tus hallazgos. Vamos a aplicar la técnica de bootstrap 3 veces:\n",
        "\n",
        "  a) Realiza 100 000 remuestreos, cada uno de 5 elementos. Obtén la medida estadística que te interese de cada muestra y guarda los resultados en una lista.\n",
        "  \n",
        "  b) Repite el mismo proceso, pero esta vez con remuestreos con longitud de 20% del total de los datos.\n",
        "  \n",
        "  c) Repite una vez más, pero esta vez cada nueva muestra tendrá una longitud de 90% de la original.\n",
        "  \n",
        "12. Grafica cada una de las listas resultantes en un histograma.\n",
        "13. Obtén la asimetría y curtosis de cada una y compáralas entre ellas. ¿Cuál es más similar a una distribución normal? ¿Qué diferencias tienen entre ellas?\n",
        "14. Ahora, obtén el error estándar de ambas medidas estadísticas. Utiliza el mínimo, el máximo y el rango para contextualizar tu error estándar y saber qué tan grande o pequeño es.\n",
        "15. Ahora, para cada medida estadística obtén los intervalos de confianza de 90%, 95% y 99%. Compara los resultados.\n",
        "\n",
        "### Regresión Lineal multiple\n",
        "\n",
        "16. Explora las correlaciones que existen entre las variables del dataset.\n",
        "17. Elige dos o más variables independientes y una variable dependiente.\n",
        "18. Explora las variables que elegiste para asegurarte de que estén limpias y de que no haya valores atípicos que puedan arruinar el modelo.\n",
        "19. Separa tus datos en dataset de entrenamiento y prueba usando `scikit-learn`.\n",
        "20. Entrena un modelo de Regresión Lineal Múltiple con tu dataset de entrenamiento.\n",
        "21. Evalúa tu modelo usando el dataset de prueba.\n",
        "22. Si crees que una combinación de variables pueda obtener mejor resultado, repite y el proceso.\n",
        "23. Entrena un modelo de Regresión Lineal Múltiple utilizando validación cruzada de K-iteraciones.\n",
        "24. Obtén el promedio de tus scores y el nivel de incertidumbre.\n",
        "25. Compara tu resultado con el resultado obtenido en el punto 21."
      ]
    }
  ]
}