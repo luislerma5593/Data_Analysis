{
 "cells": [
  {
   "cell_type": "markdown",
   "metadata": {},
   "source": [
    "## Reto 3: Nltk Text\n",
    "\n",
    "### 1. Objetivos:\n",
    "    - Practicar el uso del objeto Text de la librería Nltk\n",
    " \n",
    "---\n",
    "    \n",
    "### 2. Desarrollo:"
   ]
  },
  {
   "cell_type": "markdown",
   "metadata": {},
   "source": [
    "Vamos a practicar utilizar el objeto Text de la librería Nltk. Para practicar utilizaremos el conjunto de datos que limpiaste en el Reto anterior. Este conjunto de datos debería de contener todas las evaluaciones registradas en el dataset 'amazon_fine_food_reviews-clean.csv' ya limpias y listas para el análisis.\n",
    "\n",
    "Tu Reto consiste en lo siguiente:\n",
    "\n",
    "1. Aplica el método 'word_tokenize' de nltk para separar todas las evaluaciones por palabras (esto puede tardar un ratito).\n",
    "2. Genera una sola lista con todas las listas que obtuviste en el paso 1 y úsala para crear un objeto `nltk.Text` (esto también puede tardar un ratito, sé paciente).\n",
    "3. Busca las concordancias de las palabras 'boy' y 'girl'.\n",
    "4. Busca las palabras que tengan contextos similares a las palabras 'boy' y 'girl'.\n",
    "5. Busca los contextos que tengan en común las palabras 'boy' y 'girl'.\n",
    "6. Cuantifica la riqueza léxica de tu conjunto de datos\n",
    "7. Sigue tu curiosidad y realiza algunas otras exploraciones por tu cuenta.\n",
    "8. Comenta tus hallazgos con tus compañeros y la experta."
   ]
  },
  {
   "cell_type": "code",
   "execution_count": 1,
   "metadata": {},
   "outputs": [],
   "source": [
    "import pandas as pd\n",
    "import nltk\n",
    "import seaborn as sns\n",
    "import matplotlib.pyplot as plt\n",
    "import numpy as np"
   ]
  },
  {
   "cell_type": "code",
   "execution_count": 3,
   "metadata": {},
   "outputs": [
    {
     "data": {
      "text/html": [
       "<div>\n",
       "<style scoped>\n",
       "    .dataframe tbody tr th:only-of-type {\n",
       "        vertical-align: middle;\n",
       "    }\n",
       "\n",
       "    .dataframe tbody tr th {\n",
       "        vertical-align: top;\n",
       "    }\n",
       "\n",
       "    .dataframe thead th {\n",
       "        text-align: right;\n",
       "    }\n",
       "</style>\n",
       "<table border=\"1\" class=\"dataframe\">\n",
       "  <thead>\n",
       "    <tr style=\"text-align: right;\">\n",
       "      <th></th>\n",
       "      <th>id</th>\n",
       "      <th>product_id</th>\n",
       "      <th>user_id</th>\n",
       "      <th>profile_name</th>\n",
       "      <th>helpfulness_numerator</th>\n",
       "      <th>helpfulness_denominator</th>\n",
       "      <th>score</th>\n",
       "      <th>time</th>\n",
       "      <th>summary</th>\n",
       "      <th>text</th>\n",
       "    </tr>\n",
       "  </thead>\n",
       "  <tbody>\n",
       "    <tr>\n",
       "      <th>0</th>\n",
       "      <td>258510</td>\n",
       "      <td>B00168V34W</td>\n",
       "      <td>A1672LH9S1XO70</td>\n",
       "      <td>Lorna J. Loomis \"Canadian Dog Fancier\"</td>\n",
       "      <td>13</td>\n",
       "      <td>14</td>\n",
       "      <td>3</td>\n",
       "      <td>1266796800</td>\n",
       "      <td>Misleading to refer to \"PODS\"</td>\n",
       "      <td>This coffee does NOT come in individual \"PODS\"...</td>\n",
       "    </tr>\n",
       "    <tr>\n",
       "      <th>1</th>\n",
       "      <td>207915</td>\n",
       "      <td>B000CQID2Y</td>\n",
       "      <td>A42CJC66XO0H7</td>\n",
       "      <td>Scott Schimmel \"A Butterfly Dreaming\"</td>\n",
       "      <td>2</td>\n",
       "      <td>2</td>\n",
       "      <td>5</td>\n",
       "      <td>1279497600</td>\n",
       "      <td>Delicious</td>\n",
       "      <td>I was a little skeptical after looking at the ...</td>\n",
       "    </tr>\n",
       "    <tr>\n",
       "      <th>2</th>\n",
       "      <td>522649</td>\n",
       "      <td>B007TJGZ0Y</td>\n",
       "      <td>A16QZBG2UN6Z3X</td>\n",
       "      <td>Toology \"Toology\"</td>\n",
       "      <td>0</td>\n",
       "      <td>0</td>\n",
       "      <td>5</td>\n",
       "      <td>1335830400</td>\n",
       "      <td>One of my favs</td>\n",
       "      <td>Gloia Jeans Butter Toffee is one of my favorit...</td>\n",
       "    </tr>\n",
       "    <tr>\n",
       "      <th>3</th>\n",
       "      <td>393368</td>\n",
       "      <td>B000W7PUOW</td>\n",
       "      <td>A3J21CQZG60K35</td>\n",
       "      <td>Hsieh Pei Hsuan</td>\n",
       "      <td>2</td>\n",
       "      <td>2</td>\n",
       "      <td>5</td>\n",
       "      <td>1265673600</td>\n",
       "      <td>Tasty!!</td>\n",
       "      <td>My families and friends love Planters peanuts ...</td>\n",
       "    </tr>\n",
       "    <tr>\n",
       "      <th>4</th>\n",
       "      <td>178178</td>\n",
       "      <td>B002FX2IOQ</td>\n",
       "      <td>A1Z7XV6JU0EV8M</td>\n",
       "      <td>Barbara \"Barbara\"</td>\n",
       "      <td>1</td>\n",
       "      <td>6</td>\n",
       "      <td>1</td>\n",
       "      <td>1301788800</td>\n",
       "      <td>Organic Valley White 1 % Milkfat Lowfat Milk, ...</td>\n",
       "      <td>Organic Valley White 1 % Milkfat Lowfat Milk, ...</td>\n",
       "    </tr>\n",
       "  </tbody>\n",
       "</table>\n",
       "</div>"
      ],
      "text/plain": [
       "       id  product_id         user_id                            profile_name  \\\n",
       "0  258510  B00168V34W  A1672LH9S1XO70  Lorna J. Loomis \"Canadian Dog Fancier\"   \n",
       "1  207915  B000CQID2Y   A42CJC66XO0H7   Scott Schimmel \"A Butterfly Dreaming\"   \n",
       "2  522649  B007TJGZ0Y  A16QZBG2UN6Z3X                       Toology \"Toology\"   \n",
       "3  393368  B000W7PUOW  A3J21CQZG60K35                         Hsieh Pei Hsuan   \n",
       "4  178178  B002FX2IOQ  A1Z7XV6JU0EV8M                       Barbara \"Barbara\"   \n",
       "\n",
       "   helpfulness_numerator  helpfulness_denominator  score        time  \\\n",
       "0                     13                       14      3  1266796800   \n",
       "1                      2                        2      5  1279497600   \n",
       "2                      0                        0      5  1335830400   \n",
       "3                      2                        2      5  1265673600   \n",
       "4                      1                        6      1  1301788800   \n",
       "\n",
       "                                             summary  \\\n",
       "0                      Misleading to refer to \"PODS\"   \n",
       "1                                          Delicious   \n",
       "2                                     One of my favs   \n",
       "3                                            Tasty!!   \n",
       "4  Organic Valley White 1 % Milkfat Lowfat Milk, ...   \n",
       "\n",
       "                                                text  \n",
       "0  This coffee does NOT come in individual \"PODS\"...  \n",
       "1  I was a little skeptical after looking at the ...  \n",
       "2  Gloia Jeans Butter Toffee is one of my favorit...  \n",
       "3  My families and friends love Planters peanuts ...  \n",
       "4  Organic Valley White 1 % Milkfat Lowfat Milk, ...  "
      ]
     },
     "execution_count": 3,
     "metadata": {},
     "output_type": "execute_result"
    }
   ],
   "source": [
    "df = pd.read_csv('../Datasets/amazon_fine_food_reviews-clean.csv')\n",
    "\n",
    "df.head()"
   ]
  },
  {
   "cell_type": "code",
   "execution_count": 6,
   "metadata": {},
   "outputs": [
    {
     "data": {
      "text/plain": [
       "id\n",
       "58        It is chocolate, what can I say.  Great variet...\n",
       "61        Watch your prices with this.  While the assort...\n",
       "73        I ordered two of these and two of raspberry la...\n",
       "86        We have three dogs and all of them love this f...\n",
       "94        My golden retriever is one of the most picky d...\n",
       "                                ...                        \n",
       "568303    These little nuggets are so good. I cry becaus...\n",
       "568334    Wonderful alternative to the candies with all ...\n",
       "568372    One of the very few, if not the only, mix that...\n",
       "568400    These are straws filled with lemon flavored ho...\n",
       "568448    Hoping there is no MSG in this, this tastes ex...\n",
       "Name: text, Length: 14211, dtype: object"
      ]
     },
     "execution_count": 6,
     "metadata": {},
     "output_type": "execute_result"
    }
   ],
   "source": [
    "grouped_by_title= df.groupby('id')['text'].max()\n",
    "grouped_by_title"
   ]
  },
  {
   "cell_type": "code",
   "execution_count": 7,
   "metadata": {},
   "outputs": [
    {
     "name": "stderr",
     "output_type": "stream",
     "text": [
      "<ipython-input-7-7b19dfa1992e>:3: FutureWarning: The default value of regex will change from True to False in a future version.\n",
      "  grouped_by_title = grouped_by_title.str.replace('[^\\w\\s]', '')\n",
      "<ipython-input-7-7b19dfa1992e>:4: FutureWarning: The default value of regex will change from True to False in a future version.\n",
      "  grouped_by_title = grouped_by_title.str.replace('\\d', '')\n",
      "<ipython-input-7-7b19dfa1992e>:5: FutureWarning: The default value of regex will change from True to False in a future version.\n",
      "  grouped_by_title = grouped_by_title.str.replace('\\\\n', '')\n"
     ]
    },
    {
     "data": {
      "text/plain": [
       "id\n",
       "58        it is chocolate what can i say  great variety ...\n",
       "61        watch your prices with this  while the assortm...\n",
       "73        i ordered two of these and two of raspberry la...\n",
       "86        we have three dogs and all of them love this f...\n",
       "94        my golden retriever is one of the most picky d...\n",
       "                                ...                        \n",
       "568303    these little nuggets are so good i cry because...\n",
       "568334    wonderful alternative to the candies with all ...\n",
       "568372    one of the very few if not the only mix that h...\n",
       "568400    these are straws filled with lemon flavored ho...\n",
       "568448    hoping there is no msg in this this tastes ext...\n",
       "Name: text, Length: 14211, dtype: object"
      ]
     },
     "execution_count": 7,
     "metadata": {},
     "output_type": "execute_result"
    }
   ],
   "source": [
    "grouped_by_title = grouped_by_title.str.lower()\n",
    "grouped_by_title = grouped_by_title.str.strip()\n",
    "grouped_by_title = grouped_by_title.str.replace('[^\\w\\s]', '')\n",
    "grouped_by_title = grouped_by_title.str.replace('\\d', '')\n",
    "grouped_by_title = grouped_by_title.str.replace('\\\\n', '')\n",
    "grouped_by_title = grouped_by_title.dropna()\n",
    "\n",
    "grouped_by_title"
   ]
  },
  {
   "cell_type": "code",
   "execution_count": 8,
   "metadata": {},
   "outputs": [],
   "source": [
    "tokenized = grouped_by_title.apply(nltk.word_tokenize)"
   ]
  },
  {
   "cell_type": "code",
   "execution_count": 9,
   "metadata": {},
   "outputs": [
    {
     "data": {
      "text/plain": [
       "<Text: it is chocolate what can i say great...>"
      ]
     },
     "execution_count": 9,
     "metadata": {},
     "output_type": "execute_result"
    }
   ],
   "source": [
    "all_words = tokenized.sum()\n",
    "text = nltk.Text(all_words)\n",
    "\n",
    "text"
   ]
  },
  {
   "cell_type": "code",
   "execution_count": 11,
   "metadata": {},
   "outputs": [
    {
     "name": "stdout",
     "output_type": "stream",
     "text": [
      "Displaying 20 of 78 matches:\n",
      "re like box since it was a packbr but boy was i wrong this is my very favorite \n",
      "l but i thought i would give it a try boy was i amazed by the refreshing flavor\n",
      "honey and peanuts going for thembr br boy was i disappointed i thought this cer\n",
      "ree and gluten eaters in our home and boy am i glad we ordered of these from am\n",
      "ed down version of real coconut water boy was i wrong what i got was a very swe\n",
      " making of one down to the letter and boy oh boy not only was my husband thrill\n",
      " of one down to the letter and boy oh boy not only was my husband thrilled i no\n",
      "up its calorie free and carb free and boy can you tell i tried this twice wante\n",
      "e natural food chips are super greasy boy was i wrong this time madhouse munchi\n",
      "ouse and arriving via the brown truck boy was i wrong they were just like the o\n",
      "d wouldnt be destroyed within minutes boy did this fit the bill he has had it f\n",
      "of almost six months ago for our baby boy and we still have one left after givi\n",
      "ave ordered a bonsai tree from bonsai boy it arrived within a week the tree was\n",
      "orward from ordering more from bonsai boy i am a vegetarian and i wanted so bad\n",
      "ker quadratini lemon wafer cookies oh boy are these good they disappear real fa\n",
      "the past with store bought brands and boy did i regret it haha if you dont have\n",
      "center yes theyre chewy and gooey and boy are they sweet a bit too sweet for my\n",
      "out giving them to him my super picky boy practically snatches these out of my \n",
      "ckers dont they well our threeyearold boy certainly does so my wife picked up a\n",
      "e are just as much for her as for the boy well what can you do we already have \n"
     ]
    }
   ],
   "source": [
    "text.concordance('boy', lines=20)"
   ]
  },
  {
   "cell_type": "code",
   "execution_count": 12,
   "metadata": {},
   "outputs": [
    {
     "name": "stdout",
     "output_type": "stream",
     "text": [
      "Displaying 20 of 71 matches:\n",
      "ough it was a good value purchase my girl has loved these for two years when t\n",
      " this is one of the few treats wilhi girl enjoys the pods arrived fresh and qu\n",
      "ate reminds me of the chocolate mint girl scout cookies with less sugarbr br n\n",
      "fetti cake for a bridal shower for a girl whose colors were hot pink and black\n",
      "n dogs as they age i want my special girl to stay healthy pain free and happy \n",
      " bagmy tiny little italian greyhound girl gets a greenie at bedtime and someti\n",
      "ike im usually doing for this little girl then go with the fancy feast version\n",
      "ine from lindas diet delites my baby girl choked on this she had been eating f\n",
      "hearing about this product on hungry girl i love peanut butter but not all tha\n",
      "corn making sweet love to my tonguea girl unicorn of courseit is the cure for \n",
      "s food to be a lifesaver for her old girl i got them all none broken i wish th\n",
      "tle something extra when shes a good girl and not have to worry if she will ge\n",
      "ut the taste of the food and even my girl who we used to have to push to finis\n",
      " were much cheaper at target my baby girl loves this flavor apples have always\n",
      "ts that we have ever seen our little girl literery goes nuts when we take thes\n",
      "male shih tzu and he ate them but my girl wasnt impressed i am still searching\n",
      "lly i am a made from scratch kind of girl but wanted to try these flavors and \n",
      "ate reminds me of the chocolate mint girl scout cookies with less sugarbr br n\n",
      " i am a starbucks extra bold kind of girl so remember that when you read my re\n",
      "es ive ever had we recently got some girl scout cookies i dont care for the mi\n"
     ]
    }
   ],
   "source": [
    "text.concordance('girl', lines=20)"
   ]
  },
  {
   "cell_type": "code",
   "execution_count": 14,
   "metadata": {},
   "outputs": [
    {
     "name": "stdout",
     "output_type": "stream",
     "text": [
      "i it and this that flavor there taste he one she so dog what price\n",
      "shipping product amazon cat but\n"
     ]
    }
   ],
   "source": [
    "text.similar('boy') "
   ]
  },
  {
   "cell_type": "code",
   "execution_count": 15,
   "metadata": {},
   "outputs": [
    {
     "name": "stdout",
     "output_type": "stream",
     "text": [
      "food dog cat tea taste one flavor coffee and time dogs door stuff\n",
      "product mouth price but wife packaging sister\n"
     ]
    }
   ],
   "source": [
    "text.similar('girl') "
   ]
  },
  {
   "cell_type": "code",
   "execution_count": 13,
   "metadata": {},
   "outputs": [
    {
     "name": "stdout",
     "output_type": "stream",
     "text": [
      "little_i\n"
     ]
    }
   ],
   "source": [
    "text.common_contexts(['boy', 'girl'])"
   ]
  },
  {
   "cell_type": "code",
   "execution_count": 16,
   "metadata": {},
   "outputs": [
    {
     "data": {
      "text/plain": [
       "0.02792816678597626"
      ]
     },
     "execution_count": 16,
     "metadata": {},
     "output_type": "execute_result"
    }
   ],
   "source": [
    "len(set(text)) / len(text) "
   ]
  }
 ],
 "metadata": {
  "kernelspec": {
   "display_name": "Python 3",
   "language": "python",
   "name": "python3"
  },
  "language_info": {
   "codemirror_mode": {
    "name": "ipython",
    "version": 3
   },
   "file_extension": ".py",
   "mimetype": "text/x-python",
   "name": "python",
   "nbconvert_exporter": "python",
   "pygments_lexer": "ipython3",
   "version": "3.8.8"
  }
 },
 "nbformat": 4,
 "nbformat_minor": 4
}
