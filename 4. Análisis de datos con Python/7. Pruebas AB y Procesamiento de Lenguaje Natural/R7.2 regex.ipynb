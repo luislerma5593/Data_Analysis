{
 "cells": [
  {
   "cell_type": "markdown",
   "metadata": {},
   "source": [
    "## Reto 2: Regex\n",
    "\n",
    "### 1. Objetivos:\n",
    "    - Practicar expresiones regulares con un conjunto de datos real\n",
    " \n",
    "---\n",
    "    \n",
    "### 2. Desarrollo:"
   ]
  },
  {
   "cell_type": "markdown",
   "metadata": {},
   "source": [
    "Vamos a practicar expresiones regulares utilizando un conjunto de datos llamado 'amazon_fine_food_reviews-clean.csv'. Este conjunto de datos es en realidad un subconjunto de un conjunto más grande que proviene de [esta fuente](https://www.kaggle.com/snap/amazon-fine-food-reviews). Contiene evaluaciones de muchos diversos productos realizadas por usuarios de Amazon. La columna 'text' contiene el texto de la evaluación, y ésa es la columna que nos interesa.\n",
    "\n",
    "Vamos a practicar expresiones regulares con esa columna. Con cada búsqueda que realices vas a obtener un nuevo subconjunto de datos de un tamaño específico. Al terminar tus búsquedas compara el tamaño de tus subconjuntos de datos con los de tus compañeros, para checar que tus respuestas fueron correctas.\n",
    "\n",
    "Tu Reto es entonces obtener subconjunto de datos que tengan estas características:\n",
    "\n",
    "1. Todas las evaluaciones que contengan la palabra 'food' (en minúsculas).\n",
    "2. Todas las evaluaciones que contengan algún número de dos digitos.\n",
    "3. Todas las evaluaciones que contengan algún porcentaje (uno o más digitos seguidos de un signo de porcentaje).\n",
    "4. Todas las evaluaciones que comiencen con la palabra 'Dog' o 'dog'.\n",
    "5. Todas las evaluaciones que terminen con el fragmento 'awesome.' (fíjate que hay específicamente un punto después de la palabra 'awesome').\n",
    "6. Todas las evaluaciones que contengan las palabras 'horrible' **o** 'terrible'.\n",
    "7. Todas las evaluaciones que contengan **solamente** letras minúsculas.\n",
    "\n",
    "Después de realizar estas exploraciones, limpia tu conjunto de datos para remover lo siguiente de todos tus textos:\n",
    "\n",
    "1. Cualquier forma parecida a la siguiente: `<br>` o `<br/>` (revisa variaciones de estos tags, con espacios intermedios, por ejemplo)\n",
    "2. Signos en general\n",
    "3. Digitos\n",
    "4. Cualquier otra cosa que no te parezca relevante para nuestro análisis de lenguaje natural\n",
    "\n",
    "También convierte todas las letras en minúsculas para homogeneizar nuestro conjunto de datos.\n",
    "\n",
    "Guarda tu conjunto de datos como un archivo 'csv' para que lo puedas utilizar en los próximos retos (asegúrate de incluir **por lo menos** las columnas 'text' y 'score'."
   ]
  },
  {
   "cell_type": "code",
   "execution_count": 1,
   "metadata": {},
   "outputs": [],
   "source": [
    "import pandas as pd\n",
    "import re"
   ]
  },
  {
   "cell_type": "code",
   "execution_count": 2,
   "metadata": {
    "scrolled": true
   },
   "outputs": [
    {
     "data": {
      "text/html": [
       "<div>\n",
       "<style scoped>\n",
       "    .dataframe tbody tr th:only-of-type {\n",
       "        vertical-align: middle;\n",
       "    }\n",
       "\n",
       "    .dataframe tbody tr th {\n",
       "        vertical-align: top;\n",
       "    }\n",
       "\n",
       "    .dataframe thead th {\n",
       "        text-align: right;\n",
       "    }\n",
       "</style>\n",
       "<table border=\"1\" class=\"dataframe\">\n",
       "  <thead>\n",
       "    <tr style=\"text-align: right;\">\n",
       "      <th></th>\n",
       "      <th>id</th>\n",
       "      <th>product_id</th>\n",
       "      <th>user_id</th>\n",
       "      <th>profile_name</th>\n",
       "      <th>helpfulness_numerator</th>\n",
       "      <th>helpfulness_denominator</th>\n",
       "      <th>score</th>\n",
       "      <th>time</th>\n",
       "      <th>summary</th>\n",
       "      <th>text</th>\n",
       "    </tr>\n",
       "  </thead>\n",
       "  <tbody>\n",
       "    <tr>\n",
       "      <th>0</th>\n",
       "      <td>258510</td>\n",
       "      <td>B00168V34W</td>\n",
       "      <td>A1672LH9S1XO70</td>\n",
       "      <td>Lorna J. Loomis \"Canadian Dog Fancier\"</td>\n",
       "      <td>13</td>\n",
       "      <td>14</td>\n",
       "      <td>3</td>\n",
       "      <td>1266796800</td>\n",
       "      <td>Misleading to refer to \"PODS\"</td>\n",
       "      <td>This coffee does NOT come in individual \"PODS\"...</td>\n",
       "    </tr>\n",
       "    <tr>\n",
       "      <th>1</th>\n",
       "      <td>207915</td>\n",
       "      <td>B000CQID2Y</td>\n",
       "      <td>A42CJC66XO0H7</td>\n",
       "      <td>Scott Schimmel \"A Butterfly Dreaming\"</td>\n",
       "      <td>2</td>\n",
       "      <td>2</td>\n",
       "      <td>5</td>\n",
       "      <td>1279497600</td>\n",
       "      <td>Delicious</td>\n",
       "      <td>I was a little skeptical after looking at the ...</td>\n",
       "    </tr>\n",
       "    <tr>\n",
       "      <th>2</th>\n",
       "      <td>522649</td>\n",
       "      <td>B007TJGZ0Y</td>\n",
       "      <td>A16QZBG2UN6Z3X</td>\n",
       "      <td>Toology \"Toology\"</td>\n",
       "      <td>0</td>\n",
       "      <td>0</td>\n",
       "      <td>5</td>\n",
       "      <td>1335830400</td>\n",
       "      <td>One of my favs</td>\n",
       "      <td>Gloia Jeans Butter Toffee is one of my favorit...</td>\n",
       "    </tr>\n",
       "    <tr>\n",
       "      <th>3</th>\n",
       "      <td>393368</td>\n",
       "      <td>B000W7PUOW</td>\n",
       "      <td>A3J21CQZG60K35</td>\n",
       "      <td>Hsieh Pei Hsuan</td>\n",
       "      <td>2</td>\n",
       "      <td>2</td>\n",
       "      <td>5</td>\n",
       "      <td>1265673600</td>\n",
       "      <td>Tasty!!</td>\n",
       "      <td>My families and friends love Planters peanuts ...</td>\n",
       "    </tr>\n",
       "    <tr>\n",
       "      <th>4</th>\n",
       "      <td>178178</td>\n",
       "      <td>B002FX2IOQ</td>\n",
       "      <td>A1Z7XV6JU0EV8M</td>\n",
       "      <td>Barbara \"Barbara\"</td>\n",
       "      <td>1</td>\n",
       "      <td>6</td>\n",
       "      <td>1</td>\n",
       "      <td>1301788800</td>\n",
       "      <td>Organic Valley White 1 % Milkfat Lowfat Milk, ...</td>\n",
       "      <td>Organic Valley White 1 % Milkfat Lowfat Milk, ...</td>\n",
       "    </tr>\n",
       "  </tbody>\n",
       "</table>\n",
       "</div>"
      ],
      "text/plain": [
       "       id  product_id         user_id                            profile_name  \\\n",
       "0  258510  B00168V34W  A1672LH9S1XO70  Lorna J. Loomis \"Canadian Dog Fancier\"   \n",
       "1  207915  B000CQID2Y   A42CJC66XO0H7   Scott Schimmel \"A Butterfly Dreaming\"   \n",
       "2  522649  B007TJGZ0Y  A16QZBG2UN6Z3X                       Toology \"Toology\"   \n",
       "3  393368  B000W7PUOW  A3J21CQZG60K35                         Hsieh Pei Hsuan   \n",
       "4  178178  B002FX2IOQ  A1Z7XV6JU0EV8M                       Barbara \"Barbara\"   \n",
       "\n",
       "   helpfulness_numerator  helpfulness_denominator  score        time  \\\n",
       "0                     13                       14      3  1266796800   \n",
       "1                      2                        2      5  1279497600   \n",
       "2                      0                        0      5  1335830400   \n",
       "3                      2                        2      5  1265673600   \n",
       "4                      1                        6      1  1301788800   \n",
       "\n",
       "                                             summary  \\\n",
       "0                      Misleading to refer to \"PODS\"   \n",
       "1                                          Delicious   \n",
       "2                                     One of my favs   \n",
       "3                                            Tasty!!   \n",
       "4  Organic Valley White 1 % Milkfat Lowfat Milk, ...   \n",
       "\n",
       "                                                text  \n",
       "0  This coffee does NOT come in individual \"PODS\"...  \n",
       "1  I was a little skeptical after looking at the ...  \n",
       "2  Gloia Jeans Butter Toffee is one of my favorit...  \n",
       "3  My families and friends love Planters peanuts ...  \n",
       "4  Organic Valley White 1 % Milkfat Lowfat Milk, ...  "
      ]
     },
     "execution_count": 2,
     "metadata": {},
     "output_type": "execute_result"
    }
   ],
   "source": [
    "df = pd.read_csv('../Datasets/amazon_fine_food_reviews-clean.csv')\n",
    "\n",
    "df.head()"
   ]
  },
  {
   "cell_type": "code",
   "execution_count": 3,
   "metadata": {},
   "outputs": [
    {
     "data": {
      "text/plain": [
       "id\n",
       "58    It is chocolate, what can I say.  Great variet...\n",
       "61    Watch your prices with this.  While the assort...\n",
       "73    I ordered two of these and two of raspberry la...\n",
       "86    We have three dogs and all of them love this f...\n",
       "94    My golden retriever is one of the most picky d...\n",
       "Name: text, dtype: object"
      ]
     },
     "execution_count": 3,
     "metadata": {},
     "output_type": "execute_result"
    }
   ],
   "source": [
    "df2 = df.groupby(\"id\")[\"text\"].last()\n",
    "df2.head()"
   ]
  },
  {
   "cell_type": "code",
   "execution_count": 4,
   "metadata": {
    "scrolled": true
   },
   "outputs": [
    {
     "data": {
      "text/plain": [
       "id\n",
       "86        We have three dogs and all of them love this f...\n",
       "94        My golden retriever is one of the most picky d...\n",
       "211       I started my cat on Felidae Platinum about 3 w...\n",
       "214       As with canidae, Felidae has also changed thei...\n",
       "238       The recommendation when we bought our puppies ...\n",
       "                                ...                        \n",
       "567926    Fish has that all important DHA that helps bra...\n",
       "567928    This has been my baby's (now 21 months) favori...\n",
       "568001    My 18+ month old enjoys this food very much. T...\n",
       "568024    I have been making my son's baby food but need...\n",
       "568062    Very surprised.  Expected it to be thicker.  M...\n",
       "Name: text, Length: 1774, dtype: object"
      ]
     },
     "execution_count": 4,
     "metadata": {},
     "output_type": "execute_result"
    }
   ],
   "source": [
    "df2[df2.str.contains(\"food\", case=True)]"
   ]
  },
  {
   "cell_type": "markdown",
   "metadata": {},
   "source": [
    "Todas las evaluaciones que contengan algún número de dos digitos.\n"
   ]
  },
  {
   "cell_type": "code",
   "execution_count": 5,
   "metadata": {
    "scrolled": true
   },
   "outputs": [
    {
     "data": {
      "text/plain": [
       "id\n",
       "94        My golden retriever is one of the most picky d...\n",
       "238       The recommendation when we bought our puppies ...\n",
       "369       \"Nantucket Blend coffee is one of my favorites...\n",
       "664       We have been using 17-Day Diet guided by Low-G...\n",
       "673       I am very disappointed with this product becau...\n",
       "                                ...                        \n",
       "567928    This has been my baby's (now 21 months) favori...\n",
       "568001    My 18+ month old enjoys this food very much. T...\n",
       "568110    Absolutely delicious.  My dad bought these Pir...\n",
       "568141    I have always bought Starbucks coffee from a s...\n",
       "568215    I was very satisfied with my purchase of caram...\n",
       "Name: text, Length: 3019, dtype: object"
      ]
     },
     "execution_count": 5,
     "metadata": {},
     "output_type": "execute_result"
    }
   ],
   "source": [
    "df2[df2.str.contains(\"[0-9][0-9]\")]"
   ]
  },
  {
   "cell_type": "code",
   "execution_count": 7,
   "metadata": {
    "scrolled": true
   },
   "outputs": [
    {
     "data": {
      "text/plain": [
       "id\n",
       "664       We have been using 17-Day Diet guided by Low-G...\n",
       "1322      This cocoa powder has a deep, fruity taste- I ...\n",
       "2154      These are awesome and if you know where to fin...\n",
       "3596      Over 90% of dry dog food is very unhealthy and...\n",
       "5610      A 25% price increase since the end of November...\n",
       "                                ...                        \n",
       "564046    I purchased this item after reading through th...\n",
       "565533    Love the taste, first off!  I have only tried ...\n",
       "566074    I love peanut butter but hate all the calories...\n",
       "566387    There are basically two ways to look at Kraft ...\n",
       "566427    We switched a long time ago to only eating 100...\n",
       "Name: text, Length: 388, dtype: object"
      ]
     },
     "execution_count": 7,
     "metadata": {},
     "output_type": "execute_result"
    }
   ],
   "source": [
    "#Todas las evaluaciones que contengan algún porcentaje (uno o más digitos seguidos de un signo de porcentaje\n",
    "\n",
    "df2[df2.str.contains(\"[0-9]%\")]"
   ]
  },
  {
   "cell_type": "code",
   "execution_count": 13,
   "metadata": {
    "scrolled": true
   },
   "outputs": [
    {
     "data": {
      "text/plain": [
       "id\n",
       "21456     Dogs LOVE Greenies!  They go crazy if they eve...\n",
       "89608     Dogs liked it \"okay.\"  Did NOT give it th the ...\n",
       "160700    Dogs probably don't really want to spend most ...\n",
       "255027    Dog loves these. Eats them quickly and without...\n",
       "502312    Dogs love it. It smells like chicken. I have b...\n",
       "Name: text, dtype: object"
      ]
     },
     "execution_count": 13,
     "metadata": {},
     "output_type": "execute_result"
    }
   ],
   "source": [
    "# Todas las evaluaciones que comiencen con la palabra 'Dog' o 'dog'.\n",
    "\n",
    "df2[df2.str.contains(\"^Dog|^dog\")]"
   ]
  },
  {
   "cell_type": "code",
   "execution_count": 24,
   "metadata": {
    "scrolled": true
   },
   "outputs": [
    {
     "data": {
      "text/plain": [
       "id\n",
       "101543    The toy seems pretty durable which is a big wi...\n",
       "109285    If you want to improve your milk production, t...\n",
       "152625    I love Tiger Sauce! I eat it with cream cheese...\n",
       "263973    I am a frequent purchaser on Amazon, yet I can...\n",
       "265598    I had never heard of Dende Oil before I read a...\n",
       "312084    these are awesome. though they're gluten free,...\n",
       "327377    My boyfriend and I have been trying various bo...\n",
       "466528    These are decent, but if you want a realllly g...\n",
       "531750    This is a deliscious drink.I have trouble keep...\n",
       "Name: text, dtype: object"
      ]
     },
     "execution_count": 24,
     "metadata": {},
     "output_type": "execute_result"
    }
   ],
   "source": [
    "# Todas las evaluaciones que terminen con el fragmento 'awesome.' (fíjate que hay específicamente un punto después de la palabra 'awesome').\n",
    "\n",
    "df2[df2.str.contains(\"awesome.$\")]"
   ]
  },
  {
   "cell_type": "code",
   "execution_count": 31,
   "metadata": {
    "scrolled": true
   },
   "outputs": [
    {
     "data": {
      "text/plain": [
       "id\n",
       "194       These little guys are tasty and refreshing.<br...\n",
       "214       As with canidae, Felidae has also changed thei...\n",
       "2737      This is  terrible popcorn! No taste, poor popp...\n",
       "3957      I love the product.  But, the bottle design is...\n",
       "9384      I thought this coffee was really horrible. Had...\n",
       "                                ...                        \n",
       "545651    I first purchased this Danielle product at all...\n",
       "546846    Our 6-year old Vizsla has been eating Canidae ...\n",
       "554686    I orders this fruitcake from amazon.I thought ...\n",
       "559328    I have eaten the varieties of these for years ...\n",
       "561327    I read all the other reviews...I'm in the camp...\n",
       "Name: text, Length: 216, dtype: object"
      ]
     },
     "execution_count": 31,
     "metadata": {},
     "output_type": "execute_result"
    }
   ],
   "source": [
    "# Todas las evaluaciones que contengan las palabras 'horrible' o 'terrible'.\n",
    "df2[df2.str.contains(\"horrible|terrible\")]"
   ]
  },
  {
   "cell_type": "code",
   "execution_count": 18,
   "metadata": {},
   "outputs": [
    {
     "data": {
      "text/plain": [
       "id\n",
       "1801      they taste awesome! esp the salt n pepper one!...\n",
       "2805      bar harbor clam chowder is an excellent produc...\n",
       "3568      very good corn product, we will be eating this...\n",
       "6485      tastes like dry brownie w/ invisible pieces of...\n",
       "6500      they are fabulous and not bad for you, what el...\n",
       "                                ...                        \n",
       "563570    i love this cookie it was so soft and chewy an...\n",
       "565492    start every morning w/click, 4oz ff milk and d...\n",
       "566027    read about manuka honey online, and have bough...\n",
       "566735    this is the best product i have ever used its ...\n",
       "567754    i have tried many brands of the hot chocolates...\n",
       "Name: text, Length: 484, dtype: object"
      ]
     },
     "execution_count": 18,
     "metadata": {},
     "output_type": "execute_result"
    }
   ],
   "source": [
    "# Todas las evaluaciones que contengan solamente letras minúsculas.\n",
    "df2[df2.str.contains(\"^[a-z]\")]"
   ]
  }
 ],
 "metadata": {
  "kernelspec": {
   "display_name": "Python 3",
   "language": "python",
   "name": "python3"
  },
  "language_info": {
   "codemirror_mode": {
    "name": "ipython",
    "version": 3
   },
   "file_extension": ".py",
   "mimetype": "text/x-python",
   "name": "python",
   "nbconvert_exporter": "python",
   "pygments_lexer": "ipython3",
   "version": "3.8.8"
  }
 },
 "nbformat": 4,
 "nbformat_minor": 4
}
