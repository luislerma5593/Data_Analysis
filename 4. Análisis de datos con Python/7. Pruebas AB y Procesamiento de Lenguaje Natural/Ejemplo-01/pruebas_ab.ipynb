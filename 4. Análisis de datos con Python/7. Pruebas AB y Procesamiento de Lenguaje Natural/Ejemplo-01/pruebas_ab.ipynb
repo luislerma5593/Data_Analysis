{
 "cells": [
  {
   "cell_type": "markdown",
   "metadata": {},
   "source": [
    "## Ejemplo 1: Pruebas A/B\n",
    "\n",
    "### 1. Objetivos:\n",
    "    - Aprender a evaluar los resultados de una Prueba A/B\n",
    " \n",
    "---\n",
    "    \n",
    "### 2. Desarrollo:"
   ]
  },
  {
   "cell_type": "markdown",
   "metadata": {},
   "source": [
    "El siguiente es un dataset obtenido con los resultados de una Prueba A/B. Se probaron dos flujos de venta distintos y se registró si cada uno de ellos resultó en una conversión (venta) o no. El test A es la hipótesis alternativa (la aplicada al grupo experimental), mientras que el test B es la hipótesis nula (la aplicada al grupo control)."
   ]
  },
  {
   "cell_type": "code",
   "execution_count": 1,
   "metadata": {},
   "outputs": [],
   "source": [
    "import pandas as pd\n",
    "import seaborn as sns\n",
    "import matplotlib.pyplot as plt"
   ]
  },
  {
   "cell_type": "code",
   "execution_count": 2,
   "metadata": {},
   "outputs": [
    {
     "data": {
      "text/html": [
       "<div>\n",
       "<style scoped>\n",
       "    .dataframe tbody tr th:only-of-type {\n",
       "        vertical-align: middle;\n",
       "    }\n",
       "\n",
       "    .dataframe tbody tr th {\n",
       "        vertical-align: top;\n",
       "    }\n",
       "\n",
       "    .dataframe thead th {\n",
       "        text-align: right;\n",
       "    }\n",
       "</style>\n",
       "<table border=\"1\" class=\"dataframe\">\n",
       "  <thead>\n",
       "    <tr style=\"text-align: right;\">\n",
       "      <th></th>\n",
       "      <th>test</th>\n",
       "      <th>conversion</th>\n",
       "      <th>no conversion</th>\n",
       "    </tr>\n",
       "  </thead>\n",
       "  <tbody>\n",
       "    <tr>\n",
       "      <th>0</th>\n",
       "      <td>B</td>\n",
       "      <td>0</td>\n",
       "      <td>1</td>\n",
       "    </tr>\n",
       "    <tr>\n",
       "      <th>1</th>\n",
       "      <td>A</td>\n",
       "      <td>0</td>\n",
       "      <td>1</td>\n",
       "    </tr>\n",
       "    <tr>\n",
       "      <th>2</th>\n",
       "      <td>A</td>\n",
       "      <td>0</td>\n",
       "      <td>1</td>\n",
       "    </tr>\n",
       "    <tr>\n",
       "      <th>3</th>\n",
       "      <td>A</td>\n",
       "      <td>0</td>\n",
       "      <td>1</td>\n",
       "    </tr>\n",
       "    <tr>\n",
       "      <th>4</th>\n",
       "      <td>A</td>\n",
       "      <td>0</td>\n",
       "      <td>1</td>\n",
       "    </tr>\n",
       "    <tr>\n",
       "      <th>...</th>\n",
       "      <td>...</td>\n",
       "      <td>...</td>\n",
       "      <td>...</td>\n",
       "    </tr>\n",
       "    <tr>\n",
       "      <th>46322</th>\n",
       "      <td>B</td>\n",
       "      <td>0</td>\n",
       "      <td>1</td>\n",
       "    </tr>\n",
       "    <tr>\n",
       "      <th>46323</th>\n",
       "      <td>B</td>\n",
       "      <td>0</td>\n",
       "      <td>1</td>\n",
       "    </tr>\n",
       "    <tr>\n",
       "      <th>46324</th>\n",
       "      <td>B</td>\n",
       "      <td>0</td>\n",
       "      <td>1</td>\n",
       "    </tr>\n",
       "    <tr>\n",
       "      <th>46325</th>\n",
       "      <td>A</td>\n",
       "      <td>0</td>\n",
       "      <td>1</td>\n",
       "    </tr>\n",
       "    <tr>\n",
       "      <th>46326</th>\n",
       "      <td>A</td>\n",
       "      <td>0</td>\n",
       "      <td>1</td>\n",
       "    </tr>\n",
       "  </tbody>\n",
       "</table>\n",
       "<p>46327 rows × 3 columns</p>\n",
       "</div>"
      ],
      "text/plain": [
       "      test  conversion  no conversion\n",
       "0        B           0              1\n",
       "1        A           0              1\n",
       "2        A           0              1\n",
       "3        A           0              1\n",
       "4        A           0              1\n",
       "...    ...         ...            ...\n",
       "46322    B           0              1\n",
       "46323    B           0              1\n",
       "46324    B           0              1\n",
       "46325    A           0              1\n",
       "46326    A           0              1\n",
       "\n",
       "[46327 rows x 3 columns]"
      ]
     },
     "execution_count": 2,
     "metadata": {},
     "output_type": "execute_result"
    }
   ],
   "source": [
    "df = pd.read_csv('../../Datasets/ab_test-sales_pipeline.csv')\n",
    "\n",
    "df"
   ]
  },
  {
   "cell_type": "markdown",
   "metadata": {},
   "source": [
    "Lo primero que podemos hacer es agrupar nuestros resultados por 'test', para realizar un conteo de cuántas conversiones hubo con cada flujo de ventas:"
   ]
  },
  {
   "cell_type": "code",
   "execution_count": 3,
   "metadata": {},
   "outputs": [
    {
     "data": {
      "text/html": [
       "<div>\n",
       "<style scoped>\n",
       "    .dataframe tbody tr th:only-of-type {\n",
       "        vertical-align: middle;\n",
       "    }\n",
       "\n",
       "    .dataframe tbody tr th {\n",
       "        vertical-align: top;\n",
       "    }\n",
       "\n",
       "    .dataframe thead th {\n",
       "        text-align: right;\n",
       "    }\n",
       "</style>\n",
       "<table border=\"1\" class=\"dataframe\">\n",
       "  <thead>\n",
       "    <tr style=\"text-align: right;\">\n",
       "      <th></th>\n",
       "      <th>conversion</th>\n",
       "      <th>no conversion</th>\n",
       "    </tr>\n",
       "    <tr>\n",
       "      <th>test</th>\n",
       "      <th></th>\n",
       "      <th></th>\n",
       "    </tr>\n",
       "  </thead>\n",
       "  <tbody>\n",
       "    <tr>\n",
       "      <th>A</th>\n",
       "      <td>198</td>\n",
       "      <td>23541</td>\n",
       "    </tr>\n",
       "    <tr>\n",
       "      <th>B</th>\n",
       "      <td>184</td>\n",
       "      <td>22404</td>\n",
       "    </tr>\n",
       "  </tbody>\n",
       "</table>\n",
       "</div>"
      ],
      "text/plain": [
       "      conversion  no conversion\n",
       "test                           \n",
       "A            198          23541\n",
       "B            184          22404"
      ]
     },
     "execution_count": 3,
     "metadata": {},
     "output_type": "execute_result"
    }
   ],
   "source": [
    "total_count = df.groupby('test')[['conversion', 'no conversion']].sum()\n",
    "\n",
    "total_count"
   ]
  },
  {
   "cell_type": "markdown",
   "metadata": {},
   "source": [
    "Saquemos la proporción de conversiones que hubo comparadas con el total de pruebas que se realizaron:"
   ]
  },
  {
   "cell_type": "code",
   "execution_count": 4,
   "metadata": {},
   "outputs": [
    {
     "data": {
      "text/html": [
       "<div>\n",
       "<style scoped>\n",
       "    .dataframe tbody tr th:only-of-type {\n",
       "        vertical-align: middle;\n",
       "    }\n",
       "\n",
       "    .dataframe tbody tr th {\n",
       "        vertical-align: top;\n",
       "    }\n",
       "\n",
       "    .dataframe thead th {\n",
       "        text-align: right;\n",
       "    }\n",
       "</style>\n",
       "<table border=\"1\" class=\"dataframe\">\n",
       "  <thead>\n",
       "    <tr style=\"text-align: right;\">\n",
       "      <th></th>\n",
       "      <th>conversion</th>\n",
       "      <th>no conversion</th>\n",
       "      <th>success rate</th>\n",
       "    </tr>\n",
       "    <tr>\n",
       "      <th>test</th>\n",
       "      <th></th>\n",
       "      <th></th>\n",
       "      <th></th>\n",
       "    </tr>\n",
       "  </thead>\n",
       "  <tbody>\n",
       "    <tr>\n",
       "      <th>A</th>\n",
       "      <td>198</td>\n",
       "      <td>23541</td>\n",
       "      <td>0.008341</td>\n",
       "    </tr>\n",
       "    <tr>\n",
       "      <th>B</th>\n",
       "      <td>184</td>\n",
       "      <td>22404</td>\n",
       "      <td>0.008146</td>\n",
       "    </tr>\n",
       "  </tbody>\n",
       "</table>\n",
       "</div>"
      ],
      "text/plain": [
       "      conversion  no conversion  success rate\n",
       "test                                         \n",
       "A            198          23541      0.008341\n",
       "B            184          22404      0.008146"
      ]
     },
     "execution_count": 4,
     "metadata": {},
     "output_type": "execute_result"
    }
   ],
   "source": [
    "total_count['success rate'] = total_count['conversion'] / (total_count['conversion'] + total_count['no conversion'])\n",
    "\n",
    "total_count"
   ]
  },
  {
   "cell_type": "markdown",
   "metadata": {},
   "source": [
    "Con estos datos parecería que el flujo A (la hipótesis alternativa) es superior al flujo B. Veamos qué tan superior:"
   ]
  },
  {
   "cell_type": "code",
   "execution_count": 5,
   "metadata": {},
   "outputs": [],
   "source": [
    "diferencia_en_proporcion = 1 - (total_count.loc['B']['success rate'] / total_count.loc['A']['success rate'])\n",
    "diferencia_en_porcentaje = diferencia_en_proporcion * 100"
   ]
  },
  {
   "cell_type": "code",
   "execution_count": 6,
   "metadata": {},
   "outputs": [
    {
     "name": "stdout",
     "output_type": "stream",
     "text": [
      "El test A fue 2.34% más efectivo que el test B para generar ventas.\n"
     ]
    }
   ],
   "source": [
    "print(f'El test A fue {diferencia_en_porcentaje:.2f}% más `efectivo que el test B para generar ventas.')"
   ]
  },
  {
   "cell_type": "markdown",
   "metadata": {},
   "source": [
    "¿Ahora, podemos entonces concluir que el flujo de ventas A es mejor que el B? No tan rápido. Vamos a aplicar un test de permutación para saber si nuestro hallazgo es estadísticamente significativo.\n",
    "\n",
    "Primero tenemos que mezclar las mediciones del test A y el B en el mismo DataFrame. Esto ya está hecho, entonces solamente vamos a eliminar la columna 'test' para que no haya manera de diferenciarlos:"
   ]
  },
  {
   "cell_type": "code",
   "execution_count": 7,
   "metadata": {},
   "outputs": [],
   "source": [
    "all_measurements = df[['conversion', 'no conversion']]"
   ]
  },
  {
   "cell_type": "markdown",
   "metadata": {},
   "source": [
    "Ahora necesitamos saber cuántos tests con el flujo A hubieron para poder generar muestras del mismo tamaño exactamente:"
   ]
  },
  {
   "cell_type": "code",
   "execution_count": 8,
   "metadata": {},
   "outputs": [
    {
     "data": {
      "text/plain": [
       "A    23739\n",
       "B    22588\n",
       "Name: test, dtype: int64"
      ]
     },
     "execution_count": 8,
     "metadata": {},
     "output_type": "execute_result"
    }
   ],
   "source": [
    "value_counts = df['test'].value_counts()\n",
    "\n",
    "value_counts"
   ]
  },
  {
   "cell_type": "markdown",
   "metadata": {},
   "source": [
    "Ahora vamos a aplicar el resto del algoritmo del test de permutación:\n",
    "\n",
    "1. Usando muestreo aleatorio sin reposición, construye un nuevo grupo A del mismo tamaño que el original.\n",
    "2. El resto de los datos conforman nuestro nuevo grupo B.\n",
    "3. Cuantifica la métrica o estadística que calculaste con los grupos originales y guarda el resultado.\n",
    "4. Repite los pasos 1-5 `R` veces para obtener una distribución de la estadística de interés."
   ]
  },
  {
   "cell_type": "code",
   "execution_count": 9,
   "metadata": {},
   "outputs": [],
   "source": [
    "conv_a = []\n",
    "no_conv_a = []\n",
    "conv_b = []\n",
    "no_conv_b = []\n",
    "\n",
    "for _ in range(1000):\n",
    "    a = df.sample(value_counts.loc['A'], replace=False)\n",
    "    conv_a.append(a['conversion'].sum())\n",
    "    no_conv_a.append(a['no conversion'].sum())\n",
    "    \n",
    "    b = df.loc[~df.index.isin(a.index)]\n",
    "    conv_b.append(b['conversion'].sum())\n",
    "    no_conv_b.append(b['no conversion'].sum())"
   ]
  },
  {
   "cell_type": "code",
   "execution_count": 10,
   "metadata": {},
   "outputs": [
    {
     "data": {
      "text/html": [
       "<div>\n",
       "<style scoped>\n",
       "    .dataframe tbody tr th:only-of-type {\n",
       "        vertical-align: middle;\n",
       "    }\n",
       "\n",
       "    .dataframe tbody tr th {\n",
       "        vertical-align: top;\n",
       "    }\n",
       "\n",
       "    .dataframe thead th {\n",
       "        text-align: right;\n",
       "    }\n",
       "</style>\n",
       "<table border=\"1\" class=\"dataframe\">\n",
       "  <thead>\n",
       "    <tr style=\"text-align: right;\">\n",
       "      <th></th>\n",
       "      <th>conv_a</th>\n",
       "      <th>no_conv_a</th>\n",
       "      <th>conv_b</th>\n",
       "      <th>no_conv_b</th>\n",
       "    </tr>\n",
       "  </thead>\n",
       "  <tbody>\n",
       "    <tr>\n",
       "      <th>0</th>\n",
       "      <td>192</td>\n",
       "      <td>23547</td>\n",
       "      <td>190</td>\n",
       "      <td>22398</td>\n",
       "    </tr>\n",
       "    <tr>\n",
       "      <th>1</th>\n",
       "      <td>188</td>\n",
       "      <td>23551</td>\n",
       "      <td>194</td>\n",
       "      <td>22394</td>\n",
       "    </tr>\n",
       "    <tr>\n",
       "      <th>2</th>\n",
       "      <td>189</td>\n",
       "      <td>23550</td>\n",
       "      <td>193</td>\n",
       "      <td>22395</td>\n",
       "    </tr>\n",
       "    <tr>\n",
       "      <th>3</th>\n",
       "      <td>201</td>\n",
       "      <td>23538</td>\n",
       "      <td>181</td>\n",
       "      <td>22407</td>\n",
       "    </tr>\n",
       "    <tr>\n",
       "      <th>4</th>\n",
       "      <td>188</td>\n",
       "      <td>23551</td>\n",
       "      <td>194</td>\n",
       "      <td>22394</td>\n",
       "    </tr>\n",
       "    <tr>\n",
       "      <th>...</th>\n",
       "      <td>...</td>\n",
       "      <td>...</td>\n",
       "      <td>...</td>\n",
       "      <td>...</td>\n",
       "    </tr>\n",
       "    <tr>\n",
       "      <th>995</th>\n",
       "      <td>195</td>\n",
       "      <td>23544</td>\n",
       "      <td>187</td>\n",
       "      <td>22401</td>\n",
       "    </tr>\n",
       "    <tr>\n",
       "      <th>996</th>\n",
       "      <td>200</td>\n",
       "      <td>23539</td>\n",
       "      <td>182</td>\n",
       "      <td>22406</td>\n",
       "    </tr>\n",
       "    <tr>\n",
       "      <th>997</th>\n",
       "      <td>205</td>\n",
       "      <td>23534</td>\n",
       "      <td>177</td>\n",
       "      <td>22411</td>\n",
       "    </tr>\n",
       "    <tr>\n",
       "      <th>998</th>\n",
       "      <td>189</td>\n",
       "      <td>23550</td>\n",
       "      <td>193</td>\n",
       "      <td>22395</td>\n",
       "    </tr>\n",
       "    <tr>\n",
       "      <th>999</th>\n",
       "      <td>197</td>\n",
       "      <td>23542</td>\n",
       "      <td>185</td>\n",
       "      <td>22403</td>\n",
       "    </tr>\n",
       "  </tbody>\n",
       "</table>\n",
       "<p>1000 rows × 4 columns</p>\n",
       "</div>"
      ],
      "text/plain": [
       "     conv_a  no_conv_a  conv_b  no_conv_b\n",
       "0       192      23547     190      22398\n",
       "1       188      23551     194      22394\n",
       "2       189      23550     193      22395\n",
       "3       201      23538     181      22407\n",
       "4       188      23551     194      22394\n",
       "..      ...        ...     ...        ...\n",
       "995     195      23544     187      22401\n",
       "996     200      23539     182      22406\n",
       "997     205      23534     177      22411\n",
       "998     189      23550     193      22395\n",
       "999     197      23542     185      22403\n",
       "\n",
       "[1000 rows x 4 columns]"
      ]
     },
     "execution_count": 10,
     "metadata": {},
     "output_type": "execute_result"
    }
   ],
   "source": [
    "perm_results = pd.DataFrame({\n",
    "    'conv_a': conv_a,\n",
    "    'no_conv_a': no_conv_a,\n",
    "    'conv_b': conv_b,\n",
    "    'no_conv_b': no_conv_b\n",
    "})\n",
    "\n",
    "perm_results"
   ]
  },
  {
   "cell_type": "code",
   "execution_count": 11,
   "metadata": {},
   "outputs": [],
   "source": [
    "perm_results['a_conv_rate'] = perm_results['conv_a'] / (perm_results['conv_a'] + perm_results['no_conv_a'])\n",
    "perm_results['b_conv_rate'] = perm_results['conv_b'] / (perm_results['conv_b'] + perm_results['no_conv_b'])"
   ]
  },
  {
   "cell_type": "code",
   "execution_count": 12,
   "metadata": {},
   "outputs": [
    {
     "data": {
      "text/html": [
       "<div>\n",
       "<style scoped>\n",
       "    .dataframe tbody tr th:only-of-type {\n",
       "        vertical-align: middle;\n",
       "    }\n",
       "\n",
       "    .dataframe tbody tr th {\n",
       "        vertical-align: top;\n",
       "    }\n",
       "\n",
       "    .dataframe thead th {\n",
       "        text-align: right;\n",
       "    }\n",
       "</style>\n",
       "<table border=\"1\" class=\"dataframe\">\n",
       "  <thead>\n",
       "    <tr style=\"text-align: right;\">\n",
       "      <th></th>\n",
       "      <th>conv_a</th>\n",
       "      <th>no_conv_a</th>\n",
       "      <th>conv_b</th>\n",
       "      <th>no_conv_b</th>\n",
       "      <th>a_conv_rate</th>\n",
       "      <th>b_conv_rate</th>\n",
       "    </tr>\n",
       "  </thead>\n",
       "  <tbody>\n",
       "    <tr>\n",
       "      <th>0</th>\n",
       "      <td>192</td>\n",
       "      <td>23547</td>\n",
       "      <td>190</td>\n",
       "      <td>22398</td>\n",
       "      <td>0.008088</td>\n",
       "      <td>0.008412</td>\n",
       "    </tr>\n",
       "    <tr>\n",
       "      <th>1</th>\n",
       "      <td>188</td>\n",
       "      <td>23551</td>\n",
       "      <td>194</td>\n",
       "      <td>22394</td>\n",
       "      <td>0.007919</td>\n",
       "      <td>0.008589</td>\n",
       "    </tr>\n",
       "    <tr>\n",
       "      <th>2</th>\n",
       "      <td>189</td>\n",
       "      <td>23550</td>\n",
       "      <td>193</td>\n",
       "      <td>22395</td>\n",
       "      <td>0.007962</td>\n",
       "      <td>0.008544</td>\n",
       "    </tr>\n",
       "    <tr>\n",
       "      <th>3</th>\n",
       "      <td>201</td>\n",
       "      <td>23538</td>\n",
       "      <td>181</td>\n",
       "      <td>22407</td>\n",
       "      <td>0.008467</td>\n",
       "      <td>0.008013</td>\n",
       "    </tr>\n",
       "    <tr>\n",
       "      <th>4</th>\n",
       "      <td>188</td>\n",
       "      <td>23551</td>\n",
       "      <td>194</td>\n",
       "      <td>22394</td>\n",
       "      <td>0.007919</td>\n",
       "      <td>0.008589</td>\n",
       "    </tr>\n",
       "    <tr>\n",
       "      <th>...</th>\n",
       "      <td>...</td>\n",
       "      <td>...</td>\n",
       "      <td>...</td>\n",
       "      <td>...</td>\n",
       "      <td>...</td>\n",
       "      <td>...</td>\n",
       "    </tr>\n",
       "    <tr>\n",
       "      <th>995</th>\n",
       "      <td>195</td>\n",
       "      <td>23544</td>\n",
       "      <td>187</td>\n",
       "      <td>22401</td>\n",
       "      <td>0.008214</td>\n",
       "      <td>0.008279</td>\n",
       "    </tr>\n",
       "    <tr>\n",
       "      <th>996</th>\n",
       "      <td>200</td>\n",
       "      <td>23539</td>\n",
       "      <td>182</td>\n",
       "      <td>22406</td>\n",
       "      <td>0.008425</td>\n",
       "      <td>0.008057</td>\n",
       "    </tr>\n",
       "    <tr>\n",
       "      <th>997</th>\n",
       "      <td>205</td>\n",
       "      <td>23534</td>\n",
       "      <td>177</td>\n",
       "      <td>22411</td>\n",
       "      <td>0.008636</td>\n",
       "      <td>0.007836</td>\n",
       "    </tr>\n",
       "    <tr>\n",
       "      <th>998</th>\n",
       "      <td>189</td>\n",
       "      <td>23550</td>\n",
       "      <td>193</td>\n",
       "      <td>22395</td>\n",
       "      <td>0.007962</td>\n",
       "      <td>0.008544</td>\n",
       "    </tr>\n",
       "    <tr>\n",
       "      <th>999</th>\n",
       "      <td>197</td>\n",
       "      <td>23542</td>\n",
       "      <td>185</td>\n",
       "      <td>22403</td>\n",
       "      <td>0.008299</td>\n",
       "      <td>0.008190</td>\n",
       "    </tr>\n",
       "  </tbody>\n",
       "</table>\n",
       "<p>1000 rows × 6 columns</p>\n",
       "</div>"
      ],
      "text/plain": [
       "     conv_a  no_conv_a  conv_b  no_conv_b  a_conv_rate  b_conv_rate\n",
       "0       192      23547     190      22398     0.008088     0.008412\n",
       "1       188      23551     194      22394     0.007919     0.008589\n",
       "2       189      23550     193      22395     0.007962     0.008544\n",
       "3       201      23538     181      22407     0.008467     0.008013\n",
       "4       188      23551     194      22394     0.007919     0.008589\n",
       "..      ...        ...     ...        ...          ...          ...\n",
       "995     195      23544     187      22401     0.008214     0.008279\n",
       "996     200      23539     182      22406     0.008425     0.008057\n",
       "997     205      23534     177      22411     0.008636     0.007836\n",
       "998     189      23550     193      22395     0.007962     0.008544\n",
       "999     197      23542     185      22403     0.008299     0.008190\n",
       "\n",
       "[1000 rows x 6 columns]"
      ]
     },
     "execution_count": 12,
     "metadata": {},
     "output_type": "execute_result"
    }
   ],
   "source": [
    "perm_results"
   ]
  },
  {
   "cell_type": "code",
   "execution_count": 13,
   "metadata": {},
   "outputs": [
    {
     "data": {
      "text/html": [
       "<div>\n",
       "<style scoped>\n",
       "    .dataframe tbody tr th:only-of-type {\n",
       "        vertical-align: middle;\n",
       "    }\n",
       "\n",
       "    .dataframe tbody tr th {\n",
       "        vertical-align: top;\n",
       "    }\n",
       "\n",
       "    .dataframe thead th {\n",
       "        text-align: right;\n",
       "    }\n",
       "</style>\n",
       "<table border=\"1\" class=\"dataframe\">\n",
       "  <thead>\n",
       "    <tr style=\"text-align: right;\">\n",
       "      <th></th>\n",
       "      <th>conv_a</th>\n",
       "      <th>no_conv_a</th>\n",
       "      <th>conv_b</th>\n",
       "      <th>no_conv_b</th>\n",
       "      <th>a_conv_rate</th>\n",
       "      <th>b_conv_rate</th>\n",
       "      <th>diff</th>\n",
       "    </tr>\n",
       "  </thead>\n",
       "  <tbody>\n",
       "    <tr>\n",
       "      <th>0</th>\n",
       "      <td>192</td>\n",
       "      <td>23547</td>\n",
       "      <td>190</td>\n",
       "      <td>22398</td>\n",
       "      <td>0.008088</td>\n",
       "      <td>0.008412</td>\n",
       "      <td>-0.040009</td>\n",
       "    </tr>\n",
       "    <tr>\n",
       "      <th>1</th>\n",
       "      <td>188</td>\n",
       "      <td>23551</td>\n",
       "      <td>194</td>\n",
       "      <td>22394</td>\n",
       "      <td>0.007919</td>\n",
       "      <td>0.008589</td>\n",
       "      <td>-0.084497</td>\n",
       "    </tr>\n",
       "    <tr>\n",
       "      <th>2</th>\n",
       "      <td>189</td>\n",
       "      <td>23550</td>\n",
       "      <td>193</td>\n",
       "      <td>22395</td>\n",
       "      <td>0.007962</td>\n",
       "      <td>0.008544</td>\n",
       "      <td>-0.073199</td>\n",
       "    </tr>\n",
       "    <tr>\n",
       "      <th>3</th>\n",
       "      <td>201</td>\n",
       "      <td>23538</td>\n",
       "      <td>181</td>\n",
       "      <td>22407</td>\n",
       "      <td>0.008467</td>\n",
       "      <td>0.008013</td>\n",
       "      <td>0.053617</td>\n",
       "    </tr>\n",
       "    <tr>\n",
       "      <th>4</th>\n",
       "      <td>188</td>\n",
       "      <td>23551</td>\n",
       "      <td>194</td>\n",
       "      <td>22394</td>\n",
       "      <td>0.007919</td>\n",
       "      <td>0.008589</td>\n",
       "      <td>-0.084497</td>\n",
       "    </tr>\n",
       "    <tr>\n",
       "      <th>...</th>\n",
       "      <td>...</td>\n",
       "      <td>...</td>\n",
       "      <td>...</td>\n",
       "      <td>...</td>\n",
       "      <td>...</td>\n",
       "      <td>...</td>\n",
       "      <td>...</td>\n",
       "    </tr>\n",
       "    <tr>\n",
       "      <th>995</th>\n",
       "      <td>195</td>\n",
       "      <td>23544</td>\n",
       "      <td>187</td>\n",
       "      <td>22401</td>\n",
       "      <td>0.008214</td>\n",
       "      <td>0.008279</td>\n",
       "      <td>-0.007840</td>\n",
       "    </tr>\n",
       "    <tr>\n",
       "      <th>996</th>\n",
       "      <td>200</td>\n",
       "      <td>23539</td>\n",
       "      <td>182</td>\n",
       "      <td>22406</td>\n",
       "      <td>0.008425</td>\n",
       "      <td>0.008057</td>\n",
       "      <td>0.043630</td>\n",
       "    </tr>\n",
       "    <tr>\n",
       "      <th>997</th>\n",
       "      <td>205</td>\n",
       "      <td>23534</td>\n",
       "      <td>177</td>\n",
       "      <td>22411</td>\n",
       "      <td>0.008636</td>\n",
       "      <td>0.007836</td>\n",
       "      <td>0.092589</td>\n",
       "    </tr>\n",
       "    <tr>\n",
       "      <th>998</th>\n",
       "      <td>189</td>\n",
       "      <td>23550</td>\n",
       "      <td>193</td>\n",
       "      <td>22395</td>\n",
       "      <td>0.007962</td>\n",
       "      <td>0.008544</td>\n",
       "      <td>-0.073199</td>\n",
       "    </tr>\n",
       "    <tr>\n",
       "      <th>999</th>\n",
       "      <td>197</td>\n",
       "      <td>23542</td>\n",
       "      <td>185</td>\n",
       "      <td>22403</td>\n",
       "      <td>0.008299</td>\n",
       "      <td>0.008190</td>\n",
       "      <td>0.013061</td>\n",
       "    </tr>\n",
       "  </tbody>\n",
       "</table>\n",
       "<p>1000 rows × 7 columns</p>\n",
       "</div>"
      ],
      "text/plain": [
       "     conv_a  no_conv_a  conv_b  no_conv_b  a_conv_rate  b_conv_rate      diff\n",
       "0       192      23547     190      22398     0.008088     0.008412 -0.040009\n",
       "1       188      23551     194      22394     0.007919     0.008589 -0.084497\n",
       "2       189      23550     193      22395     0.007962     0.008544 -0.073199\n",
       "3       201      23538     181      22407     0.008467     0.008013  0.053617\n",
       "4       188      23551     194      22394     0.007919     0.008589 -0.084497\n",
       "..      ...        ...     ...        ...          ...          ...       ...\n",
       "995     195      23544     187      22401     0.008214     0.008279 -0.007840\n",
       "996     200      23539     182      22406     0.008425     0.008057  0.043630\n",
       "997     205      23534     177      22411     0.008636     0.007836  0.092589\n",
       "998     189      23550     193      22395     0.007962     0.008544 -0.073199\n",
       "999     197      23542     185      22403     0.008299     0.008190  0.013061\n",
       "\n",
       "[1000 rows x 7 columns]"
      ]
     },
     "execution_count": 13,
     "metadata": {},
     "output_type": "execute_result"
    }
   ],
   "source": [
    "perm_results['diff'] = 1 - (perm_results['b_conv_rate'] / perm_results['a_conv_rate'])\n",
    "\n",
    "perm_results"
   ]
  },
  {
   "cell_type": "markdown",
   "metadata": {},
   "source": [
    "Ya tenemos nuestros resultados, vamos a ver dónde cae en nuestra distribución el resultado que obtuvimos en nuestro experimento:"
   ]
  },
  {
   "cell_type": "code",
   "execution_count": 14,
   "metadata": {},
   "outputs": [
    {
     "name": "stderr",
     "output_type": "stream",
     "text": [
      "/Users/ramon/Env/data_science/lib/python3.8/site-packages/seaborn/distributions.py:2551: FutureWarning: `distplot` is a deprecated function and will be removed in a future version. Please adapt your code to use either `displot` (a figure-level function with similar flexibility) or `histplot` (an axes-level function for histograms).\n",
      "  warnings.warn(msg, FutureWarning)\n"
     ]
    },
    {
     "data": {
      "image/png": "[encoded data removed]",
      "text/plain": [
       "<Figure size 432x288 with 1 Axes>"
      ]
     },
     "metadata": {
      "needs_background": "light"
     },
     "output_type": "display_data"
    }
   ],
   "source": [
    "sns.distplot(perm_results['diff'], kde=False, norm_hist=False)\n",
    "\n",
    "plt.axvline(diferencia_en_proporcion);"
   ]
  },
  {
   "cell_type": "markdown",
   "metadata": {},
   "source": [
    "Solamente de ver la histograma podemos concluir que nuestro resultado es de hecho bastante típico. Un gran número de modelos realizados totalmente al azar tuvieron valores iguales o más extremos que el que obtuvimos en nuestro experimento.\n",
    "\n",
    "Vamos ahora a obtener el Valor P para cuantificar numéricamente nuestro resultado:"
   ]
  },
  {
   "cell_type": "code",
   "execution_count": 15,
   "metadata": {},
   "outputs": [
    {
     "data": {
      "text/plain": [
       "0.433"
      ]
     },
     "execution_count": 15,
     "metadata": {},
     "output_type": "execute_result"
    }
   ],
   "source": [
    "(perm_results['diff'] >= diferencia_en_proporcion).sum() / perm_results.shape[0]"
   ]
  },
  {
   "cell_type": "markdown",
   "metadata": {},
   "source": [
    "Este valor quiere decir que el 41.6% de los test que hicimos obtuvieron un valor igual o más extremo que el obtenido en el experimento. Esto está extremadamente alejado de un Alfa de 5%, y por lo tanto definitivamente nuestro resultado **no es estadísticamente significativo**."
   ]
  },
  {
   "cell_type": "code",
   "execution_count": null,
   "metadata": {},
   "outputs": [],
   "source": []
  }
 ],
 "metadata": {
  "kernelspec": {
   "display_name": "Python (data_science)",
   "language": "python",
   "name": "data_science"
  },
  "language_info": {
   "codemirror_mode": {
    "name": "ipython",
    "version": 3
   },
   "file_extension": ".py",
   "mimetype": "text/x-python",
   "name": "python",
   "nbconvert_exporter": "python",
   "pygments_lexer": "ipython3",
   "version": "3.8.5"
  }
 },
 "nbformat": 4,
 "nbformat_minor": 4
}
