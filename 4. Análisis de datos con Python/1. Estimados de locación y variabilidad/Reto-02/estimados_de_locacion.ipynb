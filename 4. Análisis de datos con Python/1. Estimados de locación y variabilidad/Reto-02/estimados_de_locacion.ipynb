{
 "cells": [
  {
   "cell_type": "markdown",
   "metadata": {},
   "source": [
    "## Reto 2: Estimados de locación\n",
    "\n",
    "### 1. Objetivos:\n",
    "    - Implementar los algoritmos para obtener estimados de locación sin utilizar los métodos builtin de pandas\n",
    " \n",
    "---\n",
    "    \n",
    "### 2. Desarrollo:"
   ]
  },
  {
   "cell_type": "markdown",
   "metadata": {},
   "source": [
    "#### a) Implementando estimados de locación\n",
    "\n",
    "Este Reto va a consistir en implementar el promedio y la mediana sin utilizar los métodos `mean` y `median` que vienen incluidos en `pandas`. Implementar algoritmos desde 0 es una excelente práctica que nos ayuda a entenderlos mejor y recordarlos con más precisión.\n",
    "\n",
    "Puedes utilizar `pandas` y otras funciones vectorizadas o de reducción. Las únicas funciones que no están permitidas son `mean` y `median`. Las dos funciones que vas a crear deben recibir una serie de `pandas` y regresar un solo número."
   ]
  },
  {
   "cell_type": "code",
   "execution_count": null,
   "metadata": {},
   "outputs": [],
   "source": [
    "def promedio_custom(serie):\n",
    "    ## Tu código va aquí\n",
    "    ## ...\n",
    "    ## ...\n",
    "    pass"
   ]
  },
  {
   "cell_type": "code",
   "execution_count": null,
   "metadata": {},
   "outputs": [],
   "source": [
    "def mediana_custom(serie):\n",
    "    ## Tu código va aquí\n",
    "    ## ...\n",
    "    ## ...\n",
    "    pass"
   ]
  },
  {
   "cell_type": "markdown",
   "metadata": {},
   "source": [
    "#### b) Estimados de locación de diámetros de meteoritos\n",
    "\n",
    "Ahora vamos a utilizar nuestras funciones custom para obtener estimados de locación de un conjunto de datos que contiene información acerca de objetos que orbitaron cerca de la Tierra durante el periodo de enero y febrero de 1995.\n",
    "\n",
    "El dataset se llama 'near_earth_objects-jan_feb_1995-clean.csv' y la columna que vamos a analizar se llama 'estimated_diameter.meters.estimated_diameter_max'. Esta columna contiene el diámetro máximo estimado de cada objeto.\n",
    "\n",
    "El reto es el siguiente:\n",
    "\n",
    "1. Lee el dataset usando `pandas`.\n",
    "2. Obtén el promedio y la mediana usando tus funciones custom y asígnalas a `promedio_diametro` y `mediana_diametro`.\n",
    "3. Corre la celda que contiene el código para verificar tus resultados.\n",
    "4. Responde la pregunta que te regresa la función de verificación."
   ]
  },
  {
   "cell_type": "code",
   "execution_count": null,
   "metadata": {},
   "outputs": [],
   "source": [
    "# Lee el dataset y asígnalo a esta variable\n",
    "\n",
    "df_meteoritos ="
   ]
  },
  {
   "cell_type": "code",
   "execution_count": null,
   "metadata": {},
   "outputs": [],
   "source": [
    "promedio_diametro ="
   ]
  },
  {
   "cell_type": "code",
   "execution_count": null,
   "metadata": {},
   "outputs": [],
   "source": [
    "mediana_diametro ="
   ]
  },
  {
   "cell_type": "code",
   "execution_count": null,
   "metadata": {},
   "outputs": [],
   "source": [
    "# Pídele al experto la función `verificar_resultados` para que puedas correr la siguiente verificación\n",
    "\n",
    "verificar_resultados(df_meteoritos, promedio_diametro, mediana_diametro)"
   ]
  },
  {
   "cell_type": "markdown",
   "metadata": {},
   "source": [
    "<details><summary>Solución</summary>\n",
    "\n",
    "```python\n",
    "def promedio_custom(serie):\n",
    "    return serie.sum() / serie.count()\n",
    "    \n",
    "def mediana_custom(serie):\n",
    "    import numpy as np\n",
    "    \n",
    "    serie_ordenada = serie.sort_values(ascending=True)\n",
    "    length_of_series = serie.count()\n",
    "    \n",
    "    if length_of_series % 2 == 0:\n",
    "        bottom =int(length_of_series / 2)\n",
    "        top = int(bottom + 1)\n",
    "        return (serie_ordenada.iloc[bottom] + serie_ordenada.iloc[top]) / 2\n",
    "    else:\n",
    "        index = int(np.ceil(length_of_series / 2))\n",
    "        return serie_ordenada.iloc[index]\n",
    "    \n",
    "import pandas as pd\n",
    "df_meteoritos = pd.read_csv('../../Datasets/near_earth_objects-jan_feb_1995-clean.csv', index_col=0)\n",
    "promedio_diametro = promedio_custom(df_meteoritos['estimated_diameter.meters.estimated_diameter_max'])\n",
    "mediana_diametro = mediana_custom(df_meteoritos['estimated_diameter.meters.estimated_diameter_max'])\n",
    "```\n",
    "    \n",
    "</details>"
   ]
  },
  {
   "cell_type": "code",
   "execution_count": null,
   "metadata": {},
   "outputs": [],
   "source": []
  }
 ],
 "metadata": {
  "kernelspec": {
   "display_name": "Python (data_science)",
   "language": "python",
   "name": "data_science"
  },
  "language_info": {
   "codemirror_mode": {
    "name": "ipython",
    "version": 3
   },
   "file_extension": ".py",
   "mimetype": "text/x-python",
   "name": "python",
   "nbconvert_exporter": "python",
   "pygments_lexer": "ipython3",
   "version": "3.7.6"
  }
 },
 "nbformat": 4,
 "nbformat_minor": 4
}
