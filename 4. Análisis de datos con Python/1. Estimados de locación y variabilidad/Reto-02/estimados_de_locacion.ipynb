{
 "cells": [
  {
   "cell_type": "markdown",
   "metadata": {},
   "source": [
    "## Reto 2: Estimados de locación\n",
    "\n",
    "### 1. Objetivos:\n",
    "    - Implementar los algoritmos para obtener estimados de locación sin utilizar los métodos builtin de pandas\n",
    " \n",
    "---\n",
    "    \n",
    "### 2. Desarrollo:"
   ]
  },
  {
   "cell_type": "markdown",
   "metadata": {},
   "source": [
    "#### a) Implementando estimados de locación\n",
    "\n",
    "Este Reto va a consistir en implementar el promedio y la mediana sin utilizar los métodos `mean` y `median` que vienen incluidos en `pandas`. Implementar algoritmos desde 0 es una excelente práctica que nos ayuda a entenderlos mejor y recordarlos con más precisión.\n",
    "\n",
    "Puedes utilizar `pandas` y otras funciones vectorizadas o de reducción. Las únicas funciones que no están permitidas son `mean` y `median`. Las dos funciones que vas a crear deben recibir una serie de `pandas` y regresar un solo número."
   ]
  },
  {
   "cell_type": "code",
   "execution_count": 28,
   "metadata": {},
   "outputs": [],
   "source": [
    "import pandas as pd\n",
    "import math"
   ]
  },
  {
   "cell_type": "code",
   "execution_count": 114,
   "metadata": {},
   "outputs": [],
   "source": [
    "def promedio_custom(serie):\n",
    "    suma = 0\n",
    "    n = len(serie)\n",
    "    \n",
    "    for i in serie:\n",
    "        suma = suma + i\n",
    "    \n",
    "    return suma / n\n",
    "\n",
    "\n",
    "# serie.sum() / serie.count()"
   ]
  },
  {
   "cell_type": "code",
   "execution_count": 135,
   "metadata": {},
   "outputs": [],
   "source": [
    "def mediana_custom(serie):\n",
    "    \n",
    "    orden = serie.sort_values(ascending = True)\n",
    "    n = len(serie)\n",
    "    if n % 2 == 1:\n",
    "        i = math.trunc(n/2)\n",
    "        res = orden.iloc[i]\n",
    "    else:\n",
    "        i = int(n/2)\n",
    "        res = (orden.iloc[i-1]+orden.iloc[i])/2\n",
    "    return res"
   ]
  },
  {
   "cell_type": "code",
   "execution_count": 136,
   "metadata": {},
   "outputs": [
    {
     "data": {
      "text/plain": [
       "40"
      ]
     },
     "execution_count": 136,
     "metadata": {},
     "output_type": "execute_result"
    }
   ],
   "source": [
    "serie = pd.Series([10,20,90,40,50])\n",
    "mediana_custom(serie)"
   ]
  },
  {
   "cell_type": "markdown",
   "metadata": {},
   "source": [
    "#### b) Estimados de locación de diámetros de meteoritos\n",
    "\n",
    "Ahora vamos a utilizar nuestras funciones custom para obtener estimados de locación de un conjunto de datos que contiene información acerca de objetos que orbitaron cerca de la Tierra durante el periodo de enero y febrero de 1995.\n",
    "\n",
    "El dataset se llama 'near_earth_objects-jan_feb_1995-clean.csv' y la columna que vamos a analizar se llama 'estimated_diameter.meters.estimated_diameter_max'. Esta columna contiene el diámetro máximo estimado de cada objeto.\n",
    "\n",
    "El reto es el siguiente:\n",
    "\n",
    "1. Lee el dataset usando `pandas`.\n",
    "2. Obtén el promedio y la mediana usando tus funciones custom y asígnalas a `promedio_diametro` y `mediana_diametro`.\n",
    "3. Corre la celda que contiene el código para verificar tus resultados.\n",
    "4. Responde la pregunta que te regresa la función de verificación."
   ]
  },
  {
   "cell_type": "code",
   "execution_count": 137,
   "metadata": {},
   "outputs": [],
   "source": [
    "df_meteoritos = pd.read_csv('../../Datasets/near_earth_objects-jan_feb_1995-clean.csv', index_col=0)"
   ]
  },
  {
   "cell_type": "code",
   "execution_count": 138,
   "metadata": {},
   "outputs": [],
   "source": [
    "promedio_diametro = promedio_custom(df_meteoritos[\"estimated_diameter.meters.estimated_diameter_max\"])"
   ]
  },
  {
   "cell_type": "code",
   "execution_count": 139,
   "metadata": {},
   "outputs": [],
   "source": [
    "mediana_diametro = mediana_custom(df_meteoritos[\"estimated_diameter.meters.estimated_diameter_max\"])"
   ]
  },
  {
   "cell_type": "code",
   "execution_count": 140,
   "metadata": {},
   "outputs": [
    {
     "name": "stdout",
     "output_type": "stream",
     "text": [
      "Los estimados fueron calcualados correctamente.\n",
      "\n",
      "El promedio calculado fue de 410.0860422397653 mientras que la mediana fue de 215.7943048444.\n",
      "¿A qué le atribuyes tú la diferencia?\n"
     ]
    }
   ],
   "source": [
    "def verificar_resultados(df_meteoritos, promedio_diametro, mediana_diametro):\n",
    "    promedio = df_meteoritos['estimated_diameter.meters.estimated_diameter_max'].mean()\n",
    "    if promedio_diametro != promedio:\n",
    "        print(f'El promedio no fue calculado correctamente.')\n",
    "        print(f'Promedio esperado: {promedio}; Promedio recibido: {promedio_diametro}')\n",
    "        return\n",
    "        \n",
    "\n",
    "    mediana = df_meteoritos['estimated_diameter.meters.estimated_diameter_max'].median()\n",
    "    if mediana_diametro != mediana:\n",
    "        print(f'La mediana no fue calculada correctamente.')\n",
    "        print(f'Mediana esperada: {mediana}; Mediana recibida: {mediana_diametro}')\n",
    "        return\n",
    "        \n",
    "    print(f'Los estimados fueron calcualados correctamente.\\n')\n",
    "    print(f'El promedio calculado fue de {promedio_diametro} mientras que la mediana fue de {mediana_diametro}.')\n",
    "    print(f'¿A qué le atribuyes tú la diferencia?')\n",
    "\n",
    "verificar_resultados(df_meteoritos, promedio_diametro, mediana_diametro)"
   ]
  },
  {
   "cell_type": "markdown",
   "metadata": {},
   "source": [
    "<details><summary>Solución</summary>\n",
    "\n",
    "```python\n",
    "def promedio_custom(serie):\n",
    "    return serie.sum() / serie.count()\n",
    "    \n",
    "def mediana_custom(serie):\n",
    "    import numpy as np\n",
    "    \n",
    "    serie_ordenada = serie.sort_values(ascending=True)\n",
    "    length_of_series = serie.count()\n",
    "    \n",
    "    if length_of_series % 2 == 0:\n",
    "        bottom =int(length_of_series / 2)\n",
    "        top = int(bottom + 1)\n",
    "        return (serie_ordenada.iloc[bottom] + serie_ordenada.iloc[top]) / 2\n",
    "    else:\n",
    "        index = int(np.ceil(length_of_series / 2))\n",
    "        return serie_ordenada.iloc[index]\n",
    "    \n",
    "import pandas as pd\n",
    "df_meteoritos = pd.read_csv('../../Datasets/near_earth_objects-jan_feb_1995-clean.csv', index_col=0)\n",
    "promedio_diametro = promedio_custom(df_meteoritos['estimated_diameter.meters.estimated_diameter_max'])\n",
    "mediana_diametro = mediana_custom(df_meteoritos['estimated_diameter.meters.estimated_diameter_max'])\n",
    "```\n",
    "    \n",
    "</details>"
   ]
  }
 ],
 "metadata": {
  "kernelspec": {
   "display_name": "Python 3",
   "language": "python",
   "name": "python3"
  },
  "language_info": {
   "codemirror_mode": {
    "name": "ipython",
    "version": 3
   },
   "file_extension": ".py",
   "mimetype": "text/x-python",
   "name": "python",
   "nbconvert_exporter": "python",
   "pygments_lexer": "ipython3",
   "version": "3.8.8"
  }
 },
 "nbformat": 4,
 "nbformat_minor": 4
}
