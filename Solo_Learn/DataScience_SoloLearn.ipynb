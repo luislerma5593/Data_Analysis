{
 "cells": [
  {
   "cell_type": "markdown",
   "metadata": {},
   "source": [
    "# Numpy"
   ]
  },
  {
   "cell_type": "code",
   "execution_count": 2,
   "metadata": {},
   "outputs": [
    {
     "name": "stdout",
     "output_type": "stream",
     "text": [
      "(45, 2)\n",
      "[[189  57]\n",
      " [170  61]\n",
      " [189  57]]\n"
     ]
    }
   ],
   "source": [
    "import numpy as np\n",
    "\n",
    "heights = [189, 170, 189, 163, 183, 171, 185, 168, 173, 183, 173, 173, 175, 178, 183, 193, 178, 173, 174, 183, 183, 180, 168, 180, 170, 178, 182, 180, 183, 178, 182, 188, 175, 179, 183, 193, 182, 183, 177, 185, 188, 188, 182, 185, 191]\n",
    "ages = [57, 61, 57, 57, 58, 57, 61, 54, 68, 51, 49, 64, 50, 48, 65, 52, 56, 46, 54, 49, 51, 47, 55, 55, 54, 42, 51, 56, 55, 51, 54, 51, 60, 62, 43, 55, 56, 61, 52, 69, 64, 46, 54, 47, 70]\n",
    "\n",
    "heights_arr = np.array(heights)\n",
    "ages_arr = np.array(ages)\n",
    "\n",
    "heights_arr = heights_arr.reshape((45,1))\n",
    "ages_arr = ages_arr.reshape((45,1))\n",
    "\n",
    "\n",
    "height_age_arr = np.hstack((heights_arr, ages_arr))\n",
    "#print(height_age_arr)\n",
    "print(height_age_arr.shape)\n",
    "print(height_age_arr[:3,])"
   ]
  },
  {
   "cell_type": "code",
   "execution_count": 5,
   "metadata": {},
   "outputs": [
    {
     "data": {
      "text/plain": [
       "array([189, 170, 189, 163, 183, 171, 185, 168, 173, 183, 173, 173, 175,\n",
       "       178, 183, 193, 178, 173, 174, 183, 183, 180, 168, 180, 170, 178,\n",
       "       182, 180, 183, 178, 182, 188, 175, 179, 183, 193, 182, 183, 177,\n",
       "       185, 188, 188, 182, 185, 191])"
      ]
     },
     "execution_count": 5,
     "metadata": {},
     "output_type": "execute_result"
    }
   ],
   "source": [
    "np.array(heights)"
   ]
  },
  {
   "cell_type": "code",
   "execution_count": 21,
   "metadata": {},
   "outputs": [
    {
     "data": {
      "text/plain": [
       "array([[189],\n",
       "       [170],\n",
       "       [189],\n",
       "       [163],\n",
       "       [183]])"
      ]
     },
     "execution_count": 21,
     "metadata": {},
     "output_type": "execute_result"
    }
   ],
   "source": [
    "arr = np.array(heights).reshape((45,1))[:5]\n",
    "arr"
   ]
  },
  {
   "cell_type": "code",
   "execution_count": 23,
   "metadata": {},
   "outputs": [
    {
     "data": {
      "text/plain": [
       "array([[189, 189],\n",
       "       [170, 170],\n",
       "       [189, 189],\n",
       "       [163, 163],\n",
       "       [183, 183]])"
      ]
     },
     "execution_count": 23,
     "metadata": {},
     "output_type": "execute_result"
    }
   ],
   "source": [
    "arr1 = np.array(heights).reshape((45,1))\n",
    "np.hstack((arr1,arr1))[:5]"
   ]
  },
  {
   "cell_type": "code",
   "execution_count": 27,
   "metadata": {},
   "outputs": [
    {
     "data": {
      "text/plain": [
       "array([[189, 189],\n",
       "       [170, 170],\n",
       "       [189, 189],\n",
       "       [163, 163],\n",
       "       [183, 183]])"
      ]
     },
     "execution_count": 27,
     "metadata": {},
     "output_type": "execute_result"
    }
   ],
   "source": [
    "np.concatenate((arr,arr), axis=1)"
   ]
  },
  {
   "cell_type": "markdown",
   "metadata": {},
   "source": [
    "## Operations"
   ]
  },
  {
   "cell_type": "code",
   "execution_count": 28,
   "metadata": {},
   "outputs": [
    {
     "data": {
      "text/plain": [
       "array([0.5, 1. , 1.5])"
      ]
     },
     "execution_count": 28,
     "metadata": {},
     "output_type": "execute_result"
    }
   ],
   "source": [
    "(np.array([1,2,3]))*0.5"
   ]
  },
  {
   "cell_type": "code",
   "execution_count": 30,
   "metadata": {},
   "outputs": [
    {
     "data": {
      "text/plain": [
       "3.0"
      ]
     },
     "execution_count": 30,
     "metadata": {},
     "output_type": "execute_result"
    }
   ],
   "source": [
    "((np.array([1,2,3]))*0.5).sum()"
   ]
  },
  {
   "cell_type": "markdown",
   "metadata": {},
   "source": [
    "Comparisons returne True or False"
   ]
  },
  {
   "cell_type": "code",
   "execution_count": 37,
   "metadata": {},
   "outputs": [
    {
     "data": {
      "text/plain": [
       "array([1, 2, 3])"
      ]
     },
     "execution_count": 37,
     "metadata": {},
     "output_type": "execute_result"
    }
   ],
   "source": [
    "arr = (np.array([1,2,3]))\n",
    "arr"
   ]
  },
  {
   "cell_type": "code",
   "execution_count": 38,
   "metadata": {},
   "outputs": [],
   "source": [
    "arr_true = arr > 1"
   ]
  },
  {
   "cell_type": "code",
   "execution_count": 41,
   "metadata": {},
   "outputs": [
    {
     "data": {
      "text/plain": [
       "array([2, 3])"
      ]
     },
     "execution_count": 41,
     "metadata": {},
     "output_type": "execute_result"
    }
   ],
   "source": [
    "arr[arr_true]"
   ]
  },
  {
   "cell_type": "markdown",
   "metadata": {},
   "source": [
    "## Test\n",
    "\n",
    "In a matrix, or 2-d array X, the averages (or means) of the elements of rows is called row means.\n",
    "\n",
    "Task\n",
    "Given a 2D array, return the rowmeans.\n",
    "\n",
    "Input Format\n",
    "First line: two integers separated by spaces, the first indicates the rows of matrix X (n) and the second indicates the columns of X (p)\n",
    "Next n lines: values of the row in X\n",
    "\n",
    "Output Format\n",
    "An numpy 1d array of values rounded to the second decimal.\n",
    "\n",
    "```\n",
    "2 2\n",
    "1.5 1\n",
    "2 2.9\n",
    "\n",
    "Sample Output\n",
    "[1.25 2.45]\n",
    "```"
   ]
  },
  {
   "cell_type": "code",
   "execution_count": 90,
   "metadata": {},
   "outputs": [
    {
     "name": "stdout",
     "output_type": "stream",
     "text": [
      "[[4.566  6.544 ]\n",
      " [2.166  6.9494]]\n",
      "[5.56 4.56]\n"
     ]
    }
   ],
   "source": [
    "## Test\n",
    "\n",
    "import numpy as np\n",
    "\n",
    "n, p = [int(x) for x in input().split()]\n",
    "\n",
    "X = np.zeros((n,p))\n",
    "arr = np.zeros((1,p))\n",
    "\n",
    "for i in range(n):\n",
    "    arr = [float(y) for y in input().split()]\n",
    "    X[i,:] = arr\n",
    "    \n",
    "print(X)\n",
    "print(np.around(X.mean(axis=1),2))"
   ]
  },
  {
   "cell_type": "markdown",
   "metadata": {},
   "source": [
    "---"
   ]
  },
  {
   "cell_type": "markdown",
   "metadata": {},
   "source": [
    "# Pandas"
   ]
  },
  {
   "cell_type": "code",
   "execution_count": 98,
   "metadata": {},
   "outputs": [
    {
     "name": "stdout",
     "output_type": "stream",
     "text": [
      "                           order        age      height\n",
      "party                                                  \n",
      "democratic             26.066667  52.600000  181.066667\n",
      "democratic-republican   4.500000  57.250000  176.500000\n",
      "federalist              2.000000  61.000000  170.000000\n",
      "national union         17.000000  56.000000  178.000000\n",
      "none                    1.000000  57.000000  189.000000\n",
      "republican             29.631579  55.263158  180.894737\n",
      "whig                   11.000000  58.250000  176.000000\n"
     ]
    }
   ],
   "source": [
    "import pandas as pd\n",
    "\n",
    "presidents_df = pd.read_csv('https://sololearn.com/uploads/files/president_heights_party.csv', index_col='name')\n",
    "                                  \n",
    "print(presidents_df.groupby('party').mean())"
   ]
  },
  {
   "cell_type": "code",
   "execution_count": 99,
   "metadata": {},
   "outputs": [
    {
     "name": "stdout",
     "output_type": "stream",
     "text": [
      "                       min  median  max\n",
      "party                                  \n",
      "democratic             168     180  193\n",
      "democratic-republican  163     177  189\n",
      "federalist             170     170  170\n",
      "national union         178     178  178\n",
      "none                   189     189  189\n",
      "republican             168     182  193\n",
      "whig                   173     174  183\n"
     ]
    }
   ],
   "source": [
    "import pandas as pd\n",
    "import numpy as np\n",
    "\n",
    "presidents_df = pd.read_csv('https://sololearn.com/uploads/files/president_heights_party.csv', index_col='name')\n",
    "                                  \n",
    "print(presidents_df.groupby('party')['height'].agg(['min', np.median, max]))"
   ]
  },
  {
   "cell_type": "code",
   "execution_count": 97,
   "metadata": {},
   "outputs": [
    {
     "name": "stdout",
     "output_type": "stream",
     "text": [
      "                      height             age    \n",
      "                      median        mean min max\n",
      "party                                           \n",
      "democratic               180  181.066667  43  65\n",
      "democratic-republican    177  176.500000  57  58\n",
      "federalist               170  170.000000  61  61\n",
      "national union           178  178.000000  56  56\n",
      "none                     189  189.000000  57  57\n",
      "republican               182  180.894737  42  70\n",
      "whig                     174  176.000000  50  68\n"
     ]
    }
   ],
   "source": [
    "import pandas as pd\n",
    "import numpy as np\n",
    "\n",
    "presidents_df = pd.read_csv('https://sololearn.com/uploads/files/president_heights_party.csv', index_col='name')\n",
    "                                  \n",
    "print(presidents_df.groupby('party')\\\n",
    "    .agg({'height': [np.median, np.mean],\n",
    "        'age':    [min, max]}))"
   ]
  },
  {
   "cell_type": "markdown",
   "metadata": {},
   "source": [
    "## Test\n",
    "\n",
    "Data Science - Reshape\n",
    "\n",
    "\n",
    "Task\n",
    "Given a list of numbers and the number of rows (r), reshape the list into a 2-dimensional array. Note that r divides the length of the list evenly.\n",
    "\n",
    "Input Format\n",
    "First line: an integer (r) indicating the number of rows of the 2-dimensional array\n",
    "Next line: numbers separated by the space\n",
    "\n",
    "Output Format\n",
    "An numpy 2d array of values rounded to the second decimal.\n",
    "```\n",
    "Sample Input\n",
    "2\n",
    "1.2 0 0.5 -1\n",
    "\n",
    "Sample Output\n",
    "[[ 1.2 0. ]\n",
    "[ 0.5 -1. ]]\n",
    "```"
   ]
  },
  {
   "cell_type": "code",
   "execution_count": 121,
   "metadata": {},
   "outputs": [
    {
     "name": "stdout",
     "output_type": "stream",
     "text": [
      "3.0\n",
      "[[6. 9. 8.]\n",
      " [3. 6. 9.]]\n"
     ]
    }
   ],
   "source": [
    "import numpy as np\n",
    "\n",
    "r = int(input()) \n",
    "lst = [float(x) for x in input().split()]\n",
    "arr = np.array(lst)\n",
    "\n",
    "n_col = len(arr)/r\n",
    "print(n_col)\n",
    "\n",
    "print(np.around(arr.reshape(r, int(n_col)),2))"
   ]
  },
  {
   "cell_type": "markdown",
   "metadata": {},
   "source": [
    "---"
   ]
  },
  {
   "cell_type": "markdown",
   "metadata": {},
   "source": [
    "# Matplotlib"
   ]
  },
  {
   "cell_type": "markdown",
   "metadata": {},
   "source": [
    "First, create figure and axes"
   ]
  },
  {
   "cell_type": "code",
   "execution_count": 7,
   "metadata": {},
   "outputs": [
    {
     "data": {
      "image/png": "[encoded data removed]",
      "text/plain": [
       "<Figure size 432x288 with 1 Axes>"
      ]
     },
     "metadata": {
      "needs_background": "light"
     },
     "output_type": "display_data"
    }
   ],
   "source": [
    "import numpy as np\n",
    "import matplotlib.pyplot as plt\n",
    "x = np.linspace(0,10,1000) # x is a 1000 evenly spaced numbers from 0 to 10\n",
    "y = np.sin(x)\n",
    "fig = plt.figure()\n",
    "ax = plt.axes()\n",
    "ax.plot(x, y)\n",
    "#plt.savefig(\"plot.png\")\n",
    "plt.show()"
   ]
  },
  {
   "cell_type": "code",
   "execution_count": 8,
   "metadata": {},
   "outputs": [
    {
     "data": {
      "image/png": "[encoded data removed]",
      "text/plain": [
       "<Figure size 432x288 with 1 Axes>"
      ]
     },
     "metadata": {
      "needs_background": "light"
     },
     "output_type": "display_data"
    }
   ],
   "source": [
    "import numpy as np\n",
    "import matplotlib.pyplot as plt\n",
    "x = np.linspace(0,10,1000) # x is a 1000 evenly spaced numbers from 0 to 10\n",
    "y = np.sin(x)\n",
    "fig = plt.figure()\n",
    "plt.plot(x, y)\n",
    "plt.show()"
   ]
  },
  {
   "cell_type": "code",
   "execution_count": 9,
   "metadata": {},
   "outputs": [
    {
     "data": {
      "image/png": "[encoded data removed]",
      "text/plain": [
       "<Figure size 432x288 with 1 Axes>"
      ]
     },
     "metadata": {
      "needs_background": "light"
     },
     "output_type": "display_data"
    }
   ],
   "source": [
    "import numpy as np\n",
    "import matplotlib.pyplot as plt\n",
    "x = np.linspace(0,10,1000) # 1darray of length 1000\n",
    "y = np.sin(x)\n",
    "\n",
    "plt.plot(x, y)\n",
    "plt.xlabel('x')\n",
    "plt.ylabel('y')\n",
    "plt.title('function sin(x)')\n",
    "plt.savefig(\"plot.png\")\n",
    "plt.show()"
   ]
  },
  {
   "cell_type": "code",
   "execution_count": 10,
   "metadata": {},
   "outputs": [
    {
     "data": {
      "image/png": "[encoded data removed]",
      "text/plain": [
       "<Figure size 432x288 with 1 Axes>"
      ]
     },
     "metadata": {
      "needs_background": "light"
     },
     "output_type": "display_data"
    }
   ],
   "source": [
    "# Multiple lines, linestyles and legend\n",
    "\n",
    "import numpy as np\n",
    "import matplotlib.pyplot as plt\n",
    "x = np.linspace(0,10,1000) # 1darray of length 1000\n",
    "y = np.sin(x)\n",
    "plt.plot(x, np.sin(x), 'k:', label='sin(x)')\n",
    "plt.plot(x, np.cos(x), 'r--', label='cos(x)')\n",
    "plt.legend()\n",
    "plt.savefig(\"plot.png\")\n",
    "plt.show()"
   ]
  },
  {
   "cell_type": "code",
   "execution_count": 13,
   "metadata": {},
   "outputs": [
    {
     "data": {
      "image/png": "[encoded data removed]",
      "text/plain": [
       "<Figure size 432x288 with 1 Axes>"
      ]
     },
     "metadata": {
      "needs_background": "light"
     },
     "output_type": "display_data"
    }
   ],
   "source": [
    "import numpy as np\n",
    "import matplotlib.pyplot as plt\n",
    "import pandas as pd\n",
    "\n",
    "presidents_df = pd.read_csv('https://sololearn.com/uploads/files/president_heights_party.csv', index_col='name')\n",
    "plt.scatter(presidents_df['height'], presidents_df['age'],\n",
    "   marker='<',\n",
    "   color='b')\n",
    "plt.xlabel('height'); \n",
    "plt.ylabel('age')\n",
    "plt.title('U.S. presidents')\n",
    "plt.savefig(\"plot.png\")\n",
    "plt.show()"
   ]
  },
  {
   "cell_type": "markdown",
   "metadata": {},
   "source": [
    "## Plotting with Pandas\n",
    "\n",
    "A great thing about pandas is that it integrates well with matplotlib, so we can plot directly from DataFrames and Series. We specify the kind of plot as 'scatter', 'height' along x-axis, and 'age' along y-axis, and then give it a title:"
   ]
  },
  {
   "cell_type": "code",
   "execution_count": 14,
   "metadata": {},
   "outputs": [
    {
     "data": {
      "image/png": "[encoded data removed]",
      "text/plain": [
       "<Figure size 432x288 with 1 Axes>"
      ]
     },
     "metadata": {
      "needs_background": "light"
     },
     "output_type": "display_data"
    }
   ],
   "source": [
    "import numpy as np\n",
    "import matplotlib.pyplot as plt\n",
    "import pandas as pd\n",
    "\n",
    "presidents_df = pd.read_csv('https://sololearn.com/uploads/files/president_heights_party.csv', index_col='name')\n",
    "presidents_df.plot(kind = 'scatter', \n",
    "  x = 'height', \n",
    "  y = 'age',\n",
    "  title = 'U.S. presidents')\n",
    "plt.savefig(\"plot.png\")\n",
    "plt.show()"
   ]
  },
  {
   "cell_type": "code",
   "execution_count": 22,
   "metadata": {},
   "outputs": [
    {
     "data": {
      "image/png": "[encoded data removed]",
      "text/plain": [
       "<Figure size 640x480 with 1 Axes>"
      ]
     },
     "metadata": {},
     "output_type": "display_data"
    }
   ],
   "source": [
    "import numpy as np\n",
    "import matplotlib.pyplot as plt\n",
    "import pandas as pd\n",
    "\n",
    "presidents_df = pd.read_csv('https://sololearn.com/uploads/files/president_heights_party.csv', index_col='name')\n",
    "presidents_df['height'].plot(kind='hist',\n",
    "  title = 'height',\n",
    "  bins=5)\n",
    "plt.savefig(\"plot.png\")\n",
    "plt.show()"
   ]
  },
  {
   "cell_type": "code",
   "execution_count": 20,
   "metadata": {},
   "outputs": [
    {
     "data": {
      "text/plain": [
       "<AxesSubplot:>"
      ]
     },
     "execution_count": 20,
     "metadata": {},
     "output_type": "execute_result"
    },
    {
     "data": {
      "image/png": "[encoded data removed]",
      "text/plain": [
       "<Figure size 640x480 with 1 Axes>"
      ]
     },
     "metadata": {},
     "output_type": "display_data"
    }
   ],
   "source": [
    "presidents_df['height'].hist()"
   ]
  },
  {
   "cell_type": "markdown",
   "metadata": {},
   "source": [
    "## Boxplot"
   ]
  },
  {
   "cell_type": "code",
   "execution_count": 25,
   "metadata": {},
   "outputs": [
    {
     "data": {
      "image/png": "[encoded data removed]",
      "text/plain": [
       "<Figure size 640x480 with 1 Axes>"
      ]
     },
     "metadata": {},
     "output_type": "display_data"
    }
   ],
   "source": [
    "import numpy as np\n",
    "import matplotlib.pyplot as plt\n",
    "import pandas as pd\n",
    "\n",
    "presidents_df = pd.read_csv('https://sololearn.com/uploads/files/president_heights_party.csv', index_col='name')\n",
    "#plt.style.use('classic')\n",
    "presidents_df.boxplot(column='height');\n",
    "plt.savefig(\"plot.png\")\n",
    "plt.show()"
   ]
  },
  {
   "cell_type": "markdown",
   "metadata": {},
   "source": [
    "## Barplot"
   ]
  },
  {
   "cell_type": "code",
   "execution_count": 24,
   "metadata": {},
   "outputs": [
    {
     "data": {
      "image/png": "[encoded data removed]",
      "text/plain": [
       "<Figure size 640x480 with 1 Axes>"
      ]
     },
     "metadata": {},
     "output_type": "display_data"
    }
   ],
   "source": [
    "import numpy as np\n",
    "import matplotlib.pyplot as plt\n",
    "import pandas as pd\n",
    "\n",
    "presidents_df = pd.read_csv('https://sololearn.com/uploads/files/president_heights_party.csv', index_col='name')\n",
    "party_cnt = presidents_df['party'].value_counts()\n",
    "\n",
    "plt.style.use('ggplot')\n",
    "party_cnt.plot(kind ='bar')\n",
    "plt.savefig(\"plot.png\")\n",
    "plt.show()"
   ]
  },
  {
   "cell_type": "markdown",
   "metadata": {},
   "source": [
    "## Test\n",
    "\n",
    "### Data Science - Missing Numbers\n",
    "\n",
    "\n",
    "Imputing missing values.\n",
    "\n",
    "In the real world, you will often need to handle missing values. One way to impute (i.e., fill) the numerical column is to replace the null values with its mean.\n",
    "\n",
    "Task\n",
    "Given a list of numbers including some missing values, turn it into a pandas dataframe, impute the missing values with the mean, and finally return the dataframe.\n",
    "\n",
    "Input Format\n",
    "A list of numbers including one or more string \"nan\" to indicate a missing value.\n",
    "\n",
    "Output Format\n",
    "A list of imputed values where all values are rounded to its first decimal place."
   ]
  },
  {
   "cell_type": "code",
   "execution_count": 174,
   "metadata": {},
   "outputs": [
    {
     "name": "stdout",
     "output_type": "stream",
     "text": [
      "0    4.0\n",
      "1    5.0\n",
      "2    6.0\n",
      "3    5.0\n",
      "dtype: float64\n"
     ]
    }
   ],
   "source": [
    "import numpy as np\n",
    "import pandas as pd\n",
    "\n",
    "lst = [float(x) if x != 'nan' else np.NaN for x in input().split()]\n",
    "series = pd.Series(lst)\n",
    "series = (series.fillna(series.mean())).round(1)\n",
    "print(series)\n"
   ]
  },
  {
   "cell_type": "markdown",
   "metadata": {},
   "source": [
    "---"
   ]
  },
  {
   "cell_type": "markdown",
   "metadata": {},
   "source": [
    "# Machine Learning"
   ]
  },
  {
   "cell_type": "code",
   "execution_count": 8,
   "metadata": {},
   "outputs": [
    {
     "data": {
      "image/png": "[encoded data removed]",
      "text/plain": [
       "<Figure size 432x288 with 1 Axes>"
      ]
     },
     "metadata": {
      "needs_background": "light"
     },
     "output_type": "display_data"
    }
   ],
   "source": [
    "import numpy as np\n",
    "import matplotlib.pyplot as plt\n",
    "import pandas as pd\n",
    "from sklearn.datasets import load_boston\n",
    "boston_dataset = load_boston()\n",
    "\n",
    "boston = pd.DataFrame(boston_dataset.data,columns=boston_dataset.feature_names)\n",
    "boston['MEDV'] = boston_dataset.target\n",
    "boston.hist(column='CHAS')\n",
    "plt.savefig(\"plot1.png\")\n",
    "plt.show()\n"
   ]
  },
  {
   "cell_type": "code",
   "execution_count": 11,
   "metadata": {},
   "outputs": [
    {
     "data": {
      "image/png": "[encoded data removed]",
      "text/plain": [
       "<Figure size 576x432 with 1 Axes>"
      ]
     },
     "metadata": {
      "needs_background": "light"
     },
     "output_type": "display_data"
    }
   ],
   "source": [
    "import numpy as np\n",
    "import matplotlib.pyplot as plt\n",
    "import pandas as pd\n",
    "from sklearn.datasets import load_boston\n",
    "boston_dataset = load_boston()\n",
    "\n",
    "boston = pd.DataFrame(boston_dataset.data,columns=boston_dataset.feature_names)\n",
    "boston['MEDV'] = boston_dataset.target\n",
    "boston.plot(kind = 'scatter',\n",
    "  x = 'RM',\n",
    "  y = 'MEDV',\n",
    "  figsize=(8,6))\n",
    "plt.savefig(\"plot1.png\")\n",
    "plt.show()"
   ]
  },
  {
   "cell_type": "markdown",
   "metadata": {},
   "source": [
    "## Linear Regression"
   ]
  },
  {
   "cell_type": "code",
   "execution_count": 12,
   "metadata": {},
   "outputs": [
    {
     "name": "stdout",
     "output_type": "stream",
     "text": [
      "-30.57\n",
      "[8.46]\n"
     ]
    }
   ],
   "source": [
    "from sklearn.linear_model import LinearRegression\n",
    "from sklearn.model_selection import train_test_split\n",
    "\n",
    "import pandas as pd\n",
    "\n",
    "from sklearn.datasets import load_boston\n",
    "boston_dataset = load_boston()\n",
    "## build a DataFrame\n",
    "boston = pd.DataFrame(boston_dataset.data, \n",
    "                      columns=boston_dataset.feature_names)\n",
    "boston['MEDV'] = boston_dataset.target\n",
    "\n",
    "X = boston[['RM']]\n",
    "Y = boston['MEDV']\n",
    "\n",
    "X_train, X_test, Y_train, Y_test = train_test_split(X, Y, test_size = 0.3, random_state=1)\n",
    "\n",
    "model = LinearRegression()\n",
    "model.fit(X_train, Y_train)\n",
    "print(model.intercept_.round(2))\n",
    "print(model.coef_.round(2))"
   ]
  },
  {
   "cell_type": "code",
   "execution_count": 13,
   "metadata": {},
   "outputs": [
    {
     "name": "stdout",
     "output_type": "stream",
     "text": [
      "[24.42606323]\n"
     ]
    }
   ],
   "source": [
    "import pandas as pd\n",
    "\n",
    "from sklearn.datasets import load_boston\n",
    "boston_dataset = load_boston()\n",
    "## build a DataFrame\n",
    "boston = pd.DataFrame(boston_dataset.data, \n",
    "                      columns=boston_dataset.feature_names)\n",
    "boston['MEDV'] = boston_dataset.target\n",
    "\n",
    "X = boston[['RM']]\n",
    "Y = boston['MEDV']\n",
    "\n",
    "from sklearn.model_selection import train_test_split\n",
    "X_train, X_test, Y_train, Y_test = train_test_split(X, Y, test_size = 0.3, random_state=1)\n",
    "\n",
    "from sklearn.linear_model import LinearRegression\n",
    "model = LinearRegression()\n",
    "model.fit(X_train, Y_train)\n",
    "\n",
    "import numpy as np\n",
    "new_RM = np.array([6.5]).reshape(-1,1) # make sure it's 2d\n",
    "print(model.predict(new_RM))"
   ]
  },
  {
   "cell_type": "code",
   "execution_count": 14,
   "metadata": {},
   "outputs": [
    {
     "name": "stdout",
     "output_type": "stream",
     "text": [
      "(152,)\n",
      "<class 'numpy.ndarray'>\n"
     ]
    }
   ],
   "source": [
    "import pandas as pd\n",
    "\n",
    "from sklearn.datasets import load_boston\n",
    "boston_dataset = load_boston()\n",
    "## build a DataFrame\n",
    "boston = pd.DataFrame(boston_dataset.data, \n",
    "                      columns=boston_dataset.feature_names)\n",
    "boston['MEDV'] = boston_dataset.target\n",
    "\n",
    "X = boston[['RM']]\n",
    "Y = boston['MEDV']\n",
    "\n",
    "from sklearn.model_selection import train_test_split\n",
    "X_train, X_test, Y_train, Y_test = train_test_split(X, Y, test_size = 0.3, random_state=1)\n",
    "\n",
    "from sklearn.linear_model import LinearRegression\n",
    "model = LinearRegression()\n",
    "model.fit(X_train, Y_train)\n",
    "\n",
    "y_test_predicted = model.predict(X_test)\n",
    "print(y_test_predicted.shape)\n",
    "print(type(y_test_predicted))"
   ]
  },
  {
   "cell_type": "code",
   "execution_count": 17,
   "metadata": {},
   "outputs": [
    {
     "data": {
      "image/png": "[encoded data removed]",
      "text/plain": [
       "<Figure size 432x288 with 1 Axes>"
      ]
     },
     "metadata": {
      "needs_background": "light"
     },
     "output_type": "display_data"
    }
   ],
   "source": [
    "residuals = Y_test - y_test_predicted\n",
    "\n",
    "# plot the residuals\n",
    "plt.scatter(X_test, residuals)\n",
    "# plot a horizontal line at y = 0\n",
    "plt.hlines(y = 0,\n",
    "xmin = X_test.min(), xmax=X_test.max(),\n",
    "linestyle='--')\n",
    "# set xlim\n",
    "plt.xlim((4, 9))\n",
    "plt.xlabel('RM'); plt.ylabel('residuals')\n",
    "plt.savefig(\"plot.png\")\n",
    "plt.show()"
   ]
  },
  {
   "cell_type": "code",
   "execution_count": 21,
   "metadata": {},
   "outputs": [
    {
     "name": "stdout",
     "output_type": "stream",
     "text": [
      "[28.478341   28.08411889 17.46168887 24.08502818 20.53939027 24.07720618\n",
      " 29.49226779 21.53814087 17.73198767 25.82822684 27.92749205 30.56017902\n",
      " 19.744675   22.25937394 22.23039758 20.23997311 17.00747983 38.18522442\n",
      " 25.71103246  5.63483384 21.06717172 17.25963598 26.12875354 27.64278875\n",
      " 28.10950458 13.1207732  16.69050892 22.99963249 31.4303435  13.43144011\n",
      " 28.74647902 15.93821689 36.51949271 19.97289731 24.51189106 20.56294206\n",
      " 19.42950819 31.19888826  6.57747007 20.39686851 26.47769159 26.7825762\n",
      " 27.47762993 14.41499805 18.62310619 18.06847281 36.21261023 18.53174991\n",
      " 23.84655008 24.54542564 26.22034649 23.95166915 28.32133001 23.87204143\n",
      "  6.22235564 27.39863295  9.1580405  26.52852129 20.09521683 36.67342818\n",
      " 21.59540558 28.25221122 15.5348794  19.56003936  7.62687753 30.70623418\n",
      " 38.04772217 26.44423625 23.06709024 21.58718845 27.19740561  5.35113993\n",
      " 16.31106342 24.74072319 21.05360377 22.03423263 32.26426006 26.36981291\n",
      " 27.17424345 32.40241397 21.42721859 23.18437379 31.31504683 16.90461621\n",
      " 28.04716205 28.13318738 18.71314818 28.41354821 19.67262269 19.96717777\n",
      " 30.28315129 37.76652585 17.76239941 21.70388859 21.07172995 21.12230207\n",
      " 25.97177446 26.37185262 36.62308722 22.0728351  18.77264636 19.30547479\n",
      " 26.83767464 26.02712499  6.21595803 22.67275804 16.65406175 27.3820049\n",
      " 21.79786799 28.10285488 34.00227525 25.66824599 16.2912035  31.55299435\n",
      " 30.29950083 32.99377852 23.41528197 19.91086413 32.961348   34.51484862\n",
      " 22.77659914 20.40314061 29.97514384 21.49755702 25.96464596 21.40073877\n",
      " 24.787326   24.41962554 18.35668649 29.49276202 19.60572743 24.63346976\n",
      " 26.73994716  8.69763755 27.73925475 30.48196576  9.43965731 17.09654328\n",
      " 32.23810713 22.4099983  26.03877432 18.19141758 16.7559688  27.75252329\n",
      " 31.37389336 24.31589452 26.95634624 15.64264798 28.15026233 17.76647882\n",
      " 28.54329671 15.83434937]\n"
     ]
    }
   ],
   "source": [
    "import pandas as pd\n",
    "from sklearn.datasets import load_boston\n",
    "import matplotlib.pyplot as plt\n",
    "from sklearn.model_selection import train_test_split\n",
    "from sklearn.linear_model import LinearRegression\n",
    "\n",
    "boston_dataset = load_boston()\n",
    "## build a DataFrame\n",
    "boston = pd.DataFrame(boston_dataset.data, \n",
    "                      columns=boston_dataset.feature_names)\n",
    "boston['MEDV'] = boston_dataset.target\n",
    "X = boston[['RM']]\n",
    "Y = boston['MEDV']\n",
    "\n",
    "X_train, X_test, Y_train, Y_test = train_test_split(X, Y, \n",
    "                                                    test_size = 0.3, \n",
    "                                                    random_state=1)\n",
    "model = LinearRegression()\n",
    "model.fit(X_train, Y_train)\n",
    "y_test_predicted = model.predict(X_test)\n",
    "## data preparation\n",
    "X2 = boston[['RM', 'LSTAT']]\n",
    "Y = boston['MEDV']\n",
    "## train test split\n",
    "## same random_state to ensure the same splits\n",
    "X2_train, X2_test, Y_train, Y_test = train_test_split(X2, Y, \n",
    "                                                    test_size = 0.3, \n",
    "                                                    random_state=1)\n",
    "model2 = LinearRegression()\n",
    "model2.fit(X2_train, Y_train)\n",
    "y_test_predicted2 = model2.predict(X2_test)\n",
    "print(y_test_predicted2)"
   ]
  },
  {
   "cell_type": "code",
   "execution_count": null,
   "metadata": {},
   "outputs": [],
   "source": []
  },
  {
   "cell_type": "code",
   "execution_count": null,
   "metadata": {},
   "outputs": [],
   "source": []
  },
  {
   "cell_type": "code",
   "execution_count": null,
   "metadata": {},
   "outputs": [],
   "source": []
  },
  {
   "cell_type": "code",
   "execution_count": null,
   "metadata": {},
   "outputs": [],
   "source": []
  },
  {
   "cell_type": "code",
   "execution_count": null,
   "metadata": {},
   "outputs": [],
   "source": []
  },
  {
   "cell_type": "code",
   "execution_count": null,
   "metadata": {},
   "outputs": [],
   "source": []
  }
 ],
 "metadata": {
  "interpreter": {
   "hash": "6f293cff23337c42d9b2abd40d6329a0ae8508cd838b4363f7d47f9cb63458ad"
  },
  "kernelspec": {
   "display_name": "Python 3.8.5 64-bit ('base': conda)",
   "name": "python3"
  },
  "language_info": {
   "codemirror_mode": {
    "name": "ipython",
    "version": 3
   },
   "file_extension": ".py",
   "mimetype": "text/x-python",
   "name": "python",
   "nbconvert_exporter": "python",
   "pygments_lexer": "ipython3",
   "version": "3.8.5"
  },
  "orig_nbformat": 4
 },
 "nbformat": 4,
 "nbformat_minor": 2
}
