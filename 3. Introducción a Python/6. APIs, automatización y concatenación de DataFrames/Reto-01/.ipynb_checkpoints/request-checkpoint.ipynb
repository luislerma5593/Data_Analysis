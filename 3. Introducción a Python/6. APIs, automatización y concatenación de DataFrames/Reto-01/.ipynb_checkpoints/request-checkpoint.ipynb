{
 "cells": [
  {
   "cell_type": "markdown",
   "metadata": {},
   "source": [
    "## Reto 1: Peticiones a una API usando requests\n",
    "\n",
    "### 1. Objetivos:\n",
    "    - Usar la librería Requests para hacer una petición HTTP a una API\n",
    " \n",
    "---\n",
    "    \n",
    "### 2. Desarrollo:"
   ]
  },
  {
   "cell_type": "markdown",
   "metadata": {},
   "source": [
    "### a) Petición HTTP a API de NASA\n",
    "\n",
    "Vamos a implementar un programa que realice una llamada HTTP a la API de NASA.\n",
    "\n",
    "Puedes leer la documentación de la API [aquí](https://api.nasa.gov/), bajo el título de \"Asteroids NeoWs\"."
   ]
  },
  {
   "cell_type": "code",
   "execution_count": 26,
   "metadata": {},
   "outputs": [],
   "source": [
    "import requests\n",
    "import pandas as pd"
   ]
  },
  {
   "cell_type": "markdown",
   "metadata": {},
   "source": [
    "Tu reto consiste en los siguientes pasos:\n",
    "\n",
    "1. Crea una cuenta en el API de NASA para obtener tu propia API Key. Copia la API Key en la celda debajo para que no la pierdas:"
   ]
  },
  {
   "cell_type": "code",
   "execution_count": 6,
   "metadata": {},
   "outputs": [],
   "source": [
    "api_key = \"SDMMZuqROlCSGfK29sSiCFUOcFSTLHKE3fFtDxeO\""
   ]
  },
  {
   "cell_type": "markdown",
   "metadata": {},
   "source": [
    "2. Asigna la variable `endpoint` -donde tendrás el URL base de la API de NASA- y la variable `payload` -donde tendrás el diccionario que usarás para pasar parámetros a tu petición.\n",
    "\n",
    "3. Usa tu diccionario `payload` para agregar los parámetros necesarios para pedir la hoja número 100 de la API. Durante el ejemplo, pedimos simplemente la primera hoja. En esta ocasión, debes de descubrir que parámetros requieres pasarle para obtener la hoja #100. Además queremos que el número de resultados que nos regresen sea menor al default. El default es 20, pero tú tienes que mandar los parámetros adecuados para que te regresen solamente 5 resultados"
   ]
  },
  {
   "cell_type": "code",
   "execution_count": 8,
   "metadata": {},
   "outputs": [],
   "source": [
    "endpoint = 'https://api.nasa.gov/neo/rest/v1/neo/browse/'\n",
    "payload = {'api_key': api_key, 'page': 100 , 'size' : 5} "
   ]
  },
  {
   "cell_type": "markdown",
   "metadata": {},
   "source": [
    "4. Realiza tu petición HTTP aquí debajo y checa tu código de respuesta para asegurarte de que la petición se haya hecho exitosamente:"
   ]
  },
  {
   "cell_type": "code",
   "execution_count": 16,
   "metadata": {},
   "outputs": [
    {
     "data": {
      "text/plain": [
       "200"
      ]
     },
     "execution_count": 16,
     "metadata": {},
     "output_type": "execute_result"
    }
   ],
   "source": [
    "peticion = requests.get(endpoint, params=payload)\n",
    "peticion.status_code"
   ]
  },
  {
   "cell_type": "markdown",
   "metadata": {},
   "source": [
    "5. Si todo ha salido bien, extrae tus datos, normalízalos, crea un `DataFrame` con ellos y asígnalo a `objetos`. Revisa que solamente tengas 5 filas, para saber que tu petición se realizó exitosamente:"
   ]
  },
  {
   "cell_type": "code",
   "execution_count": 18,
   "metadata": {},
   "outputs": [
    {
     "data": {
      "text/plain": [
       "dict_keys(['links', 'page', 'near_earth_objects'])"
      ]
     },
     "execution_count": 18,
     "metadata": {},
     "output_type": "execute_result"
    }
   ],
   "source": [
    "objetos = peticion.json()\n",
    "objetos.keys()"
   ]
  },
  {
   "cell_type": "code",
   "execution_count": 23,
   "metadata": {},
   "outputs": [],
   "source": [
    "data = objetos['near_earth_objects']"
   ]
  },
  {
   "cell_type": "code",
   "execution_count": 28,
   "metadata": {},
   "outputs": [],
   "source": [
    "normalized = pd.json_normalize(data)"
   ]
  },
  {
   "cell_type": "code",
   "execution_count": 30,
   "metadata": {
    "scrolled": true
   },
   "outputs": [
    {
     "data": {
      "text/html": [
       "<div>\n",
       "<style scoped>\n",
       "    .dataframe tbody tr th:only-of-type {\n",
       "        vertical-align: middle;\n",
       "    }\n",
       "\n",
       "    .dataframe tbody tr th {\n",
       "        vertical-align: top;\n",
       "    }\n",
       "\n",
       "    .dataframe thead th {\n",
       "        text-align: right;\n",
       "    }\n",
       "</style>\n",
       "<table border=\"1\" class=\"dataframe\">\n",
       "  <thead>\n",
       "    <tr style=\"text-align: right;\">\n",
       "      <th></th>\n",
       "      <th>id</th>\n",
       "      <th>neo_reference_id</th>\n",
       "      <th>name</th>\n",
       "      <th>designation</th>\n",
       "      <th>nasa_jpl_url</th>\n",
       "      <th>absolute_magnitude_h</th>\n",
       "      <th>is_potentially_hazardous_asteroid</th>\n",
       "      <th>close_approach_data</th>\n",
       "      <th>is_sentry_object</th>\n",
       "      <th>links.self</th>\n",
       "      <th>...</th>\n",
       "      <th>orbital_data.perihelion_distance</th>\n",
       "      <th>orbital_data.perihelion_argument</th>\n",
       "      <th>orbital_data.aphelion_distance</th>\n",
       "      <th>orbital_data.perihelion_time</th>\n",
       "      <th>orbital_data.mean_anomaly</th>\n",
       "      <th>orbital_data.mean_motion</th>\n",
       "      <th>orbital_data.equinox</th>\n",
       "      <th>orbital_data.orbit_class.orbit_class_type</th>\n",
       "      <th>orbital_data.orbit_class.orbit_class_description</th>\n",
       "      <th>orbital_data.orbit_class.orbit_class_range</th>\n",
       "    </tr>\n",
       "  </thead>\n",
       "  <tbody>\n",
       "    <tr>\n",
       "      <th>0</th>\n",
       "      <td>2140333</td>\n",
       "      <td>2140333</td>\n",
       "      <td>140333 (2001 TD2)</td>\n",
       "      <td>140333</td>\n",
       "      <td>http://ssd.jpl.nasa.gov/sbdb.cgi?sstr=2140333</td>\n",
       "      <td>19.18</td>\n",
       "      <td>False</td>\n",
       "      <td>[{'close_approach_date': '1900-09-08', 'close_...</td>\n",
       "      <td>False</td>\n",
       "      <td>http://www.neowsapp.com/rest/v1/neo/2140333?ap...</td>\n",
       "      <td>...</td>\n",
       "      <td>.4987034312846835</td>\n",
       "      <td>199.0727603635045</td>\n",
       "      <td>1.424947866233554</td>\n",
       "      <td>2459321.641073575279</td>\n",
       "      <td>233.4241184155349</td>\n",
       "      <td>1.044863462480453</td>\n",
       "      <td>J2000</td>\n",
       "      <td>ATE</td>\n",
       "      <td>Near-Earth asteroid orbits similar to that of ...</td>\n",
       "      <td>a (semi-major axis) &lt; 1.0 AU; q (perihelion) &gt;...</td>\n",
       "    </tr>\n",
       "    <tr>\n",
       "      <th>1</th>\n",
       "      <td>2140928</td>\n",
       "      <td>2140928</td>\n",
       "      <td>140928 (2001 VG75)</td>\n",
       "      <td>140928</td>\n",
       "      <td>http://ssd.jpl.nasa.gov/sbdb.cgi?sstr=2140928</td>\n",
       "      <td>18.12</td>\n",
       "      <td>False</td>\n",
       "      <td>[{'close_approach_date': '1902-12-19', 'close_...</td>\n",
       "      <td>False</td>\n",
       "      <td>http://www.neowsapp.com/rest/v1/neo/2140928?ap...</td>\n",
       "      <td>...</td>\n",
       "      <td>1.067536062535957</td>\n",
       "      <td>257.291200013199</td>\n",
       "      <td>1.970153929268634</td>\n",
       "      <td>2459216.332214542651</td>\n",
       "      <td>351.6636573294153</td>\n",
       "      <td>.5265430586559645</td>\n",
       "      <td>J2000</td>\n",
       "      <td>AMO</td>\n",
       "      <td>Near-Earth asteroid orbits similar to that of ...</td>\n",
       "      <td>1.017 AU &lt; q (perihelion) &lt; 1.3 AU</td>\n",
       "    </tr>\n",
       "    <tr>\n",
       "      <th>2</th>\n",
       "      <td>2141018</td>\n",
       "      <td>2141018</td>\n",
       "      <td>141018 (2001 WC47)</td>\n",
       "      <td>141018</td>\n",
       "      <td>http://ssd.jpl.nasa.gov/sbdb.cgi?sstr=2141018</td>\n",
       "      <td>18.90</td>\n",
       "      <td>False</td>\n",
       "      <td>[{'close_approach_date': '1915-12-22', 'close_...</td>\n",
       "      <td>False</td>\n",
       "      <td>http://www.neowsapp.com/rest/v1/neo/2141018?ap...</td>\n",
       "      <td>...</td>\n",
       "      <td>1.061456643299362</td>\n",
       "      <td>101.393508253391</td>\n",
       "      <td>1.73624756624535</td>\n",
       "      <td>2459046.684362234223</td>\n",
       "      <td>91.63193621838472</td>\n",
       "      <td>.595725750316216</td>\n",
       "      <td>J2000</td>\n",
       "      <td>AMO</td>\n",
       "      <td>Near-Earth asteroid orbits similar to that of ...</td>\n",
       "      <td>1.017 AU &lt; q (perihelion) &lt; 1.3 AU</td>\n",
       "    </tr>\n",
       "    <tr>\n",
       "      <th>3</th>\n",
       "      <td>2141052</td>\n",
       "      <td>2141052</td>\n",
       "      <td>141052 (2001 XR1)</td>\n",
       "      <td>141052</td>\n",
       "      <td>http://ssd.jpl.nasa.gov/sbdb.cgi?sstr=2141052</td>\n",
       "      <td>17.37</td>\n",
       "      <td>False</td>\n",
       "      <td>[{'close_approach_date': '1902-01-27', 'close_...</td>\n",
       "      <td>False</td>\n",
       "      <td>http://www.neowsapp.com/rest/v1/neo/2141052?ap...</td>\n",
       "      <td>...</td>\n",
       "      <td>.5603196938594327</td>\n",
       "      <td>304.1543700346958</td>\n",
       "      <td>1.930509860727939</td>\n",
       "      <td>2458988.893084823516</td>\n",
       "      <td>150.0592972453882</td>\n",
       "      <td>.7091417457706231</td>\n",
       "      <td>J2000</td>\n",
       "      <td>APO</td>\n",
       "      <td>Near-Earth asteroid orbits which cross the Ear...</td>\n",
       "      <td>a (semi-major axis) &gt; 1.0 AU; q (perihelion) &lt;...</td>\n",
       "    </tr>\n",
       "    <tr>\n",
       "      <th>4</th>\n",
       "      <td>2141053</td>\n",
       "      <td>2141053</td>\n",
       "      <td>141053 (2001 XT1)</td>\n",
       "      <td>141053</td>\n",
       "      <td>http://ssd.jpl.nasa.gov/sbdb.cgi?sstr=2141053</td>\n",
       "      <td>18.80</td>\n",
       "      <td>True</td>\n",
       "      <td>[{'close_approach_date': '1901-07-14', 'close_...</td>\n",
       "      <td>False</td>\n",
       "      <td>http://www.neowsapp.com/rest/v1/neo/2141053?ap...</td>\n",
       "      <td>...</td>\n",
       "      <td>.6427411543338335</td>\n",
       "      <td>31.32562536292346</td>\n",
       "      <td>2.41454866683947</td>\n",
       "      <td>2459089.628012005123</td>\n",
       "      <td>57.81838897820008</td>\n",
       "      <td>.5214877988917433</td>\n",
       "      <td>J2000</td>\n",
       "      <td>APO</td>\n",
       "      <td>Near-Earth asteroid orbits which cross the Ear...</td>\n",
       "      <td>a (semi-major axis) &gt; 1.0 AU; q (perihelion) &lt;...</td>\n",
       "    </tr>\n",
       "  </tbody>\n",
       "</table>\n",
       "<p>5 rows × 43 columns</p>\n",
       "</div>"
      ],
      "text/plain": [
       "        id neo_reference_id                name designation  \\\n",
       "0  2140333          2140333   140333 (2001 TD2)      140333   \n",
       "1  2140928          2140928  140928 (2001 VG75)      140928   \n",
       "2  2141018          2141018  141018 (2001 WC47)      141018   \n",
       "3  2141052          2141052   141052 (2001 XR1)      141052   \n",
       "4  2141053          2141053   141053 (2001 XT1)      141053   \n",
       "\n",
       "                                    nasa_jpl_url  absolute_magnitude_h  \\\n",
       "0  http://ssd.jpl.nasa.gov/sbdb.cgi?sstr=2140333                 19.18   \n",
       "1  http://ssd.jpl.nasa.gov/sbdb.cgi?sstr=2140928                 18.12   \n",
       "2  http://ssd.jpl.nasa.gov/sbdb.cgi?sstr=2141018                 18.90   \n",
       "3  http://ssd.jpl.nasa.gov/sbdb.cgi?sstr=2141052                 17.37   \n",
       "4  http://ssd.jpl.nasa.gov/sbdb.cgi?sstr=2141053                 18.80   \n",
       "\n",
       "   is_potentially_hazardous_asteroid  \\\n",
       "0                              False   \n",
       "1                              False   \n",
       "2                              False   \n",
       "3                              False   \n",
       "4                               True   \n",
       "\n",
       "                                 close_approach_data  is_sentry_object  \\\n",
       "0  [{'close_approach_date': '1900-09-08', 'close_...             False   \n",
       "1  [{'close_approach_date': '1902-12-19', 'close_...             False   \n",
       "2  [{'close_approach_date': '1915-12-22', 'close_...             False   \n",
       "3  [{'close_approach_date': '1902-01-27', 'close_...             False   \n",
       "4  [{'close_approach_date': '1901-07-14', 'close_...             False   \n",
       "\n",
       "                                          links.self  ...  \\\n",
       "0  http://www.neowsapp.com/rest/v1/neo/2140333?ap...  ...   \n",
       "1  http://www.neowsapp.com/rest/v1/neo/2140928?ap...  ...   \n",
       "2  http://www.neowsapp.com/rest/v1/neo/2141018?ap...  ...   \n",
       "3  http://www.neowsapp.com/rest/v1/neo/2141052?ap...  ...   \n",
       "4  http://www.neowsapp.com/rest/v1/neo/2141053?ap...  ...   \n",
       "\n",
       "   orbital_data.perihelion_distance  orbital_data.perihelion_argument  \\\n",
       "0                 .4987034312846835                 199.0727603635045   \n",
       "1                 1.067536062535957                  257.291200013199   \n",
       "2                 1.061456643299362                  101.393508253391   \n",
       "3                 .5603196938594327                 304.1543700346958   \n",
       "4                 .6427411543338335                 31.32562536292346   \n",
       "\n",
       "   orbital_data.aphelion_distance  orbital_data.perihelion_time  \\\n",
       "0               1.424947866233554          2459321.641073575279   \n",
       "1               1.970153929268634          2459216.332214542651   \n",
       "2                1.73624756624535          2459046.684362234223   \n",
       "3               1.930509860727939          2458988.893084823516   \n",
       "4                2.41454866683947          2459089.628012005123   \n",
       "\n",
       "   orbital_data.mean_anomaly  orbital_data.mean_motion  orbital_data.equinox  \\\n",
       "0          233.4241184155349         1.044863462480453                 J2000   \n",
       "1          351.6636573294153         .5265430586559645                 J2000   \n",
       "2          91.63193621838472          .595725750316216                 J2000   \n",
       "3          150.0592972453882         .7091417457706231                 J2000   \n",
       "4          57.81838897820008         .5214877988917433                 J2000   \n",
       "\n",
       "   orbital_data.orbit_class.orbit_class_type  \\\n",
       "0                                        ATE   \n",
       "1                                        AMO   \n",
       "2                                        AMO   \n",
       "3                                        APO   \n",
       "4                                        APO   \n",
       "\n",
       "    orbital_data.orbit_class.orbit_class_description  \\\n",
       "0  Near-Earth asteroid orbits similar to that of ...   \n",
       "1  Near-Earth asteroid orbits similar to that of ...   \n",
       "2  Near-Earth asteroid orbits similar to that of ...   \n",
       "3  Near-Earth asteroid orbits which cross the Ear...   \n",
       "4  Near-Earth asteroid orbits which cross the Ear...   \n",
       "\n",
       "          orbital_data.orbit_class.orbit_class_range  \n",
       "0  a (semi-major axis) < 1.0 AU; q (perihelion) >...  \n",
       "1                 1.017 AU < q (perihelion) < 1.3 AU  \n",
       "2                 1.017 AU < q (perihelion) < 1.3 AU  \n",
       "3  a (semi-major axis) > 1.0 AU; q (perihelion) <...  \n",
       "4  a (semi-major axis) > 1.0 AU; q (perihelion) <...  \n",
       "\n",
       "[5 rows x 43 columns]"
      ]
     },
     "execution_count": 30,
     "metadata": {},
     "output_type": "execute_result"
    }
   ],
   "source": [
    "objetos = normalized\n",
    "normalized"
   ]
  },
  {
   "cell_type": "markdown",
   "metadata": {},
   "source": [
    "6. Pídele a tu experta la función de verificación `visualizar_diametros` (encontrada en el archivo `helpers.py` de la carpeta donde se encuentra este Reto), pégala debajo y corre la celda para verificar tu resultado:"
   ]
  },
  {
   "cell_type": "code",
   "execution_count": 31,
   "metadata": {},
   "outputs": [
    {
     "name": "stderr",
     "output_type": "stream",
     "text": [
      "C:\\Otro\\Anaconda\\lib\\site-packages\\seaborn\\_decorators.py:36: FutureWarning: Pass the following variables as keyword args: x, y. From version 0.12, the only valid positional argument will be `data`, and passing other arguments without an explicit keyword will result in an error or misinterpretation.\n",
      "  warnings.warn(\n"
     ]
    },
    {
     "data": {
      "image/png": "[encoded data removed]",
      "text/plain": [
       "<Figure size 432x288 with 1 Axes>"
      ]
     },
     "metadata": {
      "needs_background": "light"
     },
     "output_type": "display_data"
    }
   ],
   "source": [
    "def visualizar_diametros(objetos):\n",
    "    \n",
    "    import seaborn as sns\n",
    "    \n",
    "    sizes = objetos[['name', 'estimated_diameter.kilometers.estimated_diameter_max']].copy()\n",
    "    sizes.sort_values('estimated_diameter.kilometers.estimated_diameter_max', ascending=True, inplace=True)\n",
    "    sns.barplot(sizes['name'], sizes['estimated_diameter.kilometers.estimated_diameter_max'])\n",
    "\n",
    "visualizar_diametros(objetos)"
   ]
  },
  {
   "cell_type": "markdown",
   "metadata": {},
   "source": [
    "<details><summary>Solución</summary>\n",
    "\n",
    "```python\n",
    "import requests\n",
    "import pandas as pd\n",
    "    \n",
    "api_key = 'tu_api_key_va_aqui'\n",
    "    \n",
    "endpoint = 'https://api.nasa.gov/neo/rest/v1/neo/browse/'\n",
    "payload = {'api_key': api_key, 'page': 100, 'size': 5}\n",
    "    \n",
    "r = requests.get(endpoint, params=payload)\n",
    "r.status_code\n",
    "    \n",
    "data = r.json()['near_earth_objects']\n",
    "normalized = pd.json_normalize(data)\n",
    "objetos = pd.DataFrame.from_dict(normalized)\n",
    "```\n",
    "    \n",
    "</details>"
   ]
  },
  {
   "cell_type": "code",
   "execution_count": null,
   "metadata": {},
   "outputs": [],
   "source": []
  }
 ],
 "metadata": {
  "kernelspec": {
   "display_name": "Python 3",
   "language": "python",
   "name": "python3"
  },
  "language_info": {
   "codemirror_mode": {
    "name": "ipython",
    "version": 3
   },
   "file_extension": ".py",
   "mimetype": "text/x-python",
   "name": "python",
   "nbconvert_exporter": "python",
   "pygments_lexer": "ipython3",
   "version": "3.8.5"
  }
 },
 "nbformat": 4,
 "nbformat_minor": 4
}
