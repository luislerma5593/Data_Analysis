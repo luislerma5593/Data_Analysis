{
 "cells": [
  {
   "cell_type": "markdown",
   "metadata": {},
   "source": [
    "## Reto 2: Modificando listas\n",
    "\n",
    "### 1. Objetivos:\n",
    "    - Practicar el uso de los métodos `append` `pop`.\n",
    " \n",
    "---\n",
    "    \n",
    "### 2. Desarrollo:"
   ]
  },
  {
   "cell_type": "markdown",
   "metadata": {},
   "source": [
    "#### a) Modificar para eliminar diferencias\n",
    "\n",
    "Debajo tienes dos listas definidas:"
   ]
  },
  {
   "cell_type": "code",
   "execution_count": 19,
   "metadata": {},
   "outputs": [],
   "source": [
    "lista_1 = [3.4, 0.7, 99.9, 5.41, 6.23, 7.9]\n",
    "\n",
    "lista_2 = [3.4, 63.4, 0.7, 6.46, 99.9, 2.2, 5.41]\n",
    "\n",
    "\n"
   ]
  },
  {
   "cell_type": "code",
   "execution_count": 21,
   "metadata": {},
   "outputs": [
    {
     "data": {
      "text/plain": [
       "2.2"
      ]
     },
     "execution_count": 21,
     "metadata": {},
     "output_type": "execute_result"
    }
   ],
   "source": [
    "lista_1.pop(-1)\n",
    "lista_1.pop(-1)\n",
    "lista_2.pop(1)\n",
    "lista_2.pop(2)\n",
    "lista_2.pop(-2)\n"
   ]
  },
  {
   "cell_type": "code",
   "execution_count": 22,
   "metadata": {},
   "outputs": [
    {
     "data": {
      "text/plain": [
       "[3.4, 0.7, 99.9, 5.41]"
      ]
     },
     "execution_count": 22,
     "metadata": {},
     "output_type": "execute_result"
    }
   ],
   "source": [
    "lista_1"
   ]
  },
  {
   "cell_type": "code",
   "execution_count": 23,
   "metadata": {},
   "outputs": [
    {
     "data": {
      "text/plain": [
       "[3.4, 0.7, 99.9, 5.41]"
      ]
     },
     "execution_count": 23,
     "metadata": {},
     "output_type": "execute_result"
    }
   ],
   "source": [
    "lista_2"
   ]
  },
  {
   "cell_type": "markdown",
   "metadata": {},
   "source": [
    "Ahora, tienes una `sentencia if` que utiliza una comparación entre las dos listas:"
   ]
  },
  {
   "cell_type": "code",
   "execution_count": 24,
   "metadata": {},
   "outputs": [
    {
     "name": "stdout",
     "output_type": "stream",
     "text": [
      "Tú y yo somos uno mismo\n"
     ]
    }
   ],
   "source": [
    "if lista_1 == lista_2:\n",
    "    print(\"Tú y yo somos uno mismo\")"
   ]
  },
  {
   "cell_type": "markdown",
   "metadata": {},
   "source": [
    "Donde dice `tu código va aquí` agrega modificaciones a la **lista_2** para lograr que ambas listas sean idénticas y el bello mensaje \"Tú y yo somos uno mismo\" se imprima. Puedes usar tanto `pop` como `append`, pero **sólo puedes modificar la lista_2**."
   ]
  },
  {
   "cell_type": "markdown",
   "metadata": {},
   "source": [
    "<details><summary>Solución</summary>\n",
    "\n",
    "```python\n",
    "# El orden podría ser diferente\n",
    "    \n",
    "lista_2.pop(1)\n",
    "lista_2.pop(2)\n",
    "lista_2.pop(3)\n",
    "lista_2.append(6.23)\n",
    "lista_2.append(7.9)\n",
    "\n",
    "```\n",
    "    \n",
    "</details>"
   ]
  },
  {
   "cell_type": "markdown",
   "metadata": {},
   "source": [
    "#### b) Corrigiendo fragmentos\n",
    "\n",
    "Debajo hay un muy pequeño fragmento del capítulo 68 de la novela \"Rayuela\" de Julio Cortázar ([Lo puedes leer aquí](https://ciudadseva.com/texto/rayuela-capitulo-68/)). Este fragmento ha sido modificado, como fácilmente podrás ver. Además, el fragmento termina con un oración inconclusa:"
   ]
  },
  {
   "cell_type": "code",
   "execution_count": 37,
   "metadata": {},
   "outputs": [
    {
     "data": {
      "text/plain": [
       "['Apenas',\n",
       " 'él',\n",
       " 'le',\n",
       " 'amalaba',\n",
       " 'el',\n",
       " 'noema,',\n",
       " 'a',\n",
       " 'ella',\n",
       " 'se',\n",
       " 'le',\n",
       " 'agolpaba',\n",
       " 'el',\n",
       " 'clémiso',\n",
       " 'y',\n",
       " 'caían',\n",
       " 'en',\n",
       " 'hidromurias,',\n",
       " 'en',\n",
       " 'salvajes',\n",
       " 'ambonios,',\n",
       " 'en',\n",
       " 'sustalos',\n",
       " 'exasperantes.',\n",
       " 'Cada',\n",
       " 'vez',\n",
       " 'que',\n",
       " 'él',\n",
       " 'procuraba',\n",
       " 'relamar',\n",
       " 'las',\n",
       " 'incopelusas,']"
      ]
     },
     "execution_count": 37,
     "metadata": {},
     "output_type": "execute_result"
    }
   ],
   "source": [
    "fragmento_fragmentado = ['Apenas', 'él', 'le', 'amalaba', 'hidrolizado', 'el', 'noema,',\n",
    "                         'a', 'ella', 'se', 'le', 'agolpaba', 'el', 'clémiso', 'súbito',\n",
    "                         'y', 'caían', 'en', 'fermales', 'hidromurias,', 'en', 'salvajes', 'ambonios,',\n",
    "                         'en', 'sustalos', 'distales', 'exasperantes.',\n",
    "                         'Cada', 'vez', 'que', 'él', 'procuraba', 'relamar', 'las', 'incopelusas,']\n",
    "\n",
    "# Tu código va aquí\n",
    "\n",
    "fragmento_fragmentado.pop(4)\n",
    "fragmento_fragmentado.pop(13)\n",
    "fragmento_fragmentado.pop(16)\n",
    "fragmento_fragmentado.pop(-10)\n",
    "\n",
    "fragmento_fragmentado"
   ]
  },
  {
   "cell_type": "markdown",
   "metadata": {},
   "source": [
    "Debajo hay código que toma la lista de arriba e imprime el fragmento en forma de texto. Tu reto es eliminar todas las modificaciones que han sido hechas al texto de Cortázar usando el método `pop`. Al terminar, puedes, si así lo deseas, agregar tu propio final a la oración inconclusa usando el método `append`.\n",
    "\n",
    "El resultado será una colaboración tuya y de Cortázar:"
   ]
  },
  {
   "cell_type": "code",
   "execution_count": 35,
   "metadata": {},
   "outputs": [
    {
     "name": "stdout",
     "output_type": "stream",
     "text": [
      "==Colaboración póstuma de Córtazar y Luis==\n",
      "\n",
      "Apenas él amalaba el noema, a ella se le agolpaba el clémiso y caían en hidromurias, en salvajes ambonios, en sustalos exasperantes. Cada vez que él procuraba relamar las incopelusas,\n"
     ]
    }
   ],
   "source": [
    "tu_nombre = \"Luis\"  # Tu nombre va aquí\n",
    "\n",
    "print(f'==Colaboración póstuma de Córtazar y {tu_nombre}==\\n')\n",
    "print(f'{\" \".join(fragmento_fragmentado)}')"
   ]
  },
  {
   "cell_type": "markdown",
   "metadata": {},
   "source": [
    "<details><summary>Solución</summary>\n",
    "\n",
    "```python\n",
    "# La colaboración (lo que va en el append) podría ser distinta. En caso de que sea igual, tal vez estemos entrelazados cuánticamente. ¡Búscame!\n",
    "    \n",
    "fragmento_fragmentado.pop(4)\n",
    "fragmento_fragmentado.pop(12)\n",
    "fragmento_fragmentado.pop(15)\n",
    "fragmento_fragmentado.pop(21) \n",
    "fragmento.append(\"se dirimían en conjunto: flémalos, húmalos, y vivosos estallidos\"\n",
    "```\n",
    "    \n",
    "</details>"
   ]
  },
  {
   "cell_type": "code",
   "execution_count": null,
   "metadata": {},
   "outputs": [],
   "source": []
  }
 ],
 "metadata": {
  "kernelspec": {
   "display_name": "Python 3",
   "language": "python",
   "name": "python3"
  },
  "language_info": {
   "codemirror_mode": {
    "name": "ipython",
    "version": 3
   },
   "file_extension": ".py",
   "mimetype": "text/x-python",
   "name": "python",
   "nbconvert_exporter": "python",
   "pygments_lexer": "ipython3",
   "version": "3.8.5"
  }
 },
 "nbformat": 4,
 "nbformat_minor": 4
}
