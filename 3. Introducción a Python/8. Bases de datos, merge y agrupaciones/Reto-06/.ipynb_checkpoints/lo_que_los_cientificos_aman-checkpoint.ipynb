{
 "cells": [
  {
   "cell_type": "markdown",
   "metadata": {},
   "source": [
    "## Reto 6: Lo que los científicos aman\n",
    "\n",
    "### 1. Objetivos:\n",
    "    - Practicar las siguientes herramientas:\n",
    "        - Lectura de .csv\n",
    "        - `merge`\n",
    "        - Filtros con value_counts()\n",
    "        - Agrupaciones y reordenamientos\n",
    "    \n",
    "---\n",
    "    \n",
    "### 2. Desarrollo:"
   ]
  },
  {
   "cell_type": "markdown",
   "metadata": {},
   "source": [
    "#### a) Lo que los científicos aman\n",
    "\n",
    "En este Reto vamos a obtener una lista de las películas que fueron mejor evaluadas por científicos para saber cuáles son sus favoritas. Vamos a realizar los siguientes pasos:\n",
    "\n",
    "1. Lee los archivos para `movies`, `ratings` y `users`.\n",
    "2. Agrega **solamente** la columna `occupation` al `DataFrame` `ratings`, para tener la información de las ocupaciones de los usuarios que realizaron los ratings.\n",
    "3. Filtra tu tabla `ratings` para quedarte solamente con los ratings hechos por científicos.\n",
    "4. Agrega **solamente** la columna `title` de la tabla `movies` a la tabla `ratings` para tener la información de los nombres de las películas que fueron evaluadas por científicos.\n",
    "5. Filtra tu `DataFrame` para quedarte **solamente** con las películas que fueron evaluadas más de 50 veces.\n",
    "6. Realiza una agrupación por película y computa el promedio de los ratings de cada película.\n",
    "7. Ordena la `Serie` resultante descendentemente y asígnala  a la variable `mean_of_scientists_ratings_sorted`.\n",
    "\n",
    "> **Nota**: el paso #5 es un poco complejo. No te desesperes si no encuentras una solución rápidamente. ¡Pídele a la experta que te guíe para que puedas resolverlo sin que te explote la cabeza!"
   ]
  },
  {
   "cell_type": "code",
   "execution_count": 1,
   "metadata": {},
   "outputs": [],
   "source": [
    "import pandas as pd"
   ]
  },
  {
   "cell_type": "code",
   "execution_count": 45,
   "metadata": {},
   "outputs": [],
   "source": [
    "mov = pd.read_csv('C:/Users/LLerma/Google Drive/Analisis de Datos/M3 - Introduccion a Python/Files/Movielens/movies-separated_by_money-raw.csv', sep = \"$\")\n",
    "rat = pd.read_csv('C:/Users/LLerma/Google Drive/Analisis de Datos/M3 - Introduccion a Python/Files/Movielens/ratings-raw.csv')\n",
    "use = pd.read_csv('C:/Users/LLerma/Google Drive/Analisis de Datos/M3 - Introduccion a Python/Files/Movielens/users-full.csv')"
   ]
  },
  {
   "cell_type": "code",
   "execution_count": 46,
   "metadata": {},
   "outputs": [
    {
     "data": {
      "text/html": [
       "<div>\n",
       "<style scoped>\n",
       "    .dataframe tbody tr th:only-of-type {\n",
       "        vertical-align: middle;\n",
       "    }\n",
       "\n",
       "    .dataframe tbody tr th {\n",
       "        vertical-align: top;\n",
       "    }\n",
       "\n",
       "    .dataframe thead th {\n",
       "        text-align: right;\n",
       "    }\n",
       "</style>\n",
       "<table border=\"1\" class=\"dataframe\">\n",
       "  <thead>\n",
       "    <tr style=\"text-align: right;\">\n",
       "      <th></th>\n",
       "      <th>movie_id</th>\n",
       "      <th>title</th>\n",
       "      <th>genres</th>\n",
       "    </tr>\n",
       "  </thead>\n",
       "  <tbody>\n",
       "    <tr>\n",
       "      <th>0</th>\n",
       "      <td>1</td>\n",
       "      <td>Toy Story (1995)</td>\n",
       "      <td>Animation|Children's|Comedy</td>\n",
       "    </tr>\n",
       "    <tr>\n",
       "      <th>1</th>\n",
       "      <td>2</td>\n",
       "      <td>Jumanji (1995)</td>\n",
       "      <td>Adventure|Children's|Fantasy</td>\n",
       "    </tr>\n",
       "    <tr>\n",
       "      <th>2</th>\n",
       "      <td>3</td>\n",
       "      <td>Grumpier Old Men (1995)</td>\n",
       "      <td>Comedy|Romance</td>\n",
       "    </tr>\n",
       "    <tr>\n",
       "      <th>3</th>\n",
       "      <td>4</td>\n",
       "      <td>Waiting to Exhale (1995)</td>\n",
       "      <td>Comedy|Drama</td>\n",
       "    </tr>\n",
       "    <tr>\n",
       "      <th>4</th>\n",
       "      <td>5</td>\n",
       "      <td>Father of the Bride Part II (1995)</td>\n",
       "      <td>Comedy</td>\n",
       "    </tr>\n",
       "  </tbody>\n",
       "</table>\n",
       "</div>"
      ],
      "text/plain": [
       "   movie_id                               title                        genres\n",
       "0         1                    Toy Story (1995)   Animation|Children's|Comedy\n",
       "1         2                      Jumanji (1995)  Adventure|Children's|Fantasy\n",
       "2         3             Grumpier Old Men (1995)                Comedy|Romance\n",
       "3         4            Waiting to Exhale (1995)                  Comedy|Drama\n",
       "4         5  Father of the Bride Part II (1995)                        Comedy"
      ]
     },
     "execution_count": 46,
     "metadata": {},
     "output_type": "execute_result"
    }
   ],
   "source": [
    "mov.head()"
   ]
  },
  {
   "cell_type": "code",
   "execution_count": 47,
   "metadata": {},
   "outputs": [
    {
     "data": {
      "text/html": [
       "<div>\n",
       "<style scoped>\n",
       "    .dataframe tbody tr th:only-of-type {\n",
       "        vertical-align: middle;\n",
       "    }\n",
       "\n",
       "    .dataframe tbody tr th {\n",
       "        vertical-align: top;\n",
       "    }\n",
       "\n",
       "    .dataframe thead th {\n",
       "        text-align: right;\n",
       "    }\n",
       "</style>\n",
       "<table border=\"1\" class=\"dataframe\">\n",
       "  <thead>\n",
       "    <tr style=\"text-align: right;\">\n",
       "      <th></th>\n",
       "      <th>user_id</th>\n",
       "      <th>movie_id</th>\n",
       "      <th>rating</th>\n",
       "      <th>timestamp</th>\n",
       "    </tr>\n",
       "  </thead>\n",
       "  <tbody>\n",
       "    <tr>\n",
       "      <th>0</th>\n",
       "      <td>1</td>\n",
       "      <td>1193</td>\n",
       "      <td>5</td>\n",
       "      <td>978300760</td>\n",
       "    </tr>\n",
       "    <tr>\n",
       "      <th>1</th>\n",
       "      <td>1</td>\n",
       "      <td>661</td>\n",
       "      <td>3</td>\n",
       "      <td>978302109</td>\n",
       "    </tr>\n",
       "    <tr>\n",
       "      <th>2</th>\n",
       "      <td>1</td>\n",
       "      <td>914</td>\n",
       "      <td>3</td>\n",
       "      <td>978301968</td>\n",
       "    </tr>\n",
       "    <tr>\n",
       "      <th>3</th>\n",
       "      <td>1</td>\n",
       "      <td>3408</td>\n",
       "      <td>4</td>\n",
       "      <td>978300275</td>\n",
       "    </tr>\n",
       "    <tr>\n",
       "      <th>4</th>\n",
       "      <td>1</td>\n",
       "      <td>2355</td>\n",
       "      <td>5</td>\n",
       "      <td>978824291</td>\n",
       "    </tr>\n",
       "  </tbody>\n",
       "</table>\n",
       "</div>"
      ],
      "text/plain": [
       "   user_id  movie_id  rating  timestamp\n",
       "0        1      1193       5  978300760\n",
       "1        1       661       3  978302109\n",
       "2        1       914       3  978301968\n",
       "3        1      3408       4  978300275\n",
       "4        1      2355       5  978824291"
      ]
     },
     "execution_count": 47,
     "metadata": {},
     "output_type": "execute_result"
    }
   ],
   "source": [
    "rat.head()"
   ]
  },
  {
   "cell_type": "code",
   "execution_count": 53,
   "metadata": {
    "scrolled": false
   },
   "outputs": [
    {
     "data": {
      "text/html": [
       "<div>\n",
       "<style scoped>\n",
       "    .dataframe tbody tr th:only-of-type {\n",
       "        vertical-align: middle;\n",
       "    }\n",
       "\n",
       "    .dataframe tbody tr th {\n",
       "        vertical-align: top;\n",
       "    }\n",
       "\n",
       "    .dataframe thead th {\n",
       "        text-align: right;\n",
       "    }\n",
       "</style>\n",
       "<table border=\"1\" class=\"dataframe\">\n",
       "  <thead>\n",
       "    <tr style=\"text-align: right;\">\n",
       "      <th></th>\n",
       "      <th>user_id</th>\n",
       "      <th>gender</th>\n",
       "      <th>age_id</th>\n",
       "      <th>age_range</th>\n",
       "      <th>occupation_id</th>\n",
       "      <th>occupation</th>\n",
       "      <th>cp</th>\n",
       "    </tr>\n",
       "  </thead>\n",
       "  <tbody>\n",
       "    <tr>\n",
       "      <th>0</th>\n",
       "      <td>1</td>\n",
       "      <td>F</td>\n",
       "      <td>1</td>\n",
       "      <td>Under 18</td>\n",
       "      <td>10</td>\n",
       "      <td>K-12 student</td>\n",
       "      <td>48067</td>\n",
       "    </tr>\n",
       "    <tr>\n",
       "      <th>1</th>\n",
       "      <td>2</td>\n",
       "      <td>M</td>\n",
       "      <td>56</td>\n",
       "      <td>56+</td>\n",
       "      <td>16</td>\n",
       "      <td>self-employed</td>\n",
       "      <td>70072</td>\n",
       "    </tr>\n",
       "    <tr>\n",
       "      <th>2</th>\n",
       "      <td>3</td>\n",
       "      <td>M</td>\n",
       "      <td>25</td>\n",
       "      <td>25-34</td>\n",
       "      <td>15</td>\n",
       "      <td>scientist</td>\n",
       "      <td>55117</td>\n",
       "    </tr>\n",
       "    <tr>\n",
       "      <th>3</th>\n",
       "      <td>4</td>\n",
       "      <td>M</td>\n",
       "      <td>45</td>\n",
       "      <td>45-49</td>\n",
       "      <td>7</td>\n",
       "      <td>executive/managerial</td>\n",
       "      <td>02460</td>\n",
       "    </tr>\n",
       "    <tr>\n",
       "      <th>4</th>\n",
       "      <td>5</td>\n",
       "      <td>M</td>\n",
       "      <td>25</td>\n",
       "      <td>25-34</td>\n",
       "      <td>20</td>\n",
       "      <td>writer</td>\n",
       "      <td>55455</td>\n",
       "    </tr>\n",
       "  </tbody>\n",
       "</table>\n",
       "</div>"
      ],
      "text/plain": [
       "   user_id gender  age_id age_range  occupation_id            occupation  \\\n",
       "0        1      F       1  Under 18             10          K-12 student   \n",
       "1        2      M      56       56+             16         self-employed   \n",
       "2        3      M      25     25-34             15             scientist   \n",
       "3        4      M      45     45-49              7  executive/managerial   \n",
       "4        5      M      25     25-34             20                writer   \n",
       "\n",
       "      cp  \n",
       "0  48067  \n",
       "1  70072  \n",
       "2  55117  \n",
       "3  02460  \n",
       "4  55455  "
      ]
     },
     "execution_count": 53,
     "metadata": {},
     "output_type": "execute_result"
    }
   ],
   "source": [
    "use.head()"
   ]
  },
  {
   "cell_type": "code",
   "execution_count": 55,
   "metadata": {
    "scrolled": true
   },
   "outputs": [],
   "source": [
    "df = pd.merge(rat,use[[\"user_id\",\"occupation\"]])"
   ]
  },
  {
   "cell_type": "code",
   "execution_count": 92,
   "metadata": {},
   "outputs": [
    {
     "data": {
      "text/plain": [
       "array(['K-12 student', 'self-employed', 'scientist',\n",
       "       'executive/managerial', 'writer', 'homemaker', 'academic/educator',\n",
       "       'programmer', 'technician/engineer', 'other or not specified',\n",
       "       'clerical/admin', 'sales/marketing', 'college/grad student',\n",
       "       'lawyer', 'farmer', 'unemployed', 'artist', 'tradesman/craftsman',\n",
       "       'customer service', 'retired', 'doctor/health care'], dtype=object)"
      ]
     },
     "execution_count": 92,
     "metadata": {},
     "output_type": "execute_result"
    }
   ],
   "source": [
    "df[\"occupation\"].unique()"
   ]
  },
  {
   "cell_type": "code",
   "execution_count": 60,
   "metadata": {},
   "outputs": [
    {
     "data": {
      "text/html": [
       "<div>\n",
       "<style scoped>\n",
       "    .dataframe tbody tr th:only-of-type {\n",
       "        vertical-align: middle;\n",
       "    }\n",
       "\n",
       "    .dataframe tbody tr th {\n",
       "        vertical-align: top;\n",
       "    }\n",
       "\n",
       "    .dataframe thead th {\n",
       "        text-align: right;\n",
       "    }\n",
       "</style>\n",
       "<table border=\"1\" class=\"dataframe\">\n",
       "  <thead>\n",
       "    <tr style=\"text-align: right;\">\n",
       "      <th></th>\n",
       "      <th>user_id</th>\n",
       "      <th>movie_id</th>\n",
       "      <th>rating</th>\n",
       "      <th>timestamp</th>\n",
       "      <th>occupation</th>\n",
       "    </tr>\n",
       "  </thead>\n",
       "  <tbody>\n",
       "    <tr>\n",
       "      <th>182</th>\n",
       "      <td>3</td>\n",
       "      <td>3421</td>\n",
       "      <td>4</td>\n",
       "      <td>978298147</td>\n",
       "      <td>scientist</td>\n",
       "    </tr>\n",
       "  </tbody>\n",
       "</table>\n",
       "</div>"
      ],
      "text/plain": [
       "     user_id  movie_id  rating  timestamp occupation\n",
       "182        3      3421       4  978298147  scientist"
      ]
     },
     "execution_count": 60,
     "metadata": {},
     "output_type": "execute_result"
    }
   ],
   "source": [
    "df2 = df[df[\"occupation\"] == \"scientist\"]\n",
    "df2.head(1)"
   ]
  },
  {
   "cell_type": "code",
   "execution_count": 89,
   "metadata": {
    "scrolled": true
   },
   "outputs": [
    {
     "data": {
      "text/html": [
       "<div>\n",
       "<style scoped>\n",
       "    .dataframe tbody tr th:only-of-type {\n",
       "        vertical-align: middle;\n",
       "    }\n",
       "\n",
       "    .dataframe tbody tr th {\n",
       "        vertical-align: top;\n",
       "    }\n",
       "\n",
       "    .dataframe thead th {\n",
       "        text-align: right;\n",
       "    }\n",
       "</style>\n",
       "<table border=\"1\" class=\"dataframe\">\n",
       "  <thead>\n",
       "    <tr style=\"text-align: right;\">\n",
       "      <th></th>\n",
       "      <th>user_id</th>\n",
       "      <th>movie_id</th>\n",
       "      <th>rating</th>\n",
       "      <th>timestamp</th>\n",
       "      <th>occupation</th>\n",
       "      <th>title</th>\n",
       "    </tr>\n",
       "  </thead>\n",
       "  <tbody>\n",
       "    <tr>\n",
       "      <th>0</th>\n",
       "      <td>3</td>\n",
       "      <td>3421</td>\n",
       "      <td>4</td>\n",
       "      <td>978298147</td>\n",
       "      <td>scientist</td>\n",
       "      <td>Animal House (1978)</td>\n",
       "    </tr>\n",
       "    <tr>\n",
       "      <th>1</th>\n",
       "      <td>193</td>\n",
       "      <td>3421</td>\n",
       "      <td>4</td>\n",
       "      <td>977019997</td>\n",
       "      <td>scientist</td>\n",
       "      <td>Animal House (1978)</td>\n",
       "    </tr>\n",
       "    <tr>\n",
       "      <th>2</th>\n",
       "      <td>412</td>\n",
       "      <td>3421</td>\n",
       "      <td>5</td>\n",
       "      <td>976294231</td>\n",
       "      <td>scientist</td>\n",
       "      <td>Animal House (1978)</td>\n",
       "    </tr>\n",
       "    <tr>\n",
       "      <th>3</th>\n",
       "      <td>929</td>\n",
       "      <td>3421</td>\n",
       "      <td>5</td>\n",
       "      <td>975192861</td>\n",
       "      <td>scientist</td>\n",
       "      <td>Animal House (1978)</td>\n",
       "    </tr>\n",
       "    <tr>\n",
       "      <th>4</th>\n",
       "      <td>1116</td>\n",
       "      <td>3421</td>\n",
       "      <td>3</td>\n",
       "      <td>974913876</td>\n",
       "      <td>scientist</td>\n",
       "      <td>Animal House (1978)</td>\n",
       "    </tr>\n",
       "  </tbody>\n",
       "</table>\n",
       "</div>"
      ],
      "text/plain": [
       "   user_id  movie_id  rating  timestamp occupation                title\n",
       "0        3      3421       4  978298147  scientist  Animal House (1978)\n",
       "1      193      3421       4  977019997  scientist  Animal House (1978)\n",
       "2      412      3421       5  976294231  scientist  Animal House (1978)\n",
       "3      929      3421       5  975192861  scientist  Animal House (1978)\n",
       "4     1116      3421       3  974913876  scientist  Animal House (1978)"
      ]
     },
     "execution_count": 89,
     "metadata": {},
     "output_type": "execute_result"
    }
   ],
   "source": [
    "df3 = pd.merge(df2,mov[[\"movie_id\",\"title\"]])\n",
    "df3.head()"
   ]
  },
  {
   "cell_type": "code",
   "execution_count": 128,
   "metadata": {
    "scrolled": true
   },
   "outputs": [
    {
     "data": {
      "text/plain": [
       "<bound method NDFrame.head of movie_id\n",
       "1       55\n",
       "110     61\n",
       "260     85\n",
       "296     59\n",
       "318     54\n",
       "480     71\n",
       "527     54\n",
       "541     58\n",
       "589     71\n",
       "593     75\n",
       "608     71\n",
       "750     51\n",
       "858     66\n",
       "924     58\n",
       "1036    53\n",
       "1097    72\n",
       "1136    52\n",
       "1196    88\n",
       "1197    75\n",
       "1198    75\n",
       "1200    56\n",
       "1210    71\n",
       "1214    67\n",
       "1240    63\n",
       "1265    56\n",
       "1270    70\n",
       "1580    63\n",
       "1617    58\n",
       "2028    67\n",
       "2396    66\n",
       "2571    68\n",
       "2628    66\n",
       "2716    65\n",
       "2762    61\n",
       "2858    84\n",
       "2916    59\n",
       "2997    63\n",
       "dtype: int64>"
      ]
     },
     "execution_count": 128,
     "metadata": {},
     "output_type": "execute_result"
    }
   ],
   "source": [
    "g_rat = df3.groupby(\"movie_id\").size()\n",
    "rat_50 = (g_rat[g_rat > 50])\n",
    "rat_50.head"
   ]
  },
  {
   "cell_type": "code",
   "execution_count": 122,
   "metadata": {
    "scrolled": true
   },
   "outputs": [
    {
     "data": {
      "text/html": [
       "<div>\n",
       "<style scoped>\n",
       "    .dataframe tbody tr th:only-of-type {\n",
       "        vertical-align: middle;\n",
       "    }\n",
       "\n",
       "    .dataframe tbody tr th {\n",
       "        vertical-align: top;\n",
       "    }\n",
       "\n",
       "    .dataframe thead th {\n",
       "        text-align: right;\n",
       "    }\n",
       "</style>\n",
       "<table border=\"1\" class=\"dataframe\">\n",
       "  <thead>\n",
       "    <tr style=\"text-align: right;\">\n",
       "      <th></th>\n",
       "      <th>user_id</th>\n",
       "      <th>movie_id</th>\n",
       "      <th>rating</th>\n",
       "      <th>timestamp</th>\n",
       "      <th>occupation</th>\n",
       "      <th>title</th>\n",
       "    </tr>\n",
       "  </thead>\n",
       "  <tbody>\n",
       "    <tr>\n",
       "      <th>178</th>\n",
       "      <td>3</td>\n",
       "      <td>1210</td>\n",
       "      <td>4</td>\n",
       "      <td>978297600</td>\n",
       "      <td>scientist</td>\n",
       "      <td>Star Wars: Episode VI - Return of the Jedi (1983)</td>\n",
       "    </tr>\n",
       "    <tr>\n",
       "      <th>179</th>\n",
       "      <td>22</td>\n",
       "      <td>1210</td>\n",
       "      <td>3</td>\n",
       "      <td>978134049</td>\n",
       "      <td>scientist</td>\n",
       "      <td>Star Wars: Episode VI - Return of the Jedi (1983)</td>\n",
       "    </tr>\n",
       "    <tr>\n",
       "      <th>180</th>\n",
       "      <td>109</td>\n",
       "      <td>1210</td>\n",
       "      <td>4</td>\n",
       "      <td>977516291</td>\n",
       "      <td>scientist</td>\n",
       "      <td>Star Wars: Episode VI - Return of the Jedi (1983)</td>\n",
       "    </tr>\n",
       "    <tr>\n",
       "      <th>181</th>\n",
       "      <td>228</td>\n",
       "      <td>1210</td>\n",
       "      <td>4</td>\n",
       "      <td>976826810</td>\n",
       "      <td>scientist</td>\n",
       "      <td>Star Wars: Episode VI - Return of the Jedi (1983)</td>\n",
       "    </tr>\n",
       "    <tr>\n",
       "      <th>182</th>\n",
       "      <td>366</td>\n",
       "      <td>1210</td>\n",
       "      <td>4</td>\n",
       "      <td>976309462</td>\n",
       "      <td>scientist</td>\n",
       "      <td>Star Wars: Episode VI - Return of the Jedi (1983)</td>\n",
       "    </tr>\n",
       "    <tr>\n",
       "      <th>...</th>\n",
       "      <td>...</td>\n",
       "      <td>...</td>\n",
       "      <td>...</td>\n",
       "      <td>...</td>\n",
       "      <td>...</td>\n",
       "      <td>...</td>\n",
       "    </tr>\n",
       "    <tr>\n",
       "      <th>15850</th>\n",
       "      <td>5821</td>\n",
       "      <td>541</td>\n",
       "      <td>5</td>\n",
       "      <td>957902605</td>\n",
       "      <td>scientist</td>\n",
       "      <td>Blade Runner (1982)</td>\n",
       "    </tr>\n",
       "    <tr>\n",
       "      <th>15851</th>\n",
       "      <td>5939</td>\n",
       "      <td>541</td>\n",
       "      <td>5</td>\n",
       "      <td>957212790</td>\n",
       "      <td>scientist</td>\n",
       "      <td>Blade Runner (1982)</td>\n",
       "    </tr>\n",
       "    <tr>\n",
       "      <th>15852</th>\n",
       "      <td>5963</td>\n",
       "      <td>541</td>\n",
       "      <td>5</td>\n",
       "      <td>957022278</td>\n",
       "      <td>scientist</td>\n",
       "      <td>Blade Runner (1982)</td>\n",
       "    </tr>\n",
       "    <tr>\n",
       "      <th>15853</th>\n",
       "      <td>6011</td>\n",
       "      <td>541</td>\n",
       "      <td>5</td>\n",
       "      <td>956783578</td>\n",
       "      <td>scientist</td>\n",
       "      <td>Blade Runner (1982)</td>\n",
       "    </tr>\n",
       "    <tr>\n",
       "      <th>15854</th>\n",
       "      <td>6036</td>\n",
       "      <td>541</td>\n",
       "      <td>5</td>\n",
       "      <td>956710800</td>\n",
       "      <td>scientist</td>\n",
       "      <td>Blade Runner (1982)</td>\n",
       "    </tr>\n",
       "  </tbody>\n",
       "</table>\n",
       "<p>2407 rows × 6 columns</p>\n",
       "</div>"
      ],
      "text/plain": [
       "       user_id  movie_id  rating  timestamp occupation  \\\n",
       "178          3      1210       4  978297600  scientist   \n",
       "179         22      1210       3  978134049  scientist   \n",
       "180        109      1210       4  977516291  scientist   \n",
       "181        228      1210       4  976826810  scientist   \n",
       "182        366      1210       4  976309462  scientist   \n",
       "...        ...       ...     ...        ...        ...   \n",
       "15850     5821       541       5  957902605  scientist   \n",
       "15851     5939       541       5  957212790  scientist   \n",
       "15852     5963       541       5  957022278  scientist   \n",
       "15853     6011       541       5  956783578  scientist   \n",
       "15854     6036       541       5  956710800  scientist   \n",
       "\n",
       "                                                   title  \n",
       "178    Star Wars: Episode VI - Return of the Jedi (1983)  \n",
       "179    Star Wars: Episode VI - Return of the Jedi (1983)  \n",
       "180    Star Wars: Episode VI - Return of the Jedi (1983)  \n",
       "181    Star Wars: Episode VI - Return of the Jedi (1983)  \n",
       "182    Star Wars: Episode VI - Return of the Jedi (1983)  \n",
       "...                                                  ...  \n",
       "15850                                Blade Runner (1982)  \n",
       "15851                                Blade Runner (1982)  \n",
       "15852                                Blade Runner (1982)  \n",
       "15853                                Blade Runner (1982)  \n",
       "15854                                Blade Runner (1982)  \n",
       "\n",
       "[2407 rows x 6 columns]"
      ]
     },
     "execution_count": 122,
     "metadata": {},
     "output_type": "execute_result"
    }
   ],
   "source": [
    "def in_list(x):\n",
    "    return x in rat_50\n",
    "\n",
    "filters = df3[\"movie_id\"].apply(in_list)\n",
    "df4 = df3[filters]\n",
    "df4"
   ]
  },
  {
   "cell_type": "code",
   "execution_count": 150,
   "metadata": {},
   "outputs": [
    {
     "data": {
      "text/plain": [
       "title\n",
       "2001: A Space Odyssey (1968)                                                   4.189655\n",
       "Alien (1979)                                                                   4.029851\n",
       "Aliens (1986)                                                                  4.160714\n",
       "American Beauty (1999)                                                         4.357143\n",
       "Back to the Future (1985)                                                      3.814286\n",
       "Being John Malkovich (1999)                                                    4.333333\n",
       "Blade Runner (1982)                                                            4.568966\n",
       "Braveheart (1995)                                                              4.262295\n",
       "Die Hard (1988)                                                                4.094340\n",
       "Dr. Strangelove or: How I Learned to Stop Worrying and Love the Bomb (1963)    4.529412\n",
       "E.T. the Extra-Terrestrial (1982)                                              3.652778\n",
       "Fargo (1996)                                                                   4.253521\n",
       "Ghostbusters (1984)                                                            3.892308\n",
       "Godfather, The (1972)                                                          4.530303\n",
       "Groundhog Day (1993)                                                           4.017857\n",
       "Jurassic Park (1993)                                                           3.704225\n",
       "L.A. Confidential (1997)                                                       4.362069\n",
       "Matrix, The (1999)                                                             4.220588\n",
       "Men in Black (1997)                                                            3.730159\n",
       "Monty Python and the Holy Grail (1974)                                         4.653846\n",
       "Princess Bride, The (1987)                                                     4.520000\n",
       "Pulp Fiction (1994)                                                            4.271186\n",
       "Raiders of the Lost Ark (1981)                                                 4.533333\n",
       "Saving Private Ryan (1998)                                                     4.253731\n",
       "Schindler's List (1993)                                                        4.648148\n",
       "Shakespeare in Love (1998)                                                     3.893939\n",
       "Shawshank Redemption, The (1994)                                               4.537037\n",
       "Silence of the Lambs, The (1991)                                               4.426667\n",
       "Sixth Sense, The (1999)                                                        4.327869\n",
       "Star Wars: Episode I - The Phantom Menace (1999)                               3.333333\n",
       "Star Wars: Episode IV - A New Hope (1977)                                      4.600000\n",
       "Star Wars: Episode V - The Empire Strikes Back (1980)                          4.306818\n",
       "Star Wars: Episode VI - Return of the Jedi (1983)                              4.112676\n",
       "Terminator 2: Judgment Day (1991)                                              4.197183\n",
       "Terminator, The (1984)                                                         4.238095\n",
       "Total Recall (1990)                                                            3.728814\n",
       "Toy Story (1995)                                                               4.072727\n",
       "Name: rating, dtype: float64"
      ]
     },
     "execution_count": 150,
     "metadata": {},
     "output_type": "execute_result"
    }
   ],
   "source": [
    "df5 = df4.groupby(\"title\")[\"rating\"].mean()\n",
    "df5"
   ]
  },
  {
   "cell_type": "code",
   "execution_count": 151,
   "metadata": {},
   "outputs": [
    {
     "data": {
      "text/plain": [
       "title\n",
       "Monty Python and the Holy Grail (1974)                                         4.653846\n",
       "Schindler's List (1993)                                                        4.648148\n",
       "Star Wars: Episode IV - A New Hope (1977)                                      4.600000\n",
       "Blade Runner (1982)                                                            4.568966\n",
       "Shawshank Redemption, The (1994)                                               4.537037\n",
       "Raiders of the Lost Ark (1981)                                                 4.533333\n",
       "Godfather, The (1972)                                                          4.530303\n",
       "Dr. Strangelove or: How I Learned to Stop Worrying and Love the Bomb (1963)    4.529412\n",
       "Princess Bride, The (1987)                                                     4.520000\n",
       "Silence of the Lambs, The (1991)                                               4.426667\n",
       "L.A. Confidential (1997)                                                       4.362069\n",
       "American Beauty (1999)                                                         4.357143\n",
       "Being John Malkovich (1999)                                                    4.333333\n",
       "Sixth Sense, The (1999)                                                        4.327869\n",
       "Star Wars: Episode V - The Empire Strikes Back (1980)                          4.306818\n",
       "Pulp Fiction (1994)                                                            4.271186\n",
       "Braveheart (1995)                                                              4.262295\n",
       "Saving Private Ryan (1998)                                                     4.253731\n",
       "Fargo (1996)                                                                   4.253521\n",
       "Terminator, The (1984)                                                         4.238095\n",
       "Matrix, The (1999)                                                             4.220588\n",
       "Terminator 2: Judgment Day (1991)                                              4.197183\n",
       "2001: A Space Odyssey (1968)                                                   4.189655\n",
       "Aliens (1986)                                                                  4.160714\n",
       "Star Wars: Episode VI - Return of the Jedi (1983)                              4.112676\n",
       "Die Hard (1988)                                                                4.094340\n",
       "Toy Story (1995)                                                               4.072727\n",
       "Alien (1979)                                                                   4.029851\n",
       "Groundhog Day (1993)                                                           4.017857\n",
       "Shakespeare in Love (1998)                                                     3.893939\n",
       "Ghostbusters (1984)                                                            3.892308\n",
       "Back to the Future (1985)                                                      3.814286\n",
       "Men in Black (1997)                                                            3.730159\n",
       "Total Recall (1990)                                                            3.728814\n",
       "Jurassic Park (1993)                                                           3.704225\n",
       "E.T. the Extra-Terrestrial (1982)                                              3.652778\n",
       "Star Wars: Episode I - The Phantom Menace (1999)                               3.333333\n",
       "Name: rating, dtype: float64"
      ]
     },
     "execution_count": 151,
     "metadata": {},
     "output_type": "execute_result"
    }
   ],
   "source": [
    "df6=df5.sort_values( ascending = False)\n",
    "df6"
   ]
  },
  {
   "cell_type": "code",
   "execution_count": 152,
   "metadata": {},
   "outputs": [],
   "source": [
    "mean_of_scientists_ratings_sorted =df6"
   ]
  },
  {
   "cell_type": "markdown",
   "metadata": {},
   "source": [
    "Pídele a tu experta la función de verificación `visualizar_lista` (encontrada en el archivo `helpers.py` de la carpeta donde se encuentra este Reto), pégala debajo y corre la celda para verificar tu resultado."
   ]
  },
  {
   "cell_type": "code",
   "execution_count": 153,
   "metadata": {},
   "outputs": [
    {
     "name": "stderr",
     "output_type": "stream",
     "text": [
      "C:\\Otro\\Anaconda\\lib\\site-packages\\seaborn\\_decorators.py:36: FutureWarning: Pass the following variables as keyword args: x, y. From version 0.12, the only valid positional argument will be `data`, and passing other arguments without an explicit keyword will result in an error or misinterpretation.\n",
      "  warnings.warn(\n"
     ]
    },
    {
     "data": {
      "image/png": "[encoded data removed]",
      "text/plain": [
       "<Figure size 720x720 with 1 Axes>"
      ]
     },
     "metadata": {
      "needs_background": "light"
     },
     "output_type": "display_data"
    }
   ],
   "source": [
    "# Pega aquí la función de verificación \n",
    "\n",
    "def visualizar_lista(mean_of_scientists_ratings_sorted):\n",
    "    import matplotlib.pyplot as plt\n",
    "    import seaborn as sns\n",
    "\n",
    "    fig, ax = plt.subplots(figsize=(10, 10))\n",
    "    ax.set_title('Ratings promedio de las películas más evaluadas por científicos')\n",
    "    sns.barplot(mean_of_scientists_ratings_sorted, mean_of_scientists_ratings_sorted.index, ax=ax)\n",
    "    ax.set(ylabel='Título', xlabel='Rating Promedio')\n",
    "\n",
    "visualizar_lista(mean_of_scientists_ratings_sorted)"
   ]
  },
  {
   "cell_type": "markdown",
   "metadata": {},
   "source": [
    "<details><summary>Solución</summary>\n",
    "\n",
    "```python\n",
    "movies = pd.read_csv('../../Datasets/MovieLens/movies-separated_by_money-raw.csv', sep='$', index_col=0)\n",
    "ratings = pd.read_csv('../../Datasets/MovieLens/ratings-raw.csv')\n",
    "users = pd.read_csv('../../Datasets/MovieLens/users-full.csv')\n",
    "ratings_with_occupation = pd.merge(ratings, users['occupation'], left_on='user_id', right_index=True)\n",
    "only_scientists = ratings_with_occupation[ratings_with_occupation['occupation'] == 'scientist']\n",
    "only_scientist_with_movie_title = pd.merge(only_scientists, movies['title'], left_on='movie_id', right_index=True)\n",
    "movies_that_appear_more_than_50_times_filter = only_scientist_with_movie_title['title'].value_counts() > 50\n",
    "titles_of_movies_that_appear_more_than_50_times = only_scientist_with_movie_title['title'].value_counts()[movies_that_appear_more_than_50_times_filter].index\n",
    "def title_is_in_list(list_of_titles, title):\n",
    "    return title in list_of_titles\n",
    "ratings_for_most_rated_movies = only_scientist_with_movie_title[only_scientist_with_movie_title['title'].apply(lambda x: title_is_in_list(titles_of_movies_that_appear_more_than_50_times, x))]\n",
    "mean_of_scientist_ratings = ratings_for_most_rated_movies.groupby('title')['rating'].mean()\n",
    "mean_of_scientists_ratings_sorted = mean_of_scientist_ratings.sort_values(ascending=False)\n",
    "```\n",
    "    \n",
    "</details>"
   ]
  }
 ],
 "metadata": {
  "kernelspec": {
   "display_name": "Python 3",
   "language": "python",
   "name": "python3"
  },
  "language_info": {
   "codemirror_mode": {
    "name": "ipython",
    "version": 3
   },
   "file_extension": ".py",
   "mimetype": "text/x-python",
   "name": "python",
   "nbconvert_exporter": "python",
   "pygments_lexer": "ipython3",
   "version": "3.8.5"
  }
 },
 "nbformat": 4,
 "nbformat_minor": 4
}
