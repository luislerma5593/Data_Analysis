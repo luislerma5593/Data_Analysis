{
 "cells": [
  {
   "cell_type": "markdown",
   "metadata": {},
   "source": [
    "## Ejemplo 1: Conectándose a una base de datos remota\n",
    "\n",
    "### 1. Objetivos:\n",
    "    - Usar `mysql-connector-python` para conectarse a una base de datos remota.\n",
    " \n",
    "---\n",
    "    \n",
    "### 2. Desarrollo:"
   ]
  },
  {
   "cell_type": "markdown",
   "metadata": {},
   "source": [
    "#### a) Realizar una conexión y el `cursor`\n",
    "\n",
    "Para conectarnos necesitamos primero importar la librería:"
   ]
  },
  {
   "cell_type": "code",
   "execution_count": 2,
   "metadata": {},
   "outputs": [
    {
     "name": "stdout",
     "output_type": "stream",
     "text": [
      "Collecting mysql-connector-python\n",
      "  Downloading mysql_connector_python-8.0.25-cp38-cp38-win_amd64.whl (794 kB)\n",
      "Collecting protobuf>=3.0.0\n",
      "  Downloading protobuf-3.17.0-py2.py3-none-any.whl (173 kB)\n",
      "Requirement already satisfied: six>=1.9 in c:\\otro\\anaconda\\envs\\class_test\\lib\\site-packages (from protobuf>=3.0.0->mysql-connector-python) (1.15.0)\n",
      "Installing collected packages: protobuf, mysql-connector-python\n",
      "Successfully installed mysql-connector-python-8.0.25 protobuf-3.17.0\n"
     ]
    }
   ],
   "source": [
    "! pip install mysql-connector-python\n"
   ]
  },
  {
   "cell_type": "code",
   "execution_count": 1,
   "metadata": {},
   "outputs": [
    {
     "ename": "ModuleNotFoundError",
     "evalue": "No module named 'mysql'",
     "output_type": "error",
     "traceback": [
      "\u001b[1;31m---------------------------------------------------------------------------\u001b[0m",
      "\u001b[1;31mModuleNotFoundError\u001b[0m                       Traceback (most recent call last)",
      "\u001b[1;32m<ipython-input-1-9cd6224ba968>\u001b[0m in \u001b[0;36m<module>\u001b[1;34m\u001b[0m\n\u001b[1;32m----> 1\u001b[1;33m \u001b[1;32mimport\u001b[0m \u001b[0mmysql\u001b[0m\u001b[1;33m.\u001b[0m\u001b[0mconnector\u001b[0m\u001b[1;33m\u001b[0m\u001b[1;33m\u001b[0m\u001b[0m\n\u001b[0m",
      "\u001b[1;31mModuleNotFoundError\u001b[0m: No module named 'mysql'"
     ]
    }
   ],
   "source": [
    "import mysql.connector"
   ]
  },
  {
   "cell_type": "markdown",
   "metadata": {},
   "source": [
    "Después necesitamos saber la siguiente información acerca de la instancia de MySQL a la que queremos conectarnos:\n",
    "\n",
    "1. Host\n",
    "2. Puerto\n",
    "3. Usuario\n",
    "4. Contraseña\n",
    "5. Base de datos a la que queremos conectarnos (recuerda que MySQL **no** es una base de datos, es un Sistema de Gestión de Bases de Datos; es decir, es software que nos ayuda a organizar bases de datos para que sean de fácil acceso)\n",
    "\n",
    "Todos esos datos los usamos para crear una conexión:"
   ]
  },
  {
   "cell_type": "code",
   "execution_count": null,
   "metadata": {},
   "outputs": [],
   "source": [
    "# Llenar esta información con los datos que te compartan los ingenieros de Bedu\n",
    "\n",
    "cnx = mysql.connector.connect(\n",
    "    host=\"\",\n",
    "    port=3306,\n",
    "    user=\"\",\n",
    "    password='',\n",
    "    database='movielens'\n",
    ")"
   ]
  },
  {
   "cell_type": "markdown",
   "metadata": {},
   "source": [
    "Ahora, para poder realizar lecturas a nuestra base de datos, tenemos que crear un objeto llamado `cursor`:"
   ]
  },
  {
   "cell_type": "code",
   "execution_count": null,
   "metadata": {},
   "outputs": [],
   "source": [
    "cursor = cnx.cursor()"
   ]
  },
  {
   "cell_type": "markdown",
   "metadata": {},
   "source": [
    "Éste objeto lo podemos usar para realizar cualquier consulta en lenguaje SQL. Por ejemplo, veamos qué tablas existen en nuestra base de datos:"
   ]
  },
  {
   "cell_type": "code",
   "execution_count": null,
   "metadata": {},
   "outputs": [],
   "source": [
    "cursor.execute(\"SHOW TABLES\")"
   ]
  },
  {
   "cell_type": "markdown",
   "metadata": {},
   "source": [
    "Después de ejecutar el comando, tenemos que extraer la información de esta manera:"
   ]
  },
  {
   "cell_type": "code",
   "execution_count": null,
   "metadata": {},
   "outputs": [],
   "source": [
    "result = cursor.fetchall()"
   ]
  },
  {
   "cell_type": "code",
   "execution_count": null,
   "metadata": {},
   "outputs": [],
   "source": [
    "result"
   ]
  },
  {
   "cell_type": "markdown",
   "metadata": {},
   "source": [
    "Listo. Sabemos que tenemos 5 tablas en nuestra base de datos."
   ]
  },
  {
   "cell_type": "markdown",
   "metadata": {},
   "source": [
    "Por último, es importante cerrar nuestro `cursor` para no utilizar memoria extra en nuestra computadora:"
   ]
  },
  {
   "cell_type": "code",
   "execution_count": null,
   "metadata": {},
   "outputs": [],
   "source": [
    "cursor.close()"
   ]
  }
 ],
 "metadata": {
  "kernelspec": {
   "display_name": "Python 3",
   "language": "python",
   "name": "python3"
  },
  "language_info": {
   "codemirror_mode": {
    "name": "ipython",
    "version": 3
   },
   "file_extension": ".py",
   "mimetype": "text/x-python",
   "name": "python",
   "nbconvert_exporter": "python",
   "pygments_lexer": "ipython3",
   "version": "3.8.8"
  }
 },
 "nbformat": 4,
 "nbformat_minor": 4
}
