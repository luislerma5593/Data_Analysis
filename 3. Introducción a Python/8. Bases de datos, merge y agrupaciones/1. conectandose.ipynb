{
 "cells": [
  {
   "cell_type": "markdown",
   "metadata": {},
   "source": [
    "## Ejemplo 1: Conectándose a una base de datos remota\n",
    "\n",
    "### 1. Objetivos:\n",
    "    - Usar `mysql-connector-python` para conectarse a una base de datos remota.\n",
    " \n",
    "---\n",
    "    \n",
    "### 2. Desarrollo:"
   ]
  },
  {
   "cell_type": "markdown",
   "metadata": {},
   "source": [
    "#### a) Realizar una conexión y el `cursor`\n",
    "\n",
    "Para conectarnos necesitamos primero importar la librería:"
   ]
  },
  {
   "cell_type": "code",
   "execution_count": 3,
   "metadata": {},
   "outputs": [],
   "source": [
    "#! pip install mysql-connector-python\n"
   ]
  },
  {
   "cell_type": "code",
   "execution_count": 4,
   "metadata": {},
   "outputs": [],
   "source": [
    "import mysql.connector"
   ]
  },
  {
   "cell_type": "markdown",
   "metadata": {},
   "source": [
    "Después necesitamos saber la siguiente información acerca de la instancia de MySQL a la que queremos conectarnos:\n",
    "\n",
    "1. Host\n",
    "2. Puerto\n",
    "3. Usuario\n",
    "4. Contraseña\n",
    "5. Base de datos a la que queremos conectarnos (recuerda que MySQL **no** es una base de datos, es un Sistema de Gestión de Bases de Datos; es decir, es software que nos ayuda a organizar bases de datos para que sean de fácil acceso)\n",
    "\n",
    "Todos esos datos los usamos para crear una conexión:"
   ]
  },
  {
   "cell_type": "code",
   "execution_count": 6,
   "metadata": {},
   "outputs": [],
   "source": [
    "# Llenar esta información con los datos que te compartan los ingenieros de Bedu\n",
    "\n",
    "cnx = mysql.connector.connect(\n",
    "    host=\"bedu-llt-2101.cqoiqc8blzss.us-east-2.rds.amazonaws.com\",\n",
    "    port=3306,\n",
    "    user=\"lldlt\",\n",
    "    password='***',\n",
    "    database='proyecto'\n",
    ")"
   ]
  },
  {
   "cell_type": "markdown",
   "metadata": {},
   "source": [
    "Ahora, para poder realizar lecturas a nuestra base de datos, tenemos que crear un objeto llamado `cursor`:"
   ]
  },
  {
   "cell_type": "code",
   "execution_count": 7,
   "metadata": {},
   "outputs": [],
   "source": [
    "cursor = cnx.cursor()"
   ]
  },
  {
   "cell_type": "markdown",
   "metadata": {},
   "source": [
    "Éste objeto lo podemos usar para realizar cualquier consulta en lenguaje SQL. Por ejemplo, veamos qué tablas existen en nuestra base de datos:"
   ]
  },
  {
   "cell_type": "code",
   "execution_count": 13,
   "metadata": {},
   "outputs": [],
   "source": [
    "query = \"\"\"\n",
    "SELECT * \n",
    "FROM horno1\n",
    "\"\"\"\n",
    "\n",
    "cursor.execute(query)"
   ]
  },
  {
   "cell_type": "code",
   "execution_count": 20,
   "metadata": {},
   "outputs": [],
   "source": [
    "cursor.execute(\"SHOW TABLES\")"
   ]
  },
  {
   "cell_type": "markdown",
   "metadata": {},
   "source": [
    "Después de ejecutar el comando, tenemos que extraer la información de esta manera:"
   ]
  },
  {
   "cell_type": "code",
   "execution_count": 21,
   "metadata": {},
   "outputs": [],
   "source": [
    "result = cursor.fetchall()"
   ]
  },
  {
   "cell_type": "code",
   "execution_count": 22,
   "metadata": {},
   "outputs": [
    {
     "data": {
      "text/plain": [
       "[('horno1',), ('horno2',)]"
      ]
     },
     "execution_count": 22,
     "metadata": {},
     "output_type": "execute_result"
    }
   ],
   "source": [
    "result"
   ]
  },
  {
   "cell_type": "markdown",
   "metadata": {},
   "source": [
    "Listo. Sabemos que tenemos 5 tablas en nuestra base de datos."
   ]
  },
  {
   "cell_type": "markdown",
   "metadata": {},
   "source": [
    "Por último, es importante cerrar nuestro `cursor` para no utilizar memoria extra en nuestra computadora:"
   ]
  },
  {
   "cell_type": "code",
   "execution_count": null,
   "metadata": {},
   "outputs": [],
   "source": [
    "cursor.close()"
   ]
  }
 ],
 "metadata": {
  "kernelspec": {
   "display_name": "Python 3",
   "language": "python",
   "name": "python3"
  },
  "language_info": {
   "codemirror_mode": {
    "name": "ipython",
    "version": 3
   },
   "file_extension": ".py",
   "mimetype": "text/x-python",
   "name": "python",
   "nbconvert_exporter": "python",
   "pygments_lexer": "ipython3",
   "version": "3.8.5"
  }
 },
 "nbformat": 4,
 "nbformat_minor": 4
}
