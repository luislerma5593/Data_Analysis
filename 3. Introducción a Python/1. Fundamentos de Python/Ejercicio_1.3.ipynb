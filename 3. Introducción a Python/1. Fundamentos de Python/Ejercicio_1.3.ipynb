{
  "nbformat": 4,
  "nbformat_minor": 0,
  "metadata": {
    "kernelspec": {
      "display_name": "Python (data_science)",
      "language": "python",
      "name": "data_science"
    },
    "language_info": {
      "codemirror_mode": {
        "name": "ipython",
        "version": 3
      },
      "file_extension": ".py",
      "mimetype": "text/x-python",
      "name": "python",
      "nbconvert_exporter": "python",
      "pygments_lexer": "ipython3",
      "version": "3.8.5"
    },
    "colab": {
      "name": "operaciones_numericas.ipynb",
      "provenance": []
    }
  },
  "cells": [
    {
      "cell_type": "markdown",
      "metadata": {
        "id": "J8ew8lX5BXmE"
      },
      "source": [
        "## Ejemplo 3: Operaciones numéricas\n",
        "\n",
        "### 1. Objetivos:\n",
        "\n",
        "- Mostrar cómo usar los operadores aritméticos\n",
        "- Practicar asignación de variables y output de celdas\n",
        "\n",
        "---\n",
        "\n",
        "### 2. Desarrollo:"
      ]
    },
    {
      "cell_type": "markdown",
      "metadata": {
        "id": "R3rni4aIBXmJ"
      },
      "source": [
        "Primero asignemos unas variables:"
      ]
    },
    {
      "cell_type": "code",
      "metadata": {
        "id": "gmOlQjw6BXmK"
      },
      "source": [
        "var_1 = 4\n",
        "var_2 = 54\n",
        "var_3 = 23\n",
        "var_4 = 89"
      ],
      "execution_count": null,
      "outputs": []
    },
    {
      "cell_type": "markdown",
      "metadata": {
        "id": "2xBotDeFBXmK"
      },
      "source": [
        "Para realizar operaciones numéricas con estas variables, basta con escribir la operación en una celda y correrla. Veremos el resultado como output debajo de la celda:"
      ]
    },
    {
      "cell_type": "code",
      "metadata": {
        "id": "ut9fu8AHBXmL",
        "outputId": "3e68b26e-0c2e-4f3a-89ec-d45e34f79509"
      },
      "source": [
        "var_1 + var_2"
      ],
      "execution_count": null,
      "outputs": [
        {
          "output_type": "execute_result",
          "data": {
            "text/plain": [
              "58"
            ]
          },
          "metadata": {
            "tags": []
          },
          "execution_count": 5
        }
      ]
    },
    {
      "cell_type": "code",
      "metadata": {
        "id": "K6ffRkbTBXmL",
        "outputId": "8c512df0-d08a-48c0-9e50-1712b6d09345"
      },
      "source": [
        "var_2 - var_4"
      ],
      "execution_count": null,
      "outputs": [
        {
          "output_type": "execute_result",
          "data": {
            "text/plain": [
              "-35"
            ]
          },
          "metadata": {
            "tags": []
          },
          "execution_count": 6
        }
      ]
    },
    {
      "cell_type": "code",
      "metadata": {
        "id": "6mzBRNBzBXmM",
        "outputId": "d536ce53-33d6-4d58-b7ba-48fb83e4402f"
      },
      "source": [
        "var_3 * var_1"
      ],
      "execution_count": null,
      "outputs": [
        {
          "output_type": "execute_result",
          "data": {
            "text/plain": [
              "92"
            ]
          },
          "metadata": {
            "tags": []
          },
          "execution_count": 7
        }
      ]
    },
    {
      "cell_type": "code",
      "metadata": {
        "id": "5P7oBZYaBXmM",
        "outputId": "39f16f1c-c061-40f4-ad7a-7c0a7e1f5bf0"
      },
      "source": [
        "var_4 / var_2"
      ],
      "execution_count": null,
      "outputs": [
        {
          "output_type": "execute_result",
          "data": {
            "text/plain": [
              "1.6481481481481481"
            ]
          },
          "metadata": {
            "tags": []
          },
          "execution_count": 8
        }
      ]
    },
    {
      "cell_type": "code",
      "metadata": {
        "id": "8GQgUwX_BXmM",
        "outputId": "9fdb6bf1-449d-4397-9e15-fd81cdeb6228"
      },
      "source": [
        "var_2 ** var_1"
      ],
      "execution_count": null,
      "outputs": [
        {
          "output_type": "execute_result",
          "data": {
            "text/plain": [
              "8503056"
            ]
          },
          "metadata": {
            "tags": []
          },
          "execution_count": 9
        }
      ]
    },
    {
      "cell_type": "markdown",
      "metadata": {
        "id": "-3nhI7yUBXmN"
      },
      "source": [
        "Si queremos imprimir más de una operación en la misma celda, podemos usar la función `print`:"
      ]
    },
    {
      "cell_type": "code",
      "metadata": {
        "id": "MNzvd0Z3BXmN",
        "outputId": "212c9e64-2b47-4f87-a1ab-b10d71f69d95"
      },
      "source": [
        "print(var_1 + var_2)\n",
        "print(var_3 - var_4)\n",
        "print(var_2 * var_2)"
      ],
      "execution_count": null,
      "outputs": [
        {
          "output_type": "stream",
          "text": [
            "58\n",
            "-66\n",
            "2916\n"
          ],
          "name": "stdout"
        }
      ]
    },
    {
      "cell_type": "markdown",
      "metadata": {
        "id": "VQW4h9sbBXmN"
      },
      "source": [
        "También podemos asignar los resultados de nuestras operaciones a otras variables:"
      ]
    },
    {
      "cell_type": "code",
      "metadata": {
        "id": "hs3CPLN6BXmN",
        "outputId": "a2508f8f-5073-43f8-e06b-f7c6db016d9a"
      },
      "source": [
        "resultado_suma = var_1 + var_3\n",
        "\n",
        "resultado_suma"
      ],
      "execution_count": null,
      "outputs": [
        {
          "output_type": "execute_result",
          "data": {
            "text/plain": [
              "27"
            ]
          },
          "metadata": {
            "tags": []
          },
          "execution_count": 11
        }
      ]
    },
    {
      "cell_type": "code",
      "metadata": {
        "id": "P6h0bN7cBXmO",
        "outputId": "cf27194e-7fae-4259-a69c-50b1bf11925e"
      },
      "source": [
        "resultado_resta = var_4 - var_2\n",
        "\n",
        "resultado_resta"
      ],
      "execution_count": null,
      "outputs": [
        {
          "output_type": "execute_result",
          "data": {
            "text/plain": [
              "35"
            ]
          },
          "metadata": {
            "tags": []
          },
          "execution_count": 13
        }
      ]
    },
    {
      "cell_type": "markdown",
      "metadata": {
        "id": "UjgFbg-QBXmO"
      },
      "source": [
        "¡Hora de practicar!"
      ]
    },
    {
      "cell_type": "code",
      "metadata": {
        "id": "8PId3P3RBXmO"
      },
      "source": [
        ""
      ],
      "execution_count": null,
      "outputs": []
    }
  ]
}