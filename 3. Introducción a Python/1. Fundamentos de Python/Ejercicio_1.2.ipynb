{
  "nbformat": 4,
  "nbformat_minor": 0,
  "metadata": {
    "celltoolbar": "Slideshow",
    "kernelspec": {
      "display_name": "Python (data_science)",
      "language": "python",
      "name": "data_science"
    },
    "language_info": {
      "codemirror_mode": {
        "name": "ipython",
        "version": 3
      },
      "file_extension": ".py",
      "mimetype": "text/x-python",
      "name": "python",
      "nbconvert_exporter": "python",
      "pygments_lexer": "ipython3",
      "version": "3.8.5"
    },
    "colab": {
      "name": "variables.ipynb",
      "provenance": []
    }
  },
  "cells": [
    {
      "cell_type": "markdown",
      "metadata": {
        "id": "dLppJIvNBHt-"
      },
      "source": [
        "## Ejemplo 2: Variables\n",
        "\n",
        "### 1. Objetivos:\n",
        "\n",
        "- Entender cuál es la sintaxis de la asignación de variables en Python\n",
        "- Aprender la convención de nombramiento de variables"
      ]
    },
    {
      "cell_type": "markdown",
      "metadata": {
        "id": "XDSjuayiBHuE"
      },
      "source": [
        "### 2. Desarrollo:\n",
        "\n",
        "Las siguientes son nombres posibles de variables en Python:\n",
        "\n",
        "- var_1\n",
        "- variable_2\n",
        "- variable_dos\n",
        "- variable_nueva_3\n",
        "- esta_es_una_variable_nueva"
      ]
    },
    {
      "cell_type": "markdown",
      "metadata": {
        "id": "4iFAKUziBHuE"
      },
      "source": [
        "Los siguientes son nombres inválidos para una variable de Python:\n",
        "\n",
        "- 1_2\n",
        "- 1_variable\n",
        "- variableDos\n",
        "- EstaEsUnaVariable\n",
        "- Soy una variable"
      ]
    },
    {
      "cell_type": "markdown",
      "metadata": {
        "id": "lLcWPUsiBHuF"
      },
      "source": [
        "Asignemos unas cuantas variables a continuación:"
      ]
    },
    {
      "cell_type": "code",
      "metadata": {
        "id": "ctUI9YCpBHuF"
      },
      "source": [
        "var_1 = 3\n",
        "var_2 = 6\n",
        "variable_3 = 10\n",
        "variable_nueva_4 = 20"
      ],
      "execution_count": null,
      "outputs": []
    },
    {
      "cell_type": "markdown",
      "metadata": {
        "id": "XXImeFPpBHuG"
      },
      "source": [
        "Podemos acceder a su contenido con tan solo escribir el nombre de la variable en una celda y correr la celda:"
      ]
    },
    {
      "cell_type": "code",
      "metadata": {
        "id": "n5tqeddIBHuG",
        "outputId": "7857b13e-fcb4-466e-94fe-0de895abcd96"
      },
      "source": [
        "var_1"
      ],
      "execution_count": null,
      "outputs": [
        {
          "output_type": "execute_result",
          "data": {
            "text/plain": [
              "3"
            ]
          },
          "metadata": {
            "tags": []
          },
          "execution_count": 3
        }
      ]
    },
    {
      "cell_type": "code",
      "metadata": {
        "id": "OnbbvAGuBHuH",
        "outputId": "a917a95c-c84f-4701-fc3c-b8f8fd44d3a5"
      },
      "source": [
        "variable_nueva_4"
      ],
      "execution_count": null,
      "outputs": [
        {
          "output_type": "execute_result",
          "data": {
            "text/plain": [
              "20"
            ]
          },
          "metadata": {
            "tags": []
          },
          "execution_count": 4
        }
      ]
    },
    {
      "cell_type": "markdown",
      "metadata": {
        "id": "36acn4UFBHuH"
      },
      "source": [
        "Si intento llamar una variable que no he asignado, JN me va a lanzar un error:"
      ]
    },
    {
      "cell_type": "code",
      "metadata": {
        "id": "pSqgEtz3BHuH",
        "outputId": "6d0b938f-6f68-439e-8549-b0d10d80ffc5"
      },
      "source": [
        "var_5"
      ],
      "execution_count": null,
      "outputs": [
        {
          "output_type": "error",
          "ename": "NameError",
          "evalue": "name 'var_5' is not defined",
          "traceback": [
            "\u001b[0;31m---------------------------------------------------------------------------\u001b[0m",
            "\u001b[0;31mNameError\u001b[0m                                 Traceback (most recent call last)",
            "\u001b[0;32m<ipython-input-5-5d17ed98875c>\u001b[0m in \u001b[0;36m<module>\u001b[0;34m\u001b[0m\n\u001b[0;32m----> 1\u001b[0;31m \u001b[0mvar_5\u001b[0m\u001b[0;34m\u001b[0m\u001b[0;34m\u001b[0m\u001b[0m\n\u001b[0m",
            "\u001b[0;31mNameError\u001b[0m: name 'var_5' is not defined"
          ]
        }
      ]
    },
    {
      "cell_type": "markdown",
      "metadata": {
        "id": "2hC_YSpuBHuH"
      },
      "source": [
        "De igual, manera, si escribo una asignación, pero no corro la celda, esa variable no estará disponible para mí más adelante:"
      ]
    },
    {
      "cell_type": "code",
      "metadata": {
        "id": "N1bqXmWZBHuI"
      },
      "source": [
        "var_5 = 66"
      ],
      "execution_count": null,
      "outputs": []
    },
    {
      "cell_type": "code",
      "metadata": {
        "id": "uddfRFW8BHuI",
        "outputId": "ff524b90-327b-474b-e4b3-8476277f1711"
      },
      "source": [
        "var_5"
      ],
      "execution_count": null,
      "outputs": [
        {
          "output_type": "execute_result",
          "data": {
            "text/plain": [
              "66"
            ]
          },
          "metadata": {
            "tags": []
          },
          "execution_count": 7
        }
      ]
    },
    {
      "cell_type": "markdown",
      "metadata": {
        "id": "ntul6fo9BHuI"
      },
      "source": [
        "Es hora de que tú practiques."
      ]
    }
  ]
}