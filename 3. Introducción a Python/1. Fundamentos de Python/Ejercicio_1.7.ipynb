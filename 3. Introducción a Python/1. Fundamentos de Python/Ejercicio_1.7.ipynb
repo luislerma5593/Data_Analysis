{
  "nbformat": 4,
  "nbformat_minor": 0,
  "metadata": {
    "kernelspec": {
      "display_name": "Python (data_science)",
      "language": "python",
      "name": "data_science"
    },
    "language_info": {
      "codemirror_mode": {
        "name": "ipython",
        "version": 3
      },
      "file_extension": ".py",
      "mimetype": "text/x-python",
      "name": "python",
      "nbconvert_exporter": "python",
      "pygments_lexer": "ipython3",
      "version": "3.8.5"
    },
    "colab": {
      "name": "estructuras_de_control_de_flujo.ipynb",
      "provenance": []
    }
  },
  "cells": [
    {
      "cell_type": "markdown",
      "metadata": {
        "id": "Jx4BjQm9Qauj"
      },
      "source": [
        "## Ejemplo 7: Estructuras de control de flujo\n",
        "\n",
        "### 1. Objetivos:\n",
        "    - Conocer las estructuras de control, cómo funcionan y para qué sirven\n",
        " \n",
        "---\n",
        "    \n",
        "### 2. Desarrollo:"
      ]
    },
    {
      "cell_type": "markdown",
      "metadata": {
        "id": "qajZV1OoQaup"
      },
      "source": [
        "Queremos darle a nuestro programa la capacidad de tomar decisiones. Esto puede hacerse usando una `sentencia if`. Una `sentencia if` usa una comparación para obtener un booleano. Si el booleano es `True`, el bloque de la sentencia se corre. Si el booleano es `False` nos saltamos a lo que sigue después del bloque."
      ]
    },
    {
      "cell_type": "code",
      "metadata": {
        "id": "ZZzYXi9vQaup"
      },
      "source": [
        "var_1 = 4\n",
        "var_2 = 5"
      ],
      "execution_count": null,
      "outputs": []
    },
    {
      "cell_type": "code",
      "metadata": {
        "id": "09TqEilNQauq",
        "outputId": "9bb4521a-615a-4ad4-8cfe-23262f7085e8"
      },
      "source": [
        "if var_1 < var_2:\n",
        "    print(\"El bloque se ha corrido\")"
      ],
      "execution_count": null,
      "outputs": [
        {
          "output_type": "stream",
          "text": [
            "El bloque se ha corrido\n"
          ],
          "name": "stdout"
        }
      ]
    },
    {
      "cell_type": "code",
      "metadata": {
        "id": "_rgpSColQaur",
        "outputId": "4b7bb30b-63e0-45e3-9fb1-61eca9073904"
      },
      "source": [
        "if var_1 > var_2:\n",
        "    print(\"El bloque se ha corrido\")\n",
        "    \n",
        "print(\"Yo estoy afuera del bloque, y de todas maneras me van a llamar\")"
      ],
      "execution_count": null,
      "outputs": [
        {
          "output_type": "stream",
          "text": [
            "Yo estoy afuera del bloque, y de todas maneras me van a llamar\n"
          ],
          "name": "stdout"
        }
      ]
    },
    {
      "cell_type": "markdown",
      "metadata": {
        "id": "vW9AAEVqQaur"
      },
      "source": [
        "Hay veces que queremos tener una acción `default`, que queremos que suceda en caso de que la comparación sea `False`. Para eso podemos usar una sentencia `else`. Piénsalo como preguntarse a uno mismo: \"Si meto mi mano a la bolsa y resulta que encuentro un billete de $50, me compro unos nachos; si no hay nada, veré la película llorando de tristeza\".\n",
        "\n",
        "Implementamos la acción `default` así:"
      ]
    },
    {
      "cell_type": "code",
      "metadata": {
        "id": "gw7ENUeWQaur",
        "outputId": "80a8c17b-dc34-4cc9-a1d1-21ba4f06de6b"
      },
      "source": [
        "if var_1 > var_2:\n",
        "    print(\"La condición se ha cumplido\")\n",
        "else:\n",
        "    print(\"La condición no se ha cumplido, y por lo tanto yo me imprimo\")"
      ],
      "execution_count": null,
      "outputs": [
        {
          "output_type": "stream",
          "text": [
            "La condición no se ha cumplido, y por lo tanto yo me imprimo\n"
          ],
          "name": "stdout"
        }
      ]
    },
    {
      "cell_type": "markdown",
      "metadata": {
        "id": "lxXQXv27Qaus"
      },
      "source": [
        "Si queremos que haya más de dos opciones, podemos agregar opciones usando la sentencia `elif`:"
      ]
    },
    {
      "cell_type": "code",
      "metadata": {
        "id": "WuDm8lcmQaus",
        "outputId": "f9cedf1d-56eb-4eaa-b127-a5d1ecd94624"
      },
      "source": [
        "if var_1 > var_2:\n",
        "    print(\"La primera condición se ha cumplido\")\n",
        "elif var_1 < var_2:\n",
        "    print(\"La segunda condición se ha cumplido\")\n",
        "else:\n",
        "    print(\"Las primeras dos comparaciones fueron Falsas\")"
      ],
      "execution_count": null,
      "outputs": [
        {
          "output_type": "stream",
          "text": [
            "La segunda condición se ha cumplido\n"
          ],
          "name": "stdout"
        }
      ]
    },
    {
      "cell_type": "markdown",
      "metadata": {
        "id": "0r5iZnV_Qaus"
      },
      "source": [
        "¿Puedes pensar bajo condiciones se correría la sentencia `else`?\n",
        "\n",
        "¡Vayamos al último reto de la sesión!"
      ]
    },
    {
      "cell_type": "code",
      "metadata": {
        "id": "nU_Bbs1FQaus"
      },
      "source": [
        ""
      ],
      "execution_count": null,
      "outputs": []
    }
  ]
}