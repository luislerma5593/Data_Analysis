{
  "nbformat": 4,
  "nbformat_minor": 0,
  "metadata": {
    "kernelspec": {
      "display_name": "Python (data_science)",
      "language": "python",
      "name": "data_science"
    },
    "language_info": {
      "codemirror_mode": {
        "name": "ipython",
        "version": 3
      },
      "file_extension": ".py",
      "mimetype": "text/x-python",
      "name": "python",
      "nbconvert_exporter": "python",
      "pygments_lexer": "ipython3",
      "version": "3.8.1"
    },
    "colab": {
      "name": "notebook_de_practica.ipynb",
      "provenance": []
    }
  },
  "cells": [
    {
      "cell_type": "markdown",
      "metadata": {
        "id": "L0udlQb7A_oX"
      },
      "source": [
        "# Ejemplo 1: Esto es un Notebook de práctica\n",
        "\n",
        "---\n",
        "\n",
        "### 1. Objetivos:\n",
        "  - Repasar rápidamente cómo funciona Jupyter Notebooks para recordar lo que vimos en el Prework.\n",
        "  \n",
        "  \n",
        "### 2. Requisitos:\n",
        "  - Jupyter Notebooks instalado\n",
        " \n",
        "---"
      ]
    },
    {
      "cell_type": "markdown",
      "metadata": {
        "id": "ez_R8pBdA_od"
      },
      "source": [
        "En JN tenemos `modo comando` y `modo edición`. \n",
        "\n",
        "- Para entrar en `modo edición` > `return`\n",
        "- Para entrar en `modo comando` > `esc`\n",
        "\n",
        "- El `modo edición` sirve para editar celdas\n",
        "- El `modo comando` sirve para usar comandos de JN"
      ]
    },
    {
      "cell_type": "markdown",
      "metadata": {
        "id": "LcD275NLA_od"
      },
      "source": [
        "Para correr celdas, presionamos `shift + return`.\n",
        "\n",
        "- Una `celda markdown` (de texto), muestra el texto estilizado al ser corrida\n",
        "- Una `celda de código` corre el código que contiene y muestra el output debajo"
      ]
    },
    {
      "cell_type": "markdown",
      "metadata": {
        "id": "faW3T7fYA_od"
      },
      "source": [
        "1. Para cambiar una celda a `markdown`, selecciona la celda a cambiar, entra en `modo comando` y presiona `m`.\n",
        "2. Para cambiarla a `código` sigue el mismo proceso pero usa `y`."
      ]
    },
    {
      "cell_type": "markdown",
      "metadata": {
        "id": "Uf77-nbfA_oe"
      },
      "source": [
        "Esto es una celda de `markdown``"
      ]
    },
    {
      "cell_type": "code",
      "metadata": {
        "id": "eKH_bVAUA_oe"
      },
      "source": [
        "# Esto es una celda de código\n",
        "# Y yo soy un comentario, por cierto"
      ],
      "execution_count": null,
      "outputs": []
    },
    {
      "cell_type": "markdown",
      "metadata": {
        "id": "hEaAkAHBA_oe"
      },
      "source": [
        "Escribamos algo de código para correrlo:"
      ]
    },
    {
      "cell_type": "code",
      "metadata": {
        "id": "1dYrnx6iA_of",
        "outputId": "d8b3122a-4175-4cfa-9698-d0d652a65f8c"
      },
      "source": [
        "var_1 = 4\n",
        "var_2 = 5\n",
        "\n",
        "var_1 + var_2"
      ],
      "execution_count": null,
      "outputs": [
        {
          "output_type": "execute_result",
          "data": {
            "text/plain": [
              "9"
            ]
          },
          "metadata": {
            "tags": []
          },
          "execution_count": 2
        }
      ]
    },
    {
      "cell_type": "markdown",
      "metadata": {
        "id": "zwQW7tyxA_og"
      },
      "source": [
        "Seguro reconoces las variables y operadores matemáticos por el Prework.\n",
        "\n",
        "Cada vez que corremos una celda de código, aparece un contador a la izquierda.\n",
        "\n",
        "En la siguiente celda vamos a ver un `[3]` después de correrla:"
      ]
    },
    {
      "cell_type": "code",
      "metadata": {
        "id": "n54VnQvOA_og",
        "outputId": "00a165d2-901e-4aca-ae17-f529a8b27b74"
      },
      "source": [
        "var_3 = 9\n",
        "\n",
        "var_1 - var_3"
      ],
      "execution_count": null,
      "outputs": [
        {
          "output_type": "execute_result",
          "data": {
            "text/plain": [
              "-5"
            ]
          },
          "metadata": {
            "tags": []
          },
          "execution_count": 3
        }
      ]
    },
    {
      "cell_type": "markdown",
      "metadata": {
        "id": "ii450rcgA_og"
      },
      "source": [
        "Como puedes ver, podemos acceder a variables que asignamos en celdas pasadas (mientras la celda anterior ya haya sido corrida)"
      ]
    },
    {
      "cell_type": "markdown",
      "metadata": {
        "id": "0ZVThmb0A_og"
      },
      "source": [
        "Para reiniciar nuestro JN, vamos al menú y elegimos `Kernel/Restart & Clear Output`"
      ]
    },
    {
      "cell_type": "markdown",
      "metadata": {
        "id": "lcEFNw93A_oh"
      },
      "source": [
        "## **¡Estamos Listos!**"
      ]
    },
    {
      "cell_type": "code",
      "metadata": {
        "id": "861NWbnAA_oh"
      },
      "source": [
        ""
      ],
      "execution_count": null,
      "outputs": []
    }
  ]
}