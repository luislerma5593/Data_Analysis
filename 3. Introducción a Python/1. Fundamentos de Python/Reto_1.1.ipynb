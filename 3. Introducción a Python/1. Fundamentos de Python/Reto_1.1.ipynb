{
  "nbformat": 4,
  "nbformat_minor": 0,
  "metadata": {
    "kernelspec": {
      "display_name": "Python (data_science)",
      "language": "python",
      "name": "data_science"
    },
    "language_info": {
      "codemirror_mode": {
        "name": "ipython",
        "version": 3
      },
      "file_extension": ".py",
      "mimetype": "text/x-python",
      "name": "python",
      "nbconvert_exporter": "python",
      "pygments_lexer": "ipython3",
      "version": "3.8.5"
    },
    "colab": {
      "name": "Copia de variables.ipynb",
      "provenance": [],
      "collapsed_sections": []
    }
  },
  "cells": [
    {
      "cell_type": "markdown",
      "metadata": {
        "id": "tL5PDuYx7c-6"
      },
      "source": [
        "## Reto 1: Variables\n",
        "\n",
        "### 1. Objetivos:\n",
        "    - Practicar convención de nombramiento y asignación de variables\n",
        " \n",
        "---\n",
        "    \n",
        "### 2. Desarrollo:"
      ]
    },
    {
      "cell_type": "markdown",
      "metadata": {
        "id": "dkE2OW4P7c-_"
      },
      "source": [
        "Indica cuáles nombres de variables son válidos y cuáles con inválidos. Puedes hacerlo colocando un comentario al lado de cada asignación (`# esto es un comentario`). Los comentarios son texto que Python ignora a la hora de correr una celda. Nos sirven para hacer anotaciones."
      ]
    },
    {
      "cell_type": "code",
      "metadata": {
        "id": "UmvuAc8z7c_A"
      },
      "source": [
        "var_1 = 5\n",
        "\n",
        "variable_nueva_2 = 10\n",
        "\n",
        "Variable_nueva_3 = 11\n",
        "\n",
        "var_3_1 = 14\n",
        "\n",
        "varNueva4 = 44\n",
        "\n",
        "var_nuevaNumero = 98\n",
        "\n",
        "var_num = 22\n",
        "\n",
        "VarNum = 11\n",
        "\n",
        "soyUnaVariable = 14"
      ],
      "execution_count": null,
      "outputs": []
    },
    {
      "cell_type": "markdown",
      "metadata": {
        "id": "B2sVu6do7c_A"
      },
      "source": [
        "<details><summary>Solución</summary>\n",
        "\n",
        "```python\n",
        "var_1 = 5  # Válida\n",
        "\n",
        "variable_nueva_2 = 10  # Válida\n",
        "\n",
        "Variable_nueva_3 = 11  # Inválida\n",
        "\n",
        "var_3_1 = 14  # Válida\n",
        "\n",
        "varNueva4 = 44  # Inválida\n",
        "\n",
        "var_nuevaNumero = 98  # Inválida\n",
        "\n",
        "var_num = 22  # Válida\n",
        "\n",
        "VarNum = 11  # Inválida\n",
        "\n",
        "soyUnaVariable = 14  # Inválida\n",
        "```\n",
        "\n",
        "</details>"
      ]
    },
    {
      "cell_type": "markdown",
      "metadata": {
        "id": "loIazvek7c_B"
      },
      "source": [
        "Ahora practica realizar algunas asignaciones en la celda de abajo. ¡Puedes asignarle a tus variables números enteros y también decimales!"
      ]
    },
    {
      "cell_type": "code",
      "metadata": {
        "id": "E4QX15ik7c_B"
      },
      "source": [
        "# Asigna el número 12345 a una variable llamada variable_locochona\n",
        "\n",
        "# Tu código va aquí...\n",
        "\n",
        "# Asigna el número 14.567 a una variable llamada var_decimal\n",
        "\n",
        "# ...\n",
        "\n",
        "# Asigna cualquier número a una varible que tenga 5 palabras en su nombre (recuerda las convenciones)\n",
        "\n",
        "# ....\n",
        "\n",
        "# Asigna cualquier número a una variable que incluya palabras y números en su nombre\n",
        "\n",
        "# ...\n",
        "\n",
        "# Asigna variables a discreción\n",
        "\n",
        "# ..."
      ],
      "execution_count": null,
      "outputs": []
    },
    {
      "cell_type": "markdown",
      "metadata": {
        "id": "mitmAwTC7c_B"
      },
      "source": [
        "<details><summary>Solución</summary>\n",
        "\n",
        "```python\n",
        "variable_locochona = 12345\n",
        "\n",
        "var_decimal = 14.567\n",
        "\n",
        "var_hecha_de_cinco_palabras = 5234\n",
        "\n",
        "variable_con_numeros_3_4 = 12342\n",
        "```\n",
        "    \n",
        "</details>"
      ]
    },
    {
      "cell_type": "code",
      "metadata": {
        "id": "XJI2h6E-7c_C"
      },
      "source": [
        ""
      ],
      "execution_count": null,
      "outputs": []
    }
  ]
}