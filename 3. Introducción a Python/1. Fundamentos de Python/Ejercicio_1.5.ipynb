{
  "nbformat": 4,
  "nbformat_minor": 0,
  "metadata": {
    "kernelspec": {
      "display_name": "Python (data_science)",
      "language": "python",
      "name": "data_science"
    },
    "language_info": {
      "codemirror_mode": {
        "name": "ipython",
        "version": 3
      },
      "file_extension": ".py",
      "mimetype": "text/x-python",
      "name": "python",
      "nbconvert_exporter": "python",
      "pygments_lexer": "ipython3",
      "version": "3.8.5"
    },
    "colab": {
      "name": "interpolacion_de_strings.ipynb",
      "provenance": []
    }
  },
  "cells": [
    {
      "cell_type": "markdown",
      "metadata": {
        "id": "BoXTO5hDHnFK"
      },
      "source": [
        "## Ejemplo 5: Interpolación de strings\n",
        "\n",
        "### 1. Objetivos:\n",
        "    - Aprender a imprimir strings\n",
        "    - Aprender a interpolar variables dentro de strings\n",
        " \n",
        "---\n",
        "    \n",
        "### 2. Desarrollo:"
      ]
    },
    {
      "cell_type": "markdown",
      "metadata": {
        "id": "yioBIX7oHnFP"
      },
      "source": [
        "Podemos hacer anotaciones en los outputs de nuestro código de esta manera:"
      ]
    },
    {
      "cell_type": "code",
      "metadata": {
        "id": "giyrAnYaHnFQ",
        "outputId": "9303f245-a178-40a6-9187-9ab42068e7bd"
      },
      "source": [
        "var_1 = 15.3\n",
        "var_2 = 23.4\n",
        "\n",
        "print(\"Suma de var_1 y var_2\")\n",
        "print(var_1 + var_2)"
      ],
      "execution_count": null,
      "outputs": [
        {
          "output_type": "stream",
          "text": [
            "Suma de var_1 y var_2\n",
            "38.7\n"
          ],
          "name": "stdout"
        }
      ]
    },
    {
      "cell_type": "markdown",
      "metadata": {
        "id": "Ls0pt3zZHnFR"
      },
      "source": [
        "Pero a veces resulta necesario o deseable interpolar el valor de la variable dentro de dicha string. Para eso utilizamos las llamadas `f-strings`. El formato de una `f-string` es el siguiente:\n",
        "\n",
        "`f\"Esto es texto {esto_es_una_variable} esto es más texto\"`\n",
        "\n",
        "Escribiendo una `f` antes de las comillas le indicamos a Python que lo que pongas dentro de las llaves (`{}`) será código de Python. En este caso, una variable asignada previamente.\n",
        "\n",
        "Ahora podemos hacer lo siguiente:"
      ]
    },
    {
      "cell_type": "code",
      "metadata": {
        "id": "yjg-47RxHnFS",
        "outputId": "60bef528-d4e7-465d-e484-e0037e566a7e"
      },
      "source": [
        "var_3 = 43\n",
        "var_4 = 24.3\n",
        "\n",
        "suma = var_3 + var_4\n",
        "\n",
        "print(f'La suma de var_3 y var_4 es: {suma}')"
      ],
      "execution_count": null,
      "outputs": [
        {
          "output_type": "stream",
          "text": [
            "La suma de var_3 y var_4 es: 67.3\n"
          ],
          "name": "stdout"
        }
      ]
    },
    {
      "cell_type": "markdown",
      "metadata": {
        "id": "SZCO5L3uHnFS"
      },
      "source": [
        "O incluso puedes hacer algo como esto:"
      ]
    },
    {
      "cell_type": "code",
      "metadata": {
        "id": "1lMZpCReHnFS",
        "outputId": "b383c1fb-1111-40d1-d309-145d0cd9f1c9"
      },
      "source": [
        "print(f'La suma de {var_3} y {var_4} es: {var_3 + var_4}')"
      ],
      "execution_count": null,
      "outputs": [
        {
          "output_type": "stream",
          "text": [
            "La suma de 43 y 24.3 es: 67.3\n"
          ],
          "name": "stdout"
        }
      ]
    },
    {
      "cell_type": "markdown",
      "metadata": {
        "id": "plMHLg8WHnFS"
      },
      "source": [
        "Vas a ver muchas anotaciones como éstas a través del código de este módulo. Ahora ya sabes qué significan y cómo crearlas."
      ]
    },
    {
      "cell_type": "code",
      "metadata": {
        "id": "uODRRWO-HnFT"
      },
      "source": [
        ""
      ],
      "execution_count": null,
      "outputs": []
    }
  ]
}