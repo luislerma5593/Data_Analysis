{
  "nbformat": 4,
  "nbformat_minor": 0,
  "metadata": {
    "kernelspec": {
      "display_name": "Python (data_science)",
      "language": "python",
      "name": "data_science"
    },
    "language_info": {
      "codemirror_mode": {
        "name": "ipython",
        "version": 3
      },
      "file_extension": ".py",
      "mimetype": "text/x-python",
      "name": "python",
      "nbconvert_exporter": "python",
      "pygments_lexer": "ipython3",
      "version": "3.8.5"
    },
    "colab": {
      "name": "operadores_de_comparacion.ipynb",
      "provenance": []
    }
  },
  "cells": [
    {
      "cell_type": "markdown",
      "metadata": {
        "id": "TxGxwv9POZ8z"
      },
      "source": [
        "## Reto 4: Operadores de comparación\n",
        "\n",
        "### 1. Objetivos:\n",
        "    - Practicar la comparación de números, strings y booleanos\n",
        " \n",
        "---\n",
        "    \n",
        "### 2. Desarrollo:"
      ]
    },
    {
      "cell_type": "markdown",
      "metadata": {
        "id": "nPEBv1PXOZ84"
      },
      "source": [
        "A continuación tienes algunas variables que han sido asignadas:"
      ]
    },
    {
      "cell_type": "code",
      "metadata": {
        "id": "M0RXF69TOZ85"
      },
      "source": [
        "var_1 = 3\n",
        "var_2 = 5\n",
        "var_3 = 9\n",
        "var_4 = 1\n",
        "var_5 = 9\n",
        "var_6 = -6\n",
        "var_7 = 5\n",
        "var_8 = 4"
      ],
      "execution_count": 2,
      "outputs": []
    },
    {
      "cell_type": "markdown",
      "metadata": {
        "id": "Zu1pQsUROZ85"
      },
      "source": [
        "A continuación tienes algunas comparaciones que se encuentran incompletas, junto con el resultado que se espera de dicha comparación. Agrega los `operadores de comparación` adecuados, en medio de las variables, para que al correr las celdas se obtengan los `Resultados esperados`. Para este reto, los operadores `==` y `!=` no están permitidos."
      ]
    },
    {
      "cell_type": "code",
      "metadata": {
        "id": "kcgVIxp8OZ86",
        "outputId": "b7ede1b5-c656-4d73-ca99-fed333d6d082",
        "colab": {
          "base_uri": "https://localhost:8080/"
        }
      },
      "source": [
        "var_1 == var_3  # Resultado esperado: False"
      ],
      "execution_count": 3,
      "outputs": [
        {
          "output_type": "execute_result",
          "data": {
            "text/plain": [
              "False"
            ]
          },
          "metadata": {
            "tags": []
          },
          "execution_count": 3
        }
      ]
    },
    {
      "cell_type": "code",
      "metadata": {
        "id": "eEOL0Y3rOZ86",
        "outputId": "5c1fec33-ca67-4453-858c-7eb30a89a0a5",
        "colab": {
          "base_uri": "https://localhost:8080/"
        }
      },
      "source": [
        "var_1 != var_4 # Resultado esperado: True"
      ],
      "execution_count": 4,
      "outputs": [
        {
          "output_type": "execute_result",
          "data": {
            "text/plain": [
              "True"
            ]
          },
          "metadata": {
            "tags": []
          },
          "execution_count": 4
        }
      ]
    },
    {
      "cell_type": "code",
      "metadata": {
        "id": "H-T_39V2OZ86",
        "outputId": "c0a3540e-a064-4e16-ad0f-81502a5b395f",
        "colab": {
          "base_uri": "https://localhost:8080/"
        }
      },
      "source": [
        "var_2 == var_7  # Resultado esperado: True"
      ],
      "execution_count": 5,
      "outputs": [
        {
          "output_type": "execute_result",
          "data": {
            "text/plain": [
              "True"
            ]
          },
          "metadata": {
            "tags": []
          },
          "execution_count": 5
        }
      ]
    },
    {
      "cell_type": "code",
      "metadata": {
        "id": "5Dn22fuOOZ86",
        "outputId": "7c7e6538-91b5-462e-8689-92ea4bb3e462",
        "colab": {
          "base_uri": "https://localhost:8080/"
        }
      },
      "source": [
        "var_8 != var_6  # Resultado esperado: True"
      ],
      "execution_count": 6,
      "outputs": [
        {
          "output_type": "execute_result",
          "data": {
            "text/plain": [
              "True"
            ]
          },
          "metadata": {
            "tags": []
          },
          "execution_count": 6
        }
      ]
    },
    {
      "cell_type": "code",
      "metadata": {
        "id": "4hnttTOuOZ87",
        "outputId": "d426031d-83b7-49e3-a138-14d55b878985",
        "colab": {
          "base_uri": "https://localhost:8080/"
        }
      },
      "source": [
        "var_3 != var_5  # Resultado esperado: False"
      ],
      "execution_count": 7,
      "outputs": [
        {
          "output_type": "execute_result",
          "data": {
            "text/plain": [
              "False"
            ]
          },
          "metadata": {
            "tags": []
          },
          "execution_count": 7
        }
      ]
    },
    {
      "cell_type": "code",
      "metadata": {
        "id": "11GxoN90OZ87",
        "outputId": "005013fb-d765-433d-e911-402efd895d58",
        "colab": {
          "base_uri": "https://localhost:8080/"
        }
      },
      "source": [
        "var_1 != var_3  # Resultado esperado: True"
      ],
      "execution_count": 8,
      "outputs": [
        {
          "output_type": "execute_result",
          "data": {
            "text/plain": [
              "True"
            ]
          },
          "metadata": {
            "tags": []
          },
          "execution_count": 8
        }
      ]
    },
    {
      "cell_type": "code",
      "metadata": {
        "id": "2YzD1W6xOZ87",
        "outputId": "e81a2943-c85d-4a6a-cd40-f0071ceabefa",
        "colab": {
          "base_uri": "https://localhost:8080/"
        }
      },
      "source": [
        "var_5 == var_4  # Resultado esperado: False"
      ],
      "execution_count": 9,
      "outputs": [
        {
          "output_type": "execute_result",
          "data": {
            "text/plain": [
              "False"
            ]
          },
          "metadata": {
            "tags": []
          },
          "execution_count": 9
        }
      ]
    },
    {
      "cell_type": "code",
      "metadata": {
        "id": "abdhdUQyOZ87",
        "outputId": "683084b0-fba7-4132-fed6-8e57003a3683",
        "colab": {
          "base_uri": "https://localhost:8080/"
        }
      },
      "source": [
        "var_3 == var_5  # Resultado esperado: True"
      ],
      "execution_count": 11,
      "outputs": [
        {
          "output_type": "execute_result",
          "data": {
            "text/plain": [
              "True"
            ]
          },
          "metadata": {
            "tags": []
          },
          "execution_count": 11
        }
      ]
    },
    {
      "cell_type": "markdown",
      "metadata": {
        "id": "N9zFZCoeOZ87"
      },
      "source": [
        "<details><summary>Solución</summary>\n",
        "\n",
        "```python\n",
        "var_1 > var_3\n",
        "var_1 > var_4\n",
        "var_2 >= var_7\n",
        "var_8 > var_6\n",
        "var_3 > var_5\n",
        "var_1 < var_3\n",
        "var_5 < var_4\n",
        "var_3 <= var_5\n",
        "```\n",
        "    \n",
        "</details>"
      ]
    },
    {
      "cell_type": "code",
      "metadata": {
        "id": "SgFVpxzqOZ88"
      },
      "source": [
        ""
      ],
      "execution_count": null,
      "outputs": []
    }
  ]
}