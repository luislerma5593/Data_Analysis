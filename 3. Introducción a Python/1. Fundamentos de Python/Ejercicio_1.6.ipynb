{
  "nbformat": 4,
  "nbformat_minor": 0,
  "metadata": {
    "kernelspec": {
      "display_name": "Python (data_science)",
      "language": "python",
      "name": "data_science"
    },
    "language_info": {
      "codemirror_mode": {
        "name": "ipython",
        "version": 3
      },
      "file_extension": ".py",
      "mimetype": "text/x-python",
      "name": "python",
      "nbconvert_exporter": "python",
      "pygments_lexer": "ipython3",
      "version": "3.8.5"
    },
    "colab": {
      "name": "operadores_de_comparacion.ipynb",
      "provenance": []
    }
  },
  "cells": [
    {
      "cell_type": "markdown",
      "metadata": {
        "id": "vPUS3L_ONFqV"
      },
      "source": [
        "## Ejemplo 6: Operadores de comparación\n",
        "\n",
        "### 1. Objetivos:\n",
        "    - Conocer el funcionamiento de los operadores de comparación usando ints, floats y strings\n",
        " \n",
        "---\n",
        "    \n",
        "### 2. Desarrollo:"
      ]
    },
    {
      "cell_type": "markdown",
      "metadata": {
        "id": "enVgCgSeNFqb"
      },
      "source": [
        "Comencemos asignando algunas variables que después usaremos para realizar comparaciones:"
      ]
    },
    {
      "cell_type": "code",
      "metadata": {
        "id": "w7eFtLCsNFqb"
      },
      "source": [
        "var_1 = 34\n",
        "var_2 = 12\n",
        "var_3 = 23.24\n",
        "var_4 = 23.56\n",
        "var_5 = \"OK\"\n",
        "var_6 = \"ERROR\"\n",
        "var_7 = True\n",
        "var_8 = False"
      ],
      "execution_count": null,
      "outputs": []
    },
    {
      "cell_type": "markdown",
      "metadata": {
        "id": "hD8AziruNFqc"
      },
      "source": [
        "Ahora veamos algunas comparaciones para ver cómo es que funcionan nuestros operadores."
      ]
    },
    {
      "cell_type": "code",
      "metadata": {
        "id": "IlnvIz9FNFqc",
        "outputId": "d35aa1b6-58d9-423a-993e-059051a0be4d"
      },
      "source": [
        "var_1 > var_2"
      ],
      "execution_count": null,
      "outputs": [
        {
          "output_type": "execute_result",
          "data": {
            "text/plain": [
              "True"
            ]
          },
          "metadata": {
            "tags": []
          },
          "execution_count": 3
        }
      ]
    },
    {
      "cell_type": "code",
      "metadata": {
        "id": "_VUvj5CSNFqd",
        "outputId": "459a514a-7a8d-48b6-c8c2-a887e5b28e9b"
      },
      "source": [
        "var_1 < var_2"
      ],
      "execution_count": null,
      "outputs": [
        {
          "output_type": "execute_result",
          "data": {
            "text/plain": [
              "False"
            ]
          },
          "metadata": {
            "tags": []
          },
          "execution_count": 4
        }
      ]
    },
    {
      "cell_type": "code",
      "metadata": {
        "id": "eUuagg6pNFqd",
        "outputId": "4258e92c-7eb7-4327-9357-8d84e35f8073"
      },
      "source": [
        "var_3 < var_4"
      ],
      "execution_count": null,
      "outputs": [
        {
          "output_type": "execute_result",
          "data": {
            "text/plain": [
              "True"
            ]
          },
          "metadata": {
            "tags": []
          },
          "execution_count": 5
        }
      ]
    },
    {
      "cell_type": "code",
      "metadata": {
        "id": "EV1u-gjzNFqd",
        "outputId": "595df06c-d297-460d-a7af-9b58ff2a1fac"
      },
      "source": [
        "var_3 <= var_3"
      ],
      "execution_count": null,
      "outputs": [
        {
          "output_type": "execute_result",
          "data": {
            "text/plain": [
              "True"
            ]
          },
          "metadata": {
            "tags": []
          },
          "execution_count": 6
        }
      ]
    },
    {
      "cell_type": "code",
      "metadata": {
        "id": "y2cZTGGiNFqe",
        "outputId": "7939c6db-7bad-4fbc-9687-cf2f1e05f61c"
      },
      "source": [
        "var_1 >= var_4"
      ],
      "execution_count": null,
      "outputs": [
        {
          "output_type": "execute_result",
          "data": {
            "text/plain": [
              "True"
            ]
          },
          "metadata": {
            "tags": []
          },
          "execution_count": 7
        }
      ]
    },
    {
      "cell_type": "code",
      "metadata": {
        "id": "itrGdo0iNFqe",
        "outputId": "4fd72ad5-9f61-46f0-f587-f4bbb59e4feb"
      },
      "source": [
        "var_5 == var_6"
      ],
      "execution_count": null,
      "outputs": [
        {
          "output_type": "execute_result",
          "data": {
            "text/plain": [
              "False"
            ]
          },
          "metadata": {
            "tags": []
          },
          "execution_count": 8
        }
      ]
    },
    {
      "cell_type": "code",
      "metadata": {
        "id": "Fjcjef1wNFqe",
        "outputId": "0e2ab5cf-832b-4cf3-d0fb-89f7a120e8df"
      },
      "source": [
        "var_5 != var_6"
      ],
      "execution_count": null,
      "outputs": [
        {
          "output_type": "execute_result",
          "data": {
            "text/plain": [
              "True"
            ]
          },
          "metadata": {
            "tags": []
          },
          "execution_count": 9
        }
      ]
    },
    {
      "cell_type": "code",
      "metadata": {
        "id": "1sXZ81xWNFqf",
        "outputId": "d8321237-7e0d-4e12-bf88-0a271e9bbc60"
      },
      "source": [
        "var_7 == var_8"
      ],
      "execution_count": null,
      "outputs": [
        {
          "output_type": "execute_result",
          "data": {
            "text/plain": [
              "False"
            ]
          },
          "metadata": {
            "tags": []
          },
          "execution_count": 10
        }
      ]
    },
    {
      "cell_type": "code",
      "metadata": {
        "id": "C7zxJEbUNFqf",
        "outputId": "a0958d32-b49f-4b69-82be-b473e58bf0fa"
      },
      "source": [
        "var_7 == var_7"
      ],
      "execution_count": null,
      "outputs": [
        {
          "output_type": "execute_result",
          "data": {
            "text/plain": [
              "True"
            ]
          },
          "metadata": {
            "tags": []
          },
          "execution_count": 11
        }
      ]
    },
    {
      "cell_type": "markdown",
      "metadata": {
        "id": "vAwSRT-uNFqf"
      },
      "source": [
        "¡Interesante! Vamos al siguiente reto para practicar estos conocimientos."
      ]
    },
    {
      "cell_type": "code",
      "metadata": {
        "id": "bIqY1Z0tNFqf"
      },
      "source": [
        ""
      ],
      "execution_count": null,
      "outputs": []
    }
  ]
}