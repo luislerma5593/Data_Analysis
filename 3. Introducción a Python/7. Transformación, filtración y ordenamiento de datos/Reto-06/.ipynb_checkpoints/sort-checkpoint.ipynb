{
 "cells": [
  {
   "cell_type": "markdown",
   "metadata": {},
   "source": [
    "## Reto 6: Sort\n",
    "\n",
    "### 1. Objetivos:\n",
    "    - Practicar el uso de `sort_values` para obtener datos específicos\n",
    "    \n",
    "---\n",
    "    \n",
    "### 2. Desarrollo:"
   ]
  },
  {
   "cell_type": "markdown",
   "metadata": {},
   "source": [
    "#### a) Reordenamiento para hallazgo de valores\n",
    "\n",
    "Vamos a trabajar sobre el dataset que guardaste en la sesión anterior. Tu Reto consiste en lo siguiente:\n",
    "\n",
    "1. Usa `sort_values` y `loc` para obtener el valor de la velocidad en kilómetros por segundo más lenta de todos los objetos que tenemos en el dataset y asígnalo a `velocidad_en_kilometros_por_segundo_de_objeto_mas_lento`.\n",
    "2. Usa `sort_values` y `loc` para obtener el valor del diámetro más grande medido que existe en nuestro dataset y asígnalo a `medida_de_diametro_mas_grande`"
   ]
  },
  {
   "cell_type": "code",
   "execution_count": 4,
   "metadata": {},
   "outputs": [
    {
     "data": {
      "text/html": [
       "<div>\n",
       "<style scoped>\n",
       "    .dataframe tbody tr th:only-of-type {\n",
       "        vertical-align: middle;\n",
       "    }\n",
       "\n",
       "    .dataframe tbody tr th {\n",
       "        vertical-align: top;\n",
       "    }\n",
       "\n",
       "    .dataframe thead th {\n",
       "        text-align: right;\n",
       "    }\n",
       "</style>\n",
       "<table border=\"1\" class=\"dataframe\">\n",
       "  <thead>\n",
       "    <tr style=\"text-align: right;\">\n",
       "      <th></th>\n",
       "      <th>Unnamed: 0</th>\n",
       "      <th>id_name</th>\n",
       "      <th>is_potentially_hazardous_asteroid</th>\n",
       "      <th>estimated_diameter.meters.estimated_diameter_min</th>\n",
       "      <th>estimated_diameter.meters.estimated_diameter_max</th>\n",
       "      <th>close_approach_date</th>\n",
       "      <th>epoch_date_close_approach</th>\n",
       "      <th>orbiting_body</th>\n",
       "      <th>relative_velocity.kilometers_per_second</th>\n",
       "      <th>relative_velocity.kilometers_per_hour</th>\n",
       "      <th>orbit_class_description</th>\n",
       "      <th>id</th>\n",
       "      <th>name</th>\n",
       "      <th>relative_velocity.kilometers_per_minute</th>\n",
       "      <th>proportion_of_max_diameter_to_earth</th>\n",
       "    </tr>\n",
       "  </thead>\n",
       "  <tbody>\n",
       "    <tr>\n",
       "      <th>0</th>\n",
       "      <td>0</td>\n",
       "      <td>2154652-154652 (2004 EP20)</td>\n",
       "      <td>0</td>\n",
       "      <td>483.676488</td>\n",
       "      <td>1081.533507</td>\n",
       "      <td>07/01/1995</td>\n",
       "      <td>07/01/1995 08:33</td>\n",
       "      <td>Earth</td>\n",
       "      <td>16.142864</td>\n",
       "      <td>58114.30867</td>\n",
       "      <td>Near Earth asteroid orbits similar to that of ...</td>\n",
       "      <td>2154652</td>\n",
       "      <td>154652 (2004 EP20)</td>\n",
       "      <td>968.571811</td>\n",
       "      <td>0.000085</td>\n",
       "    </tr>\n",
       "  </tbody>\n",
       "</table>\n",
       "</div>"
      ],
      "text/plain": [
       "   Unnamed: 0                     id_name  is_potentially_hazardous_asteroid  \\\n",
       "0           0  2154652-154652 (2004 EP20)                                  0   \n",
       "\n",
       "   estimated_diameter.meters.estimated_diameter_min  \\\n",
       "0                                        483.676488   \n",
       "\n",
       "   estimated_diameter.meters.estimated_diameter_max close_approach_date  \\\n",
       "0                                       1081.533507          07/01/1995   \n",
       "\n",
       "  epoch_date_close_approach orbiting_body  \\\n",
       "0          07/01/1995 08:33         Earth   \n",
       "\n",
       "   relative_velocity.kilometers_per_second  \\\n",
       "0                                16.142864   \n",
       "\n",
       "   relative_velocity.kilometers_per_hour  \\\n",
       "0                            58114.30867   \n",
       "\n",
       "                             orbit_class_description       id  \\\n",
       "0  Near Earth asteroid orbits similar to that of ...  2154652   \n",
       "\n",
       "                 name  relative_velocity.kilometers_per_minute  \\\n",
       "0  154652 (2004 EP20)                               968.571811   \n",
       "\n",
       "   proportion_of_max_diameter_to_earth  \n",
       "0                             0.000085  "
      ]
     },
     "execution_count": 4,
     "metadata": {},
     "output_type": "execute_result"
    }
   ],
   "source": [
    "import pandas as pd\n",
    "\n",
    "df = pd.read_csv('C:/Users/LLerma/Google Drive/Analisis de Datos/M3 - Introduccion a Python/Files/My_files/Reto_4.csv')\n",
    "df.head(1)"
   ]
  },
  {
   "cell_type": "code",
   "execution_count": 33,
   "metadata": {},
   "outputs": [
    {
     "name": "stdout",
     "output_type": "stream",
     "text": [
      "0.681436673\n",
      "6516.883822\n"
     ]
    }
   ],
   "source": [
    "velocidad_en_kilometros_por_segundo_de_objeto_mas_lento = df.sort_values(\"relative_velocity.kilometers_per_second\", ascending = True).iloc[0][\"relative_velocity.kilometers_per_second\"]\n",
    "medida_de_diametro_mas_grande = df.sort_values(\"estimated_diameter.meters.estimated_diameter_max\", ascending = False).iloc[0][\"estimated_diameter.meters.estimated_diameter_max\"]\n",
    "print(velocidad_en_kilometros_por_segundo_de_objeto_mas_lento)\n",
    "print(medida_de_diametro_mas_grande )"
   ]
  },
  {
   "cell_type": "markdown",
   "metadata": {},
   "source": [
    "Pídele a tu experta la función de verificación `corroborar_hallazgos` (encontrada en el archivo `helpers.py` de la carpeta donde se encuentra este Reto), pégala debajo y corre la celda para verificar tu resultado:"
   ]
  },
  {
   "cell_type": "code",
   "execution_count": 35,
   "metadata": {},
   "outputs": [
    {
     "name": "stdout",
     "output_type": "stream",
     "text": [
      "Tus hallazgos son correctos. ¡Bien hecho!\n"
     ]
    }
   ],
   "source": [
    "def corroborar_hallazgos(velocidad_en_kilometros_por_segundo_de_objeto_mas_lento, medida_de_diametro_mas_grande):\n",
    "    \n",
    "    assert velocidad_en_kilometros_por_segundo_de_objeto_mas_lento == 0.681436673, 'Esa no es la velocidad en kilómetros por segundo del objeto más lento'\n",
    "    assert medida_de_diametro_mas_grande == 6516.883822, 'Ese no es el diámetro más grande medido en nuestro dataset'\n",
    "    \n",
    "    print('Tus hallazgos son correctos. ¡Bien hecho!')\n",
    "    \n",
    "\n",
    "corroborar_hallazgos(velocidad_en_kilometros_por_segundo_de_objeto_mas_lento, medida_de_diametro_mas_grande)"
   ]
  },
  {
   "cell_type": "markdown",
   "metadata": {},
   "source": [
    "<details><summary>Solución</summary>\n",
    "\n",
    "```python\n",
    "df = pd.read_csv('../../Datasets/near_earth_objects-jan_feb_1995-raw.csv', index_col=0)\n",
    "df_sorted_by_speed = df.sort_values('relative_velocity.kilometers_per_second', ascending=True).reset_index(drop=True)\n",
    "velocidad_en_kilometros_por_segundo_de_objeto_mas_lento = df_sorted_by_speed.loc[0, 'relative_velocity.kilometers_per_second']\n",
    "df_sorted_by_size = df.sort_values('estimated_diameter.meters.estimated_diameter_max', ascending=False).reset_index(drop=True)\n",
    "medida_de_diametro_mas_grande = df_sorted_by_size.loc[0, 'estimated_diameter.meters.estimated_diameter_max']\n",
    "```\n",
    "    \n",
    "</details>"
   ]
  }
 ],
 "metadata": {
  "kernelspec": {
   "display_name": "Python 3",
   "language": "python",
   "name": "python3"
  },
  "language_info": {
   "codemirror_mode": {
    "name": "ipython",
    "version": 3
   },
   "file_extension": ".py",
   "mimetype": "text/x-python",
   "name": "python",
   "nbconvert_exporter": "python",
   "pygments_lexer": "ipython3",
   "version": "3.8.8"
  }
 },
 "nbformat": 4,
 "nbformat_minor": 4
}
