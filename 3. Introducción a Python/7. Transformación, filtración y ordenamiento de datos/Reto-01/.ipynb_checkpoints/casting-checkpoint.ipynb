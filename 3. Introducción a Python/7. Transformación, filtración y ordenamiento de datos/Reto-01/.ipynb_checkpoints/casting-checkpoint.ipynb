{
 "cells": [
  {
   "cell_type": "markdown",
   "metadata": {},
   "source": [
    "## Reto 1: Casting\n",
    "\n",
    "### 1. Objetivos:\n",
    "    - Aplicar diversas técnicas de casting a un dataset nuevo\n",
    " \n",
    "---\n",
    "    \n",
    "### 2. Desarrollo:"
   ]
  },
  {
   "cell_type": "markdown",
   "metadata": {},
   "source": [
    "#### a) Transformando tipos de datos\n",
    "\n",
    "Vamos a trabajar con una versión un poco modificada del dataset que creaste en la sesión pasada. Si bien recuerdas, al final de la sesión pasada automatizamos un programa de Python para obtener un `DataFrame` con todos los objetos que orbitaron cerca de la Tierra en Enero y Febrero de 1995. Para construir este dataset, usamos el API gratuito que ofrece la [NASA](https://api.nasa.gov/).\n",
    "\n",
    "Me tomé la libertad de modificar un poco dicho dataset para que pudiera ser utilizado más efectivamente para los fines de esta sesión. Encontrarás la versión modificada en la ruta '../../Datasets/near_earth_objects-jan_feb_1995-dirty.csv'. Todos los Retos de esta sesión los harás con ese conjunto de datos.\n",
    "\n",
    "Te recomiendo que al finalizar cada reto guardes la nueva versión modificada de tu dataset bajo un nombre que indique el reto realizado (por ejemplo, 'near_earth_objects-jan_feb_1995-reto_1.csv'), para que puedas ir trabajando incrementalmente a través de los retos y no tengas que repetir procesos. Puedes guardar conjuntos de datos en formato `csv` usando el método `DataFrame.to_csv('ruta')`."
   ]
  },
  {
   "cell_type": "markdown",
   "metadata": {},
   "source": [
    "Tu primer Reto consistirá en seguir los siguientes pasos:\n",
    "\n",
    "1. Lee el dataset y crea un `DataFrame` con él.\n",
    "2. Realiza una pequeña exploración para familiarizarte con él.\n",
    "3. Convierte la columna `relative_velocity.kilometers_per_hour` de `object` a `float64`.\n",
    "4. Convierte la columna `close_approach_date` a tipo de dato `datetime64[ms]` usando el método `astype` y un diccionario de conversión.\n",
    "5. Convierte la columna `epoch_date_close_approach` a tipo de dato `datetime64[ms]` usando el método `to_datetime`.\n",
    "6. Asigna el `DataFrame` resultante a la variable `df_reto_1`.\n",
    "7. Guarda tu resultado en un archivo .csv."
   ]
  },
  {
   "cell_type": "code",
   "execution_count": 66,
   "metadata": {},
   "outputs": [],
   "source": [
    "import pandas as pd"
   ]
  },
  {
   "cell_type": "code",
   "execution_count": 67,
   "metadata": {},
   "outputs": [],
   "source": [
    "df_reto_1 = pd.read_csv(\"C:/Users/LLerma/Google Drive/Analisis de Datos/M3 - Introduccion a Python/Files/near_earth_objects-jan_feb_1995-dirty.csv\")"
   ]
  },
  {
   "cell_type": "code",
   "execution_count": 68,
   "metadata": {},
   "outputs": [
    {
     "data": {
      "text/html": [
       "<div>\n",
       "<style scoped>\n",
       "    .dataframe tbody tr th:only-of-type {\n",
       "        vertical-align: middle;\n",
       "    }\n",
       "\n",
       "    .dataframe tbody tr th {\n",
       "        vertical-align: top;\n",
       "    }\n",
       "\n",
       "    .dataframe thead th {\n",
       "        text-align: right;\n",
       "    }\n",
       "</style>\n",
       "<table border=\"1\" class=\"dataframe\">\n",
       "  <thead>\n",
       "    <tr style=\"text-align: right;\">\n",
       "      <th></th>\n",
       "      <th>Unnamed: 0</th>\n",
       "      <th>id_name</th>\n",
       "      <th>is_potentially_hazardous_asteroid</th>\n",
       "      <th>estimated_diameter.meters.estimated_diameter_min</th>\n",
       "      <th>estimated_diameter.meters.estimated_diameter_max</th>\n",
       "      <th>close_approach_date</th>\n",
       "      <th>epoch_date_close_approach</th>\n",
       "      <th>orbiting_body</th>\n",
       "      <th>relative_velocity.kilometers_per_second</th>\n",
       "      <th>relative_velocity.kilometers_per_hour</th>\n",
       "      <th>orbit_class_description</th>\n",
       "    </tr>\n",
       "  </thead>\n",
       "  <tbody>\n",
       "    <tr>\n",
       "      <th>0</th>\n",
       "      <td>0</td>\n",
       "      <td>2154652-154652 (2004 EP20)</td>\n",
       "      <td>False</td>\n",
       "      <td>483.676488</td>\n",
       "      <td>1081.533507</td>\n",
       "      <td>1995-01-07</td>\n",
       "      <td>789467580000</td>\n",
       "      <td>earth</td>\n",
       "      <td>16.142864</td>\n",
       "      <td>58114.3086669449</td>\n",
       "      <td>Near-Earth-asteroid-orbits-similar-to-that-o...</td>\n",
       "    </tr>\n",
       "    <tr>\n",
       "      <th>1</th>\n",
       "      <td>1</td>\n",
       "      <td>3153509-(2003 HM)</td>\n",
       "      <td>True</td>\n",
       "      <td>96.506147</td>\n",
       "      <td>215.794305</td>\n",
       "      <td>1995-01-07</td>\n",
       "      <td>789491340000</td>\n",
       "      <td>earth</td>\n",
       "      <td>12.351044</td>\n",
       "      <td>44463.7577343496</td>\n",
       "      <td>Near-Earth-asteroid-orbits-which-cross-the-E...</td>\n",
       "    </tr>\n",
       "    <tr>\n",
       "      <th>2</th>\n",
       "      <td>2</td>\n",
       "      <td>3516633-(2010 HA)</td>\n",
       "      <td>False</td>\n",
       "      <td>44.111820</td>\n",
       "      <td>98.637028</td>\n",
       "      <td>1995-01-07</td>\n",
       "      <td>789446820000</td>\n",
       "      <td>earth</td>\n",
       "      <td>6.220435</td>\n",
       "      <td>Unknown</td>\n",
       "      <td>Near-Earth-asteroid-orbits-similar-to-that-o...</td>\n",
       "    </tr>\n",
       "    <tr>\n",
       "      <th>3</th>\n",
       "      <td>3</td>\n",
       "      <td>3837644-(2019 AY3)</td>\n",
       "      <td>False</td>\n",
       "      <td>46.190746</td>\n",
       "      <td>103.285648</td>\n",
       "      <td>1995-01-07</td>\n",
       "      <td>789513900000</td>\n",
       "      <td>earth</td>\n",
       "      <td>22.478615</td>\n",
       "      <td>80923.0150213416</td>\n",
       "      <td>Near-Earth-asteroid-orbits-similar-to-that-o...</td>\n",
       "    </tr>\n",
       "    <tr>\n",
       "      <th>4</th>\n",
       "      <td>4</td>\n",
       "      <td>3843493-(2019 PY)</td>\n",
       "      <td>False</td>\n",
       "      <td>22.108281</td>\n",
       "      <td>49.435619</td>\n",
       "      <td>1995-01-07</td>\n",
       "      <td>789446700000</td>\n",
       "      <td>earth</td>\n",
       "      <td>4.998691</td>\n",
       "      <td>17995.2883553078</td>\n",
       "      <td>Near-Earth-asteroid-orbits-similar-to-that-of...</td>\n",
       "    </tr>\n",
       "    <tr>\n",
       "      <th>...</th>\n",
       "      <td>...</td>\n",
       "      <td>...</td>\n",
       "      <td>...</td>\n",
       "      <td>...</td>\n",
       "      <td>...</td>\n",
       "      <td>...</td>\n",
       "      <td>...</td>\n",
       "      <td>...</td>\n",
       "      <td>...</td>\n",
       "      <td>...</td>\n",
       "      <td>...</td>\n",
       "    </tr>\n",
       "    <tr>\n",
       "      <th>328</th>\n",
       "      <td>328</td>\n",
       "      <td>2267136-267136 (2000 EF104)</td>\n",
       "      <td>False</td>\n",
       "      <td>441.118200</td>\n",
       "      <td>986.370281</td>\n",
       "      <td>1995-02-21</td>\n",
       "      <td>793340220000</td>\n",
       "      <td>earth</td>\n",
       "      <td>16.180392</td>\n",
       "      <td>58249.4101939976</td>\n",
       "      <td>Near-Earth-asteroid-orbits-similar-to-that-o...</td>\n",
       "    </tr>\n",
       "    <tr>\n",
       "      <th>329</th>\n",
       "      <td>329</td>\n",
       "      <td>3360486-(2006 WE4)</td>\n",
       "      <td>False</td>\n",
       "      <td>441.118200</td>\n",
       "      <td>986.370281</td>\n",
       "      <td>1995-02-21</td>\n",
       "      <td>793381440000</td>\n",
       "      <td>earth</td>\n",
       "      <td>15.106140</td>\n",
       "      <td>54382.1046394622</td>\n",
       "      <td>Near-Earth-asteroid-orbits-which-cross-the-E...</td>\n",
       "    </tr>\n",
       "    <tr>\n",
       "      <th>330</th>\n",
       "      <td>330</td>\n",
       "      <td>3656919-(2014 BG3)</td>\n",
       "      <td>False</td>\n",
       "      <td>160.160338</td>\n",
       "      <td>358.129403</td>\n",
       "      <td>1995-02-21</td>\n",
       "      <td>793368480000</td>\n",
       "      <td>earth</td>\n",
       "      <td>20.343173</td>\n",
       "      <td>73235.4235168198</td>\n",
       "      <td>An-asteroid-orbit-contained-entirely-within-t...</td>\n",
       "    </tr>\n",
       "    <tr>\n",
       "      <th>331</th>\n",
       "      <td>331</td>\n",
       "      <td>3803762-(2018 GY4)</td>\n",
       "      <td>False</td>\n",
       "      <td>421.264611</td>\n",
       "      <td>941.976306</td>\n",
       "      <td>1995-02-21</td>\n",
       "      <td>793371240000</td>\n",
       "      <td>earth</td>\n",
       "      <td>29.732426</td>\n",
       "      <td>107036.7330578476</td>\n",
       "      <td>Near-Earth-asteroid-orbits-similar-to-that-o...</td>\n",
       "    </tr>\n",
       "    <tr>\n",
       "      <th>332</th>\n",
       "      <td>332</td>\n",
       "      <td>3989652-(2020 CH1)</td>\n",
       "      <td>False</td>\n",
       "      <td>21.525586</td>\n",
       "      <td>48.132673</td>\n",
       "      <td>1995-02-21</td>\n",
       "      <td>793404900000</td>\n",
       "      <td>earth</td>\n",
       "      <td>6.998083</td>\n",
       "      <td>Unknown</td>\n",
       "      <td>Near-Earth-asteroid-orbits-similar-to-that-of...</td>\n",
       "    </tr>\n",
       "  </tbody>\n",
       "</table>\n",
       "<p>333 rows × 11 columns</p>\n",
       "</div>"
      ],
      "text/plain": [
       "     Unnamed: 0                      id_name  \\\n",
       "0             0   2154652-154652 (2004 EP20)   \n",
       "1             1            3153509-(2003 HM)   \n",
       "2             2            3516633-(2010 HA)   \n",
       "3             3           3837644-(2019 AY3)   \n",
       "4             4            3843493-(2019 PY)   \n",
       "..          ...                          ...   \n",
       "328         328  2267136-267136 (2000 EF104)   \n",
       "329         329           3360486-(2006 WE4)   \n",
       "330         330           3656919-(2014 BG3)   \n",
       "331         331           3803762-(2018 GY4)   \n",
       "332         332           3989652-(2020 CH1)   \n",
       "\n",
       "     is_potentially_hazardous_asteroid  \\\n",
       "0                                False   \n",
       "1                                 True   \n",
       "2                                False   \n",
       "3                                False   \n",
       "4                                False   \n",
       "..                                 ...   \n",
       "328                              False   \n",
       "329                              False   \n",
       "330                              False   \n",
       "331                              False   \n",
       "332                              False   \n",
       "\n",
       "     estimated_diameter.meters.estimated_diameter_min  \\\n",
       "0                                          483.676488   \n",
       "1                                           96.506147   \n",
       "2                                           44.111820   \n",
       "3                                           46.190746   \n",
       "4                                           22.108281   \n",
       "..                                                ...   \n",
       "328                                        441.118200   \n",
       "329                                        441.118200   \n",
       "330                                        160.160338   \n",
       "331                                        421.264611   \n",
       "332                                         21.525586   \n",
       "\n",
       "     estimated_diameter.meters.estimated_diameter_max close_approach_date  \\\n",
       "0                                         1081.533507          1995-01-07   \n",
       "1                                          215.794305          1995-01-07   \n",
       "2                                           98.637028          1995-01-07   \n",
       "3                                          103.285648          1995-01-07   \n",
       "4                                           49.435619          1995-01-07   \n",
       "..                                                ...                 ...   \n",
       "328                                        986.370281          1995-02-21   \n",
       "329                                        986.370281          1995-02-21   \n",
       "330                                        358.129403          1995-02-21   \n",
       "331                                        941.976306          1995-02-21   \n",
       "332                                         48.132673          1995-02-21   \n",
       "\n",
       "     epoch_date_close_approach orbiting_body  \\\n",
       "0                 789467580000         earth   \n",
       "1                 789491340000         earth   \n",
       "2                 789446820000         earth   \n",
       "3                 789513900000         earth   \n",
       "4                 789446700000         earth   \n",
       "..                         ...           ...   \n",
       "328               793340220000         earth   \n",
       "329               793381440000         earth   \n",
       "330               793368480000         earth   \n",
       "331               793371240000         earth   \n",
       "332               793404900000         earth   \n",
       "\n",
       "     relative_velocity.kilometers_per_second  \\\n",
       "0                                  16.142864   \n",
       "1                                  12.351044   \n",
       "2                                   6.220435   \n",
       "3                                  22.478615   \n",
       "4                                   4.998691   \n",
       "..                                       ...   \n",
       "328                                16.180392   \n",
       "329                                15.106140   \n",
       "330                                20.343173   \n",
       "331                                29.732426   \n",
       "332                                 6.998083   \n",
       "\n",
       "    relative_velocity.kilometers_per_hour  \\\n",
       "0                        58114.3086669449   \n",
       "1                        44463.7577343496   \n",
       "2                                 Unknown   \n",
       "3                        80923.0150213416   \n",
       "4                        17995.2883553078   \n",
       "..                                    ...   \n",
       "328                      58249.4101939976   \n",
       "329                      54382.1046394622   \n",
       "330                      73235.4235168198   \n",
       "331                     107036.7330578476   \n",
       "332                               Unknown   \n",
       "\n",
       "                               orbit_class_description  \n",
       "0      Near-Earth-asteroid-orbits-similar-to-that-o...  \n",
       "1      Near-Earth-asteroid-orbits-which-cross-the-E...  \n",
       "2      Near-Earth-asteroid-orbits-similar-to-that-o...  \n",
       "3      Near-Earth-asteroid-orbits-similar-to-that-o...  \n",
       "4     Near-Earth-asteroid-orbits-similar-to-that-of...  \n",
       "..                                                 ...  \n",
       "328    Near-Earth-asteroid-orbits-similar-to-that-o...  \n",
       "329    Near-Earth-asteroid-orbits-which-cross-the-E...  \n",
       "330   An-asteroid-orbit-contained-entirely-within-t...  \n",
       "331    Near-Earth-asteroid-orbits-similar-to-that-o...  \n",
       "332   Near-Earth-asteroid-orbits-similar-to-that-of...  \n",
       "\n",
       "[333 rows x 11 columns]"
      ]
     },
     "execution_count": 68,
     "metadata": {},
     "output_type": "execute_result"
    }
   ],
   "source": [
    "df_reto_1"
   ]
  },
  {
   "cell_type": "code",
   "execution_count": 69,
   "metadata": {
    "scrolled": false
   },
   "outputs": [
    {
     "data": {
      "text/plain": [
       "Unnamed: 0                                            int64\n",
       "id_name                                              object\n",
       "is_potentially_hazardous_asteroid                      bool\n",
       "estimated_diameter.meters.estimated_diameter_min    float64\n",
       "estimated_diameter.meters.estimated_diameter_max    float64\n",
       "close_approach_date                                  object\n",
       "epoch_date_close_approach                             int64\n",
       "orbiting_body                                        object\n",
       "relative_velocity.kilometers_per_second             float64\n",
       "relative_velocity.kilometers_per_hour                object\n",
       "orbit_class_description                              object\n",
       "dtype: object"
      ]
     },
     "execution_count": 69,
     "metadata": {},
     "output_type": "execute_result"
    }
   ],
   "source": [
    "df_reto_1.dtypes"
   ]
  },
  {
   "cell_type": "code",
   "execution_count": 70,
   "metadata": {},
   "outputs": [],
   "source": [
    "# 3 Convierte la columna relative_velocity.kilometers_per_hour de object a float64.\n",
    "\n",
    "df_reto_1[\"relative_velocity.kilometers_per_hour\"] = pd.to_numeric(df_reto_1[\"relative_velocity.kilometers_per_hour\"], errors = \"coerce\")"
   ]
  },
  {
   "cell_type": "code",
   "execution_count": 71,
   "metadata": {
    "scrolled": true
   },
   "outputs": [
    {
     "data": {
      "text/plain": [
       "Unnamed: 0                                            int64\n",
       "id_name                                              object\n",
       "is_potentially_hazardous_asteroid                      bool\n",
       "estimated_diameter.meters.estimated_diameter_min    float64\n",
       "estimated_diameter.meters.estimated_diameter_max    float64\n",
       "close_approach_date                                  object\n",
       "epoch_date_close_approach                             int64\n",
       "orbiting_body                                        object\n",
       "relative_velocity.kilometers_per_second             float64\n",
       "relative_velocity.kilometers_per_hour               float64\n",
       "orbit_class_description                              object\n",
       "dtype: object"
      ]
     },
     "execution_count": 71,
     "metadata": {},
     "output_type": "execute_result"
    }
   ],
   "source": [
    "df_reto_1.dtypes"
   ]
  },
  {
   "cell_type": "code",
   "execution_count": 72,
   "metadata": {
    "scrolled": false
   },
   "outputs": [
    {
     "data": {
      "text/plain": [
       "Unnamed: 0                                                   int64\n",
       "id_name                                                     object\n",
       "is_potentially_hazardous_asteroid                             bool\n",
       "estimated_diameter.meters.estimated_diameter_min           float64\n",
       "estimated_diameter.meters.estimated_diameter_max           float64\n",
       "close_approach_date                                 datetime64[ns]\n",
       "epoch_date_close_approach                                    int64\n",
       "orbiting_body                                               object\n",
       "relative_velocity.kilometers_per_second                    float64\n",
       "relative_velocity.kilometers_per_hour                      float64\n",
       "orbit_class_description                                     object\n",
       "dtype: object"
      ]
     },
     "execution_count": 72,
     "metadata": {},
     "output_type": "execute_result"
    }
   ],
   "source": [
    "# 4 Convierte la columna close_approach_date a tipo de dato datetime64[ms] usando el método astype y un diccionario de conversión.\n",
    "\n",
    "dicc = {\"close_approach_date\" : \"datetime64[ms]\"}\n",
    "\n",
    "df_reto_1 = df_reto_1.astype(dicc)\n",
    "df_reto_1.dtypes\n"
   ]
  },
  {
   "cell_type": "code",
   "execution_count": 75,
   "metadata": {
    "scrolled": true
   },
   "outputs": [
    {
     "data": {
      "text/plain": [
       "Unnamed: 0                                                   int64\n",
       "id_name                                                     object\n",
       "is_potentially_hazardous_asteroid                             bool\n",
       "estimated_diameter.meters.estimated_diameter_min           float64\n",
       "estimated_diameter.meters.estimated_diameter_max           float64\n",
       "close_approach_date                                 datetime64[ns]\n",
       "epoch_date_close_approach                           datetime64[ns]\n",
       "orbiting_body                                               object\n",
       "relative_velocity.kilometers_per_second                    float64\n",
       "relative_velocity.kilometers_per_hour                      float64\n",
       "orbit_class_description                                     object\n",
       "dtype: object"
      ]
     },
     "execution_count": 75,
     "metadata": {},
     "output_type": "execute_result"
    }
   ],
   "source": [
    "# 5 Convierte la columna epoch_date_close_approach a tipo de dato datetime64[ms] usando el método to_datetime.\n",
    "\n",
    "\n",
    "df_reto_1 [\"epoch_date_close_approach\"] = pd.to_datetime(df_reto_1 [\"epoch_date_close_approach\"], errors = \"coerce\", unit = \"ms\")\n",
    "df_reto_1.dtypes"
   ]
  },
  {
   "cell_type": "markdown",
   "metadata": {},
   "source": [
    "Pídele a tu experta la función de verificación `checar_conversiones` (encontrada en el archivo `helpers.py` de la carpeta donde se encuentra este Reto), pégala debajo y corre la celda para verificar tu resultado:"
   ]
  },
  {
   "cell_type": "code",
   "execution_count": 76,
   "metadata": {},
   "outputs": [
    {
     "name": "stdout",
     "output_type": "stream",
     "text": [
      "¡Éxito! ¡Todas tus conversiones fueron realizadas adecuadamente!\n"
     ]
    }
   ],
   "source": [
    "\n",
    "def checar_conversiones(df_reto_1):\n",
    "    \n",
    "    import pandas as pd\n",
    "    import pandas.api.types as ptypes\n",
    "    \n",
    "    assert ptypes.is_float_dtype(df_reto_1['relative_velocity.kilometers_per_hour']), 'Cuidado... La columna `relative_velocity.kilometers_per_hour` no es de tipo `float64`'\n",
    "    assert ptypes.is_datetime64_any_dtype(df_reto_1['close_approach_date']), 'Cuidado... La columna `close_approach_date` no es de tipo `datetime64[ns]`'\n",
    "    assert ptypes.is_datetime64_any_dtype(df_reto_1['epoch_date_close_approach']), 'Cuidado... La columna `epoch_date_close_approach` no es de tipo `datetime64[ns]'\n",
    "    \n",
    "    print(f'¡Éxito! ¡Todas tus conversiones fueron realizadas adecuadamente!')\n",
    "\n",
    "checar_conversiones(df_reto_1)"
   ]
  },
  {
   "cell_type": "code",
   "execution_count": 77,
   "metadata": {},
   "outputs": [],
   "source": [
    "df.to_csv(\"C:/Users/LLerma/Google Drive/Analisis de Datos/M3 - Introduccion a Python/Files/My_files/Reto_1.csv\")"
   ]
  },
  {
   "cell_type": "markdown",
   "metadata": {},
   "source": [
    "<details><summary>Solución</summary>\n",
    "\n",
    "```python\n",
    "df = pd.read_csv('../../Datasets/near_earth_objects-jan_feb_1995-dirty.csv', index_col=0)\n",
    "df['relative_velocity.kilometers_per_hour'] = pd.to_numeric(df['relative_velocity.kilometers_per_hour'], errors='coerce')\n",
    "df = df.dropna(axis=0).reset_index(drop=True)\n",
    "df['relative_velocity.kilometers_per_hour'] = df['relative_velocity.kilometers_per_hour'].astype(float)\n",
    "diccionario_de_conversion = {\n",
    "    'close_approach_date': 'datetime64[ms]'\n",
    "}\n",
    "df = df.astype(diccionario_de_conversion)\n",
    "df['epoch_date_close_approach'] = pd.to_datetime(df['epoch_date_close_approach'], unit='ms')\n",
    "df_reto_1 = df.copy()\n",
    "```\n",
    "    \n",
    "</details>"
   ]
  },
  {
   "cell_type": "code",
   "execution_count": null,
   "metadata": {},
   "outputs": [],
   "source": []
  }
 ],
 "metadata": {
  "kernelspec": {
   "display_name": "Python 3",
   "language": "python",
   "name": "python3"
  },
  "language_info": {
   "codemirror_mode": {
    "name": "ipython",
    "version": 3
   },
   "file_extension": ".py",
   "mimetype": "text/x-python",
   "name": "python",
   "nbconvert_exporter": "python",
   "pygments_lexer": "ipython3",
   "version": "3.8.5"
  }
 },
 "nbformat": 4,
 "nbformat_minor": 4
}
